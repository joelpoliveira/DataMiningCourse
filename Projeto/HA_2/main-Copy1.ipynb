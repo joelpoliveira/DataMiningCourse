{
 "cells": [
  {
   "cell_type": "markdown",
   "id": "76fa361e-9e55-43c2-b681-d51348fc6484",
   "metadata": {},
   "source": [
    "# Home Assignemet 2\n",
    "\n",
    "- Diogo Araújo - fcXXXXX -YH\n",
    "- João Braz - fcXXXXX - YH\n",
    "- Joel Oliveira - fc59442 - 7 H"
   ]
  },
  {
   "cell_type": "code",
   "execution_count": 1,
   "id": "344e0eea-1d4d-4eee-95d6-2b7e3d6c6c8e",
   "metadata": {
    "tags": []
   },
   "outputs": [],
   "source": [
    "import pandas as pd\n",
    "import numpy as np\n",
    "import pickle\n",
    "import matplotlib.pyplot as plt\n",
    "\n",
    "from time import time\n",
    "from pyfim import pyeclat\n",
    "from PD_freqitems import freqitemsets\n",
    "from mlxtend.preprocessing import TransactionEncoder\n",
    "from mlxtend.frequent_patterns import (apriori, association_rules,\n",
    "                                       fpgrowth, fpmax)"
   ]
  },
  {
   "cell_type": "code",
   "execution_count": 2,
   "id": "c22c187a-b1bd-4bf6-bbb9-9edf56fdf158",
   "metadata": {
    "tags": []
   },
   "outputs": [
    {
     "name": "stdout",
     "output_type": "stream",
     "text": [
      "Cleanse\n",
      "Dryer Sheets Geranium Scent\n",
      "Clean Day Lavender Scent Room Freshener Spray\n"
     ]
    }
   ],
   "source": [
    "#Read product names and IDs\n",
    "lines=open(\"products.txt\", \"rt\", encoding=\"utf8\").readlines()\n",
    "#we subtract 1 because the pids start at 1, the first 0 is never filled\n",
    "#therefore the product with pid {pid} is at index {pid}-1\n",
    "products=[0]* (len(lines)-1)\n",
    "for lin in lines[1:]:\n",
    "    pid, pname, aid, did=lin.strip().split(\"\\t\")    \n",
    "    products[int(pid) - 1]=pname\n",
    "#read transactions\n",
    "orders=pickle.load(open(\"order_products.pickle\", \"rb\"))\n",
    "#check products on order 2:\n",
    "for prod in orders[6]: print(products[prod-1])"
   ]
  },
  {
   "cell_type": "code",
   "execution_count": 3,
   "id": "e6f6c98a-efbb-468a-8019-a949d7a7cbad",
   "metadata": {
    "tags": []
   },
   "outputs": [],
   "source": [
    "def index_to_product(index):\n",
    "    return products[index]\n",
    "def sequence_of_index_to_products(sequence):\n",
    "    return [index_to_product(i) for i in sequence]"
   ]
  },
  {
   "cell_type": "code",
   "execution_count": 4,
   "id": "02c2222c-eb47-4ec4-bb5f-60c230392fc8",
   "metadata": {
    "tags": []
   },
   "outputs": [
    {
     "data": {
      "text/plain": [
       "(3214874, 49688, 159740659312)"
      ]
     },
     "execution_count": 4,
     "metadata": {},
     "output_type": "execute_result"
    }
   ],
   "source": [
    "len(orders),len(products),len(orders)*len(products)"
   ]
  },
  {
   "cell_type": "markdown",
   "id": "db7590d2-0bbb-4987-bac1-23c2dfb0e25f",
   "metadata": {},
   "source": [
    "## Objective 1 - Analyze the itemset/rules generation procedure"
   ]
  },
  {
   "cell_type": "code",
   "execution_count": 5,
   "id": "11762397-8256-455b-a216-c1b4e27ca427",
   "metadata": {
    "tags": []
   },
   "outputs": [],
   "source": [
    "order_list = orders.values()\n",
    "order_list = [list(map(lambda x: x-1, order)) for order in order_list]"
   ]
  },
  {
   "cell_type": "code",
   "execution_count": 6,
   "id": "d7d6558f-3469-4aec-949d-a0410ddca1cf",
   "metadata": {
    "tags": []
   },
   "outputs": [],
   "source": [
    "encoder = TransactionEncoder().fit(order_list)\n",
    "binary_orders = encoder.transform(order_list, sparse=True)\n",
    "binary_orders = pd.DataFrame.sparse.from_spmatrix(binary_orders, columns=encoder.columns_)"
   ]
  },
  {
   "cell_type": "markdown",
   "id": "8fa6874d-0446-4ee4-8b7e-e7e04f75fe6b",
   "metadata": {},
   "source": [
    "##  From the approaches used in classes make a performance analysis up to a threshold level of support\n",
    "Approaches considered in class:\n",
    " 1. Apriori\n",
    " 2. Fp-Growth\n",
    " 3. ECLAT\n",
    " 4. Naive"
   ]
  },
  {
   "cell_type": "code",
   "execution_count": 7,
   "id": "4244c763-f364-478a-8403-5104de7e3ef0",
   "metadata": {
    "tags": []
   },
   "outputs": [],
   "source": [
    "results = pd.DataFrame(columns = [\"threshold\", \"n_itemsets\", \"apriori\", \n",
    "                                  \"fp-growth\", \"eclat\", \"naive\"])"
   ]
  },
  {
   "cell_type": "code",
   "execution_count": 8,
   "id": "d8c10573",
   "metadata": {
    "tags": []
   },
   "outputs": [],
   "source": [
    "#threshold values to explore\n",
    "thresholds = [0.03, 0.02, 0.01, 0.009, 0.007, 0.005, 0.003, 0.001,]\n",
    "#buffer to store time results of each fqi function;\n",
    "results_list = [[np.nan for _ in range(len(thresholds))] for __ in range(4)]\n",
    "#max number of iterations for each fqi function \n",
    "#(crash limits found or values where the methods have beend surpassed)\n",
    "caps = [3, float('inf'), 7, 6 ]"
   ]
  },
  {
   "cell_type": "code",
   "execution_count": 9,
   "id": "297f04d5",
   "metadata": {
    "tags": []
   },
   "outputs": [],
   "source": [
    "func = [apriori, fpgrowth, pyeclat, freqitemsets]\n",
    "data = [binary_orders, order_list]"
   ]
  },
  {
   "cell_type": "code",
   "execution_count": 16,
   "id": "fb00414a-994d-47b4-979e-8cda14a9d339",
   "metadata": {
    "tags": []
   },
   "outputs": [],
   "source": [
    "# performed each algorithm once at a time because of memory limitations ( 16GB ) \n",
    "#index for the data source in the list {data}\n",
    "data_index = 1\n",
    "#index for the fqi function in the list {func}\n",
    "func_index = 3\n",
    "for i,thresh in enumerate(thresholds):\n",
    "    if i>caps[func_index]:\n",
    "        break\n",
    "    start = time()\n",
    "    fi = func[func_index](\n",
    "        data[data_index], \n",
    "        thresh\n",
    "    )\n",
    "    stop = time() - start\n",
    "    results_list[func_index][i] = stop\n",
    "    results.loc[i] = {\n",
    "        \"threshold\": thresh,\n",
    "        \"n_itemsets\": len(fi),\n",
    "        \"apriori\": results_list[0][i],\n",
    "        \"fp-growth\": results_list[1][i],\n",
    "        \"eclat\": results_list[2][i],\n",
    "        \"naive\": results_list[3][i]\n",
    "    }"
   ]
  },
  {
   "cell_type": "markdown",
   "id": "18b83831",
   "metadata": {},
   "source": [
    "When running we could verify that apriori algorithm consumes a lot more memory than any of the other 3 algorithms. With the other methods we can set the threshold value lower past $0.009$. When using apriori, any value below that one would crash the program because of insufficient memory."
   ]
  },
  {
   "cell_type": "code",
   "execution_count": 18,
   "id": "82505e85",
   "metadata": {
    "tags": []
   },
   "outputs": [
    {
     "data": {
      "text/plain": [
       "<Axes: xlabel='threshold'>"
      ]
     },
     "execution_count": 18,
     "metadata": {},
     "output_type": "execute_result"
    },
    {
     "data": {
      "image/png": "[encoded data removed]",
      "text/plain": [
       "<Figure size 640x480 with 1 Axes>"
      ]
     },
     "metadata": {},
     "output_type": "display_data"
    }
   ],
   "source": [
    "results.plot(x=\"threshold\", y=[\"apriori\", \"fp-growth\", \"eclat\", \"naive\"], grid=True)"
   ]
  },
  {
   "cell_type": "markdown",
   "id": "6ff3642b",
   "metadata": {},
   "source": [
    "We can see that *Apriori* is the one that has the better results for a bigger threshold. However the time it takes, rapidly surpasses all the other algorithms, and as we said it consumed more memory than the others too. It is not a good option, and we did not explore it beyond the support value of $0.009$ since the memory consumption was too high. <br>\n",
    "*Eclat* started with a performance worse than the *'Naive'*. As we lowered the threshold it *Eclat* surpassed *'Naive'* performance.<br>\n",
    "*FPGrowth* has a good trend and is better than *Eclat* and *'Naive'*, being only surpassed by apriori when the threshold value is higher.<br>\n",
    "\n",
    "We can see that *FPGrowth* is indeed the best option.\n",
    "\n",
    "We will now exploit the minimum threshold for the *FPGrowth* given the limits of our machine."
   ]
  },
  {
   "cell_type": "code",
   "execution_count": 19,
   "id": "5a65a3b9-59bd-420f-a620-3f5ab993720c",
   "metadata": {
    "tags": []
   },
   "outputs": [],
   "source": [
    "threshold=[0.0005, 0.0002, 0.0002, 0.0001]\n",
    "for thresh in threshold:\n",
    "    fi = fpgrowth(binary_orders, thresh)"
   ]
  },
  {
   "cell_type": "markdown",
   "id": "678cbe88-f7cd-43a2-840a-3fa3769896f3",
   "metadata": {},
   "source": [
    "With the threshold at $0.01\\%$ the memory was surpassing the 16 GB. Therefore we will use the threshold values of $0.02\\%$"
   ]
  },
  {
   "cell_type": "markdown",
   "id": "be5c7662-0720-44ef-9634-6c43dc0ab68c",
   "metadata": {},
   "source": [
    "## Objective 2 - Identify the most relevant rules"
   ]
  },
  {
   "cell_type": "markdown",
   "id": "5ad6d229-aec2-4c56-b65c-4bc4df19ac81",
   "metadata": {},
   "source": [
    "### 1. Generate all available itemsets and generate rules"
   ]
  },
  {
   "cell_type": "code",
   "execution_count": 21,
   "id": "823faec1-1ef9-4e1b-a3b5-dfd840cfedd6",
   "metadata": {},
   "outputs": [],
   "source": [
    "thresh=0.0002\n",
    "fi = fpgrowth(binary_orders, thresh)"
   ]
  },
  {
   "cell_type": "markdown",
   "id": "976199f3-4321-4856-b38d-57f5dddb30f7",
   "metadata": {},
   "source": [
    "### 2. Identify a set of relevant rules and comment them"
   ]
  },
  {
   "cell_type": "code",
   "execution_count": 22,
   "id": "8204bf7a-972c-4429-9321-671059db7ac9",
   "metadata": {
    "tags": []
   },
   "outputs": [],
   "source": [
    "def print_rule(rules, index):\n",
    "    for item in sequence_of_index_to_products(rules.loc[index, \"antecedents\"]):\n",
    "        print(item)\n",
    "    print(\"==>\")\n",
    "    for item in sequence_of_index_to_products(rules.loc[index, \"consequents\"]):\n",
    "        print(item)"
   ]
  },
  {
   "cell_type": "markdown",
   "id": "d4a430e1-d697-4bc1-9491-a882d23bcc1e",
   "metadata": {},
   "source": [
    "We will filter the rules by *confidence*, with a threshold value of $50\\%$."
   ]
  },
  {
   "cell_type": "code",
   "execution_count": 23,
   "id": "786a5a05-ae9d-4344-8c5f-d647e84fca26",
   "metadata": {
    "tags": []
   },
   "outputs": [
    {
     "data": {
      "text/plain": [
       "(85, 9)"
      ]
     },
     "execution_count": 23,
     "metadata": {},
     "output_type": "execute_result"
    }
   ],
   "source": [
    "rules = association_rules(\n",
    "    fi,\n",
    "    metric=\"confidence\", \n",
    "    min_threshold=0.6\n",
    ")\n",
    "rules.shape"
   ]
  },
  {
   "cell_type": "markdown",
   "id": "c6894b69-78d4-4d0e-ab0c-b2edcfafc9d0",
   "metadata": {},
   "source": [
    "In order to reduce the number of rules to a feasible number we will filter the rules so that it contains only elements with the higher lift values and higher conviction values."
   ]
  },
  {
   "cell_type": "code",
   "execution_count": 24,
   "id": "bdc3e906-f977-4ef5-b109-909a71fe9a3c",
   "metadata": {
    "tags": []
   },
   "outputs": [
    {
     "data": {
      "text/plain": [
       "(22, 9)"
      ]
     },
     "execution_count": 24,
     "metadata": {},
     "output_type": "execute_result"
    }
   ],
   "source": [
    "promissing_rules = rules[ rules.lift>=rules.lift.quantile(0.75) ]\n",
    "promissing_rules.shape"
   ]
  },
  {
   "cell_type": "markdown",
   "id": "94428753-54b1-4265-8fd7-6b5ed45c8fa7",
   "metadata": {},
   "source": [
    "We reduced the set of rules to the ones with the most relevant statistcs, namely high *Confidence* and a high *Lift*. <br>\n",
    "We'll sample some of the rules to inspect them.\n",
    "\n",
    "[comment]: <> (We can see that the rules *$54, 55, 57$* are similar. This could indicate that the itemset that leads to purchasing product $28459$ is some subset of those antecedents.)"
   ]
  },
  {
   "cell_type": "code",
   "execution_count": 25,
   "id": "c88b48ed-a758-4e95-bde7-d8d5ccb510f9",
   "metadata": {
    "tags": []
   },
   "outputs": [
    {
     "data": {
      "text/html": [
       "<div>\n",
       "<style scoped>\n",
       "    .dataframe tbody tr th:only-of-type {\n",
       "        vertical-align: middle;\n",
       "    }\n",
       "\n",
       "    .dataframe tbody tr th {\n",
       "        vertical-align: top;\n",
       "    }\n",
       "\n",
       "    .dataframe thead th {\n",
       "        text-align: right;\n",
       "    }\n",
       "</style>\n",
       "<table border=\"1\" class=\"dataframe\">\n",
       "  <thead>\n",
       "    <tr style=\"text-align: right;\">\n",
       "      <th></th>\n",
       "      <th>antecedents</th>\n",
       "      <th>consequents</th>\n",
       "      <th>antecedent support</th>\n",
       "      <th>consequent support</th>\n",
       "      <th>support</th>\n",
       "      <th>confidence</th>\n",
       "      <th>lift</th>\n",
       "      <th>leverage</th>\n",
       "      <th>conviction</th>\n",
       "    </tr>\n",
       "  </thead>\n",
       "  <tbody>\n",
       "    <tr>\n",
       "      <th>80</th>\n",
       "      <td>(6505, 13265)</td>\n",
       "      <td>(44777)</td>\n",
       "      <td>0.000381</td>\n",
       "      <td>0.000707</td>\n",
       "      <td>0.000239</td>\n",
       "      <td>0.625612</td>\n",
       "      <td>885.238968</td>\n",
       "      <td>0.000238</td>\n",
       "      <td>2.669136</td>\n",
       "    </tr>\n",
       "    <tr>\n",
       "      <th>79</th>\n",
       "      <td>(44777, 6505)</td>\n",
       "      <td>(13265)</td>\n",
       "      <td>0.000306</td>\n",
       "      <td>0.000889</td>\n",
       "      <td>0.000239</td>\n",
       "      <td>0.779472</td>\n",
       "      <td>877.109836</td>\n",
       "      <td>0.000238</td>\n",
       "      <td>4.530532</td>\n",
       "    </tr>\n",
       "    <tr>\n",
       "      <th>78</th>\n",
       "      <td>(44777)</td>\n",
       "      <td>(13265)</td>\n",
       "      <td>0.000707</td>\n",
       "      <td>0.000889</td>\n",
       "      <td>0.000467</td>\n",
       "      <td>0.661092</td>\n",
       "      <td>743.901307</td>\n",
       "      <td>0.000467</td>\n",
       "      <td>2.948027</td>\n",
       "    </tr>\n",
       "    <tr>\n",
       "      <th>82</th>\n",
       "      <td>(37746, 4806)</td>\n",
       "      <td>(41798)</td>\n",
       "      <td>0.000326</td>\n",
       "      <td>0.001308</td>\n",
       "      <td>0.000205</td>\n",
       "      <td>0.627863</td>\n",
       "      <td>479.909447</td>\n",
       "      <td>0.000204</td>\n",
       "      <td>2.683664</td>\n",
       "    </tr>\n",
       "    <tr>\n",
       "      <th>71</th>\n",
       "      <td>(38304, 48209, 31629)</td>\n",
       "      <td>(15980)</td>\n",
       "      <td>0.000298</td>\n",
       "      <td>0.001467</td>\n",
       "      <td>0.000204</td>\n",
       "      <td>0.685089</td>\n",
       "      <td>467.021552</td>\n",
       "      <td>0.000204</td>\n",
       "      <td>3.170838</td>\n",
       "    </tr>\n",
       "  </tbody>\n",
       "</table>\n",
       "</div>"
      ],
      "text/plain": [
       "              antecedents consequents  antecedent support  consequent support  \\\n",
       "80          (6505, 13265)     (44777)            0.000381            0.000707   \n",
       "79          (44777, 6505)     (13265)            0.000306            0.000889   \n",
       "78                (44777)     (13265)            0.000707            0.000889   \n",
       "82          (37746, 4806)     (41798)            0.000326            0.001308   \n",
       "71  (38304, 48209, 31629)     (15980)            0.000298            0.001467   \n",
       "\n",
       "     support  confidence        lift  leverage  conviction  \n",
       "80  0.000239    0.625612  885.238968  0.000238    2.669136  \n",
       "79  0.000239    0.779472  877.109836  0.000238    4.530532  \n",
       "78  0.000467    0.661092  743.901307  0.000467    2.948027  \n",
       "82  0.000205    0.627863  479.909447  0.000204    2.683664  \n",
       "71  0.000204    0.685089  467.021552  0.000204    3.170838  "
      ]
     },
     "execution_count": 25,
     "metadata": {},
     "output_type": "execute_result"
    }
   ],
   "source": [
    "promissing_rules.sort_values(by=\"lift\", ascending=False).iloc[:5]"
   ]
  },
  {
   "cell_type": "markdown",
   "id": "1a1aab1c-4f27-4fe8-bb67-54cb561acd2e",
   "metadata": {},
   "source": [
    "From the table above we can see that there a set of rules that stand out, from the *lift* statistic. <br>\n",
    "\n",
    "Comparing the ***first*** and ***second*** rules (sorted by lift) we can see that they were built from the same *set*. The ***second*** rules has a higher *conviction* value, with almost the same *lift*. It also has a higher *confidence*. To our eyes, the ***second*** rule is the one that stands out between these two. <br>\n",
    "\n",
    "The ***third*** rule is built from a subset of the previous one. We can see that the *support* from this rule is almost $2$ times the *support* of the ***second*** rule. It seems logic that product $44777$ is highly related to product $13265$. This rule also seems very promissing. <br>\n",
    "Similar logic can be applied to study the other rules.\n",
    "\n",
    "We will print some of the rules with highest lift."
   ]
  },
  {
   "cell_type": "code",
   "execution_count": 26,
   "id": "7823ae79-21d3-42f1-a823-0fbcf20e0823",
   "metadata": {
    "tags": []
   },
   "outputs": [
    {
     "name": "stdout",
     "output_type": "stream",
     "text": [
      "--- Association Rule #1 --- Lift = 885.24 ---\n",
      "Snacks Sharp Cheddar Sticks Cheese\n",
      "Manchego\n",
      "==>\n",
      "Giant Chocolate Cookies & Cream Ice Cream Bars\n",
      "\n",
      "--- Association Rule #2 --- Lift = 877.11 ---\n",
      "Giant Chocolate Cookies & Cream Ice Cream Bars\n",
      "Snacks Sharp Cheddar Sticks Cheese\n",
      "==>\n",
      "Manchego\n",
      "\n",
      "--- Association Rule #3 --- Lift = 743.90 ---\n",
      "Giant Chocolate Cookies & Cream Ice Cream Bars\n",
      "==>\n",
      "Manchego\n",
      "\n",
      "--- Association Rule #4 --- Lift = 479.91 ---\n",
      "Green Writing Gel\n",
      "Breaded Chicken Patties\n",
      "==>\n",
      "Unscented Glycerine Soap\n",
      "\n",
      "--- Association Rule #5 --- Lift = 467.02 ---\n",
      "Extra Sweet Iced Tea\n",
      "Whole Wheat Blueberry Fig Bars\n",
      "Pepperoncini Potato Chips\n",
      "==>\n",
      "Unsweetened Soymilk\n",
      "\n"
     ]
    }
   ],
   "source": [
    "index = [80, 79, 78, 82, 71]\n",
    "for i, idx in enumerate(\n",
    "    index, \n",
    "    start=1\n",
    "):\n",
    "    print(f\"--- Association Rule #{i} --- Lift = \\\n",
    "{promissing_rules.loc[idx, 'lift']:.2f} ---\")\n",
    "    print_rule(promissing_rules, idx)\n",
    "    print()"
   ]
  },
  {
   "cell_type": "markdown",
   "id": "7df041fd-d7c3-4d5b-a977-e77dc89d51d7",
   "metadata": {},
   "source": [
    "*(This analysis was made with the help o **ChatGPT**)* <br>\n",
    "***Rule #1 / #2 / #3*** - *Manchego* can be used as a desert, or has a snack. *Giant Chocolate Cookies & Ice Cream Bars* is also a desert, or a mid-afternoon snack. This items are likely bought for gathering events of some kind. <br>\n",
    "***Rule #4*** - We can't find any logical relation for this rule. <br>\n",
    "***Rule #5*** - The items themselves don't seem to have a clear relation. Maybe someone that is trying to start a diet or a change in their meals but still need <br>\n",
    "\n",
    "This is actually a hard step, to interpret the results. Even in our comments, we can't actually know if they are accurate with out some proper study."
   ]
  },
  {
   "cell_type": "markdown",
   "id": "1de035ad-00ea-4001-97a2-b59e6854e9d9",
   "metadata": {},
   "source": [
    "### 3. Identify the Maximal and Closed Itemsets for the same level of support\n",
    "- Closed itemsets are a subset of the all the frequent itemsets\n",
    "- Maximal itemsets are a subset of the Closed itemsets"
   ]
  },
  {
   "cell_type": "code",
   "execution_count": 59,
   "id": "a8fc656c-7287-439d-bfd0-f5a59ee3a30f",
   "metadata": {
    "tags": []
   },
   "outputs": [],
   "source": [
    "def get_closed_itemset(fi):\n",
    "    set_size = fi.itemsets.apply(len)\n",
    "    min_set_size, max_set_size = set_size.min(), set_size.max()\n",
    "    closed_fi = pd.DataFrame(columns=[\"support\", \"itemsets\"])\n",
    "    for size in range(min_set_size, max_set_size+1):\n",
    "        sets = fi[set_size==size]\n",
    "        super_sets = fi[set_size==size+1]\n",
    "        for i in sets.index:\n",
    "            row = sets.loc[i]\n",
    "            itemset = row.itemsets\n",
    "            matching_supersets = super_sets[\n",
    "                super_sets.itemsets.apply(lambda item: (itemset&item) == itemset)\n",
    "            ]\n",
    "            if (len(matching_supersets)==0) or \\\n",
    "            (matching_supersets.support!=row.support).all():\n",
    "                closed_fi.loc[i] = row                      \n",
    "    return closed_fi"
   ]
  },
  {
   "cell_type": "code",
   "execution_count": 60,
   "id": "8b5e418c-e5a2-421c-add9-170bf9f1c5a7",
   "metadata": {
    "tags": []
   },
   "outputs": [],
   "source": [
    "def get_maximal_itemset(fi):\n",
    "    set_size = fi.itemsets.apply(len)\n",
    "    min_set_size, max_set_size = set_size.min(), set_size.max()\n",
    "    max_fi = pd.DataFrame(columns=[\"support\", \"itemsets\"])\n",
    "    for size in range(min_set_size, max_set_size+1):\n",
    "        sets = fi[set_size==size]\n",
    "        super_sets = fi[set_size==size+1]\n",
    "        for i in sets.index:\n",
    "            row = sets.loc[i]\n",
    "            itemset = row.itemsets\n",
    "            matching_supersets = super_sets[\n",
    "                super_sets.itemsets.apply(lambda item: (itemset&item) == itemset)\n",
    "            ]\n",
    "            if len(matching_supersets)==0:\n",
    "                max_fi.loc[i] = row\n",
    "    return max_fi"
   ]
  },
  {
   "cell_type": "code",
   "execution_count": 27,
   "id": "089b2383-63ce-4d41-8843-488eaab20c69",
   "metadata": {
    "tags": []
   },
   "outputs": [
    {
     "data": {
      "text/plain": [
       "((39492, 2), (39492, 2))"
      ]
     },
     "execution_count": 27,
     "metadata": {},
     "output_type": "execute_result"
    }
   ],
   "source": [
    "fi_closed = get_closed_itemset(fi)\n",
    "fi.shape, fi_closed.shape"
   ]
  },
  {
   "cell_type": "markdown",
   "id": "b993f524-c07a-4bd1-87e7-a55484ed9f60",
   "metadata": {},
   "source": [
    "It seems that all the *frequent itemsets* previously generated are actually *closed frequent itemsets*."
   ]
  },
  {
   "cell_type": "code",
   "execution_count": 28,
   "id": "81a68a5e-3542-4085-bd0a-86cd7ce7aff7",
   "metadata": {
    "tags": []
   },
   "outputs": [
    {
     "data": {
      "text/plain": [
       "((39492, 2), (32597, 2))"
      ]
     },
     "execution_count": 28,
     "metadata": {},
     "output_type": "execute_result"
    }
   ],
   "source": [
    "fi_max = get_maximal_itemset(fi_closed)\n",
    "fi_closed.shape, fi_max.shape"
   ]
  },
  {
   "cell_type": "markdown",
   "id": "44d5c7d9-5e15-4061-86e1-7f901a7cbbe5",
   "metadata": {
    "tags": []
   },
   "source": [
    "### 4.Generate the most relevant rules for closed and maximal itemsets\n",
    "\n",
    "Like it was said, the *frequent itemsets* generated for the support value threshold of $0.02\\%$ were already closed itemsets. Therefore the most relevant rules for the close itemset have already been generated. <br>\n",
    "\n",
    "We need to get the rules from the *max. itemsets*. We just need to process the rules that were generated previously, filtering the rules that use itemsets from the *maximal frequent itemsets*"
   ]
  },
  {
   "cell_type": "code",
   "execution_count": 29,
   "id": "b2a1aee4-ca2b-42eb-82b6-bd4cfcdb2a52",
   "metadata": {
    "tags": []
   },
   "outputs": [],
   "source": [
    "def filter_rules_by_itemset(rules, fi):\n",
    "    rule_filter = [False for _ in range(len(rules))]\n",
    "    sets_in_rules = list(map(\n",
    "        lambda ant, con: ant|con, \n",
    "        rules[\"antecedents\"], \n",
    "        rules[\"consequents\"])\n",
    "    )\n",
    "    for i, set_ in enumerate(sets_in_rules):\n",
    "        if  (fi.itemsets.apply(lambda itemset: set_==itemset)).any():\n",
    "            rule_filter[i]=True\n",
    "    return rules[rule_filter]"
   ]
  },
  {
   "cell_type": "code",
   "execution_count": 30,
   "id": "271e3410-875f-4023-9298-a38bcd8da48f",
   "metadata": {
    "tags": []
   },
   "outputs": [
    {
     "name": "stdout",
     "output_type": "stream",
     "text": [
      "Total Nº of rules = 85\n",
      "Maximal Itemset Nº of Rules = 52\n"
     ]
    }
   ],
   "source": [
    "print(\"Total Nº of rules =\", rules.shape[0])\n",
    "max_itemset_rules = filter_rules_by_itemset(rules, fi_max)\n",
    "print(\"Maximal Itemset Nº of Rules =\", max_itemset_rules.shape[0])"
   ]
  },
  {
   "cell_type": "code",
   "execution_count": 31,
   "id": "fd78b9a9-5970-4664-8659-3c35b21d157b",
   "metadata": {},
   "outputs": [],
   "source": [
    "promissing_max_itemset_rules = max_itemset_rules[\n",
    "    max_itemset_rules.lift > max_itemset_rules.lift.quantile(0.75)\n",
    "]"
   ]
  },
  {
   "cell_type": "code",
   "execution_count": 32,
   "id": "2f1d3494-220d-4b93-838e-13fe6464d7c9",
   "metadata": {
    "tags": []
   },
   "outputs": [
    {
     "data": {
      "text/plain": [
       "(13, 9)"
      ]
     },
     "execution_count": 32,
     "metadata": {},
     "output_type": "execute_result"
    }
   ],
   "source": [
    "promissing_max_itemset_rules.shape"
   ]
  },
  {
   "cell_type": "code",
   "execution_count": 33,
   "id": "2919899d-1742-4e14-9abd-dbaa0bad87ac",
   "metadata": {
    "tags": []
   },
   "outputs": [
    {
     "data": {
      "text/html": [
       "<div>\n",
       "<style scoped>\n",
       "    .dataframe tbody tr th:only-of-type {\n",
       "        vertical-align: middle;\n",
       "    }\n",
       "\n",
       "    .dataframe tbody tr th {\n",
       "        vertical-align: top;\n",
       "    }\n",
       "\n",
       "    .dataframe thead th {\n",
       "        text-align: right;\n",
       "    }\n",
       "</style>\n",
       "<table border=\"1\" class=\"dataframe\">\n",
       "  <thead>\n",
       "    <tr style=\"text-align: right;\">\n",
       "      <th></th>\n",
       "      <th>antecedents</th>\n",
       "      <th>consequents</th>\n",
       "      <th>antecedent support</th>\n",
       "      <th>consequent support</th>\n",
       "      <th>support</th>\n",
       "      <th>confidence</th>\n",
       "      <th>lift</th>\n",
       "      <th>leverage</th>\n",
       "      <th>conviction</th>\n",
       "    </tr>\n",
       "  </thead>\n",
       "  <tbody>\n",
       "    <tr>\n",
       "      <th>80</th>\n",
       "      <td>(6505, 13265)</td>\n",
       "      <td>(44777)</td>\n",
       "      <td>0.000381</td>\n",
       "      <td>0.000707</td>\n",
       "      <td>0.000239</td>\n",
       "      <td>0.625612</td>\n",
       "      <td>885.238968</td>\n",
       "      <td>0.000238</td>\n",
       "      <td>2.669136</td>\n",
       "    </tr>\n",
       "    <tr>\n",
       "      <th>79</th>\n",
       "      <td>(44777, 6505)</td>\n",
       "      <td>(13265)</td>\n",
       "      <td>0.000306</td>\n",
       "      <td>0.000889</td>\n",
       "      <td>0.000239</td>\n",
       "      <td>0.779472</td>\n",
       "      <td>877.109836</td>\n",
       "      <td>0.000238</td>\n",
       "      <td>4.530532</td>\n",
       "    </tr>\n",
       "    <tr>\n",
       "      <th>82</th>\n",
       "      <td>(37746, 4806)</td>\n",
       "      <td>(41798)</td>\n",
       "      <td>0.000326</td>\n",
       "      <td>0.001308</td>\n",
       "      <td>0.000205</td>\n",
       "      <td>0.627863</td>\n",
       "      <td>479.909447</td>\n",
       "      <td>0.000204</td>\n",
       "      <td>2.683664</td>\n",
       "    </tr>\n",
       "    <tr>\n",
       "      <th>71</th>\n",
       "      <td>(38304, 48209, 31629)</td>\n",
       "      <td>(15980)</td>\n",
       "      <td>0.000298</td>\n",
       "      <td>0.001467</td>\n",
       "      <td>0.000204</td>\n",
       "      <td>0.685089</td>\n",
       "      <td>467.021552</td>\n",
       "      <td>0.000204</td>\n",
       "      <td>3.170838</td>\n",
       "    </tr>\n",
       "    <tr>\n",
       "      <th>84</th>\n",
       "      <td>(35627, 33923)</td>\n",
       "      <td>(23287)</td>\n",
       "      <td>0.000341</td>\n",
       "      <td>0.001449</td>\n",
       "      <td>0.000226</td>\n",
       "      <td>0.663014</td>\n",
       "      <td>457.699270</td>\n",
       "      <td>0.000225</td>\n",
       "      <td>2.963181</td>\n",
       "    </tr>\n",
       "  </tbody>\n",
       "</table>\n",
       "</div>"
      ],
      "text/plain": [
       "              antecedents consequents  antecedent support  consequent support  \\\n",
       "80          (6505, 13265)     (44777)            0.000381            0.000707   \n",
       "79          (44777, 6505)     (13265)            0.000306            0.000889   \n",
       "82          (37746, 4806)     (41798)            0.000326            0.001308   \n",
       "71  (38304, 48209, 31629)     (15980)            0.000298            0.001467   \n",
       "84         (35627, 33923)     (23287)            0.000341            0.001449   \n",
       "\n",
       "     support  confidence        lift  leverage  conviction  \n",
       "80  0.000239    0.625612  885.238968  0.000238    2.669136  \n",
       "79  0.000239    0.779472  877.109836  0.000238    4.530532  \n",
       "82  0.000205    0.627863  479.909447  0.000204    2.683664  \n",
       "71  0.000204    0.685089  467.021552  0.000204    3.170838  \n",
       "84  0.000226    0.663014  457.699270  0.000225    2.963181  "
      ]
     },
     "execution_count": 33,
     "metadata": {},
     "output_type": "execute_result"
    }
   ],
   "source": [
    "promissing_max_itemset_rules.sort_values(by=\"lift\", ascending=False).iloc[:5]"
   ]
  },
  {
   "cell_type": "markdown",
   "id": "03492c65-7185-44f7-9552-4c15008d85d2",
   "metadata": {},
   "source": [
    "We can see that the table above is very much similar to the one generated for all the *frequent itemsets*, with only one difference ( for this small top 5 ). As we said before, the **rule #3 from the last table was a subset of the 'rule #2'**. Therefore, it is not present in the maximal frequent itemsets, nor the respective rules."
   ]
  },
  {
   "cell_type": "code",
   "execution_count": 34,
   "id": "1fe6c4aa-5bb8-407b-8437-752af34a1fc2",
   "metadata": {
    "tags": []
   },
   "outputs": [
    {
     "name": "stdout",
     "output_type": "stream",
     "text": [
      "--- Association Rule #1 --- Lift = 885.24 ---\n",
      "Snacks Sharp Cheddar Sticks Cheese\n",
      "Manchego\n",
      "==>\n",
      "Giant Chocolate Cookies & Cream Ice Cream Bars\n",
      "\n",
      "--- Association Rule #2 --- Lift = 877.11 ---\n",
      "Giant Chocolate Cookies & Cream Ice Cream Bars\n",
      "Snacks Sharp Cheddar Sticks Cheese\n",
      "==>\n",
      "Manchego\n",
      "\n",
      "--- Association Rule #3 --- Lift = 479.91 ---\n",
      "Green Writing Gel\n",
      "Breaded Chicken Patties\n",
      "==>\n",
      "Unscented Glycerine Soap\n",
      "\n",
      "--- Association Rule #4 --- Lift = 467.02 ---\n",
      "Extra Sweet Iced Tea\n",
      "Whole Wheat Blueberry Fig Bars\n",
      "Pepperoncini Potato Chips\n",
      "==>\n",
      "Unsweetened Soymilk\n",
      "\n",
      "--- Association Rule #5 --- Lift = 457.70 ---\n",
      "Organic Strawberry Smoothie\n",
      "Soft-Picks  - 40 CT\n",
      "==>\n",
      "Distilled Water\n",
      "\n"
     ]
    }
   ],
   "source": [
    "index = [80, 79, 82, 71, 84]\n",
    "for i, idx in enumerate(\n",
    "    index, \n",
    "    start=1\n",
    "):\n",
    "    print(f\"--- Association Rule #{i} --- Lift = \\\n",
    "{promissing_max_itemset_rules.loc[idx, 'lift']:.2f} ---\")\n",
    "    print_rule(promissing_max_itemset_rules, idx)\n",
    "    print()"
   ]
  },
  {
   "cell_type": "markdown",
   "id": "8970e350-3094-47d3-be1a-e54599969fcb",
   "metadata": {},
   "source": [
    "The top 4 rules have been commented previously.<br>\n",
    "(With the help of ***ChatGPT***) <br>\n",
    "**Rule #5** - Distilled water is used majorly for cleaning. Soft picks are used for dental cleaning. Smoothies are items "
   ]
  }
 ],
 "metadata": {
  "kernelspec": {
   "display_name": "Python 3 (ipykernel)",
   "language": "python",
   "name": "python3"
  },
  "language_info": {
   "codemirror_mode": {
    "name": "ipython",
    "version": 3
   },
   "file_extension": ".py",
   "mimetype": "text/x-python",
   "name": "python",
   "nbconvert_exporter": "python",
   "pygments_lexer": "ipython3",
   "version": "3.9.7"
  }
 },
 "nbformat": 4,
 "nbformat_minor": 5
}
