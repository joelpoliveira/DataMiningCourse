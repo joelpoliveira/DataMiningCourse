{
 "cells": [
  {
   "cell_type": "code",
   "execution_count": 1,
   "id": "344e0eea-1d4d-4eee-95d6-2b7e3d6c6c8e",
   "metadata": {
    "tags": []
   },
   "outputs": [],
   "source": [
    "import pandas as pd\n",
    "import numpy as np\n",
    "import pickle\n",
    "import matplotlib.pyplot as plt\n",
    "\n",
    "from time import time\n",
    "from tqdm import tqdm\n",
    "from pyfim import pyeclat\n",
    "from PD_freqitems import freqitemsets\n",
    "from mlxtend.preprocessing import TransactionEncoder\n",
    "from mlxtend.frequent_patterns import apriori, association_rules, fpgrowth, fpmax"
   ]
  },
  {
   "cell_type": "code",
   "execution_count": 2,
   "id": "c22c187a-b1bd-4bf6-bbb9-9edf56fdf158",
   "metadata": {
    "tags": []
   },
   "outputs": [
    {
     "name": "stdout",
     "output_type": "stream",
     "text": [
      "\"Oikos Yogurt Drink, Strawberry\"\n",
      "Mild Italian Chicken Sausage\n",
      "Organic Split Pea & Potato Soup\n",
      "\"Fajita Seasoning, Organic\"\n",
      "Belgian White Wheat Ale\n",
      "Organic Green Leaf Lettuce\n",
      "Zebra Cakes\n",
      "Organic Fusilli No. 34\n",
      "12 G. Protein Bar Coffee Chocolate\n"
     ]
    }
   ],
   "source": [
    "#Read product names and IDs\n",
    "lines=open(\"products.txt\", \"rt\", encoding=\"utf8\").readlines()\n",
    "\n",
    "#we subtract 1 because the pids start at 1, the first 0 is never filled\n",
    "#therefore the product with pid {pid} is at index {pid}-1\n",
    "products=[0]* (len(lines)-1)\n",
    "for lin in lines[1:]:\n",
    "    pid, pname, aid, did=lin.strip().split(\"\\t\")    \n",
    "    products[int(pid) - 1]=pname\n",
    "    \n",
    "#read transactions\n",
    "orders=pickle.load(open(\"order_products.pickle\", \"rb\"))\n",
    "\n",
    "#check products on order 2:\n",
    "for prod in orders[2]: print(products[prod])"
   ]
  },
  {
   "cell_type": "code",
   "execution_count": 3,
   "id": "02c2222c-eb47-4ec4-bb5f-60c230392fc8",
   "metadata": {
    "tags": []
   },
   "outputs": [
    {
     "data": {
      "text/plain": [
       "3214874"
      ]
     },
     "execution_count": 3,
     "metadata": {},
     "output_type": "execute_result"
    }
   ],
   "source": [
    "len(orders)"
   ]
  },
  {
   "cell_type": "code",
   "execution_count": 4,
   "id": "bb636ed9-4737-4b92-9911-f89167491888",
   "metadata": {
    "tags": []
   },
   "outputs": [
    {
     "data": {
      "text/plain": [
       "49688"
      ]
     },
     "execution_count": 4,
     "metadata": {},
     "output_type": "execute_result"
    }
   ],
   "source": [
    "len(products)"
   ]
  },
  {
   "cell_type": "code",
   "execution_count": 5,
   "id": "e9bedaca-b536-4caf-a50f-c2c3021a044f",
   "metadata": {
    "tags": []
   },
   "outputs": [
    {
     "data": {
      "text/plain": [
       "159740659312"
      ]
     },
     "execution_count": 5,
     "metadata": {},
     "output_type": "execute_result"
    }
   ],
   "source": [
    "len(orders)*len(products)"
   ]
  },
  {
   "cell_type": "markdown",
   "id": "db7590d2-0bbb-4987-bac1-23c2dfb0e25f",
   "metadata": {},
   "source": [
    "# Objective 1 - Analyze the itemset/rules generation procedure"
   ]
  },
  {
   "cell_type": "code",
   "execution_count": 6,
   "id": "3624429c-8dfa-42cc-9839-0590e3e8b18f",
   "metadata": {
    "tags": []
   },
   "outputs": [],
   "source": [
    "encoder = TransactionEncoder().fit(orders.values())"
   ]
  },
  {
   "cell_type": "code",
   "execution_count": 7,
   "id": "d7d6558f-3469-4aec-949d-a0410ddca1cf",
   "metadata": {
    "tags": []
   },
   "outputs": [],
   "source": [
    "binary_orders = encoder.transform(orders.values(), sparse=True)"
   ]
  },
  {
   "cell_type": "code",
   "execution_count": 8,
   "id": "4ea24fb6-3ea1-4f03-920f-ebca611feb99",
   "metadata": {
    "tags": []
   },
   "outputs": [],
   "source": [
    "binary_orders = pd.DataFrame.sparse.from_spmatrix(binary_orders)"
   ]
  },
  {
   "cell_type": "code",
   "execution_count": 9,
   "id": "dc705cc2-8da2-4804-9f94-3ca25e8204ef",
   "metadata": {
    "tags": []
   },
   "outputs": [
    {
     "data": {
      "text/html": [
       "<div>\n",
       "<style scoped>\n",
       "    .dataframe tbody tr th:only-of-type {\n",
       "        vertical-align: middle;\n",
       "    }\n",
       "\n",
       "    .dataframe tbody tr th {\n",
       "        vertical-align: top;\n",
       "    }\n",
       "\n",
       "    .dataframe thead th {\n",
       "        text-align: right;\n",
       "    }\n",
       "</style>\n",
       "<table border=\"1\" class=\"dataframe\">\n",
       "  <thead>\n",
       "    <tr style=\"text-align: right;\">\n",
       "      <th></th>\n",
       "      <th>0</th>\n",
       "      <th>1</th>\n",
       "      <th>2</th>\n",
       "      <th>3</th>\n",
       "      <th>4</th>\n",
       "      <th>5</th>\n",
       "      <th>6</th>\n",
       "      <th>7</th>\n",
       "      <th>8</th>\n",
       "      <th>9</th>\n",
       "      <th>...</th>\n",
       "      <th>49667</th>\n",
       "      <th>49668</th>\n",
       "      <th>49669</th>\n",
       "      <th>49670</th>\n",
       "      <th>49671</th>\n",
       "      <th>49672</th>\n",
       "      <th>49673</th>\n",
       "      <th>49674</th>\n",
       "      <th>49675</th>\n",
       "      <th>49676</th>\n",
       "    </tr>\n",
       "  </thead>\n",
       "  <tbody>\n",
       "    <tr>\n",
       "      <th>0</th>\n",
       "      <td>0</td>\n",
       "      <td>0</td>\n",
       "      <td>0</td>\n",
       "      <td>0</td>\n",
       "      <td>0</td>\n",
       "      <td>0</td>\n",
       "      <td>0</td>\n",
       "      <td>0</td>\n",
       "      <td>0</td>\n",
       "      <td>0</td>\n",
       "      <td>...</td>\n",
       "      <td>0</td>\n",
       "      <td>0</td>\n",
       "      <td>0</td>\n",
       "      <td>0</td>\n",
       "      <td>0</td>\n",
       "      <td>0</td>\n",
       "      <td>0</td>\n",
       "      <td>0</td>\n",
       "      <td>0</td>\n",
       "      <td>0</td>\n",
       "    </tr>\n",
       "    <tr>\n",
       "      <th>1</th>\n",
       "      <td>0</td>\n",
       "      <td>0</td>\n",
       "      <td>0</td>\n",
       "      <td>0</td>\n",
       "      <td>0</td>\n",
       "      <td>0</td>\n",
       "      <td>0</td>\n",
       "      <td>0</td>\n",
       "      <td>0</td>\n",
       "      <td>0</td>\n",
       "      <td>...</td>\n",
       "      <td>0</td>\n",
       "      <td>0</td>\n",
       "      <td>0</td>\n",
       "      <td>0</td>\n",
       "      <td>0</td>\n",
       "      <td>0</td>\n",
       "      <td>0</td>\n",
       "      <td>0</td>\n",
       "      <td>0</td>\n",
       "      <td>0</td>\n",
       "    </tr>\n",
       "    <tr>\n",
       "      <th>2</th>\n",
       "      <td>0</td>\n",
       "      <td>0</td>\n",
       "      <td>0</td>\n",
       "      <td>0</td>\n",
       "      <td>0</td>\n",
       "      <td>0</td>\n",
       "      <td>0</td>\n",
       "      <td>0</td>\n",
       "      <td>0</td>\n",
       "      <td>0</td>\n",
       "      <td>...</td>\n",
       "      <td>0</td>\n",
       "      <td>0</td>\n",
       "      <td>0</td>\n",
       "      <td>0</td>\n",
       "      <td>0</td>\n",
       "      <td>0</td>\n",
       "      <td>0</td>\n",
       "      <td>0</td>\n",
       "      <td>0</td>\n",
       "      <td>0</td>\n",
       "    </tr>\n",
       "    <tr>\n",
       "      <th>3</th>\n",
       "      <td>0</td>\n",
       "      <td>0</td>\n",
       "      <td>0</td>\n",
       "      <td>0</td>\n",
       "      <td>0</td>\n",
       "      <td>0</td>\n",
       "      <td>0</td>\n",
       "      <td>0</td>\n",
       "      <td>0</td>\n",
       "      <td>0</td>\n",
       "      <td>...</td>\n",
       "      <td>0</td>\n",
       "      <td>0</td>\n",
       "      <td>0</td>\n",
       "      <td>0</td>\n",
       "      <td>0</td>\n",
       "      <td>0</td>\n",
       "      <td>0</td>\n",
       "      <td>0</td>\n",
       "      <td>0</td>\n",
       "      <td>0</td>\n",
       "    </tr>\n",
       "    <tr>\n",
       "      <th>4</th>\n",
       "      <td>0</td>\n",
       "      <td>0</td>\n",
       "      <td>0</td>\n",
       "      <td>0</td>\n",
       "      <td>0</td>\n",
       "      <td>0</td>\n",
       "      <td>0</td>\n",
       "      <td>0</td>\n",
       "      <td>0</td>\n",
       "      <td>0</td>\n",
       "      <td>...</td>\n",
       "      <td>0</td>\n",
       "      <td>0</td>\n",
       "      <td>0</td>\n",
       "      <td>0</td>\n",
       "      <td>0</td>\n",
       "      <td>0</td>\n",
       "      <td>0</td>\n",
       "      <td>0</td>\n",
       "      <td>0</td>\n",
       "      <td>0</td>\n",
       "    </tr>\n",
       "  </tbody>\n",
       "</table>\n",
       "<p>5 rows × 49677 columns</p>\n",
       "</div>"
      ],
      "text/plain": [
       "   0      1      2      3      4      5      6      7      8      9      ...  \\\n",
       "0      0      0      0      0      0      0      0      0      0      0  ...   \n",
       "1      0      0      0      0      0      0      0      0      0      0  ...   \n",
       "2      0      0      0      0      0      0      0      0      0      0  ...   \n",
       "3      0      0      0      0      0      0      0      0      0      0  ...   \n",
       "4      0      0      0      0      0      0      0      0      0      0  ...   \n",
       "\n",
       "   49667  49668  49669  49670  49671  49672  49673  49674  49675  49676  \n",
       "0      0      0      0      0      0      0      0      0      0      0  \n",
       "1      0      0      0      0      0      0      0      0      0      0  \n",
       "2      0      0      0      0      0      0      0      0      0      0  \n",
       "3      0      0      0      0      0      0      0      0      0      0  \n",
       "4      0      0      0      0      0      0      0      0      0      0  \n",
       "\n",
       "[5 rows x 49677 columns]"
      ]
     },
     "execution_count": 9,
     "metadata": {},
     "output_type": "execute_result"
    }
   ],
   "source": [
    "binary_orders.head()"
   ]
  },
  {
   "cell_type": "code",
   "execution_count": 10,
   "id": "c267c23f-109a-4107-958b-2d4c01d71f67",
   "metadata": {
    "tags": []
   },
   "outputs": [],
   "source": [
    "order_list = orders.values()"
   ]
  },
  {
   "cell_type": "markdown",
   "id": "8fa6874d-0446-4ee4-8b7e-e7e04f75fe6b",
   "metadata": {},
   "source": [
    "##  From the approaches used in classes make a performance analysis up to a threshold level of support\n",
    "Approaches considered in class:\n",
    " 1. Apriori\n",
    " 2. Fp-Growth\n",
    " 3. ECLAT\n",
    " 4. Naive"
   ]
  },
  {
   "cell_type": "code",
   "execution_count": 11,
   "id": "4244c763-f364-478a-8403-5104de7e3ef0",
   "metadata": {
    "tags": []
   },
   "outputs": [],
   "source": [
    "results = pd.DataFrame(columns = [\"threshold\", \"n_itemsets\", \"apriori\", \"fp-growth\", \"eclat\", \"naive\"])"
   ]
  },
  {
   "cell_type": "code",
   "execution_count": 12,
   "id": "d8c10573",
   "metadata": {
    "tags": []
   },
   "outputs": [],
   "source": [
    "thresholds = [0.03, 0.02, 0.01, 0.009, 0.007, 0.005, 0.003, 0.001, 0.0009, 0.0007, 0.0005, .0003]"
   ]
  },
  {
   "cell_type": "code",
   "execution_count": 13,
   "id": "56cfd9df",
   "metadata": {
    "tags": []
   },
   "outputs": [],
   "source": [
    "results_list = [[np.nan for _ in range(len(thresholds))] for __ in range(4)]"
   ]
  },
  {
   "cell_type": "code",
   "execution_count": 21,
   "id": "84f77d41-6eac-4746-9079-50db0ab7be31",
   "metadata": {
    "tags": []
   },
   "outputs": [],
   "source": [
    "#max number of iterations for each fqi function\n",
    "caps = [3, float('inf'), 7, 6 ]"
   ]
  },
  {
   "cell_type": "code",
   "execution_count": 18,
   "id": "297f04d5",
   "metadata": {
    "tags": []
   },
   "outputs": [],
   "source": [
    "func = [apriori, fpgrowth, pyeclat, freqitemsets]\n",
    "data = [binary_orders, order_list]"
   ]
  },
  {
   "cell_type": "code",
   "execution_count": 30,
   "id": "cf3389a0-f0d6-4a3a-b061-78fa33c38df9",
   "metadata": {
    "tags": []
   },
   "outputs": [],
   "source": [
    "# performed each algorithm once at a time because of limited memory ( 16GB ) \n",
    "#index for the data source in the list {data}\n",
    "data_index = 1\n",
    "#index for the fqi function in the list {func}\n",
    "func_index = 3"
   ]
  },
  {
   "cell_type": "code",
   "execution_count": 31,
   "id": "fb00414a-994d-47b4-979e-8cda14a9d339",
   "metadata": {
    "tags": []
   },
   "outputs": [
    {
     "name": "stdout",
     "output_type": "stream",
     "text": [
      "\n",
      "Iteration 0: Threshold = 0.03\n",
      "\n",
      "Iteration 1: Threshold = 0.02\n",
      "\n",
      "Iteration 2: Threshold = 0.01\n",
      "\n",
      "Iteration 3: Threshold = 0.009\n",
      "\n",
      "Iteration 4: Threshold = 0.007\n",
      "\n",
      "Iteration 5: Threshold = 0.005\n",
      "\n",
      "Iteration 6: Threshold = 0.003\n"
     ]
    }
   ],
   "source": [
    "for i,thresh in enumerate(thresholds):\n",
    "    if i>caps[func_index]:\n",
    "        break\n",
    "    start = time()\n",
    "    fi = func[func_index](\n",
    "        data[data_index], \n",
    "        thresh\n",
    "    )\n",
    "    stop = time() - start\n",
    "    \n",
    "    results_list[func_index][i] = stop\n",
    "    results.loc[i] = {\n",
    "        \"threshold\": thresh,\n",
    "        \"n_itemsets\": len(fi),\n",
    "        \"apriori\": results_list[0][i],\n",
    "        \"fp-growth\": results_list[1][i],\n",
    "        \"eclat\": results_list[2][i],\n",
    "        \"naive\": results_list[3][i]\n",
    "    }\n",
    "    \n",
    "    print(f\"\\nIteration {i}: Threshold = {thresh}\")\n",
    "    #print(results.loc[i])"
   ]
  },
  {
   "cell_type": "markdown",
   "id": "18b83831",
   "metadata": {},
   "source": [
    "We performed the results for each algorithm, one at a time because of memory issues (16GB) <br>\n",
    "When running we could verify that apriori algorithm consumes a lot more memory than the other 3 algorithms. With the others we can set the threshold value lower past $0.009$."
   ]
  },
  {
   "cell_type": "code",
   "execution_count": 32,
   "id": "775ae662-766b-4f2b-8de8-aec45e568b6b",
   "metadata": {
    "tags": []
   },
   "outputs": [
    {
     "data": {
      "text/html": [
       "<div>\n",
       "<style scoped>\n",
       "    .dataframe tbody tr th:only-of-type {\n",
       "        vertical-align: middle;\n",
       "    }\n",
       "\n",
       "    .dataframe tbody tr th {\n",
       "        vertical-align: top;\n",
       "    }\n",
       "\n",
       "    .dataframe thead th {\n",
       "        text-align: right;\n",
       "    }\n",
       "</style>\n",
       "<table border=\"1\" class=\"dataframe\">\n",
       "  <thead>\n",
       "    <tr style=\"text-align: right;\">\n",
       "      <th></th>\n",
       "      <th>threshold</th>\n",
       "      <th>n_itemsets</th>\n",
       "      <th>apriori</th>\n",
       "      <th>fp-growth</th>\n",
       "      <th>eclat</th>\n",
       "      <th>naive</th>\n",
       "    </tr>\n",
       "  </thead>\n",
       "  <tbody>\n",
       "    <tr>\n",
       "      <th>0</th>\n",
       "      <td>0.0300</td>\n",
       "      <td>16</td>\n",
       "      <td>5.231888</td>\n",
       "      <td>17.803449</td>\n",
       "      <td>51.370993</td>\n",
       "      <td>33.533955</td>\n",
       "    </tr>\n",
       "    <tr>\n",
       "      <th>1</th>\n",
       "      <td>0.0200</td>\n",
       "      <td>39</td>\n",
       "      <td>15.067040</td>\n",
       "      <td>25.365873</td>\n",
       "      <td>54.439963</td>\n",
       "      <td>32.149916</td>\n",
       "    </tr>\n",
       "    <tr>\n",
       "      <th>2</th>\n",
       "      <td>0.0100</td>\n",
       "      <td>116</td>\n",
       "      <td>47.457986</td>\n",
       "      <td>37.385802</td>\n",
       "      <td>62.542033</td>\n",
       "      <td>49.390156</td>\n",
       "    </tr>\n",
       "    <tr>\n",
       "      <th>3</th>\n",
       "      <td>0.0090</td>\n",
       "      <td>138</td>\n",
       "      <td>83.149374</td>\n",
       "      <td>39.049573</td>\n",
       "      <td>60.503712</td>\n",
       "      <td>54.250201</td>\n",
       "    </tr>\n",
       "    <tr>\n",
       "      <th>4</th>\n",
       "      <td>0.0070</td>\n",
       "      <td>195</td>\n",
       "      <td>NaN</td>\n",
       "      <td>44.832170</td>\n",
       "      <td>70.383650</td>\n",
       "      <td>71.769270</td>\n",
       "    </tr>\n",
       "    <tr>\n",
       "      <th>5</th>\n",
       "      <td>0.0050</td>\n",
       "      <td>326</td>\n",
       "      <td>NaN</td>\n",
       "      <td>59.659715</td>\n",
       "      <td>83.585658</td>\n",
       "      <td>104.709220</td>\n",
       "    </tr>\n",
       "    <tr>\n",
       "      <th>6</th>\n",
       "      <td>0.0030</td>\n",
       "      <td>787</td>\n",
       "      <td>NaN</td>\n",
       "      <td>83.657007</td>\n",
       "      <td>125.846197</td>\n",
       "      <td>226.683366</td>\n",
       "    </tr>\n",
       "    <tr>\n",
       "      <th>7</th>\n",
       "      <td>0.0010</td>\n",
       "      <td>3883</td>\n",
       "      <td>NaN</td>\n",
       "      <td>158.392570</td>\n",
       "      <td>361.816962</td>\n",
       "      <td>NaN</td>\n",
       "    </tr>\n",
       "    <tr>\n",
       "      <th>8</th>\n",
       "      <td>0.0009</td>\n",
       "      <td>4542</td>\n",
       "      <td>NaN</td>\n",
       "      <td>166.549535</td>\n",
       "      <td>NaN</td>\n",
       "      <td>NaN</td>\n",
       "    </tr>\n",
       "    <tr>\n",
       "      <th>9</th>\n",
       "      <td>0.0007</td>\n",
       "      <td>6497</td>\n",
       "      <td>NaN</td>\n",
       "      <td>184.032964</td>\n",
       "      <td>NaN</td>\n",
       "      <td>NaN</td>\n",
       "    </tr>\n",
       "    <tr>\n",
       "      <th>10</th>\n",
       "      <td>0.0005</td>\n",
       "      <td>10507</td>\n",
       "      <td>NaN</td>\n",
       "      <td>221.498877</td>\n",
       "      <td>NaN</td>\n",
       "      <td>NaN</td>\n",
       "    </tr>\n",
       "    <tr>\n",
       "      <th>11</th>\n",
       "      <td>0.0003</td>\n",
       "      <td>21920</td>\n",
       "      <td>NaN</td>\n",
       "      <td>278.004939</td>\n",
       "      <td>NaN</td>\n",
       "      <td>NaN</td>\n",
       "    </tr>\n",
       "  </tbody>\n",
       "</table>\n",
       "</div>"
      ],
      "text/plain": [
       "    threshold  n_itemsets    apriori   fp-growth       eclat       naive\n",
       "0      0.0300          16   5.231888   17.803449   51.370993   33.533955\n",
       "1      0.0200          39  15.067040   25.365873   54.439963   32.149916\n",
       "2      0.0100         116  47.457986   37.385802   62.542033   49.390156\n",
       "3      0.0090         138  83.149374   39.049573   60.503712   54.250201\n",
       "4      0.0070         195        NaN   44.832170   70.383650   71.769270\n",
       "5      0.0050         326        NaN   59.659715   83.585658  104.709220\n",
       "6      0.0030         787        NaN   83.657007  125.846197  226.683366\n",
       "7      0.0010        3883        NaN  158.392570  361.816962         NaN\n",
       "8      0.0009        4542        NaN  166.549535         NaN         NaN\n",
       "9      0.0007        6497        NaN  184.032964         NaN         NaN\n",
       "10     0.0005       10507        NaN  221.498877         NaN         NaN\n",
       "11     0.0003       21920        NaN  278.004939         NaN         NaN"
      ]
     },
     "execution_count": 32,
     "metadata": {},
     "output_type": "execute_result"
    }
   ],
   "source": [
    "results"
   ]
  },
  {
   "cell_type": "code",
   "execution_count": 33,
   "id": "afab0fda",
   "metadata": {
    "tags": []
   },
   "outputs": [],
   "source": [
    "results.to_csv(\"freq_itemsets_results.csv\")"
   ]
  },
  {
   "cell_type": "code",
   "execution_count": 34,
   "id": "82505e85",
   "metadata": {
    "tags": []
   },
   "outputs": [
    {
     "data": {
      "text/plain": [
       "<Axes: xlabel='threshold'>"
      ]
     },
     "execution_count": 34,
     "metadata": {},
     "output_type": "execute_result"
    },
    {
     "data": {
      "image/png": "[encoded data removed]",
      "text/plain": [
       "<Figure size 640x480 with 1 Axes>"
      ]
     },
     "metadata": {},
     "output_type": "display_data"
    }
   ],
   "source": [
    "results.plot(x=\"threshold\", y=[\"apriori\", \"fp-growth\", \"eclat\", \"naive\"], grid=True)"
   ]
  },
  {
   "cell_type": "markdown",
   "id": "6ff3642b",
   "metadata": {},
   "source": [
    "We can see that *Apriori* is the one that has the better results for a bigger threshold. However the time it takes, rapidly surpasses all the other algorithms, and as we said it consumed more memory than the others too. It is not a good option, and we did not explore it beyond the support value of $0.009$ since the memory consumption was too high. <br>\n",
    "*Eclat* started with a performance worse than the *'Naive'* as we lowered the threshold it got better performance than the later model.<br>\n",
    "*FPGrowth* seems to have a good has a good trend and is better than *Eclat* and *'Naive'*<br>"
   ]
  },
  {
   "cell_type": "code",
   "execution_count": null,
   "id": "796d1d9f",
   "metadata": {
    "tags": []
   },
   "outputs": [],
   "source": [
    "fi = fpgrowth(binary_orders, 0.0002)"
   ]
  },
  {
   "cell_type": "code",
   "execution_count": null,
   "id": "bbb1d692",
   "metadata": {},
   "outputs": [],
   "source": []
  }
 ],
 "metadata": {
  "kernelspec": {
   "display_name": "Python 3 (ipykernel)",
   "language": "python",
   "name": "python3"
  },
  "language_info": {
   "codemirror_mode": {
    "name": "ipython",
    "version": 3
   },
   "file_extension": ".py",
   "mimetype": "text/x-python",
   "name": "python",
   "nbconvert_exporter": "python",
   "pygments_lexer": "ipython3",
   "version": "3.9.7"
  }
 },
 "nbformat": 4,
 "nbformat_minor": 5
}
