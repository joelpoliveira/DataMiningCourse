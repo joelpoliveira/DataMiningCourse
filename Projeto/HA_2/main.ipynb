{
 "cells": [
  {
   "cell_type": "code",
   "execution_count": 1,
   "id": "344e0eea-1d4d-4eee-95d6-2b7e3d6c6c8e",
   "metadata": {
    "tags": []
   },
   "outputs": [],
   "source": [
    "import pandas as pd\n",
    "import numpy as np\n",
    "import pickle\n",
    "import matplotlib.pyplot as plt\n",
    "\n",
    "from time import time\n",
    "from tqdm import tqdm\n",
    "from pyfim import pyeclat\n",
    "from PD_freqitems import freqitemsets\n",
    "from mlxtend.preprocessing import TransactionEncoder\n",
    "from mlxtend.frequent_patterns import apriori, association_rules, fpgrowth, fpmax"
   ]
  },
  {
   "cell_type": "code",
   "execution_count": 2,
   "id": "c22c187a-b1bd-4bf6-bbb9-9edf56fdf158",
   "metadata": {
    "tags": []
   },
   "outputs": [
    {
     "name": "stdout",
     "output_type": "stream",
     "text": [
      "\"Oikos Yogurt Drink, Strawberry\"\n",
      "Mild Italian Chicken Sausage\n",
      "Organic Split Pea & Potato Soup\n",
      "\"Fajita Seasoning, Organic\"\n",
      "Belgian White Wheat Ale\n",
      "Organic Green Leaf Lettuce\n",
      "Zebra Cakes\n",
      "Organic Fusilli No. 34\n",
      "12 G. Protein Bar Coffee Chocolate\n"
     ]
    }
   ],
   "source": [
    "#Read product names and IDs\n",
    "lines=open(\"products.txt\", \"rt\", encoding=\"utf8\").readlines()\n",
    "\n",
    "#we subtract 1 because the pids start at 1, the first 0 is never filled\n",
    "#therefore the product with pid {pid} is at index {pid}-1\n",
    "products=[0]* (len(lines)-1)\n",
    "for lin in lines[1:]:\n",
    "    pid, pname, aid, did=lin.strip().split(\"\\t\")    \n",
    "    products[int(pid) - 1]=pname\n",
    "    \n",
    "#read transactions\n",
    "orders=pickle.load(open(\"order_products.pickle\", \"rb\"))\n",
    "\n",
    "#check products on order 2:\n",
    "for prod in orders[2]: print(products[prod])"
   ]
  },
  {
   "cell_type": "code",
   "execution_count": 3,
   "id": "02c2222c-eb47-4ec4-bb5f-60c230392fc8",
   "metadata": {
    "tags": []
   },
   "outputs": [
    {
     "data": {
      "text/plain": [
       "3214874"
      ]
     },
     "execution_count": 3,
     "metadata": {},
     "output_type": "execute_result"
    }
   ],
   "source": [
    "len(orders)"
   ]
  },
  {
   "cell_type": "code",
   "execution_count": 4,
   "id": "bb636ed9-4737-4b92-9911-f89167491888",
   "metadata": {
    "tags": []
   },
   "outputs": [
    {
     "data": {
      "text/plain": [
       "49688"
      ]
     },
     "execution_count": 4,
     "metadata": {},
     "output_type": "execute_result"
    }
   ],
   "source": [
    "len(products)"
   ]
  },
  {
   "cell_type": "code",
   "execution_count": 5,
   "id": "e9bedaca-b536-4caf-a50f-c2c3021a044f",
   "metadata": {
    "tags": []
   },
   "outputs": [
    {
     "data": {
      "text/plain": [
       "159740659312"
      ]
     },
     "execution_count": 5,
     "metadata": {},
     "output_type": "execute_result"
    }
   ],
   "source": [
    "len(orders)*len(products)"
   ]
  },
  {
   "cell_type": "markdown",
   "id": "db7590d2-0bbb-4987-bac1-23c2dfb0e25f",
   "metadata": {},
   "source": [
    "# Objective 1 - Analyze the itemset/rules generation procedure"
   ]
  },
  {
   "cell_type": "code",
   "execution_count": 6,
   "id": "3624429c-8dfa-42cc-9839-0590e3e8b18f",
   "metadata": {
    "tags": []
   },
   "outputs": [],
   "source": [
    "encoder = TransactionEncoder().fit(orders.values())"
   ]
  },
  {
   "cell_type": "code",
   "execution_count": 7,
   "id": "d7d6558f-3469-4aec-949d-a0410ddca1cf",
   "metadata": {
    "tags": []
   },
   "outputs": [],
   "source": [
    "binary_orders = encoder.transform(orders.values(), sparse=True)"
   ]
  },
  {
   "cell_type": "code",
   "execution_count": 8,
   "id": "4ea24fb6-3ea1-4f03-920f-ebca611feb99",
   "metadata": {
    "tags": []
   },
   "outputs": [],
   "source": [
    "binary_orders = pd.DataFrame.sparse.from_spmatrix(binary_orders)"
   ]
  },
  {
   "cell_type": "code",
   "execution_count": 9,
   "id": "dc705cc2-8da2-4804-9f94-3ca25e8204ef",
   "metadata": {
    "tags": []
   },
   "outputs": [
    {
     "data": {
      "text/html": [
       "<div>\n",
       "<style scoped>\n",
       "    .dataframe tbody tr th:only-of-type {\n",
       "        vertical-align: middle;\n",
       "    }\n",
       "\n",
       "    .dataframe tbody tr th {\n",
       "        vertical-align: top;\n",
       "    }\n",
       "\n",
       "    .dataframe thead th {\n",
       "        text-align: right;\n",
       "    }\n",
       "</style>\n",
       "<table border=\"1\" class=\"dataframe\">\n",
       "  <thead>\n",
       "    <tr style=\"text-align: right;\">\n",
       "      <th></th>\n",
       "      <th>0</th>\n",
       "      <th>1</th>\n",
       "      <th>2</th>\n",
       "      <th>3</th>\n",
       "      <th>4</th>\n",
       "      <th>5</th>\n",
       "      <th>6</th>\n",
       "      <th>7</th>\n",
       "      <th>8</th>\n",
       "      <th>9</th>\n",
       "      <th>...</th>\n",
       "      <th>49667</th>\n",
       "      <th>49668</th>\n",
       "      <th>49669</th>\n",
       "      <th>49670</th>\n",
       "      <th>49671</th>\n",
       "      <th>49672</th>\n",
       "      <th>49673</th>\n",
       "      <th>49674</th>\n",
       "      <th>49675</th>\n",
       "      <th>49676</th>\n",
       "    </tr>\n",
       "  </thead>\n",
       "  <tbody>\n",
       "    <tr>\n",
       "      <th>0</th>\n",
       "      <td>0</td>\n",
       "      <td>0</td>\n",
       "      <td>0</td>\n",
       "      <td>0</td>\n",
       "      <td>0</td>\n",
       "      <td>0</td>\n",
       "      <td>0</td>\n",
       "      <td>0</td>\n",
       "      <td>0</td>\n",
       "      <td>0</td>\n",
       "      <td>...</td>\n",
       "      <td>0</td>\n",
       "      <td>0</td>\n",
       "      <td>0</td>\n",
       "      <td>0</td>\n",
       "      <td>0</td>\n",
       "      <td>0</td>\n",
       "      <td>0</td>\n",
       "      <td>0</td>\n",
       "      <td>0</td>\n",
       "      <td>0</td>\n",
       "    </tr>\n",
       "    <tr>\n",
       "      <th>1</th>\n",
       "      <td>0</td>\n",
       "      <td>0</td>\n",
       "      <td>0</td>\n",
       "      <td>0</td>\n",
       "      <td>0</td>\n",
       "      <td>0</td>\n",
       "      <td>0</td>\n",
       "      <td>0</td>\n",
       "      <td>0</td>\n",
       "      <td>0</td>\n",
       "      <td>...</td>\n",
       "      <td>0</td>\n",
       "      <td>0</td>\n",
       "      <td>0</td>\n",
       "      <td>0</td>\n",
       "      <td>0</td>\n",
       "      <td>0</td>\n",
       "      <td>0</td>\n",
       "      <td>0</td>\n",
       "      <td>0</td>\n",
       "      <td>0</td>\n",
       "    </tr>\n",
       "    <tr>\n",
       "      <th>2</th>\n",
       "      <td>0</td>\n",
       "      <td>0</td>\n",
       "      <td>0</td>\n",
       "      <td>0</td>\n",
       "      <td>0</td>\n",
       "      <td>0</td>\n",
       "      <td>0</td>\n",
       "      <td>0</td>\n",
       "      <td>0</td>\n",
       "      <td>0</td>\n",
       "      <td>...</td>\n",
       "      <td>0</td>\n",
       "      <td>0</td>\n",
       "      <td>0</td>\n",
       "      <td>0</td>\n",
       "      <td>0</td>\n",
       "      <td>0</td>\n",
       "      <td>0</td>\n",
       "      <td>0</td>\n",
       "      <td>0</td>\n",
       "      <td>0</td>\n",
       "    </tr>\n",
       "    <tr>\n",
       "      <th>3</th>\n",
       "      <td>0</td>\n",
       "      <td>0</td>\n",
       "      <td>0</td>\n",
       "      <td>0</td>\n",
       "      <td>0</td>\n",
       "      <td>0</td>\n",
       "      <td>0</td>\n",
       "      <td>0</td>\n",
       "      <td>0</td>\n",
       "      <td>0</td>\n",
       "      <td>...</td>\n",
       "      <td>0</td>\n",
       "      <td>0</td>\n",
       "      <td>0</td>\n",
       "      <td>0</td>\n",
       "      <td>0</td>\n",
       "      <td>0</td>\n",
       "      <td>0</td>\n",
       "      <td>0</td>\n",
       "      <td>0</td>\n",
       "      <td>0</td>\n",
       "    </tr>\n",
       "    <tr>\n",
       "      <th>4</th>\n",
       "      <td>0</td>\n",
       "      <td>0</td>\n",
       "      <td>0</td>\n",
       "      <td>0</td>\n",
       "      <td>0</td>\n",
       "      <td>0</td>\n",
       "      <td>0</td>\n",
       "      <td>0</td>\n",
       "      <td>0</td>\n",
       "      <td>0</td>\n",
       "      <td>...</td>\n",
       "      <td>0</td>\n",
       "      <td>0</td>\n",
       "      <td>0</td>\n",
       "      <td>0</td>\n",
       "      <td>0</td>\n",
       "      <td>0</td>\n",
       "      <td>0</td>\n",
       "      <td>0</td>\n",
       "      <td>0</td>\n",
       "      <td>0</td>\n",
       "    </tr>\n",
       "  </tbody>\n",
       "</table>\n",
       "<p>5 rows × 49677 columns</p>\n",
       "</div>"
      ],
      "text/plain": [
       "   0      1      2      3      4      5      6      7      8      9      ...  \\\n",
       "0      0      0      0      0      0      0      0      0      0      0  ...   \n",
       "1      0      0      0      0      0      0      0      0      0      0  ...   \n",
       "2      0      0      0      0      0      0      0      0      0      0  ...   \n",
       "3      0      0      0      0      0      0      0      0      0      0  ...   \n",
       "4      0      0      0      0      0      0      0      0      0      0  ...   \n",
       "\n",
       "   49667  49668  49669  49670  49671  49672  49673  49674  49675  49676  \n",
       "0      0      0      0      0      0      0      0      0      0      0  \n",
       "1      0      0      0      0      0      0      0      0      0      0  \n",
       "2      0      0      0      0      0      0      0      0      0      0  \n",
       "3      0      0      0      0      0      0      0      0      0      0  \n",
       "4      0      0      0      0      0      0      0      0      0      0  \n",
       "\n",
       "[5 rows x 49677 columns]"
      ]
     },
     "execution_count": 9,
     "metadata": {},
     "output_type": "execute_result"
    }
   ],
   "source": [
    "binary_orders.head()"
   ]
  },
  {
   "cell_type": "code",
   "execution_count": 10,
   "id": "c267c23f-109a-4107-958b-2d4c01d71f67",
   "metadata": {
    "tags": []
   },
   "outputs": [],
   "source": [
    "order_list = orders.values()"
   ]
  },
  {
   "cell_type": "markdown",
   "id": "8fa6874d-0446-4ee4-8b7e-e7e04f75fe6b",
   "metadata": {},
   "source": [
    "##  From the approaches used in classes make a performance analysis up to a threshold level of support\n",
    "Approaches considered in class:\n",
    " 1. Apriori\n",
    " 2. Fp-Growth\n",
    " 3. ECLAT\n",
    " 4. Naive"
   ]
  },
  {
   "cell_type": "code",
   "execution_count": 13,
   "id": "4244c763-f364-478a-8403-5104de7e3ef0",
   "metadata": {
    "tags": []
   },
   "outputs": [],
   "source": [
    "results = pd.DataFrame(columns = [\"threshold\", \"n_itemsets\", \"apriori\", \"fp-growth\", \"eclat\", \"naive\"])"
   ]
  },
  {
   "cell_type": "code",
   "execution_count": 16,
   "id": "22d1426c-ec22-4b90-b27b-15c083ec4372",
   "metadata": {
    "tags": []
   },
   "outputs": [],
   "source": [
    "thresholds = [0.009,]"
   ]
  },
  {
   "cell_type": "code",
   "execution_count": 17,
   "id": "fb00414a-994d-47b4-979e-8cda14a9d339",
   "metadata": {
    "tags": []
   },
   "outputs": [
    {
     "name": "stderr",
     "output_type": "stream",
     "text": [
      "C:\\Users\\joelp\\AppData\\Local\\Programs\\Python\\Python39\\lib\\site-packages\\scipy\\sparse\\_compressed.py:232: DeprecationWarning: elementwise comparison failed; this will raise an error in the future.\n",
      "  return self.todense() == other\n",
      "C:\\Users\\joelp\\AppData\\Local\\Programs\\Python\\Python39\\lib\\site-packages\\scipy\\sparse\\_compressed.py:232: DeprecationWarning: elementwise comparison failed; this will raise an error in the future.\n",
      "  return self.todense() == other\n",
      "C:\\Users\\joelp\\AppData\\Local\\Programs\\Python\\Python39\\lib\\site-packages\\scipy\\sparse\\_compressed.py:232: DeprecationWarning: elementwise comparison failed; this will raise an error in the future.\n",
      "  return self.todense() == other\n",
      "C:\\Users\\joelp\\AppData\\Local\\Programs\\Python\\Python39\\lib\\site-packages\\scipy\\sparse\\_compressed.py:232: DeprecationWarning: elementwise comparison failed; this will raise an error in the future.\n",
      "  return self.todense() == other\n"
     ]
    },
    {
     "name": "stdout",
     "output_type": "stream",
     "text": [
      "\n",
      "Iteration 0: Threshold = 0.009\n",
      "threshold       0.009000\n",
      "n_itemsets    138.000000\n",
      "apriori       118.274740\n",
      "fp-growth      46.570990\n",
      "eclat          64.299316\n",
      "naive          54.049022\n",
      "Name: 0, dtype: float64\n"
     ]
    }
   ],
   "source": [
    "for i,thresh in enumerate(thresholds):\n",
    "    start = time()\n",
    "    fi = apriori(binary_orders, thresh)\n",
    "    time_apriori = time() - start\n",
    "    \n",
    "    start = time()\n",
    "    fi = fpgrowth(binary_orders, thresh)\n",
    "    time_fp = time() - start\n",
    "    \n",
    "    start = time()\n",
    "    fi = pyeclat(order_list, thresh)\n",
    "    time_eclat = time() - start\n",
    "    \n",
    "    start = time()\n",
    "    fi = freqitemsets(order_list, thresh)\n",
    "    time_naive = time() - start\n",
    "    \n",
    "    results.loc[i] = {\n",
    "        \"threshold\": thresh,\n",
    "        \"n_itemsets\": len(fi),\n",
    "        \"apriori\":time_apriori,\n",
    "        \"fp-growth\":time_fp,\n",
    "        \"eclat\":time_eclat,\n",
    "        \"naive\":time_naive\n",
    "    }\n",
    "    \n",
    "    print(f\"\\nIteration {i}: Threshold = {thresh}\")\n",
    "    print(results.loc[i])"
   ]
  },
  {
   "cell_type": "code",
   "execution_count": null,
   "id": "775ae662-766b-4f2b-8de8-aec45e568b6b",
   "metadata": {},
   "outputs": [],
   "source": []
  }
 ],
 "metadata": {
  "kernelspec": {
   "display_name": "Python 3 (ipykernel)",
   "language": "python",
   "name": "python3"
  },
  "language_info": {
   "codemirror_mode": {
    "name": "ipython",
    "version": 3
   },
   "file_extension": ".py",
   "mimetype": "text/x-python",
   "name": "python",
   "nbconvert_exporter": "python",
   "pygments_lexer": "ipython3",
   "version": "3.9.7"
  }
 },
 "nbformat": 4,
 "nbformat_minor": 5
}
