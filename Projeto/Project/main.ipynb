{
 "cells": [
  {
   "cell_type": "code",
   "execution_count": 1,
   "id": "1b47f3d3-1f60-4a46-9616-19b9b3ca8097",
   "metadata": {
    "tags": []
   },
   "outputs": [],
   "source": [
    "import ray\n",
    "import numpy as np\n",
    "import pandas as pd\n",
    "import matplotlib.pyplot as plt\n",
    "\n",
    "from tqdm.notebook import tqdm\n",
    "from tqdm import tqdm as tqdm_cli\n",
    "from sklearn.metrics.pairwise import pairwise_distances\n",
    "from sklearn.metrics import log_loss\n"
   ]
  },
  {
   "cell_type": "code",
   "execution_count": 2,
   "id": "b60405de-45c9-4b5d-aadd-c412696395ac",
   "metadata": {
    "tags": []
   },
   "outputs": [],
   "source": [
    "def load_targets(fname):\n",
    "    with open(fname, \"r\") as f:\n",
    "        lines = f.readlines()\n",
    "        \n",
    "    transactions = {}\n",
    "    for line in lines:\n",
    "        line = line.split()\n",
    "        drug, targets = line[0][:-1], line[1:]\n",
    "        \n",
    "        transactions[drug] = set(targets)\n",
    "    return transactions"
   ]
  },
  {
   "cell_type": "code",
   "execution_count": 3,
   "id": "1107d51e-36fc-4607-8228-c025094f828b",
   "metadata": {
    "tags": []
   },
   "outputs": [],
   "source": [
    "def transpose(itemsets: dict[str, set]):\n",
    "    itemsetsT = {}\n",
    "    for key, items in itemsets.items():\n",
    "        for item in items:\n",
    "            itemsetsT.setdefault(item, set()).add(key)\n",
    "    return itemsetsT"
   ]
  },
  {
   "cell_type": "code",
   "execution_count": 4,
   "id": "f0fa4cea-1d85-4cfd-8a3d-da65f2b27408",
   "metadata": {
    "tags": []
   },
   "outputs": [],
   "source": [
    "import networkx as nx\n",
    "\n",
    "def plot_graph(G, show_labels=False, node_size=10, figsize=(6,6)):\n",
    "    f, ax = plt.subplots(1,1, figsize=figsize)\n",
    "    display = display = nx.spring_layout(G)\n",
    "    \n",
    "    nx.draw_networkx_nodes(G, nodelist=G.nodes, pos=display, node_size = node_size, ax=ax, alpha=0.3)\n",
    "    \n",
    "    if show_labels==True:\n",
    "        nx.draw_networkx_labels(G, pos=display, ax=ax)\n",
    "    \n",
    "    nx.draw_networkx_edges(G, pos=display, edgelist=G.edges, ax=ax, arrows=False)"
   ]
  },
  {
   "cell_type": "code",
   "execution_count": 5,
   "id": "f86c8d0f-3d76-40ce-a283-ee5e0d00e82b",
   "metadata": {
    "tags": []
   },
   "outputs": [],
   "source": [
    "def build_graph_from_dict(item_sets):\n",
    "    items, sets = item_sets.keys(), item_sets.values()\n",
    "    items = list(items)\n",
    "    sets = list(sets)\n",
    "    \n",
    "    N = len(items)\n",
    "    graph = np.zeros((N,N))\n",
    "    \n",
    "    for i, s in tqdm(enumerate(sets), total=N):    \n",
    "        for j in range(i+1, N):\n",
    "            link_weight = len( s&sets[j] )\n",
    "            if link_weight!=0:\n",
    "                graph[i,j]+=link_weight\n",
    "\n",
    "    return graph+graph.T"
   ]
  },
  {
   "cell_type": "code",
   "execution_count": 6,
   "id": "74577a8e-1e6c-4809-b630-b7a1961c796e",
   "metadata": {
    "tags": []
   },
   "outputs": [],
   "source": [
    "def jaccard_sim(bin_set_a, bin_set_b):\n",
    "    a =np.inner(bin_set_a, bin_set_b)\n",
    "    bc=np.sum(bin_set_a + bin_set_b)-a\n",
    "    return a/bc"
   ]
  },
  {
   "cell_type": "code",
   "execution_count": 6,
   "id": "668d63d2-6900-46a8-b71b-0d803a157733",
   "metadata": {
    "tags": []
   },
   "outputs": [],
   "source": [
    "def prob(x):\n",
    "    return 1 - np.exp(-x)"
   ]
  },
  {
   "cell_type": "code",
   "execution_count": 7,
   "id": "d7b4e8e3-b9ba-4c22-a9e1-e236b2c88b8b",
   "metadata": {},
   "outputs": [],
   "source": [
    "def rand(shape, min_=0, max_=1):\n",
    "    return np.random.uniform(low=min_, high=max_, size=shape)"
   ]
  },
  {
   "cell_type": "code",
   "execution_count": 8,
   "id": "f9b1781a-a628-4d97-ad70-27e2ab903695",
   "metadata": {
    "tags": []
   },
   "outputs": [],
   "source": [
    "def get_F(shape, min_=0, max_=1):\n",
    "    \"\"\"\n",
    "    Generates a random F matrix \n",
    "    \"\"\"\n",
    "    \n",
    "    F = rand(shape, min_, max_)\n",
    "    return F"
   ]
  },
  {
   "cell_type": "code",
   "execution_count": 9,
   "id": "3caa4e84-28db-4933-aaf9-b15200fe8afc",
   "metadata": {
    "tags": []
   },
   "outputs": [],
   "source": [
    "def log_likelihood(fu, f_sum, fv_conns):\n",
    "    prob_conns = prob( fu@fv_conns.T)\n",
    "    conns_sum = np.log(prob_conns).sum()\n",
    "    \n",
    "    fv_nconns = f_sum - fu - fv_conns.sum(axis=0)\n",
    "    nconns_sum = (fu * fv_nconns).sum()\n",
    "    return conns_sum - nconns_sum"
   ]
  },
  {
   "cell_type": "code",
   "execution_count": 10,
   "id": "6fd0b899-15e6-49fc-838c-d7e5d8b89412",
   "metadata": {},
   "outputs": [],
   "source": [
    "@ray.remote\n",
    "def big_clam(F_shape, conns, orig_graph, hold_out_idx, LR=0.001, n_iters=1000, α = 1e-8, MAX_VALUE=None):\n",
    "    N,K = F_shape\n",
    "    F = get_F(F_shape)\n",
    "    nodes = np.arange(NN, dtype=int)\n",
    "    \n",
    "    f_sum = F.sum(axis=0)\n",
    "    init_ll = np.array(\n",
    "        [-log_likelihood(F[u], f_sum, F[conns[u]]) for u in range(N)]\n",
    "    ).sum()\n",
    "    \n",
    "    \n",
    "    for i in range(n_iters): \n",
    "        f_sum = F.sum(axis=0)\n",
    "        #randomize epoch order\n",
    "        np.random.shuffle(nodes)\n",
    "\n",
    "        for u in nodes:\n",
    "            fv_conns = F[conns[u]]\n",
    "            #F vector of node u\n",
    "            fu = F[u]\n",
    "\n",
    "            #connection probablity of fu to each fv\n",
    "            scores=fu@fv_conns.T\n",
    "            prob_con = prob(scores)\n",
    "\n",
    "            fraction = (1 - prob_con)/prob_con\n",
    "            conns_factor = (fv_conns.T @ fraction)\n",
    "\n",
    "            #optimization of non-connection neighbours sum\n",
    "            nconns_factor = f_sum - fu - fv_conns.sum(axis=0)\n",
    "\n",
    "            # calculate gradient\n",
    "            u_grad = conns_factor - nconns_factor\n",
    "            u_grad = LR * u_grad\n",
    "\n",
    "            #update the community likelihoods for each node\n",
    "            F[u] += u_grad\n",
    "            clip_idx = F[u] < α\n",
    "            F[u, clip_idx] = α\n",
    "            \n",
    "        if i%1000 == 0:\n",
    "            print(f\"{K} communities -- iteration {i} finished\")\n",
    "            \n",
    "    f_sum = F.sum(axis=0)\n",
    "    final_ll=np.array(\n",
    "        [-log_likelihood(F[u], f_sum, F[conns[u]]) for u in range(N)]\n",
    "    ).sum()\n",
    "    \n",
    "    predicted_graph = get_graph_from_communities(F)\n",
    "    hold_out_ll = log_loss(\n",
    "        orig_graph[hold_out_idx], \n",
    "        predicted_graph[hold_out_idx], \n",
    "        labels=(0,1)\n",
    "    )\n",
    "    \n",
    "    graph_ll = log_loss(\n",
    "        orig_graph.flatten(), \n",
    "        predicted_graph.flatten(),\n",
    "        labels=(0,1)\n",
    "    )\n",
    "    return init_ll, final_ll, hold_out_ll, graph_ll"
   ]
  },
  {
   "cell_type": "code",
   "execution_count": 11,
   "id": "0da71c2a-44da-4fa5-8328-d828ce945a43",
   "metadata": {
    "tags": []
   },
   "outputs": [],
   "source": [
    "def run_bigClam(N, K_values, connections, \n",
    "                orig_graph, mask, n_iters=10000, \n",
    "                LR=0.00001, max_F=None, α=1e-4):\n",
    "    \"\"\"\n",
    "    \n",
    "    \n",
    "    :Parameters:\n",
    "        - N: int --> Number of nodes\n",
    "        - K_values: list[int] --> iterable with the different number of communities to test\n",
    "        - connection: dict --> lookup table mapping each node to an iterable with the node connections\n",
    "        - orig_graph: matrix --> adjacency matrix of the graph\n",
    "        - mask: mask --> binary matrix with 0 in the node positions of the hold_out_set and 1 in the other positions\n",
    "        - n_iters: int --> number of epochs to estimate the latent matrix\n",
    "        - LR: float --> learning rate of the model. common values like 0.01 tend to diverge and cause overflows\n",
    "        - max_F: float|None --> Max value allowed in the latent matrix\n",
    "        - α: float --> minimum likelihood considered for a node to belong to a community, to avoid the 0 likelihood\n",
    "    \"\"\"\n",
    "    unmask = (mask+1)%2\n",
    "    hold_out_idx = np.where(unmask==1)\n",
    "    \n",
    "    results = pd.DataFrame(\n",
    "        columns = [\"initial_ll\", \"final_ll\", \"hold_out_ll\", \"graph_ll\"]\n",
    "    )\n",
    "    \n",
    "    ray_res = []\n",
    "    for K in K_values:        \n",
    "        ray_res.append(\n",
    "            big_clam.remote(\n",
    "                (N,K),\n",
    "                conns,  \n",
    "                orig_graph, \n",
    "                hold_out_idx, \n",
    "                LR=LR, \n",
    "                n_iters=n_iters, \n",
    "                α=α, \n",
    "                MAX_VALUE=max_F)\n",
    "        )\n",
    "    ray_res = ray.get(ray_res)\n",
    "        \n",
    "        \n",
    "    for K, res in zip(K_values, ray_res):\n",
    "        init_ll, final_ll, hold_out_ll, graph_ll = res\n",
    "        \n",
    "        results.loc[K] = {\n",
    "            \"initial_ll\": init_ll,\n",
    "            \"final_ll\": final_ll,\n",
    "            \"hold_out_ll\": hold_out_ll,\n",
    "            \"graph_ll\": graph_ll\n",
    "        }\n",
    "        \n",
    "    return results"
   ]
  },
  {
   "cell_type": "code",
   "execution_count": 308,
   "id": "bfe2dc0c-2f01-428a-9752-0eb70d5aa923",
   "metadata": {
    "tags": []
   },
   "outputs": [],
   "source": [
    "def big_clam_annealing(conns, F, n_iters, MAX_VALUE=1):\n",
    "    NN, k = F.shape\n",
    "    best_F = F.copy()\n",
    "    best_ll = np.full(NN, -np.inf)\n",
    "    \n",
    "    for i in tqdm(range(n_iters)):\n",
    "        T = max(1, (n_iters - 2*i))\n",
    "        f_sum = F.sum(axis=0)\n",
    "        \n",
    "        current_ll = np.array(\n",
    "            [log_likelihood(F[u], f_sum, F[conns[u]]) for u in range(NN)]\n",
    "        )\n",
    "        \n",
    "        new_F = \n",
    "        #for u in range(NN):\n",
    "        #    current_ll = log_likelihood(F[u], f_sum, F[conns[u]])\n",
    "            \n",
    "        #    new_fu = np.random.rand(k) * MAX_VALUE\n",
    "        #    new_ll = log_likelihood(new_fu, f_sum, F[conns[u]])\n",
    "            \n",
    "        #    ΔE = max(-700, new_ll - current_ll)\n",
    "        #    if np.sign(ΔE)>0:\n",
    "        #        F[u] = new_fu\n",
    "                \n",
    "        #        if (new_ll - best_ll[u]) > 0:\n",
    "        #            best_F[u] = new_fu\n",
    "        #            best_ll[u] = new_ll\n",
    "                \n",
    "        #    elif np.round(sigmoid( ΔE/T ), 2) > (np.random.random()/2):\n",
    "        #        F[u] = new_fu\n",
    "    \n",
    "    res_best = [log_likelihood(best_F[u], best_F.sum(axis=0), best_F[conns[u]]) for u in range(NN)]\n",
    "    return best_F, sum(res_best)"
   ]
  },
  {
   "cell_type": "code",
   "execution_count": 12,
   "id": "e1f6801b-72e4-413d-a302-6eb27f91c20f",
   "metadata": {
    "tags": []
   },
   "outputs": [],
   "source": [
    "def get_communities(F, thresh):\n",
    "    NN, k = F.shape\n",
    "    \n",
    "    comunities = {}\n",
    "    for c in range(k):\n",
    "        locs = np.where(F[:, c]>=thresh)[0]\n",
    "        comunities[c] = set(list(locs))\n",
    "    return comunities"
   ]
  },
  {
   "cell_type": "code",
   "execution_count": 13,
   "id": "a189e7b3-5ca9-42de-b759-74f1f2344b9c",
   "metadata": {
    "tags": []
   },
   "outputs": [],
   "source": [
    "def get_graph_from_communities(F):\n",
    "    N, k = F.shape\n",
    "    graph = np.zeros((N,N))\n",
    "    \n",
    "    for i in range(N):\n",
    "        for j in range(N):\n",
    "            if i!=j:\n",
    "                graph[i,j] = prob(F[i]@F[j])\n",
    "    \n",
    "    return graph"
   ]
  },
  {
   "cell_type": "code",
   "execution_count": 14,
   "id": "1cad9f9c-0846-4638-9efc-3c8db6d60d30",
   "metadata": {
    "tags": []
   },
   "outputs": [],
   "source": [
    "def get_weighted_graph_from_communities(F, thresh):\n",
    "    N, k = F.shape\n",
    "    graph = np.zeros((N,N))\n",
    "    \n",
    "    for i in range(N):\n",
    "        for j in range(N):\n",
    "            if i!=j:\n",
    "                for c in range(k):\n",
    "                    if prob(F[i,c] * F[j, c])>thresh:\n",
    "                        graph[i,j]+=1\n",
    "                \n",
    "    return graph"
   ]
  },
  {
   "cell_type": "markdown",
   "id": "7d2d9a12-d6fb-4656-a70e-baac4be6ff66",
   "metadata": {},
   "source": [
    "# Load Data and build the Drug-Drug Graph\n",
    "- edges represent shared targets"
   ]
  },
  {
   "cell_type": "code",
   "execution_count": 15,
   "id": "9ae1ba8e-f0fc-472c-864b-f84bb26239ef",
   "metadata": {
    "tags": []
   },
   "outputs": [
    {
     "name": "stdout",
     "output_type": "stream",
     "text": [
      "number of nodes:  1101\n",
      "number of targets:  1244\n"
     ]
    }
   ],
   "source": [
    "drugs = load_targets(\"acts.txt\")\n",
    "n_drugs = len(drugs)\n",
    "n_targets = len(transpose(drugs))\n",
    "print(\"number of nodes: \", n_drugs)\n",
    "print(\"number of targets: \", n_targets)"
   ]
  },
  {
   "cell_type": "code",
   "execution_count": 16,
   "id": "6b8cf6e9-ce4e-461a-931c-649e27175bf8",
   "metadata": {
    "tags": []
   },
   "outputs": [
    {
     "data": {
      "application/vnd.jupyter.widget-view+json": {
       "model_id": "0891534587c645b8a9bf9ddc9e9caebf",
       "version_major": 2,
       "version_minor": 0
      },
      "text/plain": [
       "  0%|          | 0/1101 [00:00<?, ?it/s]"
      ]
     },
     "metadata": {},
     "output_type": "display_data"
    }
   ],
   "source": [
    "drugs_graph = build_graph_from_dict(drugs)"
   ]
  },
  {
   "cell_type": "code",
   "execution_count": 17,
   "id": "ca73d66f-7092-4d26-863b-7b95add99648",
   "metadata": {
    "tags": []
   },
   "outputs": [],
   "source": [
    "G = nx.Graph()\n",
    "G.add_nodes_from(range(n_drugs))\n",
    "G.add_edges_from( np.argwhere(drugs_graph!=0) )"
   ]
  },
  {
   "cell_type": "code",
   "execution_count": 20,
   "id": "ed914160-a0cc-495b-9c61-8f285d396075",
   "metadata": {
    "tags": []
   },
   "outputs": [
    {
     "data": {
      "image/png": "[encoded data removed]",
      "text/plain": [
       "<Figure size 600x600 with 1 Axes>"
      ]
     },
     "metadata": {},
     "output_type": "display_data"
    }
   ],
   "source": [
    "plot_graph(G)"
   ]
  },
  {
   "cell_type": "code",
   "execution_count": 17,
   "id": "c454ba53-4a6d-4878-9530-571e2521c850",
   "metadata": {
    "tags": []
   },
   "outputs": [],
   "source": [
    "idx = np.where(drugs_graph.sum(axis=1) > 1)[0]\n",
    "\n",
    "dense_graph = drugs_graph[idx, :]\n",
    "dense_graph = dense_graph[:, idx]"
   ]
  },
  {
   "cell_type": "code",
   "execution_count": 19,
   "id": "9f476af6-685a-48f3-a358-ba5d85b24045",
   "metadata": {
    "tags": []
   },
   "outputs": [
    {
     "data": {
      "text/plain": [
       "(1083, 1083)"
      ]
     },
     "execution_count": 19,
     "metadata": {},
     "output_type": "execute_result"
    }
   ],
   "source": [
    "dense_graph.shape"
   ]
  },
  {
   "cell_type": "code",
   "execution_count": 20,
   "id": "49b14bfc-bc51-4ded-aed0-02d4180762a3",
   "metadata": {
    "tags": []
   },
   "outputs": [],
   "source": [
    "G = nx.Graph()\n",
    "G.add_nodes_from(range(dense_graph.shape[0]))\n",
    "G.add_edges_from( np.argwhere(dense_graph!=0) )"
   ]
  },
  {
   "cell_type": "code",
   "execution_count": 21,
   "id": "4fabb030-257f-41b9-bf50-0c041c47af2c",
   "metadata": {},
   "outputs": [
    {
     "data": {
      "image/png": "[encoded data removed]",
      "text/plain": [
       "<Figure size 600x600 with 1 Axes>"
      ]
     },
     "metadata": {},
     "output_type": "display_data"
    }
   ],
   "source": [
    "plot_graph(G)"
   ]
  },
  {
   "cell_type": "markdown",
   "id": "4b9c6037-7cb1-45c6-95b5-b7efdb9b5e6f",
   "metadata": {
    "jp-MarkdownHeadingCollapsed": true,
    "tags": []
   },
   "source": [
    "## Create a graph in which nodes represent genes and edges represent  "
   ]
  },
  {
   "cell_type": "code",
   "execution_count": 213,
   "id": "14d0a57b-b5ce-41ca-9283-ac28140c4e61",
   "metadata": {
    "tags": []
   },
   "outputs": [],
   "source": [
    "genes = transpose(drugs)"
   ]
  },
  {
   "cell_type": "code",
   "execution_count": 214,
   "id": "723bac53-50f0-440b-8ffc-3d6448f0ee71",
   "metadata": {
    "tags": []
   },
   "outputs": [
    {
     "data": {
      "application/vnd.jupyter.widget-view+json": {
       "model_id": "2eff772b935142e0ac9480c938e1e120",
       "version_major": 2,
       "version_minor": 0
      },
      "text/plain": [
       "  0%|          | 0/1244 [00:00<?, ?it/s]"
      ]
     },
     "metadata": {},
     "output_type": "display_data"
    }
   ],
   "source": [
    "genes_graph = build_graph_from_dict( genes )"
   ]
  },
  {
   "cell_type": "code",
   "execution_count": 215,
   "id": "0ab0eecb-6724-4230-a934-31d0250e94d7",
   "metadata": {
    "tags": []
   },
   "outputs": [
    {
     "data": {
      "image/png": "[encoded data removed]",
      "text/plain": [
       "<Figure size 600x600 with 1 Axes>"
      ]
     },
     "metadata": {},
     "output_type": "display_data"
    }
   ],
   "source": [
    "g=nx.Graph()\n",
    "g.add_edges_from(np.argwhere(genes_graph!=0))\n",
    "plot_graph(g)"
   ]
  },
  {
   "cell_type": "code",
   "execution_count": 218,
   "id": "f2a7ee29-eb1e-4683-b404-0989e72da1f2",
   "metadata": {
    "tags": []
   },
   "outputs": [
    {
     "data": {
      "text/plain": [
       "(array([ 327,  347,  368,  627,  629,  766,  836,  852,  893,  912,  939,\n",
       "         946,  984,  993,  999, 1023, 1025, 1030, 1046, 1052, 1138, 1139,\n",
       "        1140, 1194, 1197, 1199], dtype=int64),)"
      ]
     },
     "execution_count": 218,
     "metadata": {},
     "output_type": "execute_result"
    }
   ],
   "source": [
    "idx_g = np.where(genes_graph.sum(axis=1) <= 1)"
   ]
  },
  {
   "cell_type": "markdown",
   "id": "9315f699-c3ff-4de9-9741-2ed93833831e",
   "metadata": {},
   "source": [
    "## Big Clam\n",
    "\n",
    "- Hold out set de **Edges** 20% - verificar se o algoritmo consegue reconstruir as ligações eliminadas\n",
    "- Avaliar os resultados através da cross-entropy entre a previsão e a matriz original\n",
    "- Como descrito no algoritmo original do bigClam, o número de comunidades é selecionado a partir do resultado da avaliação no hold out set"
   ]
  },
  {
   "cell_type": "code",
   "execution_count": 18,
   "id": "714fc4b9-d1a4-487e-badb-0eeaaee08287",
   "metadata": {
    "tags": []
   },
   "outputs": [],
   "source": [
    "NN = dense_graph.shape[0]"
   ]
  },
  {
   "cell_type": "code",
   "execution_count": 19,
   "id": "5df2103f-682d-4741-8b1b-221e5bd4990e",
   "metadata": {
    "tags": []
   },
   "outputs": [
    {
     "data": {
      "text/plain": [
       "0.010000250013542027"
      ]
     },
     "execution_count": 19,
     "metadata": {},
     "output_type": "execute_result"
    }
   ],
   "source": [
    "α = 1e-4\n",
    "δ = np.sqrt(-np.log(1 - α))\n",
    "δ"
   ]
  },
  {
   "cell_type": "code",
   "execution_count": 20,
   "id": "0e0a73fe-5e5a-4fc1-999b-167b13361010",
   "metadata": {
    "tags": []
   },
   "outputs": [],
   "source": [
    "node_pairs = set(\n",
    "    list(\n",
    "        map(lambda x: tuple(sorted(x)), np.argwhere(dense_graph!=0))\n",
    "    )\n",
    ")"
   ]
  },
  {
   "cell_type": "code",
   "execution_count": 21,
   "id": "8ad7c5ab-5d42-4abf-91ee-461cfbce592b",
   "metadata": {
    "tags": []
   },
   "outputs": [],
   "source": [
    "node_pairs = np.array(\n",
    "    list(map(list, node_pairs))\n",
    ")"
   ]
  },
  {
   "cell_type": "code",
   "execution_count": 22,
   "id": "d735cdf9-fb90-494c-9def-6afd2e873848",
   "metadata": {
    "tags": []
   },
   "outputs": [
    {
     "data": {
      "text/plain": [
       "(249608, 2)"
      ]
     },
     "execution_count": 22,
     "metadata": {},
     "output_type": "execute_result"
    }
   ],
   "source": [
    "node_pairs.shape"
   ]
  },
  {
   "cell_type": "code",
   "execution_count": 23,
   "id": "9c4710ec-3367-4ed7-83ed-f3b8932e71d3",
   "metadata": {
    "tags": []
   },
   "outputs": [],
   "source": [
    "#select the 20% edges to remove\n",
    "N_out = int(len( node_pairs ) * 0.2)\n",
    "node_pairs_idx = np.arange(len(node_pairs), dtype=int)\n",
    "\n",
    "np.random.seed(1)\n",
    "hold_out_idx = np.random.choice(node_pairs_idx, size=N_out, replace=False)\n",
    "\n",
    "#hold_out_set = node_pairs[hold_out_idx]\n",
    "mask = np.ones(dense_graph.shape)\n",
    "for idx in hold_out_idx:\n",
    "    i,j = node_pairs[idx]\n",
    "    mask[i,j]=mask[j,i]=0\n",
    "unmask=(mask+1)%2"
   ]
  },
  {
   "cell_type": "code",
   "execution_count": 24,
   "id": "1ee091c0-4e17-4619-9285-35bd8b30a144",
   "metadata": {
    "tags": []
   },
   "outputs": [],
   "source": [
    "#remove the edges in the graph used for training\n",
    "dense_graph_train = dense_graph.copy()*mask"
   ]
  },
  {
   "cell_type": "code",
   "execution_count": 25,
   "id": "5caa35e6-8e2b-471d-a6fb-4373de50359a",
   "metadata": {
    "tags": []
   },
   "outputs": [
    {
     "data": {
      "text/plain": [
       "199687"
      ]
     },
     "execution_count": 25,
     "metadata": {},
     "output_type": "execute_result"
    }
   ],
   "source": [
    "(dense_graph_train>0).sum()//2"
   ]
  },
  {
   "cell_type": "code",
   "execution_count": 26,
   "id": "6afa5808-f098-46ad-a784-0ff2c99a681a",
   "metadata": {
    "tags": []
   },
   "outputs": [],
   "source": [
    "conns = {\n",
    "    i : np.where(node_conns!=0)[0] for i, node_conns in enumerate(dense_graph_train)\n",
    "}"
   ]
  },
  {
   "cell_type": "code",
   "execution_count": 154,
   "id": "ea843f73-6c56-49f2-80cf-b85c4cbe1564",
   "metadata": {
    "tags": []
   },
   "outputs": [
    {
     "name": "stdout",
     "output_type": "stream",
     "text": [
      "Initial Evaluation:  -1971417.3435058189\n"
     ]
    }
   ],
   "source": [
    "k=10\n",
    "MAX = None\n",
    "F = get_F((NN, k))\n",
    "\n",
    "ll_i=np.array(\n",
    "    [log_likelihood(F[u], F.sum(axis=0), F[conns[u]]) for u in range(F.shape[0])]\n",
    ").sum()\n",
    "print(\"Initial Evaluation: \", ll_i)"
   ]
  },
  {
   "cell_type": "code",
   "execution_count": 155,
   "id": "d5745edd-3749-4064-9326-c48081a9201f",
   "metadata": {
    "tags": []
   },
   "outputs": [
    {
     "data": {
      "application/vnd.jupyter.widget-view+json": {
       "model_id": "546deb5db03448fbb2ac0370dd9c5d13",
       "version_major": 2,
       "version_minor": 0
      },
      "text/plain": [
       "  0%|          | 0/8000 [00:00<?, ?it/s]"
      ]
     },
     "metadata": {},
     "output_type": "display_data"
    },
    {
     "name": "stdout",
     "output_type": "stream",
     "text": [
      "Final Evaluation:  335861.6641620734\n"
     ]
    }
   ],
   "source": [
    "ll_f = big_clam(conns, F, LR=0.00001, n_iters=15000, α=α, MAX_VALUE=MAX)\n",
    "print(\"Final Evaluation: \", ll_f)"
   ]
  },
  {
   "cell_type": "code",
   "execution_count": 27,
   "id": "14d1853a-d3cb-4800-8c30-7b34e8d5b396",
   "metadata": {
    "tags": []
   },
   "outputs": [
    {
     "name": "stderr",
     "output_type": "stream",
     "text": [
      "2023-06-05 16:40:02,026\tINFO worker.py:1538 -- Started a local Ray instance.\n"
     ]
    },
    {
     "data": {
      "text/html": [
       "<div>\n",
       "    <div style=\"margin-left: 50px;display: flex;flex-direction: row;align-items: center\">\n",
       "        <h3 style=\"color: var(--jp-ui-font-color0)\">Ray</h3>\n",
       "        <svg version=\"1.1\" id=\"ray\" width=\"3em\" viewBox=\"0 0 144.5 144.6\" style=\"margin-left: 3em;margin-right: 3em\">\n",
       "            <g id=\"layer-1\">\n",
       "                <path fill=\"#00a2e9\" class=\"st0\" d=\"M97.3,77.2c-3.8-1.1-6.2,0.9-8.3,5.1c-3.5,6.8-9.9,9.9-17.4,9.6S58,88.1,54.8,81.2c-1.4-3-3-4-6.3-4.1\n",
       "                    c-5.6-0.1-9.9,0.1-13.1,6.4c-3.8,7.6-13.6,10.2-21.8,7.6C5.2,88.4-0.4,80.5,0,71.7c0.1-8.4,5.7-15.8,13.8-18.2\n",
       "                    c8.4-2.6,17.5,0.7,22.3,8c1.3,1.9,1.3,5.2,3.6,5.6c3.9,0.6,8,0.2,12,0.2c1.8,0,1.9-1.6,2.4-2.8c3.5-7.8,9.7-11.8,18-11.9\n",
       "                    c8.2-0.1,14.4,3.9,17.8,11.4c1.3,2.8,2.9,3.6,5.7,3.3c1-0.1,2,0.1,3,0c2.8-0.5,6.4,1.7,8.1-2.7s-2.3-5.5-4.1-7.5\n",
       "                    c-5.1-5.7-10.9-10.8-16.1-16.3C84,38,81.9,37.1,78,38.3C66.7,42,56.2,35.7,53,24.1C50.3,14,57.3,2.8,67.7,0.5\n",
       "                    C78.4-2,89,4.7,91.5,15.3c0.1,0.3,0.1,0.5,0.2,0.8c0.7,3.4,0.7,6.9-0.8,9.8c-1.7,3.2-0.8,5,1.5,7.2c6.7,6.5,13.3,13,19.8,19.7\n",
       "                    c1.8,1.8,3,2.1,5.5,1.2c9.1-3.4,17.9-0.6,23.4,7c4.8,6.9,4.6,16.1-0.4,22.9c-5.4,7.2-14.2,9.9-23.1,6.5c-2.3-0.9-3.5-0.6-5.1,1.1\n",
       "                    c-6.7,6.9-13.6,13.7-20.5,20.4c-1.8,1.8-2.5,3.2-1.4,5.9c3.5,8.7,0.3,18.6-7.7,23.6c-7.9,5-18.2,3.8-24.8-2.9\n",
       "                    c-6.4-6.4-7.4-16.2-2.5-24.3c4.9-7.8,14.5-11,23.1-7.8c3,1.1,4.7,0.5,6.9-1.7C91.7,98.4,98,92.3,104.2,86c1.6-1.6,4.1-2.7,2.6-6.2\n",
       "                    c-1.4-3.3-3.8-2.5-6.2-2.6C99.8,77.2,98.9,77.2,97.3,77.2z M72.1,29.7c5.5,0.1,9.9-4.3,10-9.8c0-0.1,0-0.2,0-0.3\n",
       "                    C81.8,14,77,9.8,71.5,10.2c-5,0.3-9,4.2-9.3,9.2c-0.2,5.5,4,10.1,9.5,10.3C71.8,29.7,72,29.7,72.1,29.7z M72.3,62.3\n",
       "                    c-5.4-0.1-9.9,4.2-10.1,9.7c0,0.2,0,0.3,0,0.5c0.2,5.4,4.5,9.7,9.9,10c5.1,0.1,9.9-4.7,10.1-9.8c0.2-5.5-4-10-9.5-10.3\n",
       "                    C72.6,62.3,72.4,62.3,72.3,62.3z M115,72.5c0.1,5.4,4.5,9.7,9.8,9.9c5.6-0.2,10-4.8,10-10.4c-0.2-5.4-4.6-9.7-10-9.7\n",
       "                    c-5.3-0.1-9.8,4.2-9.9,9.5C115,72.1,115,72.3,115,72.5z M19.5,62.3c-5.4,0.1-9.8,4.4-10,9.8c-0.1,5.1,5.2,10.4,10.2,10.3\n",
       "                    c5.6-0.2,10-4.9,9.8-10.5c-0.1-5.4-4.5-9.7-9.9-9.6C19.6,62.3,19.5,62.3,19.5,62.3z M71.8,134.6c5.9,0.2,10.3-3.9,10.4-9.6\n",
       "                    c0.5-5.5-3.6-10.4-9.1-10.8c-5.5-0.5-10.4,3.6-10.8,9.1c0,0.5,0,0.9,0,1.4c-0.2,5.3,4,9.8,9.3,10\n",
       "                    C71.6,134.6,71.7,134.6,71.8,134.6z\"/>\n",
       "            </g>\n",
       "        </svg>\n",
       "        <table>\n",
       "            <tr>\n",
       "                <td style=\"text-align: left\"><b>Python version:</b></td>\n",
       "                <td style=\"text-align: left\"><b>3.9.7</b></td>\n",
       "            </tr>\n",
       "            <tr>\n",
       "                <td style=\"text-align: left\"><b>Ray version:</b></td>\n",
       "                <td style=\"text-align: left\"><b> 2.2.0</b></td>\n",
       "            </tr>\n",
       "            \n",
       "        </table>\n",
       "    </div>\n",
       "</div>\n"
      ],
      "text/plain": [
       "RayContext(dashboard_url='', python_version='3.9.7', ray_version='2.2.0', ray_commit='b6af0887ee5f2e460202133791ad941a41f15beb', address_info={'node_ip_address': '127.0.0.1', 'raylet_ip_address': '127.0.0.1', 'redis_address': None, 'object_store_address': 'tcp://127.0.0.1:59103', 'raylet_socket_name': 'tcp://127.0.0.1:60796', 'webui_url': '', 'session_dir': 'C:\\\\Users\\\\joelp\\\\AppData\\\\Local\\\\Temp\\\\ray\\\\session_2023-06-05_16-39-59_075523_9844', 'metrics_export_port': 62185, 'gcs_address': '127.0.0.1:57575', 'address': '127.0.0.1:57575', 'dashboard_agent_listen_port': 52365, 'node_id': '12e8691f41a8c6d44b7711d17e9c5394da0ff86bfed97cab68d5fd55'})"
      ]
     },
     "execution_count": 27,
     "metadata": {},
     "output_type": "execute_result"
    }
   ],
   "source": [
    "ray.init()"
   ]
  },
  {
   "cell_type": "code",
   "execution_count": null,
   "id": "e8da2020-583f-4ad3-9bb0-226dc6ae1738",
   "metadata": {
    "tags": []
   },
   "outputs": [
    {
     "name": "stdout",
     "output_type": "stream",
     "text": [
      "\u001b[2m\u001b[36m(big_clam pid=20604)\u001b[0m 64 communities -- iteration 0 finished\n",
      "\u001b[2m\u001b[36m(big_clam pid=16972)\u001b[0m 32 communities -- iteration 0 finished\n",
      "\u001b[2m\u001b[36m(big_clam pid=14176)\u001b[0m 128 communities -- iteration 0 finished\n",
      "\u001b[2m\u001b[36m(big_clam pid=17060)\u001b[0m 256 communities -- iteration 0 finished\n"
     ]
    }
   ],
   "source": [
    "ks = [2<<i for i in range(7, 0, -1)]\n",
    "bc_results = run_bigClam(\n",
    "    NN, ks, conns, (dense_graph>0)*1,\n",
    "    mask=mask,n_iters=15000, LR=0.00001\n",
    ")"
   ]
  },
  {
   "cell_type": "code",
   "execution_count": null,
   "id": "66fa0f50-37c3-4bbc-8ba2-aeb14280d04c",
   "metadata": {},
   "outputs": [],
   "source": [
    "ray.shutdown()"
   ]
  },
  {
   "cell_type": "code",
   "execution_count": 39,
   "id": "9cc19114-c51c-40d1-b925-154d0a05b412",
   "metadata": {
    "tags": []
   },
   "outputs": [
    {
     "data": {
      "text/html": [
       "<div>\n",
       "<style scoped>\n",
       "    .dataframe tbody tr th:only-of-type {\n",
       "        vertical-align: middle;\n",
       "    }\n",
       "\n",
       "    .dataframe tbody tr th {\n",
       "        vertical-align: top;\n",
       "    }\n",
       "\n",
       "    .dataframe thead th {\n",
       "        text-align: right;\n",
       "    }\n",
       "</style>\n",
       "<table border=\"1\" class=\"dataframe\">\n",
       "  <thead>\n",
       "    <tr style=\"text-align: right;\">\n",
       "      <th></th>\n",
       "      <th>initial_ll</th>\n",
       "      <th>final_ll</th>\n",
       "      <th>hold_out_ll</th>\n",
       "      <th>graph_ll</th>\n",
       "    </tr>\n",
       "  </thead>\n",
       "  <tbody>\n",
       "    <tr>\n",
       "      <th>4</th>\n",
       "      <td>1.002787e+06</td>\n",
       "      <td>511592.438020</td>\n",
       "      <td>0.691096</td>\n",
       "      <td>0.414919</td>\n",
       "    </tr>\n",
       "    <tr>\n",
       "      <th>8</th>\n",
       "      <td>1.605411e+06</td>\n",
       "      <td>508458.765922</td>\n",
       "      <td>0.683598</td>\n",
       "      <td>0.409831</td>\n",
       "    </tr>\n",
       "    <tr>\n",
       "      <th>16</th>\n",
       "      <td>3.081950e+06</td>\n",
       "      <td>516252.454149</td>\n",
       "      <td>0.679258</td>\n",
       "      <td>0.413666</td>\n",
       "    </tr>\n",
       "  </tbody>\n",
       "</table>\n",
       "</div>"
      ],
      "text/plain": [
       "      initial_ll       final_ll  hold_out_ll  graph_ll\n",
       "4   1.002787e+06  511592.438020     0.691096  0.414919\n",
       "8   1.605411e+06  508458.765922     0.683598  0.409831\n",
       "16  3.081950e+06  516252.454149     0.679258  0.413666"
      ]
     },
     "execution_count": 39,
     "metadata": {},
     "output_type": "execute_result"
    }
   ],
   "source": [
    "bc_results"
   ]
  },
  {
   "cell_type": "code",
   "execution_count": 156,
   "id": "1fd16665-10d3-4911-bbc3-98c1d07eb699",
   "metadata": {
    "tags": []
   },
   "outputs": [
    {
     "data": {
      "text/plain": [
       "1002"
      ]
     },
     "execution_count": 156,
     "metadata": {},
     "output_type": "execute_result"
    }
   ],
   "source": [
    "max_idx = np.argmax([log_likelihood(F[u], F.sum(axis=0), F[conns[u]]) for u in range(NN)])\n",
    "max_idx"
   ]
  },
  {
   "cell_type": "code",
   "execution_count": 157,
   "id": "d0fc9cdb-e747-4d3f-968f-23623319bd2b",
   "metadata": {
    "tags": []
   },
   "outputs": [
    {
     "data": {
      "text/plain": [
       "-6.699586475066412"
      ]
     },
     "execution_count": 157,
     "metadata": {},
     "output_type": "execute_result"
    }
   ],
   "source": [
    "ll_max = log_likelihood(F[max_idx], F.sum(axis=0), F[conns[max_idx]])\n",
    "ll_max"
   ]
  },
  {
   "cell_type": "code",
   "execution_count": 158,
   "id": "b9d0e9dc-cf5f-48b1-9a31-c570e3c81531",
   "metadata": {
    "tags": []
   },
   "outputs": [
    {
     "data": {
      "text/plain": [
       "0.00123142102069553"
      ]
     },
     "execution_count": 158,
     "metadata": {},
     "output_type": "execute_result"
    }
   ],
   "source": [
    "np.exp(ll_max)"
   ]
  },
  {
   "cell_type": "code",
   "execution_count": 159,
   "id": "43b59fa2-d5ae-454e-813a-0be2de73f49d",
   "metadata": {
    "tags": []
   },
   "outputs": [],
   "source": [
    "fc = F[conns[0]].T@((1-prob(F[0]@F[conns[0]].T))/prob(F[0]@F[conns[0]].T))"
   ]
  },
  {
   "cell_type": "code",
   "execution_count": 160,
   "id": "832579ab-3da4-465d-bbcf-6d430dfe478b",
   "metadata": {
    "tags": []
   },
   "outputs": [],
   "source": [
    "fnc = F.sum(axis=0) - F[0] - F[conns[0]].sum(axis=0)"
   ]
  },
  {
   "cell_type": "code",
   "execution_count": 161,
   "id": "de66693e-dfb3-43e4-97b5-4c5f187b48c4",
   "metadata": {
    "tags": []
   },
   "outputs": [
    {
     "data": {
      "text/plain": [
       "array([-1.5629e+00, -1.0660e+00, -1.8420e-01, -1.4611e+00, -1.4421e+00,\n",
       "        1.3000e-03, -2.1702e+00, -2.4497e+00, -5.1890e-01, -1.4206e+00])"
      ]
     },
     "execution_count": 161,
     "metadata": {},
     "output_type": "execute_result"
    }
   ],
   "source": [
    "np.round((fc - fnc), 2) * 0.01"
   ]
  },
  {
   "cell_type": "code",
   "execution_count": 162,
   "id": "1c06b319-330c-4c83-b5ea-296cdf8b602c",
   "metadata": {
    "tags": []
   },
   "outputs": [
    {
     "data": {
      "text/plain": [
       "array([[1.0000e-04, 1.0000e-04, 1.0000e-04, ..., 1.0000e-04, 1.0000e-04,\n",
       "        1.0000e-04],\n",
       "       [1.0000e-04, 1.0000e-04, 5.6900e-02, ..., 1.0000e-04, 1.0000e-04,\n",
       "        1.0000e-04],\n",
       "       [8.5600e-01, 1.0000e-04, 1.0000e-04, ..., 7.7460e-01, 1.0000e-04,\n",
       "        7.6820e-01],\n",
       "       ...,\n",
       "       [2.5270e-01, 1.0000e-04, 1.0000e-04, ..., 6.2910e-01, 1.3530e-01,\n",
       "        1.1054e+00],\n",
       "       [1.0000e-04, 1.0000e-04, 1.0000e-04, ..., 1.0000e-04, 2.7470e-01,\n",
       "        1.0000e-04],\n",
       "       [1.0000e-04, 1.0000e-04, 2.1660e-01, ..., 1.0000e-04, 2.6190e-01,\n",
       "        1.0000e-04]])"
      ]
     },
     "execution_count": 162,
     "metadata": {},
     "output_type": "execute_result"
    }
   ],
   "source": [
    "np.round(F, 4)"
   ]
  },
  {
   "cell_type": "code",
   "execution_count": 163,
   "id": "5d4ba2f3-1c84-43f7-85a8-edb5b179e823",
   "metadata": {
    "tags": []
   },
   "outputs": [
    {
     "data": {
      "text/plain": [
       "(2.129161698099278, 0.0001)"
      ]
     },
     "execution_count": 163,
     "metadata": {},
     "output_type": "execute_result"
    }
   ],
   "source": [
    "F.max(), F.min()"
   ]
  },
  {
   "cell_type": "code",
   "execution_count": 164,
   "id": "a5330ba5-a913-4352-bd8c-04a04e309322",
   "metadata": {
    "tags": []
   },
   "outputs": [
    {
     "data": {
      "text/plain": [
       "[519, 436, 460, 517, 341, 472, 531, 529, 565, 528]"
      ]
     },
     "execution_count": 164,
     "metadata": {},
     "output_type": "execute_result"
    }
   ],
   "source": [
    "list(map(len, get_communities(F, δ).values()))"
   ]
  },
  {
   "cell_type": "code",
   "execution_count": 43,
   "id": "66000230-b899-4413-9207-4b1a636c16e2",
   "metadata": {
    "tags": []
   },
   "outputs": [],
   "source": [
    "from sklearn.metrics import mean_squared_error, log_loss"
   ]
  },
  {
   "cell_type": "code",
   "execution_count": 166,
   "id": "450cbd8f-d4a4-4217-93ea-8391934233e9",
   "metadata": {
    "tags": []
   },
   "outputs": [],
   "source": [
    "temp = get_graph_from_communities(F)"
   ]
  },
  {
   "cell_type": "code",
   "execution_count": 167,
   "id": "27cd8f87-21c1-4917-bde1-c5ee45ae49b1",
   "metadata": {
    "tags": []
   },
   "outputs": [
    {
     "data": {
      "text/plain": [
       "2989.3919887839056"
      ]
     },
     "execution_count": 167,
     "metadata": {},
     "output_type": "execute_result"
    }
   ],
   "source": [
    "log_loss(\n",
    "    (dense_graph>0)*1,\n",
    "    temp\n",
    ")"
   ]
  },
  {
   "cell_type": "code",
   "execution_count": 168,
   "id": "16fcbd4f-e8fe-45cf-84bb-1a4db0fcdd71",
   "metadata": {
    "tags": []
   },
   "outputs": [
    {
     "data": {
      "text/plain": [
       "0.4125578501704595"
      ]
     },
     "execution_count": 168,
     "metadata": {},
     "output_type": "execute_result"
    }
   ],
   "source": [
    "log_loss(\n",
    "    (dense_graph*unmask>0)*1,\n",
    "    (temp*unmask),\n",
    "    labels=(0,1)\n",
    ")"
   ]
  },
  {
   "cell_type": "code",
   "execution_count": 57,
   "id": "23092a1e-8ddb-4005-bc6c-8f7adb597cad",
   "metadata": {},
   "outputs": [
    {
     "data": {
      "text/plain": [
       "4.306312953883531"
      ]
     },
     "execution_count": 57,
     "metadata": {},
     "output_type": "execute_result"
    }
   ],
   "source": [
    "log_loss(np.ones(5), rand((5,), 0, .1), labels=(0,1))"
   ]
  },
  {
   "cell_type": "code",
   "execution_count": 74,
   "id": "510d138b-df89-4abc-ad4d-68371fb22561",
   "metadata": {
    "tags": []
   },
   "outputs": [
    {
     "data": {
      "text/plain": [
       "array([[0.78728522, 0.40523148, 0.2629053 ],\n",
       "       [0.38844466, 0.52593727, 0.43658643],\n",
       "       [0.93230354, 0.89199781, 0.79435848]])"
      ]
     },
     "execution_count": 74,
     "metadata": {},
     "output_type": "execute_result"
    }
   ],
   "source": [
    "t=rand((3,3), 0.0, 1)\n",
    "t"
   ]
  },
  {
   "cell_type": "code",
   "execution_count": 72,
   "id": "f6191a9e-f64c-4c21-9cc0-6dfc659fa2ba",
   "metadata": {
    "tags": []
   },
   "outputs": [
    {
     "data": {
      "text/plain": [
       "array([[1, 1, 1],\n",
       "       [1, 1, 0],\n",
       "       [0, 1, 0]])"
      ]
     },
     "execution_count": 72,
     "metadata": {},
     "output_type": "execute_result"
    }
   ],
   "source": [
    "m=1*(rand((3,3), 0.0, 1)>0.5)\n",
    "m"
   ]
  },
  {
   "cell_type": "code",
   "execution_count": 107,
   "id": "0ad846b5-1f05-4933-b181-3020e9df1a90",
   "metadata": {
    "tags": []
   },
   "outputs": [
    {
     "data": {
      "text/plain": [
       "0.0010005003335835344"
      ]
     },
     "execution_count": 107,
     "metadata": {},
     "output_type": "execute_result"
    }
   ],
   "source": [
    "log_loss(\n",
    "    np.zeros((3,)),np.zeros((3,))+0.001, labels=(0,1)\n",
    ")"
   ]
  },
  {
   "cell_type": "code",
   "execution_count": 75,
   "id": "e7cec950-af01-46ee-bf1b-223280d8e1b7",
   "metadata": {
    "tags": []
   },
   "outputs": [
    {
     "data": {
      "text/plain": [
       "array([[1., 0., 0.],\n",
       "       [0., 0., 0.],\n",
       "       [0., 0., 0.]])"
      ]
     },
     "execution_count": 75,
     "metadata": {},
     "output_type": "execute_result"
    }
   ],
   "source": [
    "tmask = np.zeros((3,3))\n",
    "tmask[0,0]=1\n",
    "tmask"
   ]
  },
  {
   "cell_type": "code",
   "execution_count": null,
   "id": "b579111b-338d-4797-8698-3c8e18901cdf",
   "metadata": {},
   "outputs": [],
   "source": []
  }
 ],
 "metadata": {
  "kernelspec": {
   "display_name": "Python 3 (ipykernel)",
   "language": "python",
   "name": "python3"
  },
  "language_info": {
   "codemirror_mode": {
    "name": "ipython",
    "version": 3
   },
   "file_extension": ".py",
   "mimetype": "text/x-python",
   "name": "python",
   "nbconvert_exporter": "python",
   "pygments_lexer": "ipython3",
   "version": "3.9.7"
  }
 },
 "nbformat": 4,
 "nbformat_minor": 5
}
