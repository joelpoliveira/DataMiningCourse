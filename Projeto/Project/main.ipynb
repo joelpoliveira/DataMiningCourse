{
 "cells": [
  {
   "cell_type": "code",
   "execution_count": 1,
   "id": "1b47f3d3-1f60-4a46-9616-19b9b3ca8097",
   "metadata": {
    "tags": []
   },
   "outputs": [],
   "source": [
    "import ray\n",
    "import numpy as np\n",
    "import pandas as pd\n",
    "import matplotlib.pyplot as plt\n",
    "\n",
    "from tqdm.notebook import tqdm\n",
    "from tqdm import tqdm as tqdm_cli\n",
    "from sklearn.metrics.pairwise import pairwise_distances\n",
    "from sklearn.metrics import log_loss\n",
    "from time import time"
   ]
  },
  {
   "cell_type": "code",
   "execution_count": 2,
   "id": "b60405de-45c9-4b5d-aadd-c412696395ac",
   "metadata": {
    "tags": []
   },
   "outputs": [],
   "source": [
    "def load_drugs_and_targets(fname):\n",
    "    with open(fname, \"r\") as f:\n",
    "        lines = f.readlines()\n",
    "        \n",
    "    drug_targest = {}\n",
    "    for line in lines:\n",
    "        line = line.split()\n",
    "        drug, targets = line[0][:-1], line[1:]\n",
    "        \n",
    "        drug_targest[drug] = set(targets)\n",
    "    return drug_targest"
   ]
  },
  {
   "cell_type": "code",
   "execution_count": 3,
   "id": "1107d51e-36fc-4607-8228-c025094f828b",
   "metadata": {
    "tags": []
   },
   "outputs": [],
   "source": [
    "def transpose(itemsets: dict[str, set]):\n",
    "    itemsetsT = {}\n",
    "    for key, items in itemsets.items():\n",
    "        for item in items:\n",
    "            itemsetsT.setdefault(item, set()).add(key)\n",
    "    return itemsetsT"
   ]
  },
  {
   "cell_type": "code",
   "execution_count": 4,
   "id": "f0fa4cea-1d85-4cfd-8a3d-da65f2b27408",
   "metadata": {
    "tags": []
   },
   "outputs": [],
   "source": [
    "import networkx as nx\n",
    "\n",
    "def plot_graph(G, show_labels=False, node_size=10, figsize=(6,6)):\n",
    "    f, ax = plt.subplots(1,1, figsize=figsize)\n",
    "    display = display = nx.spring_layout(G)\n",
    "    \n",
    "    nx.draw_networkx_nodes(G, nodelist=G.nodes, pos=display, node_size = node_size, ax=ax, alpha=0.3)\n",
    "    \n",
    "    if show_labels==True:\n",
    "        nx.draw_networkx_labels(G, pos=display, ax=ax)\n",
    "    \n",
    "    nx.draw_networkx_edges(G, pos=display, edgelist=G.edges, ax=ax, arrows=False)"
   ]
  },
  {
   "cell_type": "code",
   "execution_count": 5,
   "id": "f86c8d0f-3d76-40ce-a283-ee5e0d00e82b",
   "metadata": {
    "tags": []
   },
   "outputs": [],
   "source": [
    "def build_graph_from_dict(item_sets):\n",
    "    items, sets = item_sets.keys(), item_sets.values()\n",
    "    items = list(items)\n",
    "    sets = list(sets)\n",
    "    \n",
    "    N = len(items)\n",
    "    graph = np.zeros((N,N))\n",
    "    \n",
    "    for i, s in tqdm(enumerate(sets), total=N):    \n",
    "        for j in range(i+1, N):\n",
    "            link_weight = len( s&sets[j] )\n",
    "            if link_weight!=0:\n",
    "                graph[i,j]+=link_weight\n",
    "\n",
    "    return graph+graph.T"
   ]
  },
  {
   "cell_type": "code",
   "execution_count": 6,
   "id": "668d63d2-6900-46a8-b71b-0d803a157733",
   "metadata": {
    "tags": []
   },
   "outputs": [],
   "source": [
    "def probability(x):\n",
    "    \"\"\"\n",
    "    calculates probability according to bigCLAM definition\n",
    "    Parameters:\n",
    "        :x: - Numpy or Number\n",
    "    \"\"\"\n",
    "    return 1 - np.exp(-x)"
   ]
  },
  {
   "cell_type": "code",
   "execution_count": 7,
   "id": "d7b4e8e3-b9ba-4c22-a9e1-e236b2c88b8b",
   "metadata": {},
   "outputs": [],
   "source": [
    "def random_matrix(shape, min_=0, max_=1):\n",
    "    \"\"\"\n",
    "    Generates a random matrix with values in the range [ {min_}, {max_}]\n",
    "    Parameters:\n",
    "        :shape: Tuple or Int indicating the shape of the matrix/Vector\n",
    "        :min_: Lower Value to be generated in the matrix\n",
    "        :max_: Highest Value to be generated in the matrix\n",
    "    \"\"\"\n",
    "    return np.random.uniform(low=min_, high=max_, size=shape)"
   ]
  },
  {
   "cell_type": "code",
   "execution_count": 8,
   "id": "3caa4e84-28db-4933-aaf9-b15200fe8afc",
   "metadata": {
    "tags": []
   },
   "outputs": [],
   "source": [
    "def log_likelihood(fu, f_sum, fv_conns):\n",
    "    \"\"\"\n",
    "    Calculates the log likelihood of a single Node, according to bigCLAM algorithm.\n",
    "    This implementation uses the 'speed up' in which it is assumed that each node only connects\n",
    "        to a few of the existing nodes. This speedup pre-computes the summation of the F matrix\n",
    "        and uses information regarding the neighbors instead of the neighbors, which is a much \n",
    "        smaller set of data to process.\n",
    "    Parameters:\n",
    "        :fu: Latent Vector of node U\n",
    "        :f_sum: Sum of Latent Matrix over the community axis\n",
    "        :fv_conns: Latent Vectos of U neighbors\n",
    "    \"\"\"\n",
    "    prob_conns = probability( fu@fv_conns.T)\n",
    "    conns_sum = np.log(prob_conns).sum()\n",
    "    \n",
    "    fv_nconns = f_sum - fu - fv_conns.sum(axis=0)\n",
    "    nconns_sum = (fu * fv_nconns).sum()\n",
    "    return conns_sum - nconns_sum"
   ]
  },
  {
   "cell_type": "code",
   "execution_count": 9,
   "id": "6fd0b899-15e6-49fc-838c-d7e5d8b89412",
   "metadata": {},
   "outputs": [],
   "source": [
    "@ray.remote\n",
    "def big_clam_ray(\n",
    "    F_shape,       # shape of the Latent Matrix, NxK : N-Number of nodes & K-Number of communities  \n",
    "    conns,         # Dictionary containing the neighborhoods of each node \n",
    "    true_graph,    # Adjacency Matrix\n",
    "    hold_out_idx,  # List of indexes regarding the hold \n",
    "    LR,            # Learning Rate\n",
    "    n_iters,       # Number of iterations\n",
    "    α,             # Minimum Latent value for any community, to avoid gradient explosion\n",
    "    MAX_VALUE,     # Maximum Latent value\n",
    "    stop_threshold  # Minimum percentage improvement treshold for early stopping\n",
    "):\n",
    "    \"\"\"\n",
    "    Computes bigClam for K communities (Number of columns in F_shape)\n",
    "    \"\"\"\n",
    "    N,K = F_shape\n",
    "    #initialize F\n",
    "    F = random_matrix(F_shape)\n",
    "    nodes = np.arange(N, dtype=int)\n",
    "    counter=0\n",
    "    \n",
    "    f_sum=F.sum(axis=0)\n",
    "    previous_ll = init_ll = np.array([\n",
    "        -log_likelihood(F[u], f_sum, F[conns[u]]) for u in nodes\n",
    "    ]).sum()\n",
    "\n",
    "    for i in range(n_iters): \n",
    "        f_sum = F.sum(axis=0)\n",
    "        #randomize epoch order\n",
    "        np.random.shuffle(nodes)\n",
    "        current_ll = 0\n",
    "        \n",
    "        for u in nodes:\n",
    "            fv_conns = F[conns[u]]\n",
    "            #F vector of node u\n",
    "            fu = F[u]\n",
    "\n",
    "            #connection probablity of fu to each fv\n",
    "            scores=fu@fv_conns.T\n",
    "            prob_con = probability(scores)\n",
    "\n",
    "            fraction = (1 - prob_con)/prob_con\n",
    "            conns_factor = (fv_conns.T @ fraction)\n",
    "\n",
    "            #optimization of non-connection neighbours sum\n",
    "            nconns_factor = f_sum - fu - fv_conns.sum(axis=0)\n",
    "\n",
    "            # calculate gradient\n",
    "            u_grad = conns_factor - nconns_factor\n",
    "            u_grad = LR * u_grad\n",
    "            \n",
    "            #update the community likelihoods for each node\n",
    "            F[u] += u_grad\n",
    "            clip_idx = F[u] < α\n",
    "            F[u, clip_idx] = α\n",
    "            \n",
    "            current_ll += log_likelihood(F[u], f_sum, F[conns[u]])\n",
    "            \n",
    "        if i%2000 == 0:\n",
    "            print(f\"{K} communities -- iteration {i} finished...\")\n",
    "        \n",
    "        #check if improvement below 0.001% of previous value, for early stopping\n",
    "        if np.abs(previous_ll - current_ll) < stop_threshold * np.abs(previous_ll):\n",
    "            counter+=1\n",
    "            if counter==5:\n",
    "                print(f\"{K} communities -- Early Stop at iteration {i}...\")\n",
    "                break\n",
    "        else:\n",
    "            counter=0\n",
    "        previous_ll = current_ll\n",
    "    \n",
    "    print(f\"{K} communities -- Finishing...\")\n",
    "    \n",
    "    f_sum = F.sum(axis=0)\n",
    "    final_ll=np.array(\n",
    "        [-log_likelihood(F[u], f_sum, F[conns[u]]) for u in range(N)]\n",
    "    ).sum()\n",
    "    \n",
    "    predicted_graph = np.round(\n",
    "        get_graph_from_communities(F), \n",
    "        3\n",
    "    )\n",
    "    \n",
    "    hold_out_ll = log_loss(\n",
    "        true_graph[hold_out_idx], \n",
    "        predicted_graph[hold_out_idx], \n",
    "        labels=(0,1)\n",
    "    )\n",
    "    \n",
    "    graph_ll = log_loss(\n",
    "        true_graph.flatten(), \n",
    "        predicted_graph.flatten(),\n",
    "        labels=(0,1)\n",
    "    )\n",
    "    return init_ll, final_ll, hold_out_ll, graph_ll"
   ]
  },
  {
   "cell_type": "code",
   "execution_count": 10,
   "id": "0da71c2a-44da-4fa5-8328-d828ce945a43",
   "metadata": {
    "tags": []
   },
   "outputs": [],
   "source": [
    "def run_bigClam(\n",
    "    N, \n",
    "    K_values, \n",
    "    connections, \n",
    "    true_graph, \n",
    "    mask, \n",
    "    n_iters=10000,             \n",
    "    LR=0.00001, \n",
    "    max_F=None, \n",
    "    α=1e-4,\n",
    "   stop_threshold=0.001\n",
    "):\n",
    "    \"\"\"\n",
    "    Computes bigCLAM for different number of communities in parallel using ray.\n",
    "    \n",
    "    :Parameters:\n",
    "        :N:            --> Number of nodes\n",
    "        :K_values:    --> iterable with the different number of communities to test\n",
    "        :connections: --> lookup table mapping each node to an iterable with the node connections\n",
    "        :true_graph:  --> adjacency matrix of the graph\n",
    "        :mask:        --> binary matrix with 0 in the node positions of the hold_out_set and 1 in the other positions\n",
    "        :n_iters:     --> number of epochs to estimate the latent matrix\n",
    "        :LR:          --> learning rate of the model. common values like 0.01 tend to diverge and cause overflows\n",
    "        :max_F:       --> Max value allowed in the latent matrix\n",
    "        :α:           --> minimum likelihood considered for a node to belong to a community, to avoid the 0 likelihood\n",
    "    \"\"\"\n",
    "    unmask = (mask+1)%2\n",
    "    hold_out_idx = np.where(unmask==1)\n",
    "    \n",
    "    columns = [\n",
    "        \"initial_log_likelihood\", \n",
    "        \"final_log_likelihood\", \n",
    "        \"hold_edges_log_loss\", \n",
    "        \"adjacency_graph_log_loss\"\n",
    "    ]\n",
    "    \n",
    "    results = pd.DataFrame(\n",
    "        columns = columns\n",
    "    )\n",
    "    \n",
    "    ray_res = []\n",
    "    for K in K_values:        \n",
    "        ray_res.append(\n",
    "            big_clam_ray.remote(\n",
    "                (N,K),\n",
    "                conns,  \n",
    "                true_graph, \n",
    "                hold_out_idx, \n",
    "                LR=LR, \n",
    "                n_iters=n_iters, \n",
    "                α=α, \n",
    "                MAX_VALUE=max_F,\n",
    "                stop_threshold=stop_threshold)\n",
    "        )\n",
    "    ray_res = ray.get(ray_res)\n",
    "        \n",
    "        \n",
    "    for K, res in zip(K_values, ray_res):        \n",
    "        results.loc[K] = dict(zip(columns, res))\n",
    "\n",
    "    return results"
   ]
  },
  {
   "cell_type": "code",
   "execution_count": 11,
   "id": "16adaa16-3e94-43bf-ab03-76a0a1c0909e",
   "metadata": {
    "tags": []
   },
   "outputs": [],
   "source": [
    "def big_clam(conns, F, LR=0.00001, n_iters=1000, α = 1e-8, MAX_VALUE=None, stop_treshold=0.001):\n",
    "    N,K = F.shape\n",
    "    nodes = np.arange(N, dtype=int)\n",
    "    \n",
    "    f_sum=F.sum(axis=0)\n",
    "    previous_ll = np.array([\n",
    "        -log_likelihood(F[u], f_sum, F[conns[u]]) for u in nodes\n",
    "    ]).sum()\n",
    "    counter = 0\n",
    "    \n",
    "    for i in tqdm(range(n_iters)): \n",
    "        f_sum = F.sum(axis=0)\n",
    "        #randomize epoch order\n",
    "        np.random.shuffle(nodes)\n",
    "        current_ll=0\n",
    "        \n",
    "        for u in nodes:\n",
    "            fv_conns = F[conns[u]]\n",
    "            #F vector of node u\n",
    "            fu = F[u]\n",
    "\n",
    "            #connection probablity of fu to each fv\n",
    "            scores=fu@fv_conns.T\n",
    "            prob_con = probability(scores)\n",
    "\n",
    "            fraction = (1 - prob_con)/prob_con\n",
    "            conns_factor = (fv_conns.T @ fraction)\n",
    "\n",
    "            #optimization of non-connection neighbours sum\n",
    "            nconns_factor = f_sum - fu - fv_conns.sum(axis=0)\n",
    "\n",
    "            # calculate gradient\n",
    "            u_grad = conns_factor - nconns_factor\n",
    "            u_grad = LR * u_grad\n",
    "                        \n",
    "            #update the community likelihoods for each node\n",
    "            F[u] += u_grad\n",
    "            clip_idx = F[u] < α\n",
    "            F[u, clip_idx] = α\n",
    "            \n",
    "            current_ll += log_likelihood(F[u], f_sum, F[conns[u]])\n",
    "        \n",
    "        if np.abs(previous_ll - current_ll) < stop_treshold * np.abs(previous_ll):\n",
    "            counter+=1\n",
    "            if counter==5:\n",
    "                print(\"Early Stop\")\n",
    "                break\n",
    "        else:\n",
    "            counter=0\n",
    "        previous_ll = current_ll\n",
    "            \n",
    "    f_sum = F.sum(axis=0)\n",
    "    final_ll=np.array(\n",
    "        [-log_likelihood(F[u], f_sum, F[conns[u]]) for u in range(N)]\n",
    "    ).sum()\n",
    "    return final_ll"
   ]
  },
  {
   "cell_type": "code",
   "execution_count": 12,
   "id": "e1f6801b-72e4-413d-a302-6eb27f91c20f",
   "metadata": {
    "tags": []
   },
   "outputs": [],
   "source": [
    "def get_communities(F, thresh):\n",
    "    NN, k = F.shape\n",
    "    \n",
    "    comunities = {}\n",
    "    for c in range(k):\n",
    "        locs = np.where(F[:, c]>=thresh)[0]\n",
    "        comunities[c] = set(list(locs))\n",
    "    return comunities"
   ]
  },
  {
   "cell_type": "code",
   "execution_count": 13,
   "id": "a189e7b3-5ca9-42de-b759-74f1f2344b9c",
   "metadata": {
    "tags": []
   },
   "outputs": [],
   "source": [
    "def get_graph_from_communities(F):\n",
    "    N, k = F.shape\n",
    "    graph = np.zeros((N,N))\n",
    "    \n",
    "    for i in range(N):\n",
    "        for j in range(N):\n",
    "            if i!=j:\n",
    "                graph[i,j] = probability(F[i]@F[j])\n",
    "    \n",
    "    return graph"
   ]
  },
  {
   "cell_type": "code",
   "execution_count": 14,
   "id": "1cad9f9c-0846-4638-9efc-3c8db6d60d30",
   "metadata": {
    "tags": []
   },
   "outputs": [],
   "source": [
    "def get_weighted_graph_from_communities(F, thresh):\n",
    "    N, k = F.shape\n",
    "    graph = np.zeros((N,N))\n",
    "    \n",
    "    for i in range(N):\n",
    "        for j in range(N):\n",
    "            if i!=j:\n",
    "                for c in range(k):\n",
    "                    if probability(F[i,c] * F[j, c])>thresh:\n",
    "                        graph[i,j]+=1\n",
    "                \n",
    "    return graph"
   ]
  },
  {
   "cell_type": "markdown",
   "id": "7d2d9a12-d6fb-4656-a70e-baac4be6ff66",
   "metadata": {},
   "source": [
    "# Load Data and build the Drug-Drug Graph\n",
    "- edges represent shared targets"
   ]
  },
  {
   "cell_type": "code",
   "execution_count": 15,
   "id": "9ae1ba8e-f0fc-472c-864b-f84bb26239ef",
   "metadata": {
    "tags": []
   },
   "outputs": [
    {
     "name": "stdout",
     "output_type": "stream",
     "text": [
      "number of nodes:  1101\n",
      "number of targets:  1244\n"
     ]
    }
   ],
   "source": [
    "drugs = load_drugs_and_targets(\"acts.txt\")\n",
    "n_drugs = len(drugs)\n",
    "n_targets = len(transpose(drugs))\n",
    "print(\"number of nodes: \", n_drugs)\n",
    "print(\"number of targets: \", n_targets)"
   ]
  },
  {
   "cell_type": "code",
   "execution_count": 16,
   "id": "6b8cf6e9-ce4e-461a-931c-649e27175bf8",
   "metadata": {
    "tags": []
   },
   "outputs": [
    {
     "data": {
      "application/vnd.jupyter.widget-view+json": {
       "model_id": "d65e41d090f44892901597dfb89dac4f",
       "version_major": 2,
       "version_minor": 0
      },
      "text/plain": [
       "  0%|          | 0/1101 [00:00<?, ?it/s]"
      ]
     },
     "metadata": {},
     "output_type": "display_data"
    }
   ],
   "source": [
    "drugs_graph = build_graph_from_dict(drugs)"
   ]
  },
  {
   "cell_type": "code",
   "execution_count": 18,
   "id": "ca73d66f-7092-4d26-863b-7b95add99648",
   "metadata": {
    "tags": []
   },
   "outputs": [],
   "source": [
    "G = nx.Graph()\n",
    "G.add_nodes_from(range(n_drugs))\n",
    "G.add_edges_from( np.argwhere(drugs_graph!=0) )"
   ]
  },
  {
   "cell_type": "code",
   "execution_count": 20,
   "id": "ed914160-a0cc-495b-9c61-8f285d396075",
   "metadata": {
    "tags": []
   },
   "outputs": [
    {
     "data": {
      "image/png": "[encoded data removed]",
      "text/plain": [
       "<Figure size 600x600 with 1 Axes>"
      ]
     },
     "metadata": {},
     "output_type": "display_data"
    }
   ],
   "source": [
    "plot_graph(G)"
   ]
  },
  {
   "cell_type": "markdown",
   "id": "9315f699-c3ff-4de9-9741-2ed93833831e",
   "metadata": {},
   "source": [
    "## Big Clam\n",
    "\n",
    "- Hold out set de **Edges** 20% - verificar se o algoritmo consegue reconstruir as ligações eliminadas\n",
    "- Avaliar os resultados através da cross-entropy entre a previsão e a matriz original\n",
    "- Como descrito no algoritmo original do bigClam, o número de comunidades é selecionado a partir do resultado da avaliação no hold out set"
   ]
  },
  {
   "cell_type": "code",
   "execution_count": 17,
   "id": "714fc4b9-d1a4-487e-badb-0eeaaee08287",
   "metadata": {
    "tags": []
   },
   "outputs": [],
   "source": [
    "NN = drugs_graph.shape[0]"
   ]
  },
  {
   "cell_type": "code",
   "execution_count": 42,
   "id": "5df2103f-682d-4741-8b1b-221e5bd4990e",
   "metadata": {
    "tags": []
   },
   "outputs": [
    {
     "data": {
      "text/plain": [
       "0.7289681920869288"
      ]
     },
     "execution_count": 42,
     "metadata": {},
     "output_type": "execute_result"
    }
   ],
   "source": [
    "α = 1e-4\n",
    "δ = np.sqrt(-np.log(1 - np.argwhere(drugs_graph!=0).shape[0] / (NN * (NN-1))))\n",
    "δ"
   ]
  },
  {
   "cell_type": "code",
   "execution_count": 19,
   "id": "0e0a73fe-5e5a-4fc1-999b-167b13361010",
   "metadata": {
    "tags": []
   },
   "outputs": [],
   "source": [
    "node_pairs = set(\n",
    "    list(\n",
    "        map(lambda x: tuple(sorted(x)), np.argwhere(drugs_graph!=0))\n",
    "    )\n",
    ")"
   ]
  },
  {
   "cell_type": "code",
   "execution_count": 20,
   "id": "8ad7c5ab-5d42-4abf-91ee-461cfbce592b",
   "metadata": {
    "tags": []
   },
   "outputs": [],
   "source": [
    "node_pairs = np.array(\n",
    "    list(map(list, node_pairs))\n",
    ")"
   ]
  },
  {
   "cell_type": "code",
   "execution_count": 21,
   "id": "d735cdf9-fb90-494c-9def-6afd2e873848",
   "metadata": {
    "tags": []
   },
   "outputs": [
    {
     "data": {
      "text/plain": [
       "(249617, 2)"
      ]
     },
     "execution_count": 21,
     "metadata": {},
     "output_type": "execute_result"
    }
   ],
   "source": [
    "node_pairs.shape"
   ]
  },
  {
   "cell_type": "code",
   "execution_count": 22,
   "id": "9c4710ec-3367-4ed7-83ed-f3b8932e71d3",
   "metadata": {
    "tags": []
   },
   "outputs": [],
   "source": [
    "#select the 20% edges to remove\n",
    "N_out = int(len( node_pairs ) * 0.2)\n",
    "node_pairs_idx = np.arange(len(node_pairs), dtype=int)\n",
    "\n",
    "np.random.seed(1)\n",
    "hold_out_idx = np.random.choice(node_pairs_idx, size=N_out, replace=False)\n",
    "\n",
    "mask = np.ones(drugs_graph.shape)\n",
    "for idx in hold_out_idx:\n",
    "    i,j = node_pairs[idx]\n",
    "    mask[i,j]=mask[j,i]=0\n",
    "unmask=(mask+1)%2"
   ]
  },
  {
   "cell_type": "code",
   "execution_count": 23,
   "id": "1ee091c0-4e17-4619-9285-35bd8b30a144",
   "metadata": {
    "tags": []
   },
   "outputs": [],
   "source": [
    "#remove the edges in the graph used for training\n",
    "drugs_graph_train = drugs_graph.copy()*mask"
   ]
  },
  {
   "cell_type": "code",
   "execution_count": 24,
   "id": "5caa35e6-8e2b-471d-a6fb-4373de50359a",
   "metadata": {
    "tags": []
   },
   "outputs": [
    {
     "data": {
      "text/plain": [
       "199694"
      ]
     },
     "execution_count": 24,
     "metadata": {},
     "output_type": "execute_result"
    }
   ],
   "source": [
    "(drugs_graph_train>0).sum()//2"
   ]
  },
  {
   "cell_type": "code",
   "execution_count": 25,
   "id": "6afa5808-f098-46ad-a784-0ff2c99a681a",
   "metadata": {
    "tags": []
   },
   "outputs": [],
   "source": [
    "conns = {\n",
    "    i : np.where(node_conns!=0)[0] for i, node_conns in enumerate(drugs_graph_train)\n",
    "}"
   ]
  },
  {
   "cell_type": "code",
   "execution_count": 26,
   "id": "14d1853a-d3cb-4800-8c30-7b34e8d5b396",
   "metadata": {
    "tags": []
   },
   "outputs": [
    {
     "name": "stderr",
     "output_type": "stream",
     "text": [
      "2023-06-08 20:30:26,786\tINFO worker.py:1625 -- Started a local Ray instance.\n"
     ]
    },
    {
     "data": {
      "text/html": [
       "<div>\n",
       "    <div style=\"margin-left: 50px;display: flex;flex-direction: row;align-items: center\">\n",
       "        <h3 style=\"color: var(--jp-ui-font-color0)\">Ray</h3>\n",
       "        <svg version=\"1.1\" id=\"ray\" width=\"3em\" viewBox=\"0 0 144.5 144.6\" style=\"margin-left: 3em;margin-right: 3em\">\n",
       "            <g id=\"layer-1\">\n",
       "                <path fill=\"#00a2e9\" class=\"st0\" d=\"M97.3,77.2c-3.8-1.1-6.2,0.9-8.3,5.1c-3.5,6.8-9.9,9.9-17.4,9.6S58,88.1,54.8,81.2c-1.4-3-3-4-6.3-4.1\n",
       "                    c-5.6-0.1-9.9,0.1-13.1,6.4c-3.8,7.6-13.6,10.2-21.8,7.6C5.2,88.4-0.4,80.5,0,71.7c0.1-8.4,5.7-15.8,13.8-18.2\n",
       "                    c8.4-2.6,17.5,0.7,22.3,8c1.3,1.9,1.3,5.2,3.6,5.6c3.9,0.6,8,0.2,12,0.2c1.8,0,1.9-1.6,2.4-2.8c3.5-7.8,9.7-11.8,18-11.9\n",
       "                    c8.2-0.1,14.4,3.9,17.8,11.4c1.3,2.8,2.9,3.6,5.7,3.3c1-0.1,2,0.1,3,0c2.8-0.5,6.4,1.7,8.1-2.7s-2.3-5.5-4.1-7.5\n",
       "                    c-5.1-5.7-10.9-10.8-16.1-16.3C84,38,81.9,37.1,78,38.3C66.7,42,56.2,35.7,53,24.1C50.3,14,57.3,2.8,67.7,0.5\n",
       "                    C78.4-2,89,4.7,91.5,15.3c0.1,0.3,0.1,0.5,0.2,0.8c0.7,3.4,0.7,6.9-0.8,9.8c-1.7,3.2-0.8,5,1.5,7.2c6.7,6.5,13.3,13,19.8,19.7\n",
       "                    c1.8,1.8,3,2.1,5.5,1.2c9.1-3.4,17.9-0.6,23.4,7c4.8,6.9,4.6,16.1-0.4,22.9c-5.4,7.2-14.2,9.9-23.1,6.5c-2.3-0.9-3.5-0.6-5.1,1.1\n",
       "                    c-6.7,6.9-13.6,13.7-20.5,20.4c-1.8,1.8-2.5,3.2-1.4,5.9c3.5,8.7,0.3,18.6-7.7,23.6c-7.9,5-18.2,3.8-24.8-2.9\n",
       "                    c-6.4-6.4-7.4-16.2-2.5-24.3c4.9-7.8,14.5-11,23.1-7.8c3,1.1,4.7,0.5,6.9-1.7C91.7,98.4,98,92.3,104.2,86c1.6-1.6,4.1-2.7,2.6-6.2\n",
       "                    c-1.4-3.3-3.8-2.5-6.2-2.6C99.8,77.2,98.9,77.2,97.3,77.2z M72.1,29.7c5.5,0.1,9.9-4.3,10-9.8c0-0.1,0-0.2,0-0.3\n",
       "                    C81.8,14,77,9.8,71.5,10.2c-5,0.3-9,4.2-9.3,9.2c-0.2,5.5,4,10.1,9.5,10.3C71.8,29.7,72,29.7,72.1,29.7z M72.3,62.3\n",
       "                    c-5.4-0.1-9.9,4.2-10.1,9.7c0,0.2,0,0.3,0,0.5c0.2,5.4,4.5,9.7,9.9,10c5.1,0.1,9.9-4.7,10.1-9.8c0.2-5.5-4-10-9.5-10.3\n",
       "                    C72.6,62.3,72.4,62.3,72.3,62.3z M115,72.5c0.1,5.4,4.5,9.7,9.8,9.9c5.6-0.2,10-4.8,10-10.4c-0.2-5.4-4.6-9.7-10-9.7\n",
       "                    c-5.3-0.1-9.8,4.2-9.9,9.5C115,72.1,115,72.3,115,72.5z M19.5,62.3c-5.4,0.1-9.8,4.4-10,9.8c-0.1,5.1,5.2,10.4,10.2,10.3\n",
       "                    c5.6-0.2,10-4.9,9.8-10.5c-0.1-5.4-4.5-9.7-9.9-9.6C19.6,62.3,19.5,62.3,19.5,62.3z M71.8,134.6c5.9,0.2,10.3-3.9,10.4-9.6\n",
       "                    c0.5-5.5-3.6-10.4-9.1-10.8c-5.5-0.5-10.4,3.6-10.8,9.1c0,0.5,0,0.9,0,1.4c-0.2,5.3,4,9.8,9.3,10\n",
       "                    C71.6,134.6,71.7,134.6,71.8,134.6z\"/>\n",
       "            </g>\n",
       "        </svg>\n",
       "        <table>\n",
       "            <tr>\n",
       "                <td style=\"text-align: left\"><b>Python version:</b></td>\n",
       "                <td style=\"text-align: left\"><b>3.9.7</b></td>\n",
       "            </tr>\n",
       "            <tr>\n",
       "                <td style=\"text-align: left\"><b>Ray version:</b></td>\n",
       "                <td style=\"text-align: left\"><b> 2.4.0</b></td>\n",
       "            </tr>\n",
       "            \n",
       "        </table>\n",
       "    </div>\n",
       "</div>\n"
      ],
      "text/plain": [
       "RayContext(dashboard_url='', python_version='3.9.7', ray_version='2.4.0', ray_commit='4479f66d4db967d3c9dd0af2572061276ba926ba', address_info={'node_ip_address': '127.0.0.1', 'raylet_ip_address': '127.0.0.1', 'redis_address': None, 'object_store_address': 'tcp://127.0.0.1:62401', 'raylet_socket_name': 'tcp://127.0.0.1:65315', 'webui_url': '', 'session_dir': 'C:\\\\Users\\\\joelp\\\\AppData\\\\Local\\\\Temp\\\\ray\\\\session_2023-06-08_20-30-22_572623_34240', 'metrics_export_port': 59342, 'gcs_address': '127.0.0.1:62660', 'address': '127.0.0.1:62660', 'dashboard_agent_listen_port': 52365, 'node_id': '2482a002463612188cb63eb63fe4c8453ab6f73d495578a4c870d7ec'})"
      ]
     },
     "execution_count": 26,
     "metadata": {},
     "output_type": "execute_result"
    }
   ],
   "source": [
    "ray.init()"
   ]
  },
  {
   "cell_type": "code",
   "execution_count": 27,
   "id": "e8da2020-583f-4ad3-9bb0-226dc6ae1738",
   "metadata": {
    "tags": []
   },
   "outputs": [
    {
     "name": "stdout",
     "output_type": "stream",
     "text": [
      "\u001b[2m\u001b[36m(big_clam_ray pid=31100)\u001b[0m 32 communities -- iteration 0 finished...\n",
      "\u001b[2m\u001b[36m(big_clam_ray pid=31100)\u001b[0m 32 communities -- iteration 2000 finished...\u001b[32m [repeated 4x across cluster] (Ray deduplicates logs by default. Set RAY_DEDUP_LOGS=0 to disable log deduplication, or see https://docs.ray.io/en/master/ray-observability/ray-logging.html#log-deduplication for more options.)\u001b[0m\n",
      "\u001b[2m\u001b[36m(big_clam_ray pid=3352)\u001b[0m 64 communities -- iteration 2000 finished...\n",
      "\u001b[2m\u001b[36m(big_clam_ray pid=31100)\u001b[0m 32 communities -- iteration 4000 finished...\n",
      "\u001b[2m\u001b[36m(big_clam_ray pid=24072)\u001b[0m 128 communities -- iteration 2000 finished...\n",
      "\u001b[2m\u001b[36m(big_clam_ray pid=3352)\u001b[0m 64 communities -- iteration 4000 finished...\n",
      "\u001b[2m\u001b[36m(big_clam_ray pid=31100)\u001b[0m 32 communities -- Early Stop at iteration 5717...\n",
      "\u001b[2m\u001b[36m(big_clam_ray pid=31100)\u001b[0m 32 communities -- Finishing...\n",
      "\u001b[2m\u001b[36m(big_clam_ray pid=31100)\u001b[0m 16 communities -- iteration 0 finished...\n",
      "\u001b[2m\u001b[36m(big_clam_ray pid=31100)\u001b[0m 16 communities -- iteration 2000 finished...\n",
      "\u001b[2m\u001b[36m(big_clam_ray pid=3352)\u001b[0m 64 communities -- iteration 6000 finished...\n",
      "\u001b[2m\u001b[36m(big_clam_ray pid=24072)\u001b[0m 128 communities -- iteration 4000 finished...\n",
      "\u001b[2m\u001b[36m(big_clam_ray pid=31100)\u001b[0m 16 communities -- iteration 4000 finished...\n",
      "\u001b[2m\u001b[36m(big_clam_ray pid=3352)\u001b[0m 64 communities -- iteration 8000 finished...\n",
      "\u001b[2m\u001b[36m(big_clam_ray pid=3352)\u001b[0m 64 communities -- Early Stop at iteration 8155...\n",
      "\u001b[2m\u001b[36m(big_clam_ray pid=3352)\u001b[0m 64 communities -- Finishing...\n",
      "\u001b[2m\u001b[36m(big_clam_ray pid=3352)\u001b[0m 8 communities -- iteration 0 finished...\n",
      "\u001b[2m\u001b[36m(big_clam_ray pid=31100)\u001b[0m 16 communities -- Early Stop at iteration 6311...\n",
      "\u001b[2m\u001b[36m(big_clam_ray pid=31100)\u001b[0m 16 communities -- Finishing...\n",
      "\u001b[2m\u001b[36m(big_clam_ray pid=31100)\u001b[0m 16 communities -- Finishing...\n",
      "\u001b[2m\u001b[36m(big_clam_ray pid=31100)\u001b[0m 4 communities -- iteration 0 finished...\n",
      "\u001b[2m\u001b[36m(big_clam_ray pid=3352)\u001b[0m 8 communities -- iteration 2000 finished...\n",
      "\u001b[2m\u001b[36m(big_clam_ray pid=31100)\u001b[0m 4 communities -- iteration 2000 finished...\n",
      "\u001b[2m\u001b[36m(big_clam_ray pid=31100)\u001b[0m 4 communities -- Early Stop at iteration 2297...\n",
      "\u001b[2m\u001b[36m(big_clam_ray pid=31100)\u001b[0m 4 communities -- Finishing...\n",
      "\u001b[2m\u001b[36m(big_clam_ray pid=35288)\u001b[0m 256 communities -- iteration 2000 finished...\n",
      "\u001b[2m\u001b[36m(big_clam_ray pid=24072)\u001b[0m 128 communities -- iteration 6000 finished...\n",
      "\u001b[2m\u001b[36m(big_clam_ray pid=3352)\u001b[0m 8 communities -- iteration 4000 finished...\n",
      "\u001b[2m\u001b[36m(big_clam_ray pid=3352)\u001b[0m 8 communities -- Early Stop at iteration 4166...\n",
      "\u001b[2m\u001b[36m(big_clam_ray pid=3352)\u001b[0m 8 communities -- Finishing...\n",
      "\u001b[2m\u001b[36m(big_clam_ray pid=24072)\u001b[0m 128 communities -- iteration 8000 finished...\n",
      "\u001b[2m\u001b[36m(big_clam_ray pid=24072)\u001b[0m 128 communities -- Early Stop at iteration 9640...\n",
      "\u001b[2m\u001b[36m(big_clam_ray pid=24072)\u001b[0m 128 communities -- Finishing...\n",
      "\u001b[2m\u001b[36m(big_clam_ray pid=35288)\u001b[0m 256 communities -- iteration 4000 finished...\n",
      "\u001b[2m\u001b[36m(big_clam_ray pid=35288)\u001b[0m 256 communities -- iteration 6000 finished...\n",
      "\u001b[2m\u001b[36m(big_clam_ray pid=35288)\u001b[0m 256 communities -- iteration 8000 finished...\n",
      "\u001b[2m\u001b[36m(big_clam_ray pid=35288)\u001b[0m 256 communities -- iteration 10000 finished...\n",
      "\u001b[2m\u001b[36m(big_clam_ray pid=35288)\u001b[0m 256 communities -- iteration 12000 finished...\n",
      "\u001b[2m\u001b[36m(big_clam_ray pid=35288)\u001b[0m 256 communities -- Early Stop at iteration 12755...\n",
      "\u001b[2m\u001b[36m(big_clam_ray pid=35288)\u001b[0m 256 communities -- Finishing...\n"
     ]
    }
   ],
   "source": [
    "ks = [2<<i for i in range(7, 0, -1)]\n",
    "bc_results = run_bigClam(\n",
    "    NN, \n",
    "    ks, \n",
    "    conns, \n",
    "    (drugs_graph>0)*1,\n",
    "    mask=mask,\n",
    "    n_iters=20000,\n",
    "    LR=0.00001,\n",
    "    stop_threshold=0.00001\n",
    ")"
   ]
  },
  {
   "cell_type": "code",
   "execution_count": 28,
   "id": "66fa0f50-37c3-4bbc-8ba2-aeb14280d04c",
   "metadata": {},
   "outputs": [],
   "source": [
    "ray.shutdown()"
   ]
  },
  {
   "cell_type": "code",
   "execution_count": 29,
   "id": "9cc19114-c51c-40d1-b925-154d0a05b412",
   "metadata": {
    "tags": []
   },
   "outputs": [
    {
     "data": {
      "text/html": [
       "<div>\n",
       "<style scoped>\n",
       "    .dataframe tbody tr th:only-of-type {\n",
       "        vertical-align: middle;\n",
       "    }\n",
       "\n",
       "    .dataframe tbody tr th {\n",
       "        vertical-align: top;\n",
       "    }\n",
       "\n",
       "    .dataframe thead th {\n",
       "        text-align: right;\n",
       "    }\n",
       "</style>\n",
       "<table border=\"1\" class=\"dataframe\">\n",
       "  <thead>\n",
       "    <tr style=\"text-align: right;\">\n",
       "      <th></th>\n",
       "      <th>initial_log_likelihood</th>\n",
       "      <th>final_log_likelihood</th>\n",
       "      <th>hold_edges_log_loss</th>\n",
       "      <th>adjacency_graph_log_loss</th>\n",
       "    </tr>\n",
       "  </thead>\n",
       "  <tbody>\n",
       "    <tr>\n",
       "      <th>64</th>\n",
       "      <td>1.295627e+07</td>\n",
       "      <td>291160.214647</td>\n",
       "      <td>0.373759</td>\n",
       "      <td>0.151944</td>\n",
       "    </tr>\n",
       "    <tr>\n",
       "      <th>128</th>\n",
       "      <td>2.599343e+07</td>\n",
       "      <td>281074.947090</td>\n",
       "      <td>0.381138</td>\n",
       "      <td>0.147463</td>\n",
       "    </tr>\n",
       "    <tr>\n",
       "      <th>256</th>\n",
       "      <td>5.188450e+07</td>\n",
       "      <td>263732.725416</td>\n",
       "      <td>0.391412</td>\n",
       "      <td>0.137661</td>\n",
       "    </tr>\n",
       "    <tr>\n",
       "      <th>32</th>\n",
       "      <td>6.493065e+06</td>\n",
       "      <td>316664.691252</td>\n",
       "      <td>0.398400</td>\n",
       "      <td>0.176056</td>\n",
       "    </tr>\n",
       "    <tr>\n",
       "      <th>16</th>\n",
       "      <td>3.290313e+06</td>\n",
       "      <td>324032.103328</td>\n",
       "      <td>0.406824</td>\n",
       "      <td>0.181992</td>\n",
       "    </tr>\n",
       "    <tr>\n",
       "      <th>8</th>\n",
       "      <td>1.716282e+06</td>\n",
       "      <td>352798.663877</td>\n",
       "      <td>0.447032</td>\n",
       "      <td>0.212617</td>\n",
       "    </tr>\n",
       "    <tr>\n",
       "      <th>4</th>\n",
       "      <td>1.048042e+06</td>\n",
       "      <td>379488.319605</td>\n",
       "      <td>0.482439</td>\n",
       "      <td>0.244551</td>\n",
       "    </tr>\n",
       "  </tbody>\n",
       "</table>\n",
       "</div>"
      ],
      "text/plain": [
       "     initial_log_likelihood  final_log_likelihood  hold_edges_log_loss  \\\n",
       "64             1.295627e+07         291160.214647             0.373759   \n",
       "128            2.599343e+07         281074.947090             0.381138   \n",
       "256            5.188450e+07         263732.725416             0.391412   \n",
       "32             6.493065e+06         316664.691252             0.398400   \n",
       "16             3.290313e+06         324032.103328             0.406824   \n",
       "8              1.716282e+06         352798.663877             0.447032   \n",
       "4              1.048042e+06         379488.319605             0.482439   \n",
       "\n",
       "     adjacency_graph_log_loss  \n",
       "64                   0.151944  \n",
       "128                  0.147463  \n",
       "256                  0.137661  \n",
       "32                   0.176056  \n",
       "16                   0.181992  \n",
       "8                    0.212617  \n",
       "4                    0.244551  "
      ]
     },
     "execution_count": 29,
     "metadata": {},
     "output_type": "execute_result"
    }
   ],
   "source": [
    "bc_results.sort_values(\"hold_edges_log_loss\")"
   ]
  },
  {
   "cell_type": "markdown",
   "id": "16f37722-59ba-4f79-b10a-11c8fc423708",
   "metadata": {},
   "source": [
    "We can see that the number of communities that resulted in a lower log loss in the hold out edges is 64, with small difference in the final log likelihood."
   ]
  },
  {
   "cell_type": "code",
   "execution_count": 31,
   "id": "fd12f4ee-b25c-4f0e-8f64-20f5fd878528",
   "metadata": {
    "tags": []
   },
   "outputs": [],
   "source": [
    "#bc_results.to_csv(\"big_clam_K_results.csv\", index=True)"
   ]
  },
  {
   "cell_type": "code",
   "execution_count": 27,
   "id": "017528f6-ccc1-49b5-80cc-a4e11412c4e5",
   "metadata": {
    "tags": []
   },
   "outputs": [
    {
     "name": "stdout",
     "output_type": "stream",
     "text": [
      "Initial Evaluation:  12895818.862622857\n"
     ]
    }
   ],
   "source": [
    "k=64\n",
    "MAX = None\n",
    "F = random_matrix((NN, k))\n",
    "\n",
    "ll_i=np.array(\n",
    "    [-log_likelihood(F[u], F.sum(axis=0), F[conns[u]]) for u in range(F.shape[0])]\n",
    ").sum()\n",
    "print(\"Initial Evaluation: \", ll_i)"
   ]
  },
  {
   "cell_type": "code",
   "execution_count": 28,
   "id": "336ede6d-c9a9-420f-9fe8-0caedbf48f7a",
   "metadata": {
    "tags": []
   },
   "outputs": [
    {
     "data": {
      "application/vnd.jupyter.widget-view+json": {
       "model_id": "579aa905caa447fd9167de55cc6e0a76",
       "version_major": 2,
       "version_minor": 0
      },
      "text/plain": [
       "  0%|          | 0/15000 [00:00<?, ?it/s]"
      ]
     },
     "metadata": {},
     "output_type": "display_data"
    },
    {
     "name": "stdout",
     "output_type": "stream",
     "text": [
      "Early Stop\n",
      "Final Evaluation:  305155.1363160456\n"
     ]
    }
   ],
   "source": [
    "ll_f = big_clam(conns, F, LR=0.00001, n_iters=15000, α=α, MAX_VALUE=MAX, stop_treshold=0.00001)\n",
    "print(\"Final Evaluation: \", ll_f)"
   ]
  },
  {
   "cell_type": "code",
   "execution_count": 29,
   "id": "959d7084-77c4-4c37-8552-fc99138d52b3",
   "metadata": {
    "tags": []
   },
   "outputs": [],
   "source": [
    "#F = np.load(\"bc_64c.npy\")"
   ]
  },
  {
   "cell_type": "code",
   "execution_count": 39,
   "id": "cac45024-9401-453f-a60c-a2ee29dcd036",
   "metadata": {
    "tags": []
   },
   "outputs": [],
   "source": [
    "#np.save(\"bc_64c.npy\", F)"
   ]
  },
  {
   "cell_type": "code",
   "execution_count": 41,
   "id": "dd8a8bc1-06d3-4ae7-8ca0-ac93f3b02691",
   "metadata": {
    "tags": []
   },
   "outputs": [
    {
     "data": {
      "text/plain": [
       "0.4122153414251507"
      ]
     },
     "execution_count": 41,
     "metadata": {},
     "output_type": "execute_result"
    }
   ],
   "source": [
    "np.argwhere(drugs_graph!=0).shape[0] / (NN * (NN-1))"
   ]
  },
  {
   "cell_type": "code",
   "execution_count": 96,
   "id": "a9029f25-387e-4e30-ac30-5f3e0f1a421d",
   "metadata": {
    "tags": []
   },
   "outputs": [
    {
     "data": {
      "text/plain": [
       "0.010000250013542027"
      ]
     },
     "execution_count": 96,
     "metadata": {},
     "output_type": "execute_result"
    }
   ],
   "source": [
    "δ"
   ]
  },
  {
   "cell_type": "code",
   "execution_count": 29,
   "id": "d9728144-86b7-4360-b586-6917decbf4a8",
   "metadata": {
    "tags": []
   },
   "outputs": [
    {
     "data": {
      "text/plain": [
       "array([[0.   , 0.   , 0.   , ..., 0.   , 0.   , 0.   ],\n",
       "       [0.   , 0.   , 0.   , ..., 0.   , 0.   , 0.   ],\n",
       "       [0.164, 0.   , 0.   , ..., 0.367, 0.   , 0.157],\n",
       "       ...,\n",
       "       [0.531, 0.   , 0.   , ..., 0.   , 0.   , 0.312],\n",
       "       [0.   , 0.   , 0.611, ..., 0.   , 0.   , 0.   ],\n",
       "       [0.   , 0.   , 0.   , ..., 0.   , 0.   , 0.   ]])"
      ]
     },
     "execution_count": 29,
     "metadata": {},
     "output_type": "execute_result"
    }
   ],
   "source": [
    "np.round(F, 3)"
   ]
  },
  {
   "cell_type": "code",
   "execution_count": 30,
   "id": "a5330ba5-a913-4352-bd8c-04a04e309322",
   "metadata": {
    "tags": []
   },
   "outputs": [
    {
     "data": {
      "text/plain": [
       "[416,\n",
       " 345,\n",
       " 273,\n",
       " 331,\n",
       " 347,\n",
       " 215,\n",
       " 268,\n",
       " 367,\n",
       " 229,\n",
       " 398,\n",
       " 273,\n",
       " 349,\n",
       " 433,\n",
       " 417,\n",
       " 370,\n",
       " 361,\n",
       " 430,\n",
       " 366,\n",
       " 258,\n",
       " 253,\n",
       " 179,\n",
       " 305,\n",
       " 408,\n",
       " 254,\n",
       " 255,\n",
       " 241,\n",
       " 183,\n",
       " 302,\n",
       " 197,\n",
       " 407,\n",
       " 388,\n",
       " 337,\n",
       " 271,\n",
       " 430,\n",
       " 425,\n",
       " 253,\n",
       " 398,\n",
       " 448,\n",
       " 283,\n",
       " 325,\n",
       " 441,\n",
       " 344,\n",
       " 476,\n",
       " 420,\n",
       " 460,\n",
       " 369,\n",
       " 374,\n",
       " 137,\n",
       " 455,\n",
       " 322,\n",
       " 423,\n",
       " 368,\n",
       " 458,\n",
       " 389,\n",
       " 274,\n",
       " 248,\n",
       " 447,\n",
       " 430,\n",
       " 375,\n",
       " 277,\n",
       " 358,\n",
       " 387,\n",
       " 340,\n",
       " 392]"
      ]
     },
     "execution_count": 30,
     "metadata": {},
     "output_type": "execute_result"
    }
   ],
   "source": [
    "list(map(len, get_communities(F, δ).values()))"
   ]
  },
  {
   "cell_type": "code",
   "execution_count": 31,
   "id": "450cbd8f-d4a4-4217-93ea-8391934233e9",
   "metadata": {
    "tags": []
   },
   "outputs": [],
   "source": [
    "temp = get_graph_from_communities(F)\n",
    "temp = np.round(temp, 3)"
   ]
  },
  {
   "cell_type": "code",
   "execution_count": 32,
   "id": "1e144320-93bf-4e79-b595-adda7df2d481",
   "metadata": {
    "tags": []
   },
   "outputs": [
    {
     "data": {
      "text/plain": [
       "array([[0.   , 0.   , 0.001, ..., 0.001, 0.   , 0.   ],\n",
       "       [0.   , 0.   , 0.001, ..., 0.001, 0.   , 0.   ],\n",
       "       [0.001, 0.001, 0.   , ..., 0.734, 0.001, 0.001],\n",
       "       ...,\n",
       "       [0.001, 0.001, 0.734, ..., 0.   , 0.001, 0.733],\n",
       "       [0.   , 0.   , 0.001, ..., 0.001, 0.   , 0.   ],\n",
       "       [0.   , 0.   , 0.001, ..., 0.733, 0.   , 0.   ]])"
      ]
     },
     "execution_count": 32,
     "metadata": {},
     "output_type": "execute_result"
    }
   ],
   "source": [
    "temp"
   ]
  },
  {
   "cell_type": "code",
   "execution_count": 33,
   "id": "febc818c-172a-46a8-bf3e-49d991c874a4",
   "metadata": {
    "tags": []
   },
   "outputs": [
    {
     "data": {
      "text/plain": [
       "(array([   0,    0,    0, ..., 1100, 1100, 1100], dtype=int64),\n",
       " array([  53,   62,   75, ..., 1087, 1094, 1098], dtype=int64))"
      ]
     },
     "execution_count": 33,
     "metadata": {},
     "output_type": "execute_result"
    }
   ],
   "source": [
    "idx=np.where(unmask==1)\n",
    "idx"
   ]
  },
  {
   "cell_type": "code",
   "execution_count": 34,
   "id": "c9e94cca-ffa2-4fc7-a7fe-5375e8ec1e10",
   "metadata": {
    "tags": []
   },
   "outputs": [
    {
     "data": {
      "text/plain": [
       "0.3896904677048544"
      ]
     },
     "execution_count": 34,
     "metadata": {},
     "output_type": "execute_result"
    }
   ],
   "source": [
    "log_loss(\n",
    "    (drugs_graph[idx]>0)*1,\n",
    "    temp[idx],\n",
    "    labels=(0,1)\n",
    ")"
   ]
  },
  {
   "cell_type": "code",
   "execution_count": 35,
   "id": "db2b1691-dbdb-4714-a6e4-18349cdc8f6b",
   "metadata": {
    "tags": []
   },
   "outputs": [
    {
     "data": {
      "text/plain": [
       "21.199401275760934"
      ]
     },
     "execution_count": 35,
     "metadata": {},
     "output_type": "execute_result"
    }
   ],
   "source": [
    "log_loss(\n",
    "    ((drugs_graph>0)*1).flatten(), \n",
    "    np.ones(np.prod(drugs_graph.shape))\n",
    ")"
   ]
  },
  {
   "cell_type": "code",
   "execution_count": 37,
   "id": "b7063800-9ebd-45ee-b5ca-f596c248792a",
   "metadata": {
    "tags": []
   },
   "outputs": [
    {
     "data": {
      "text/plain": [
       "0.9992154228982879"
      ]
     },
     "execution_count": 37,
     "metadata": {},
     "output_type": "execute_result"
    }
   ],
   "source": [
    "log_loss(\n",
    "    ((drugs_graph>0)*1).flatten(), \n",
    "    random_matrix(np.prod(drugs_graph.shape))\n",
    ")"
   ]
  },
  {
   "cell_type": "code",
   "execution_count": 38,
   "id": "9d50f43e-ffa2-4210-8a9a-7881b377de37",
   "metadata": {
    "tags": []
   },
   "outputs": [
    {
     "data": {
      "text/plain": [
       "0.1666084257674964"
      ]
     },
     "execution_count": 38,
     "metadata": {},
     "output_type": "execute_result"
    }
   ],
   "source": [
    "log_loss(\n",
    "    ((drugs_graph>0)*1).flatten(),\n",
    "    temp.flatten()\n",
    ")"
   ]
  },
  {
   "cell_type": "code",
   "execution_count": null,
   "id": "9500589d-7069-427f-9792-f80d3ada1404",
   "metadata": {},
   "outputs": [],
   "source": []
  }
 ],
 "metadata": {
  "kernelspec": {
   "display_name": "Python 3 (ipykernel)",
   "language": "python",
   "name": "python3"
  },
  "language_info": {
   "codemirror_mode": {
    "name": "ipython",
    "version": 3
   },
   "file_extension": ".py",
   "mimetype": "text/x-python",
   "name": "python",
   "nbconvert_exporter": "python",
   "pygments_lexer": "ipython3",
   "version": "3.9.7"
  }
 },
 "nbformat": 4,
 "nbformat_minor": 5
}
