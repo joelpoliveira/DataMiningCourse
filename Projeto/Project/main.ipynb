{
 "cells": [
  {
   "cell_type": "code",
   "execution_count": 1,
   "id": "1b47f3d3-1f60-4a46-9616-19b9b3ca8097",
   "metadata": {
    "tags": []
   },
   "outputs": [],
   "source": [
    "import numpy as np\n",
    "import pandas as pd\n",
    "import matplotlib.pyplot as plt\n",
    "\n",
    "from tqdm.notebook import tqdm\n",
    "from sklearn.metrics.pairwise import pairwise_distances\n",
    "from mlxtend.preprocessing import TransactionEncoder"
   ]
  },
  {
   "cell_type": "code",
   "execution_count": 2,
   "id": "b60405de-45c9-4b5d-aadd-c412696395ac",
   "metadata": {
    "tags": []
   },
   "outputs": [],
   "source": [
    "def load_targets(fname):\n",
    "    with open(fname, \"r\") as f:\n",
    "        lines = f.readlines()\n",
    "        \n",
    "    transactions = {}\n",
    "    for line in lines:\n",
    "        line = line.split()\n",
    "        drug, targets = line[0][:-1], line[1:]\n",
    "        \n",
    "        transactions[drug] = set(targets)\n",
    "    return transactions"
   ]
  },
  {
   "cell_type": "code",
   "execution_count": 3,
   "id": "1107d51e-36fc-4607-8228-c025094f828b",
   "metadata": {
    "tags": []
   },
   "outputs": [],
   "source": [
    "def transpose(itemsets: dict[str, set]):\n",
    "    itemsetsT = {}\n",
    "    for key, items in itemsets.items():\n",
    "        for item in items:\n",
    "            itemsetsT.setdefault(item, set()).add(key)\n",
    "    return itemsetsT"
   ]
  },
  {
   "cell_type": "code",
   "execution_count": 4,
   "id": "f0fa4cea-1d85-4cfd-8a3d-da65f2b27408",
   "metadata": {
    "tags": []
   },
   "outputs": [],
   "source": [
    "import networkx as nx\n",
    "\n",
    "def plot_graph(G, show_labels=False, node_size=10, figsize=(6,6)):\n",
    "    f, ax = plt.subplots(1,1, figsize=figsize)\n",
    "    display = display = nx.spring_layout(G)\n",
    "    \n",
    "    nx.draw_networkx_nodes(G, nodelist=g.nodes, pos=display, node_size = node_size, ax=ax, alpha=0.3)\n",
    "    \n",
    "    if show_labels==True:\n",
    "        nx.draw_networkx_labels(G, pos=display, ax=ax)\n",
    "    \n",
    "    nx.draw_networkx_edges(G, pos=display, edgelist=G.edges, ax=ax, arrows=False)"
   ]
  },
  {
   "cell_type": "code",
   "execution_count": 5,
   "id": "f86c8d0f-3d76-40ce-a283-ee5e0d00e82b",
   "metadata": {
    "tags": []
   },
   "outputs": [],
   "source": [
    "def build_graph_from_dict(item_sets):\n",
    "    items, sets = item_sets.keys(), item_sets.values()\n",
    "    items = list(items)\n",
    "    sets = list(sets)\n",
    "    \n",
    "    N = len(items)\n",
    "    graph = np.zeros((N,N))\n",
    "    \n",
    "    for i, s in tqdm(enumerate(sets), total=N):    \n",
    "        for j in range(i+1, N):\n",
    "            link_weight = len( s&sets[j] )\n",
    "            if link_weight!=0:\n",
    "                graph[i,j]+=link_weight\n",
    "\n",
    "    return graph+graph.T"
   ]
  },
  {
   "cell_type": "code",
   "execution_count": 6,
   "id": "26ee93ea-ac14-4d4d-9566-e29af30ffa19",
   "metadata": {
    "tags": []
   },
   "outputs": [],
   "source": [
    "def calc_laplacian(M):\n",
    "    D = np.diag(M.sum(axis=1))\n",
    "    return D - M"
   ]
  },
  {
   "cell_type": "code",
   "execution_count": 7,
   "id": "74577a8e-1e6c-4809-b630-b7a1961c796e",
   "metadata": {
    "tags": []
   },
   "outputs": [],
   "source": [
    "def jaccard_sim(bin_set_a, bin_set_b):\n",
    "    a =np.inner(bin_set_a, bin_set_b)\n",
    "    bc=np.sum(bin_set_a + bin_set_b)-a\n",
    "    return a/bc"
   ]
  },
  {
   "cell_type": "code",
   "execution_count": 8,
   "id": "668d63d2-6900-46a8-b71b-0d803a157733",
   "metadata": {
    "tags": []
   },
   "outputs": [],
   "source": [
    "def prob(x):\n",
    "    return 1 - np.exp(-x)"
   ]
  },
  {
   "cell_type": "code",
   "execution_count": 9,
   "id": "d7b4e8e3-b9ba-4c22-a9e1-e236b2c88b8b",
   "metadata": {},
   "outputs": [],
   "source": [
    "def rand(shape, min=0, max=1):\n",
    "    return np.random.rand(*shape) *(max - min + 1) + min"
   ]
  },
  {
   "cell_type": "code",
   "execution_count": 10,
   "id": "f9b1781a-a628-4d97-ad70-27e2ab903695",
   "metadata": {
    "tags": []
   },
   "outputs": [],
   "source": [
    "def get_F(shape, min_=0, max_=1, α=1e-8):\n",
    "    \"\"\"\n",
    "    Generates a random F matrix with a E-community that connects all nodes with a weight { α }\n",
    "    \"\"\"\n",
    "    \n",
    "    F = rand(shape, min_, max_)\n",
    "    F = np.concatenate( (F, np.full( (shape[0], 1), α) ), axis=1)\n",
    "    return F"
   ]
  },
  {
   "cell_type": "code",
   "execution_count": null,
   "id": "02952985-3a33-4eb0-8e04-3506f81a5da0",
   "metadata": {},
   "outputs": [],
   "source": [
    "def local_neigh_F(shape, neighbors, graph):\n",
    "    G = nx.from_edgelist( np.argwhere(graph!=0) )\n",
    "    F = np.zeros(shape)\n",
    "    for i in range(shape[0]):\n",
    "        F[i, neighbors[i]]=1\n",
    "    \n",
    "    return F"
   ]
  },
  {
   "cell_type": "code",
   "execution_count": 43,
   "id": "14a6a421-0f98-4942-b43e-2f0bab81e20a",
   "metadata": {
    "tags": []
   },
   "outputs": [],
   "source": [
    "G = nx.from_edgelist(np.argwhere(drugs_graph!=0))"
   ]
  },
  {
   "cell_type": "code",
   "execution_count": 66,
   "id": "5d08a915-7c80-43b2-aac6-63dc5744ff5e",
   "metadata": {
    "tags": []
   },
   "outputs": [
    {
     "data": {
      "text/plain": [
       "0.8658086099946565"
      ]
     },
     "execution_count": 66,
     "metadata": {},
     "output_type": "execute_result"
    }
   ],
   "source": [
    "\n",
    "nx.conductance(\n",
    "    G, \n",
    "    np.concatenate(([0], conns[0])), \n",
    ")"
   ]
  },
  {
   "cell_type": "code",
   "execution_count": 64,
   "id": "15a2e00a-ab1f-493d-9e4c-cbe9ef42ef59",
   "metadata": {
    "tags": []
   },
   "outputs": [
    {
     "data": {
      "text/plain": [
       "array([0., 0., 0., ..., 0., 0., 0.])"
      ]
     },
     "execution_count": 64,
     "metadata": {},
     "output_type": "execute_result"
    }
   ],
   "source": [
    "drugs_graph[0]"
   ]
  },
  {
   "cell_type": "code",
   "execution_count": 54,
   "id": "1cb1576b-b91e-4830-acb1-43f225f5bbf7",
   "metadata": {
    "tags": []
   },
   "outputs": [
    {
     "data": {
      "text/plain": [
       "array([ 102,  103,  104,  106,  107,  109,  111,  113,  114,  115,  116,\n",
       "        117,  118,  120,  121,  122,  123,  126,  127,  128,  131,  133,\n",
       "        134,  135,  138,  139,  141,  142,  143,  145,  146,  148,  149,\n",
       "        150,  153,  154,  155,  156,  157,  158,  159,  163,  164,  165,\n",
       "        166,  168,  169,  170,  171,  173,  174,  177,  178,  179,  181,\n",
       "        182,  183,  184,  185,  186,  187,  189,  190,  191,  194,  195,\n",
       "        196,  198,  201,  202,  203,  205,  207,  208,  209,  214,  215,\n",
       "        218,  221,  223,  224,  226,  227,  229,  231,  232,  233,  234,\n",
       "        236,  237,  238,  240,  245,  246,  247,  249,  250,  251,  252,\n",
       "        254,  255,  256,  257,  258,  259,  260,  262,  264,  265,  266,\n",
       "        267,  272,  273,  276,  277,  281,  282,  283,  287,  288,  291,\n",
       "        293,  294,  296,  297,  298,  299,  301,  303,  304,  305,  307,\n",
       "        308,  309,  311,  312,  313,  316,  318,  319,  321,  323,  324,\n",
       "        325,  326,  327,  328,  336,  337,  338,  339,  341,  342,  343,\n",
       "        345,  346,  347,  348,  352,  353,  354,  355,  356,  357,  359,\n",
       "        360,  364,  365,  366,  367,  368,  369,  370,  372,  373,  376,\n",
       "        377,  378,  379,  384,  389,  390,  391,  392,  393,  394,  396,\n",
       "        397,  401,  402,  405,  408,  409,  410,  411,  413,  414,  420,\n",
       "        422,  423,  425,  426,  427,  433,  434,  435,  436,  437,  438,\n",
       "        439,  441,  442,  443,  444,  446,  447,  449,  452,  454,  455,\n",
       "        456,  458,  462,  464,  469,  473,  474,  479,  481,  483,  484,\n",
       "        485,  487,  488,  489,  491,  492,  493,  494,  495,  497,  498,\n",
       "        500,  501,  504,  507,  508,  512,  513,  515,  516,  518,  519,\n",
       "        520,  523,  525,  526,  528,  529,  530,  533,  534,  537,  538,\n",
       "        543,  544,  547,  548,  553,  554,  555,  556,  559,  562,  564,\n",
       "        565,  568,  569,  571,  573,  576,  577,  582,  584,  586,  588,\n",
       "        589,  593,  594,  597,  599,  600,  601,  602,  603,  605,  606,\n",
       "        607,  608,  610,  612,  614,  615,  616,  617,  618,  619,  620,\n",
       "        621,  622,  624,  625,  626,  627,  628,  630,  631,  634,  635,\n",
       "        637,  638,  639,  640,  641,  642,  647,  653,  655,  657,  660,\n",
       "        661,  662,  663,  664,  665,  667,  668,  669,  670,  671,  673,\n",
       "        674,  675,  676,  677,  679,  683,  684,  685,  686,  688,  689,\n",
       "        693,  694,  695,  697,  698,  699,  700,  701,  702,  703,  704,\n",
       "        705,  707,  710,  711,  712,  717,  718,  720,  722,  723,  728,\n",
       "        729,  731,  733,  735,  736,  737,  738,  740,  744,  747,  748,\n",
       "        749,  750,  752,  753,  756,  759,  760,  761,  762,  763,  764,\n",
       "        766,  767,  768,  770,  773,  774,  777,  778,  779,  783,  784,\n",
       "        787,  788,  789,  793,  794,  795,  796,  798,  800,  801,  802,\n",
       "        805,  806,  809,  810,  811,  812,  813,  814,  816,  817,  819,\n",
       "        820,  821,  826,  827,  832,  833,  834,  836,  837,  838,  839,\n",
       "        840,  841,  842,  843,  845,  846,  848,  849,  851,  852,  854,\n",
       "        855,  856,  857,  858,  862,  865,  866,  867,  868,  870,  872,\n",
       "        874,  875,  879,  880,  881,  882,  883,  884,  886,  887,  888,\n",
       "        889,  892,  894,  897,  899,  901,  903,  904,  906,  907,  908,\n",
       "        912,  915,  916,  919,  922,  923,  924,  927,  929,  931,  932,\n",
       "        934,  935,  936,  937,  939,  940,  942,  945,  947,  948,  949,\n",
       "        950,  952,  953,  955,  958,  959,  960,  961,  962,  963,  965,\n",
       "        966,  968,  969,  970,  971,  973,  974,  975,  976,  978,  979,\n",
       "        980,  981,  984,  985,  986,  987,  988,  989,  991,  992,  993,\n",
       "        994,  995,  996,  997, 1000, 1002, 1003, 1005, 1006, 1007, 1008,\n",
       "       1010, 1012, 1013, 1014, 1015, 1016, 1019, 1020, 1021, 1024, 1025,\n",
       "       1026, 1027, 1028, 1029, 1031, 1036, 1038, 1040, 1041, 1043, 1044,\n",
       "       1045, 1046, 1047, 1048, 1049, 1050, 1051, 1052, 1053, 1055, 1056,\n",
       "       1058, 1059, 1060, 1065, 1067, 1068, 1069, 1070, 1071, 1072, 1075,\n",
       "       1076, 1077, 1078, 1079, 1081, 1083, 1085, 1087, 1088, 1089, 1090,\n",
       "       1093, 1096, 1097, 1103, 1104, 1105, 1106, 1107, 1109, 1110, 1111,\n",
       "       1112, 1113, 1114, 1115, 1116, 1118, 1120, 1123, 1125, 1126, 1127,\n",
       "       1128, 1129, 1132, 1133, 1134, 1137, 1138, 1139, 1141, 1142, 1143,\n",
       "       1144, 1145, 1146, 1147, 1150, 1153, 1154, 1155, 1156, 1159, 1160,\n",
       "       1161, 1162, 1164, 1167, 1170, 1171, 1173, 1174, 1175, 1176, 1179,\n",
       "       1181, 1182, 1183, 1184, 1186, 1187, 1188, 1189, 1190, 1191, 1194,\n",
       "       1195, 1196, 1197, 1198], dtype=int64)"
      ]
     },
     "execution_count": 54,
     "metadata": {},
     "output_type": "execute_result"
    }
   ],
   "source": [
    "conns[100]"
   ]
  },
  {
   "cell_type": "code",
   "execution_count": 11,
   "id": "fef598f5-e48c-4772-a615-ec5210f64685",
   "metadata": {},
   "outputs": [],
   "source": [
    "def loss_func(u, F, conns, nconns):    \n",
    "    fv_conns = F[conns[u]]\n",
    "    fv_nconns = F[nconns[u]]\n",
    "    fu = F[u].reshape(1,-1)\n",
    "     \n",
    "    prob_conns = prob( fu@fv_conns.T)\n",
    "    conns_sum = np.log(prob_conns).sum()\n",
    "    \n",
    "    nconns_sum = (fu@fv_nconns.T).sum()\n",
    "    return conns_sum - nconns_sum"
   ]
  },
  {
   "cell_type": "code",
   "execution_count": 12,
   "id": "3caa4e84-28db-4933-aaf9-b15200fe8afc",
   "metadata": {
    "tags": []
   },
   "outputs": [],
   "source": [
    "def log_likelihood(fu, f_sum, fv_conns):\n",
    "    prob_conns = prob( fu@fv_conns.T)\n",
    "    conns_sum = np.log(prob_conns).sum()\n",
    "    \n",
    "    fv_nconns = f_sum - fu - fv_conns.sum(axis=0)\n",
    "    nconns_sum = (fu * fv_nconns).sum()\n",
    "    return conns_sum - nconns_sum"
   ]
  },
  {
   "cell_type": "code",
   "execution_count": 14,
   "id": "320634e0-687a-4907-b568-a56f15e27878",
   "metadata": {},
   "outputs": [],
   "source": [
    "def big_clam(conns, nconns, F, LR=0.001, n_iters=1000, MAX_FVALUE=1):\n",
    "    NN, k = F.shape\n",
    "    \n",
    "    F_gradients=np.zeros(F.shape)\n",
    "    \n",
    "    for i in tqdm(range(n_iters)): \n",
    "        f_sum = F.sum(axis=0)\n",
    "        \n",
    "        for u in range(NN):\n",
    "            #F vectors of nodes connected to u\n",
    "            fv_conns = F[conns[u]]\n",
    "            #F vector of node u\n",
    "            fu = F[u]\n",
    "            \n",
    "            #connection probablity of fu to each fv\n",
    "            prob_con = prob(fu@fv_conns.T)\n",
    "            \n",
    "            fraction = (1 - prob_con)/prob_con\n",
    "            conns_factor = (fv_conns.T @ fraction)\n",
    "            \n",
    "            #optimization of non-connection neighbours sum\n",
    "            nconns_factor = f_sum - fu - fv_conns.sum(axis=0)\n",
    "            \n",
    "            # calculate gradient\n",
    "            u_grad = conns_factor - nconns_factor\n",
    "            F_gradients[u] = LR*(n_iters-i)/n_iters * u_grad\n",
    "            \n",
    "            #F[u, :-1] = np.clip(F[u, :-1] + LR*(n_iters - i)/n_iters * u_grad[:-1], 0, MAX_FVALUE)\n",
    "        \n",
    "        #update the community likelihoods for each node, except the empty \\epsilon\n",
    "        F[:, :-1] = np.clip(F[:, :-1] + F_gradients[:, :-1], 0, MAX_FVALUE)\n",
    "        #f_sum = F.sum(axis=0)\n",
    "\n",
    "    res_best=[-log_likelihood(F[u], F.sum(axis=0), F[conns[u]]) for u in range(NN)]\n",
    "    return F, sum(res_best)"
   ]
  },
  {
   "cell_type": "code",
   "execution_count": 15,
   "id": "e1f6801b-72e4-413d-a302-6eb27f91c20f",
   "metadata": {
    "tags": []
   },
   "outputs": [],
   "source": [
    "def get_communities(F, thresh):\n",
    "    NN, k = F.shape\n",
    "    \n",
    "    comunities = {}\n",
    "    for c in range(k):\n",
    "        locs = np.where(F[:, c]>=thresh)[0]\n",
    "        comunities[c] = set(list(locs))\n",
    "    return comunities"
   ]
  },
  {
   "cell_type": "code",
   "execution_count": 16,
   "id": "a189e7b3-5ca9-42de-b759-74f1f2344b9c",
   "metadata": {
    "tags": []
   },
   "outputs": [],
   "source": [
    "def get_graph_from_communities(F):\n",
    "    N, k = F.shape\n",
    "    graph = np.zeros((N,N))\n",
    "    \n",
    "    for i in range(N):\n",
    "        for j in range(N):\n",
    "            if i!=j:\n",
    "                graph[i,j] = F[i]@F[j]\n",
    "    \n",
    "    return graph"
   ]
  },
  {
   "cell_type": "markdown",
   "id": "49d931e0-0f69-4678-9c31-49f239c783e1",
   "metadata": {
    "jp-MarkdownHeadingCollapsed": true,
    "tags": []
   },
   "source": [
    "## Checking for drugs with similar fingerprints "
   ]
  },
  {
   "cell_type": "code",
   "execution_count": 10,
   "id": "e94882cf-f414-406f-9027-9bd710a31297",
   "metadata": {},
   "outputs": [],
   "source": [
    "fingerprints = pd.read_csv(\"fps.txt\", index_col=0, header=None)"
   ]
  },
  {
   "cell_type": "code",
   "execution_count": 21,
   "id": "b145560c-2cc1-4eb7-bc63-38decb7d0eec",
   "metadata": {
    "tags": []
   },
   "outputs": [],
   "source": [
    "fp_sims = pairwise_distances(fingerprints, metric=jaccard_sim)"
   ]
  },
  {
   "cell_type": "code",
   "execution_count": 22,
   "id": "0601d100-b1c5-46c7-aa8a-875b974fb62b",
   "metadata": {
    "tags": []
   },
   "outputs": [],
   "source": [
    "#remove similarity with itself\n",
    "n = fp_sims.shape[0]\n",
    "fp_sims[range(n), range(n)] = 0"
   ]
  },
  {
   "cell_type": "code",
   "execution_count": 23,
   "id": "06353c33-d359-4a9a-9e1d-5df07c5ab695",
   "metadata": {
    "tags": []
   },
   "outputs": [
    {
     "data": {
      "text/plain": [
       "34"
      ]
     },
     "execution_count": 23,
     "metadata": {},
     "output_type": "execute_result"
    }
   ],
   "source": [
    "(fp_sims==1).sum()"
   ]
  },
  {
   "cell_type": "markdown",
   "id": "a118ceee-109e-4591-8863-ae3a7d426c02",
   "metadata": {},
   "source": [
    "It seems that there are components with the same fingerprint.\n",
    "We will compare if they act on similar genes or not."
   ]
  },
  {
   "cell_type": "markdown",
   "id": "fae94e32-4598-4f68-a7e0-24e44d8d2727",
   "metadata": {
    "tags": []
   },
   "source": [
    "## Drugs_graph"
   ]
  },
  {
   "cell_type": "code",
   "execution_count": 17,
   "id": "d6fee5b0-8468-42d8-a6f9-511c66978c3a",
   "metadata": {
    "tags": []
   },
   "outputs": [],
   "source": [
    "drugs = load_targets(\"acts.txt\")"
   ]
  },
  {
   "cell_type": "code",
   "execution_count": 18,
   "id": "ac51f0ea-a4cd-47d2-a3a8-285bde410459",
   "metadata": {
    "tags": []
   },
   "outputs": [
    {
     "data": {
      "application/vnd.jupyter.widget-view+json": {
       "model_id": "76d024a780e2430086877e537957d191",
       "version_major": 2,
       "version_minor": 0
      },
      "text/plain": [
       "  0%|          | 0/1101 [00:00<?, ?it/s]"
      ]
     },
     "metadata": {},
     "output_type": "display_data"
    }
   ],
   "source": [
    "drugs_graph = build_graph_from_dict(drugs)"
   ]
  },
  {
   "cell_type": "code",
   "execution_count": 23,
   "id": "28cc80c5-4c68-46df-a2fd-4cdafa1bf143",
   "metadata": {
    "tags": []
   },
   "outputs": [
    {
     "data": {
      "text/plain": [
       "array([[ 0.,  0.,  2.,  0.,  0.,  0.,  0.,  0.,  0.,  1.],\n",
       "       [ 0.,  0.,  1.,  5.,  1.,  0.,  1.,  1.,  1.,  1.],\n",
       "       [ 2.,  1.,  0.,  0.,  1.,  0.,  2.,  1.,  1.,  5.],\n",
       "       [ 0.,  5.,  0.,  0.,  0.,  0.,  0.,  3.,  0.,  0.],\n",
       "       [ 0.,  1.,  1.,  0.,  0.,  0.,  1.,  1.,  1.,  1.],\n",
       "       [ 0.,  0.,  0.,  0.,  0.,  0.,  0.,  0.,  0.,  0.],\n",
       "       [ 0.,  1.,  2.,  0.,  1.,  0.,  0.,  1.,  1., 10.],\n",
       "       [ 0.,  1.,  1.,  3.,  1.,  0.,  1.,  0.,  1.,  1.],\n",
       "       [ 0.,  1.,  1.,  0.,  1.,  0.,  1.,  1.,  0.,  1.],\n",
       "       [ 1.,  1.,  5.,  0.,  1.,  0., 10.,  1.,  1.,  0.]])"
      ]
     },
     "execution_count": 23,
     "metadata": {},
     "output_type": "execute_result"
    }
   ],
   "source": [
    "a=125;b=10\n",
    "drugs_graph[a:a+b,a:a+b]"
   ]
  },
  {
   "cell_type": "code",
   "execution_count": 24,
   "id": "9536b1d3-bcfe-4ca4-9872-cd13761ab4ec",
   "metadata": {
    "tags": []
   },
   "outputs": [
    {
     "data": {
      "image/png": "[encoded data removed]",
      "text/plain": [
       "<Figure size 600x600 with 1 Axes>"
      ]
     },
     "metadata": {},
     "output_type": "display_data"
    }
   ],
   "source": [
    "g = nx.Graph()\n",
    "g.add_edges_from(np.argwhere(drugs_graph[a:a+b,a:a+b]!=0))\n",
    "plot_graph(g, node_size=100)"
   ]
  },
  {
   "cell_type": "markdown",
   "id": "4b9c6037-7cb1-45c6-95b5-b7efdb9b5e6f",
   "metadata": {
    "jp-MarkdownHeadingCollapsed": true,
    "tags": []
   },
   "source": [
    "## Create a graph in which nodes represent genes and edges represent  "
   ]
  },
  {
   "cell_type": "code",
   "execution_count": 231,
   "id": "14d0a57b-b5ce-41ca-9283-ac28140c4e61",
   "metadata": {
    "tags": []
   },
   "outputs": [],
   "source": [
    "genes = transpose(drugs)"
   ]
  },
  {
   "cell_type": "code",
   "execution_count": 232,
   "id": "723bac53-50f0-440b-8ffc-3d6448f0ee71",
   "metadata": {
    "tags": []
   },
   "outputs": [
    {
     "data": {
      "application/vnd.jupyter.widget-view+json": {
       "model_id": "4303c82426c341e3a6ddb409b62c163e",
       "version_major": 2,
       "version_minor": 0
      },
      "text/plain": [
       "  0%|          | 0/1244 [00:00<?, ?it/s]"
      ]
     },
     "metadata": {},
     "output_type": "display_data"
    }
   ],
   "source": [
    "genes_graph = build_graph_from_dict( genes )"
   ]
  },
  {
   "cell_type": "code",
   "execution_count": 233,
   "id": "0ab0eecb-6724-4230-a934-31d0250e94d7",
   "metadata": {
    "tags": []
   },
   "outputs": [
    {
     "data": {
      "image/png": "[encoded data removed]",
      "text/plain": [
       "<Figure size 600x600 with 1 Axes>"
      ]
     },
     "metadata": {},
     "output_type": "display_data"
    }
   ],
   "source": [
    "g=nx.Graph()\n",
    "g.add_edges_from(np.argwhere(genes_graph!=0))\n",
    "plot_graph(g)"
   ]
  },
  {
   "cell_type": "code",
   "execution_count": 321,
   "id": "f2a7ee29-eb1e-4683-b404-0989e72da1f2",
   "metadata": {
    "tags": []
   },
   "outputs": [
    {
     "data": {
      "text/plain": [
       "array([[0., 8., 0., ..., 0., 0., 0.],\n",
       "       [8., 0., 7., ..., 0., 0., 0.],\n",
       "       [0., 7., 0., ..., 0., 0., 0.],\n",
       "       ...,\n",
       "       [0., 0., 0., ..., 0., 0., 0.],\n",
       "       [0., 0., 0., ..., 0., 0., 1.],\n",
       "       [0., 0., 0., ..., 0., 1., 0.]])"
      ]
     },
     "execution_count": 321,
     "metadata": {},
     "output_type": "execute_result"
    }
   ],
   "source": [
    "genes_graph"
   ]
  },
  {
   "cell_type": "markdown",
   "id": "9315f699-c3ff-4de9-9741-2ed93833831e",
   "metadata": {},
   "source": [
    "## Big Clam\n",
    "\n",
    "- Hold out set the **Edges** 20%, verificar se o grafo é totalmente reconstruído\n",
    "- comparar softmax e mse\n",
    "- "
   ]
  },
  {
   "cell_type": "code",
   "execution_count": 16,
   "id": "2e606154-c990-444d-b3f7-011dd5080f6f",
   "metadata": {
    "tags": []
   },
   "outputs": [
    {
     "data": {
      "text/plain": [
       "0.588159059429913"
      ]
     },
     "execution_count": 16,
     "metadata": {},
     "output_type": "execute_result"
    }
   ],
   "source": [
    "(drugs_graph==0).sum()/np.prod(drugs_graph.shape)"
   ]
  },
  {
   "cell_type": "code",
   "execution_count": 25,
   "id": "714fc4b9-d1a4-487e-badb-0eeaaee08287",
   "metadata": {
    "tags": []
   },
   "outputs": [],
   "source": [
    "NN = drugs_graph.shape[0]"
   ]
  },
  {
   "cell_type": "code",
   "execution_count": 26,
   "id": "5df2103f-682d-4741-8b1b-221e5bd4990e",
   "metadata": {
    "tags": []
   },
   "outputs": [],
   "source": [
    "ϵ = len(np.argwhere(drugs_graph!=0)) / (1101 * 1100)"
   ]
  },
  {
   "cell_type": "code",
   "execution_count": 27,
   "id": "2792f349-b912-4083-9f5f-63a51279e227",
   "metadata": {
    "tags": []
   },
   "outputs": [
    {
     "data": {
      "text/plain": [
       "0.7289681920869288"
      ]
     },
     "execution_count": 27,
     "metadata": {},
     "output_type": "execute_result"
    }
   ],
   "source": [
    "δ = np.sqrt(-np.log(1 - ϵ))\n",
    "δ"
   ]
  },
  {
   "cell_type": "code",
   "execution_count": 28,
   "id": "6afa5808-f098-46ad-a784-0ff2c99a681a",
   "metadata": {
    "tags": []
   },
   "outputs": [],
   "source": [
    "conns = {i : np.where(node_conns!=0)[0] for i, node_conns in enumerate(drugs_graph)}\n",
    "nconns = {i : np.where(node_conns==0)[0] for i, node_conns in enumerate(drugs_graph)}"
   ]
  },
  {
   "cell_type": "code",
   "execution_count": 41,
   "id": "ea843f73-6c56-49f2-80cf-b85c4cbe1564",
   "metadata": {
    "tags": []
   },
   "outputs": [
    {
     "name": "stdout",
     "output_type": "stream",
     "text": [
      "Initial Evaluation:  7328386.082650442\n"
     ]
    }
   ],
   "source": [
    "k=10\n",
    "#F = np.apply_along_axis(softmax, 1, np.random.normal(size=( genes_graph.shape[0], k ) ))\n",
    "\n",
    "#F = np.random.uniform(size=( bigraph.shape[0], k ))\n",
    "MAX = 1\n",
    "F = get_F((NN, k), max_=MAX)\n",
    "F = local_neigh_F((NN, K), conns)\n",
    "res=np.array([-log_likelihood(F[u], F.sum(axis=0), F[conns[u]]) for u in range(F.shape[0])]).sum()\n",
    "print(\"Initial Evaluation: \", res)"
   ]
  },
  {
   "cell_type": "code",
   "execution_count": 42,
   "id": "d5745edd-3749-4064-9326-c48081a9201f",
   "metadata": {
    "tags": []
   },
   "outputs": [
    {
     "data": {
      "application/vnd.jupyter.widget-view+json": {
       "model_id": "2d45f155b01445fa909fd82ef14f1e32",
       "version_major": 2,
       "version_minor": 0
      },
      "text/plain": [
       "  0%|          | 0/5000 [00:00<?, ?it/s]"
      ]
     },
     "metadata": {},
     "output_type": "display_data"
    },
    {
     "ename": "KeyboardInterrupt",
     "evalue": "",
     "output_type": "error",
     "traceback": [
      "\u001b[1;31m---------------------------------------------------------------------------\u001b[0m",
      "\u001b[1;31mKeyboardInterrupt\u001b[0m                         Traceback (most recent call last)",
      "Cell \u001b[1;32mIn [42], line 4\u001b[0m\n\u001b[0;32m      1\u001b[0m \u001b[38;5;66;03m#F, LL =SHC(conns, nconns, F, niters=10000, LR=0.005)\u001b[39;00m\n\u001b[0;32m      2\u001b[0m \n\u001b[0;32m      3\u001b[0m \u001b[38;5;66;03m#print(\"Final Evaluation: \", LL)\u001b[39;00m\n\u001b[1;32m----> 4\u001b[0m F, ll_ \u001b[38;5;241m=\u001b[39m big_clam(conns, nconns, F, n_iters\u001b[38;5;241m=\u001b[39m\u001b[38;5;241m5000\u001b[39m, LR\u001b[38;5;241m=\u001b[39m\u001b[38;5;241m0.01\u001b[39m, MAX_FVALUE\u001b[38;5;241m=\u001b[39m\u001b[38;5;241m1\u001b[39m)\n\u001b[0;32m      5\u001b[0m \u001b[38;5;28mprint\u001b[39m(\u001b[38;5;124m\"\u001b[39m\u001b[38;5;124mFinal Evaluation: \u001b[39m\u001b[38;5;124m\"\u001b[39m, ll_)\n",
      "Cell \u001b[1;32mIn [14], line 16\u001b[0m, in \u001b[0;36mbig_clam\u001b[1;34m(conns, nconns, F, LR, n_iters, MAX_FVALUE)\u001b[0m\n\u001b[0;32m     13\u001b[0m fu \u001b[38;5;241m=\u001b[39m F[u]\n\u001b[0;32m     15\u001b[0m \u001b[38;5;66;03m#connection probablity of fu to each fv\u001b[39;00m\n\u001b[1;32m---> 16\u001b[0m prob_con \u001b[38;5;241m=\u001b[39m prob(\u001b[43mfu\u001b[49m\u001b[38;5;129;43m@fv_conns\u001b[39;49m\u001b[38;5;241;43m.\u001b[39;49m\u001b[43mT\u001b[49m)\n\u001b[0;32m     18\u001b[0m fraction \u001b[38;5;241m=\u001b[39m (\u001b[38;5;241m1\u001b[39m \u001b[38;5;241m-\u001b[39m prob_con)\u001b[38;5;241m/\u001b[39mprob_con\n\u001b[0;32m     19\u001b[0m conns_factor \u001b[38;5;241m=\u001b[39m (fv_conns\u001b[38;5;241m.\u001b[39mT \u001b[38;5;241m@\u001b[39m fraction)\n",
      "\u001b[1;31mKeyboardInterrupt\u001b[0m: "
     ]
    }
   ],
   "source": [
    "#F, LL =SHC(conns, nconns, F, niters=10000, LR=0.005)\n",
    "\n",
    "#print(\"Final Evaluation: \", LL)\n",
    "F, ll_ = big_clam(conns, nconns, F, n_iters=5000, LR=0.01, MAX_FVALUE=1)\n",
    "print(\"Final Evaluation: \", ll_)"
   ]
  },
  {
   "cell_type": "code",
   "execution_count": 40,
   "id": "77b20ea2-9a71-459d-aa54-d6bec8d1781d",
   "metadata": {
    "tags": []
   },
   "outputs": [
    {
     "data": {
      "image/png": "[encoded data removed]",
      "text/plain": [
       "<Figure size 600x600 with 1 Axes>"
      ]
     },
     "metadata": {},
     "output_type": "display_data"
    }
   ],
   "source": [
    "temp = get_graph_from_communities(F)\n",
    "g = nx.Graph()\n",
    "g.add_edges_from(np.argwhere(temp[a:a+b,a:a+b]!=0))\n",
    "plot_graph(g, )"
   ]
  },
  {
   "cell_type": "code",
   "execution_count": 59,
   "id": "66000230-b899-4413-9207-4b1a636c16e2",
   "metadata": {
    "tags": []
   },
   "outputs": [],
   "source": [
    "from sklearn.metrics import mean_squared_error, precision_score, recall_score"
   ]
  },
  {
   "cell_type": "code",
   "execution_count": 66,
   "id": "a30c168e-2eac-4166-98de-68cfd368f8f2",
   "metadata": {
    "tags": []
   },
   "outputs": [
    {
     "data": {
      "text/plain": [
       "0.34899984246874716"
      ]
     },
     "execution_count": 66,
     "metadata": {},
     "output_type": "execute_result"
    }
   ],
   "source": [
    "mean_squared_error( \n",
    "    (drugs_graph>=1) * 1, \n",
    "    (temp>0.5)*1, squared=False)"
   ]
  },
  {
   "cell_type": "code",
   "execution_count": 64,
   "id": "a4186d04-0064-467f-9573-f4fa1f2d76c3",
   "metadata": {
    "tags": []
   },
   "outputs": [
    {
     "data": {
      "text/plain": [
       "0.3301802797476701"
      ]
     },
     "execution_count": 64,
     "metadata": {},
     "output_type": "execute_result"
    }
   ],
   "source": [
    "mean_squared_error( \n",
    "    (drugs_graph[drugs_graph!=0]>=1)*1, \n",
    "    (temp[drugs_graph!=0]>0.5)*1, squared=False)"
   ]
  },
  {
   "cell_type": "code",
   "execution_count": 67,
   "id": "4a3ab6a2-628f-43b9-9573-f87a2896a61f",
   "metadata": {
    "tags": []
   },
   "outputs": [
    {
     "data": {
      "text/plain": [
       "1.0"
      ]
     },
     "execution_count": 67,
     "metadata": {},
     "output_type": "execute_result"
    }
   ],
   "source": [
    "precision_score(\n",
    "    (drugs_graph[drugs_graph!=0]>=1)*1, \n",
    "    (temp[drugs_graph!=0]>0.5)*1\n",
    ")"
   ]
  },
  {
   "cell_type": "code",
   "execution_count": 68,
   "id": "ddfa8e43-651e-42b2-817d-0dc5ed04133b",
   "metadata": {
    "tags": []
   },
   "outputs": [
    {
     "data": {
      "text/plain": [
       "0.8909809828657503"
      ]
     },
     "execution_count": 68,
     "metadata": {},
     "output_type": "execute_result"
    }
   ],
   "source": [
    "recall_score(\n",
    "    (drugs_graph[drugs_graph!=0]>=1)*1,\n",
    "    (temp[drugs_graph!=0]>0.5)*1\n",
    ")"
   ]
  },
  {
   "cell_type": "code",
   "execution_count": null,
   "id": "3c527725-fde7-4b85-bb5c-98cc0f0e259b",
   "metadata": {},
   "outputs": [],
   "source": []
  }
 ],
 "metadata": {
  "kernelspec": {
   "display_name": "Python 3 (ipykernel)",
   "language": "python",
   "name": "python3"
  },
  "language_info": {
   "codemirror_mode": {
    "name": "ipython",
    "version": 3
   },
   "file_extension": ".py",
   "mimetype": "text/x-python",
   "name": "python",
   "nbconvert_exporter": "python",
   "pygments_lexer": "ipython3",
   "version": "3.9.7"
  }
 },
 "nbformat": 4,
 "nbformat_minor": 5
}
