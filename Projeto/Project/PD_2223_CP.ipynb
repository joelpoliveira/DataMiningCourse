{
 "cells": [
  {
   "cell_type": "markdown",
   "id": "cda95ec4",
   "metadata": {},
   "source": [
    "# Prospecção de Dados 2022/2023\n",
    "\n",
    "## Course Project\n",
    "\n",
    "\n",
    "\n",
    "### Data Set\n",
    "\n",
    "**Description**: This dataset accounts for a set of 1101 [FDA Approved drugs](https://www.accessdata.fda.gov/scripts/cder/daf/) and their biological targets measured in biological assays and assembled in the [ChEMBL database](https://www.ebi.ac.uk/chembl/)\n",
    "\n",
    "The data set is composed of 2 files:\n",
    "* `fps.txt` - Molecular Fingerprints for 1101 molecules\n",
    "    * This data set does not have a header;\n",
    "    * It's fields are separated by commas;\n",
    "    * The first colum is the Molecule ID\n",
    "    * After the first column there are 2048 columns one for each binary attribute. For each column values are just 0 (characteristic not present) or 1 (characteristic present)\n",
    "* `acts.txt` - Known biological targets for the molecules. This is presented similarly to a trasactions type file, where:\n",
    "    * The first column is the molecule ID\n",
    "    * The next columns is the list of known gene targets (not necessarily human) to which this molecule is know to be active\n",
    "\n",
    "\n",
    "As an example, let's pick `PDFDA0028`:\n",
    "* According to `fps` \n",
    "    * it should have 83 columns with 1s\n",
    "    * columns with 1s are: `1, 13, 40, 79, 80, 87, ...`\n",
    "* According to `acts`\n",
    "    * These are the known targets for this molecule: `CYP2C9\tCYP1A2\tCYP2D6\tCYP2A6\tCYP3A4\tPROTEASE\tREN\tREN1\tCYP2C19\tREP`\n",
    "    \n",
    "**NOTE:** Although this is not necessary for the proposed work, for the biologically inclined, information about targets can be found [here](https://www.genecards.org/). For example for CYP2C9, it is [this](https://www.genecards.org/cgi-bin/carddisp.pl?gene=CYP2C9)\n",
    "\n",
    "### Objective\n",
    "\n",
    "Students should mine the above data set looking for meaningful relationships, using supervised, semi supervised or unsupervised methods, or whatever. The goal is to find meaning and realtionships in data. \n",
    "Examples of possible analysis include but are not exhausted by:\n",
    "* Predict whether or not a molecule is active on a specific target\n",
    "* Predict if a molecule binds to a set of targets it will bind to others\n",
    "* Identify groups of molecules of similar properties\n",
    "* ...\n",
    "\n",
    "#### Important notes\n",
    "\n",
    "* Students should use the most rigorous way to assess their findings as per this course principles\n",
    "* Students should not try to do everything. It's better to have ONE clear goal and follow it throughly rather than many goals and do a poor job in all\n",
    "\n",
    "\n",
    "### Submission\n",
    "\n",
    "Students should submit a ZIP file (**no other compression algorithms allowed**) with 2 documents\n",
    "\n",
    "* PDF - Report with **4** pages MAX, containing in the header: \n",
    "    * Group number\n",
    "    * Student names and ids\n",
    "    * how many hours each student contributed to the project\n",
    "    * This [ACM LaTex Template](https://www.overleaf.com/latex/templates/association-for-computing-machinery-acm-large-2-column-format-template/qwcgpbmkkvpq) is recommended for the submission, **although not mandatory**\n",
    "    \n",
    "* Notebook (or similar) with the source code and **produced results** that let to the report. **This notebook should not, when printed, be larger than 8 pages**\n",
    "\n"
   ]
  },
  {
   "cell_type": "code",
   "execution_count": null,
   "id": "3fbda36b-8fa4-47b2-8709-14861ff15b4b",
   "metadata": {},
   "outputs": [],
   "source": []
  }
 ],
 "metadata": {
  "kernelspec": {
   "display_name": "Python 3 (ipykernel)",
   "language": "python",
   "name": "python3"
  },
  "language_info": {
   "codemirror_mode": {
    "name": "ipython",
    "version": 3
   },
   "file_extension": ".py",
   "mimetype": "text/x-python",
   "name": "python",
   "nbconvert_exporter": "python",
   "pygments_lexer": "ipython3",
   "version": "3.9.7"
  }
 },
 "nbformat": 4,
 "nbformat_minor": 5
}
