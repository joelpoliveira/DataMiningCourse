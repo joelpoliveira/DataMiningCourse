{
 "cells": [
  {
   "cell_type": "markdown",
   "id": "7c2fc0a0-8f5f-4793-be85-5203ba93a192",
   "metadata": {},
   "source": [
    "# Data Mining / Prospecção de Dados\n",
    "\n",
    "## André Falcão - 2022-2023\n",
    "\n",
    "## Data Mining TP09 - A recommender system tutorial\n",
    "\n",
    "## Summary\n",
    "\n",
    "1. Item based recommendation\n",
    "    1. Term Frequency - Inverse Document Frequency (TF-IDF)\n",
    "2. Collaborative Filtering \n",
    "    1. User-User\n",
    "    2. Item-Item\n",
    "3. Comparison of methods in test cases\n",
    "\n",
    "\n",
    "## 1. Item based recommendations\n",
    "\n",
    "### 1.1 TF-IDF\n",
    "\n",
    "**A Review** The idea of TF IDF is very commmon in Information retrieval and is based on two main ideas\n",
    "* Some terms/words are more relevant than others\n",
    "* Similarity between documents can be defined by the more relevant terms they share\n",
    "\n",
    "**Term Frequency**\n",
    "\n",
    "$$\\text{tf}(t,d)=\\frac{f_{t,d}}{\\sum_{t'\\in d}{f_{t',d}}}$$\n",
    "\n",
    "**Inverse Document Frequency**\n",
    "\n",
    "$$\\text{idf}(t,D)=\\log{\\frac{|D|}{| d \\in D: t \\in d |}}$$\n",
    "\n",
    "**TF-IDF**\n",
    "\n",
    "$$\\text{tf-idf}(t,d,D)=\\text{tf}(t,d) . \\text{idf}(t,D)$$\n",
    "\n",
    "\n",
    "Instead of using our custom made approach (see Lab class 01), Scikit-learn has a nice [TF-IDF vectorizer](https://scikit-learn.org/stable/modules/generated/sklearn.feature_extraction.text.TfidfVectorizer.html) already built in that allows extensive configuration. Among the important  factors to use are: \n",
    "* analyzer - defines what type of data we are analyzing. if ´words´ then a text analyzer is used for further processing\n",
    "* stop_words - allows the definition of stop words for string processing. has the default \"english\" value for using the common English defaults\n",
    "* strip_accents - whether or not to consider accents in words\n",
    "* ngram_range (A,B) - ngrams are sequences of N words. By allowing a range, all possible ngrams from A to B are considered\n",
    "\n",
    "#### Ngram range example:\n",
    "\n",
    "An ngram range of (1,3) applied to the word string \"the quick brown fox jumps\" will generate all the 1,2 and 3 word ngrams: thus:\n",
    "* 1-grams: the, quick, brown, fox, jumps\n",
    "* 2-grams: (the, quick), (quick, brown), (brown, fox), (fox, jumps)\n",
    "* 3-grams: (the, quick, brown), (quick, brown, fox), (brown, fox, jumps)\n",
    "\n",
    "\n",
    "The data set in this first example and several ideas came from [this article from Venkat Raman](https://towardsdatascience.com/recommender-engine-under-the-hood-7869d5eab072)\n",
    "\n",
    "First let's import the required libraries for this first exercise"
   ]
  },
  {
   "cell_type": "code",
   "execution_count": 1,
   "id": "623c8d8f-dd5b-4293-8dbf-06fe1e8b38d2",
   "metadata": {
    "tags": []
   },
   "outputs": [],
   "source": [
    "import numpy as np\n",
    "import pandas as pd\n",
    "from sklearn.feature_extraction.text import TfidfVectorizer\n",
    "from sklearn.metrics.pairwise import linear_kernel, cosine_similarity"
   ]
  },
  {
   "cell_type": "markdown",
   "id": "dcda324c-de5b-4f46-8bc2-60bd7dfde69f",
   "metadata": {},
   "source": [
    "Now let's open Venkat Raman's dataset of 50 book titles on Machine Learning and store it in a list"
   ]
  },
  {
   "cell_type": "code",
   "execution_count": 2,
   "id": "a9a6dfc9-664b-4a60-bd6a-fd7b1a7fabdf",
   "metadata": {
    "tags": []
   },
   "outputs": [
    {
     "data": {
      "text/plain": [
       "['Probabilistic Graphical Models',\n",
       " 'Bayesian Data Analysis',\n",
       " 'Doing data science',\n",
       " 'Pattern Recognition and Machine Learning',\n",
       " 'The Elements of Statistical Learning',\n",
       " 'An introduction to Statistical Learning',\n",
       " 'Python Machine Learning',\n",
       " 'Natural Langauage Processing with Python',\n",
       " 'Statistical Distributions',\n",
       " 'Monte Carlo Statistical Methods']"
      ]
     },
     "execution_count": 2,
     "metadata": {},
     "output_type": "execute_result"
    }
   ],
   "source": [
    "books=open(\"books.txt\", \"rt\").readlines()\n",
    "books=[L.strip() for L in books]\n",
    "\n",
    "books[:10]"
   ]
  },
  {
   "cell_type": "markdown",
   "id": "a4465d57-8e19-4c9f-ab25-47de541edd24",
   "metadata": {},
   "source": [
    "We are going first to vectorize all the words in the book titles, We will consider each element as composed of English words, and, to make a the analysis richer, we will consider all the word ngrams from 1-3.\n",
    "\n",
    "This will generate a matrix of 50 rows (as many as books) and 404 columns (the number of unique ngrams)\n",
    "\n",
    "We can see each book individual scores. Let's see for book #39"
   ]
  },
  {
   "cell_type": "code",
   "execution_count": 3,
   "id": "23929469-6fb4-4dd2-9a63-9e375965f4d5",
   "metadata": {
    "tags": []
   },
   "outputs": [
    {
     "name": "stdout",
     "output_type": "stream",
     "text": [
      "The Art of Data Science\n",
      "\t Element:   22 - TFIDF-Score:  0.5096\n",
      "\t Element:   23 - TFIDF-Score:  0.5096\n",
      "\t Element:   21 - TFIDF-Score:  0.4608\n",
      "\t Element:  101 - TFIDF-Score:  0.3288\n",
      "\t Element:  385 - TFIDF-Score:  0.3046\n",
      "\t Element:   83 - TFIDF-Score:  0.2596\n"
     ]
    }
   ],
   "source": [
    "tfidf_vec = TfidfVectorizer(analyzer='word', ngram_range=(1, 4), min_df=0, stop_words='english')\n",
    "tfidf_matrix = tfidf_vec.fit_transform(books)\n",
    "\n",
    "book=39\n",
    "elems_0 = tfidf_matrix.todense()[book]\n",
    "elems_0=np.array(elems_0).ravel()\n",
    "idxs=elems_0.argsort()[::-1]\n",
    "print(books[book])\n",
    "for i,idx in enumerate(idxs):\n",
    "    if elems_0[idx]>0:\n",
    "        print(\"\\t Element: %4d - TFIDF-Score: %7.4f\"% (idx,elems_0[idx] ))\n"
   ]
  },
  {
   "cell_type": "markdown",
   "id": "78ded72b-a920-493e-8eda-0f3f272b39c3",
   "metadata": {},
   "source": [
    "Now that each element has been vectorized we can compute the similarities using the cosine distance. Scikit learn has a cosine distance function, however it is not necessary to use it as the TF-IDF vectorizer has already normalized the distances, being sufficient (and faster!) to use the [linear kernel](https://scikit-learn.org/stable/modules/metrics.html#linear-kernel) (simple vector multiplication)\n",
    "\n",
    "This will produce a $N.N$ matrix with similarities between items"
   ]
  },
  {
   "cell_type": "code",
   "execution_count": 11,
   "id": "ee8ea776-48e2-4bed-94c7-72c945c7aaf5",
   "metadata": {
    "tags": []
   },
   "outputs": [
    {
     "data": {
      "text/plain": [
       "(50, 50)"
      ]
     },
     "execution_count": 11,
     "metadata": {},
     "output_type": "execute_result"
    }
   ],
   "source": [
    "\n",
    "sims = linear_kernel(tfidf_matrix, tfidf_matrix)\n",
    "#This is equivalent to \n",
    "#sims = cosine_similarity(tfidf_matrix, tfidf_matrix)\n",
    "sims.shape"
   ]
  },
  {
   "cell_type": "code",
   "execution_count": 13,
   "id": "dd05891c-068d-4047-a233-8f434356ab2a",
   "metadata": {
    "tags": []
   },
   "outputs": [
    {
     "data": {
      "text/plain": [
       "(50, 50)"
      ]
     },
     "execution_count": 13,
     "metadata": {},
     "output_type": "execute_result"
    }
   ],
   "source": [
    "cosine_similarity(tfidf_matrix, tfidf_matrix).shape"
   ]
  },
  {
   "cell_type": "code",
   "execution_count": 14,
   "id": "ed6ef334-df6d-4903-8016-09274d878d9f",
   "metadata": {
    "tags": []
   },
   "outputs": [
    {
     "data": {
      "text/plain": [
       "array([1.        , 0.        , 0.        , 0.        , 0.        ,\n",
       "       0.        , 0.        , 0.        , 0.        , 0.        ,\n",
       "       0.        , 0.        , 0.        , 0.        , 0.        ,\n",
       "       0.        , 0.        , 0.        , 0.        , 0.        ,\n",
       "       0.        , 0.        , 0.        , 0.        , 0.        ,\n",
       "       0.        , 0.        , 0.        , 0.        , 0.        ,\n",
       "       0.        , 0.        , 0.        , 0.        , 0.        ,\n",
       "       0.        , 0.        , 0.        , 0.        , 0.        ,\n",
       "       0.        , 0.        , 0.        , 0.        , 0.09341262,\n",
       "       0.        , 0.        , 0.        , 0.        , 0.        ])"
      ]
     },
     "execution_count": 14,
     "metadata": {},
     "output_type": "execute_result"
    }
   ],
   "source": [
    "sims[0]"
   ]
  },
  {
   "cell_type": "code",
   "execution_count": 15,
   "id": "fb5fe91e-e52d-4366-83b9-cad09880cf63",
   "metadata": {
    "tags": []
   },
   "outputs": [
    {
     "data": {
      "text/plain": [
       "array([1.        , 0.        , 0.        , 0.        , 0.        ,\n",
       "       0.        , 0.        , 0.        , 0.        , 0.        ,\n",
       "       0.        , 0.        , 0.        , 0.        , 0.        ,\n",
       "       0.        , 0.        , 0.        , 0.        , 0.        ,\n",
       "       0.        , 0.        , 0.        , 0.        , 0.        ,\n",
       "       0.        , 0.        , 0.        , 0.        , 0.        ,\n",
       "       0.        , 0.        , 0.        , 0.        , 0.        ,\n",
       "       0.        , 0.        , 0.        , 0.        , 0.        ,\n",
       "       0.        , 0.        , 0.        , 0.        , 0.09341262,\n",
       "       0.        , 0.        , 0.        , 0.        , 0.        ])"
      ]
     },
     "execution_count": 15,
     "metadata": {},
     "output_type": "execute_result"
    }
   ],
   "source": [
    "cosine_similarity(tfidf_matrix, tfidf_matrix)[0]"
   ]
  },
  {
   "cell_type": "markdown",
   "id": "1469eb88-06c0-4f19-8ada-533c8954cea8",
   "metadata": {},
   "source": [
    "Now that the similarities between Items have been defined we can pre-compute the first K similar items"
   ]
  },
  {
   "cell_type": "code",
   "execution_count": 36,
   "id": "12da1543-98a3-45a9-b4b8-6c4d74c5edd0",
   "metadata": {
    "tags": []
   },
   "outputs": [],
   "source": [
    "def precompute_similars(DB, sims, K=5):\n",
    "    similars=[]\n",
    "    for idi, item in enumerate(DB):\n",
    "        sim_item_idxs = sims[idi].argsort()[:-(K+2):-1]\n",
    "        sim_items = [(sims[idi][i], i) for i in sim_item_idxs]\n",
    "        similars.append(sim_items[1:])\n",
    "    return similars\n",
    "\n",
    "similars=precompute_similars(books, sims)"
   ]
  },
  {
   "cell_type": "code",
   "execution_count": 37,
   "id": "c51de411-1a1a-4895-883d-85cc6185d4d9",
   "metadata": {
    "tags": []
   },
   "outputs": [
    {
     "data": {
      "text/plain": [
       "[(0.09341262453131684, 44), (0.0, 11), (0.0, 21), (0.0, 20), (0.0, 19)]"
      ]
     },
     "execution_count": 37,
     "metadata": {},
     "output_type": "execute_result"
    }
   ],
   "source": [
    "similars[0]"
   ]
  },
  {
   "cell_type": "code",
   "execution_count": 51,
   "id": "d9949bf4-ecf4-40c1-8df6-1fcfbd99399e",
   "metadata": {
    "tags": []
   },
   "outputs": [
    {
     "data": {
      "text/plain": [
       "[(0.09341262453131684, 44), (0.0, 11), (0.0, 21), (0.0, 20), (0.0, 19)]"
      ]
     },
     "execution_count": 51,
     "metadata": {},
     "output_type": "execute_result"
    }
   ],
   "source": [
    "def precompute_similars(DB, sims, K=5):\n",
    "    similars=[]\n",
    "    for idi, item in enumerate(DB):\n",
    "        sim_item_idxs = sims[idi].argsort()[-(K+1):-1]\n",
    "        sim_items = [(sims[idi][i], i) for i in sim_item_idxs]\n",
    "        similars.append(sim_items[::-1])\n",
    "    return similars\n",
    "\n",
    "similars=precompute_similars(books, sims)\n",
    "similars[0]"
   ]
  },
  {
   "cell_type": "markdown",
   "id": "3978fd5f-20bc-418b-bab1-820e81fbe97c",
   "metadata": {},
   "source": [
    "\n",
    "Now here follows our recommender system for one simple item. We have everything we might need. We have a database of items and a similarity matrix that quantifies the similarity between items, we can then construct a recommend function that given one item that was purchased by a user is able to find others is the database that are similar to it\n",
    "\n"
   ]
  },
  {
   "cell_type": "code",
   "execution_count": 42,
   "id": "dfc41a91-0ced-460a-9a0e-8ee6cb463ab1",
   "metadata": {
    "tags": []
   },
   "outputs": [
    {
     "name": "stdout",
     "output_type": "stream",
     "text": [
      "Recommending 5 item(s) similar to The Elements of Statistical Learning\n",
      "\t (score:  0.3650) - An introduction to Statistical Learning\n",
      "\t (score:  0.1453) - Statistical Distributions\n",
      "\t (score:  0.1121) - Learning SQL\n",
      "\t (score:  0.1077) - Deep Learning\n",
      "\t (score:  0.0996) - Statistical Power Analysis\n"
     ]
    }
   ],
   "source": [
    "def recommend(db, similars, book_id, num=2):\n",
    "    print(\"Recommending \" + str(num) + \" item(s) similar to \" + db[book_id])\n",
    "    for rec in similars[book_id][:num]:\n",
    "        print(\"\\t (score: %7.4f) - %s\" % (rec[0], db[rec[1]]))\n",
    "\n",
    "        \n",
    "recommend(books, similars, 4,5)"
   ]
  },
  {
   "cell_type": "markdown",
   "id": "1e6cf3e9-0a5e-4166-9e2a-b235de8cd395",
   "metadata": {},
   "source": [
    "## 1.2. Building User profiles\n",
    "\n",
    "suppose that an user has purchased 2 books: 'Pattern Recognition and Machine Learning' and'The Elements of Statistical Learning'. Which are its most similar items we can suggest?\n",
    "\n",
    "A very simple solution is just compute the user profile with the average and check for similar items. By doing that, we are projecting the user preferences into Item space!\n"
   ]
  },
  {
   "cell_type": "code",
   "execution_count": 43,
   "id": "7ca1052f-02cb-4d51-959c-862487b92817",
   "metadata": {
    "tags": []
   },
   "outputs": [
    {
     "name": "stdout",
     "output_type": "stream",
     "text": [
      "User has bought: \n",
      "\t Pattern Recognition and Machine Learning\n",
      "\t The Elements of Statistical Learning\n",
      "It is then recommended:\n",
      "\t (score:  0.5294) - The Elements of Statistical Learning\n",
      "\t (score:  0.5294) - Pattern Recognition and Machine Learning\n",
      "\t (score:  0.2125) - An introduction to Statistical Learning\n"
     ]
    }
   ],
   "source": [
    "def recommend_by_purchases(items, DB, mat, K=5):\n",
    "    user_profile = np.mean(mat[items,:], axis=0)\n",
    "    sims_v=linear_kernel(mat, np.asarray(user_profile))\n",
    "\n",
    "    sims=[ (v[0],i) for i,v in enumerate(sims_v)]\n",
    "    sims.sort()\n",
    "    sims.reverse()\n",
    "    \n",
    "    print(\"User has bought: \")\n",
    "    for item in items:\n",
    "        print(\"\\t\", DB[item])\n",
    "    print(\"It is then recommended:\")\n",
    "    for i in range(K):\n",
    "        if i not in items:\n",
    "            s, item = sims[i]\n",
    "            print(\"\\t (score: %7.4f) - %s\" % (s, DB[item]))\n",
    "    \n",
    "        \n",
    "recommend_by_purchases((3,4), books, tfidf_matrix, 5)\n"
   ]
  },
  {
   "cell_type": "markdown",
   "id": "c55a1121-2ef4-481c-9fc1-c2ff2ee34149",
   "metadata": {},
   "source": [
    "#### Exercises\n",
    "\n",
    "Work with the This subset from the [movies database](https://www.kaggle.com/datasets/sankha1998/tmdb-top-10000-popular-movies-dataset) that contain descriptions of over 2700 movies in English and make a recommender system out of it\n",
    "* Use only the descriptions for recommendation\n",
    "* Check the results for several known movies that you know and verify if it actually work\n",
    "* test the differences between words or character based analyzer. Would you change the ngrams?\n"
   ]
  },
  {
   "cell_type": "code",
   "execution_count": 44,
   "id": "31d1eb6b-4e2e-4a2e-88ea-c2ed905bcaa3",
   "metadata": {
    "tags": []
   },
   "outputs": [
    {
     "name": "stdout",
     "output_type": "stream",
     "text": [
      "Minions --> \"Minions Stuart, Kevin and Bob are recruited by Scarlet Overkill, a super-villain who, alongside her inventor husband Herb, hatches a plot to take over the world.\" \n",
      "\n",
      "Wonder Woman --> An Amazon princess comes to the world of Man to become the greatest of the female superheroes. \n",
      "\n",
      "Beauty and the Beast --> A live-action adaptation of Disney's version of the classic 'Beauty and the Beast' tale of a cursed prince and a beautiful young woman who helps him break the spell. \n",
      "\n"
     ]
    }
   ],
   "source": [
    "movies=open(\"movies_metadata.txt\", \"rt\", encoding=\"utf-8\").readlines()\n",
    "\n",
    "movies =[lin.strip().split(\"\\t\") for lin in movies]\n",
    "titles=[ title for title, desc in movies]\n",
    "descs= [ desc for title, desc in movies]\n",
    "for i in range(3):\n",
    "    print(titles[i], \"-->\", descs[i], \"\\n\")"
   ]
  },
  {
   "cell_type": "code",
   "execution_count": 46,
   "id": "9e3a221e-87a2-4d7d-b04e-2ffdf33187f0",
   "metadata": {
    "tags": []
   },
   "outputs": [],
   "source": [
    "## TODO on your own\n",
    "desc_tfidf = TfidfVectorizer(ngram_range=(1,5), min_df=0, stop_words=\"english\").fit_transform(descs)"
   ]
  },
  {
   "cell_type": "code",
   "execution_count": 47,
   "id": "206d05c6-4ec3-4b1e-88c7-3a0c9cc5981c",
   "metadata": {
    "tags": []
   },
   "outputs": [
    {
     "data": {
      "text/plain": [
       "<2768x283762 sparse matrix of type '<class 'numpy.float64'>'\n",
       "\twith 345888 stored elements in Compressed Sparse Row format>"
      ]
     },
     "execution_count": 47,
     "metadata": {},
     "output_type": "execute_result"
    }
   ],
   "source": [
    "desc_tfidf"
   ]
  },
  {
   "cell_type": "code",
   "execution_count": 49,
   "id": "8488abfd-d9ed-46f6-b749-3085a54d8abc",
   "metadata": {
    "tags": []
   },
   "outputs": [],
   "source": [
    "desc_sims = linear_kernel(desc_tfidf)"
   ]
  },
  {
   "cell_type": "code",
   "execution_count": 60,
   "id": "5c844978-9000-4b5c-9d90-1f4d2e70e2ba",
   "metadata": {
    "tags": []
   },
   "outputs": [],
   "source": [
    "def precompute_similar(DB, sims, K=10):\n",
    "    similars=[]\n",
    "    for idi, item in enumerate(DB):\n",
    "        sim_item_idxs = sims[idi].argsort()[-(K+1):-1]\n",
    "        \n",
    "        sim_items = [(sims[idi][i], i) for i in sim_item_idxs]\n",
    "        similars.append(sim_items[::-1])\n",
    "    return similars\n",
    "\n",
    "def recommend(db, similars, movie_id, num=2):\n",
    "    print(\"Recommending \" + str(num) + \" item(s) similar to \" + db[movie_id])\n",
    "    for rec in similars[movie_id][:num]:\n",
    "        print(\"\\t (score: %7.4f) - %s\" % (rec[0], db[rec[1]]))\n",
    "        \n",
    "        \n",
    "def recommend_by_purchases(items, DB, mat, K=5):\n",
    "    user_profile = np.mean(mat[items,:], axis=0)\n",
    "    sims_v=linear_kernel(mat, np.asarray(user_profile))\n",
    "\n",
    "    sims=[ (v[0],i) for i,v in enumerate(sims_v)]\n",
    "    sims.sort()\n",
    "    sims.reverse()\n",
    "    \n",
    "    print(\"User has bought: \")\n",
    "    for item in items:\n",
    "        print(\"\\t\", DB[item])\n",
    "    print(\"It is then recommended:\")\n",
    "    for i in range(K):\n",
    "        if i not in items:\n",
    "            s, item = sims[i]\n",
    "            print(\"\\t (score: %7.4f) - %s\" % (s, DB[item]))"
   ]
  },
  {
   "cell_type": "code",
   "execution_count": 65,
   "id": "de189a15-db73-4b02-a1b7-9a4e6903e084",
   "metadata": {
    "tags": []
   },
   "outputs": [
    {
     "data": {
      "text/plain": [
       "[(2425, 'Predestination')]"
      ]
     },
     "execution_count": 65,
     "metadata": {},
     "output_type": "execute_result"
    }
   ],
   "source": [
    "list(filter(lambda x: x[1]==\"Predestination\", enumerate(titles)))"
   ]
  },
  {
   "cell_type": "code",
   "execution_count": 57,
   "id": "bbb2c6e9-4657-4a5a-9a8e-317353e68a30",
   "metadata": {
    "tags": []
   },
   "outputs": [],
   "source": [
    "most_similars = precompute_similar(titles, desc_sims)"
   ]
  },
  {
   "cell_type": "code",
   "execution_count": 66,
   "id": "eb8e58e6-2a0a-4a40-923d-3d4be35a2526",
   "metadata": {
    "tags": []
   },
   "outputs": [
    {
     "name": "stdout",
     "output_type": "stream",
     "text": [
      "Recommending 5 item(s) similar to Predestination\n",
      "\t (score:  0.0260) - Atomic Blonde\n",
      "\t (score:  0.0256) - White Oleander\n",
      "\t (score:  0.0225) - Unstoppable\n",
      "\t (score:  0.0204) - Survivor\n",
      "\t (score:  0.0204) - The Interpreter\n"
     ]
    }
   ],
   "source": [
    "recommend(titles, most_similars, 2425, 5)"
   ]
  },
  {
   "cell_type": "markdown",
   "id": "27d2d7f1-2d24-4cbe-b5a5-63aece3351c0",
   "metadata": {
    "tags": []
   },
   "source": [
    "## 2. Introduction to Collaborative Filtering\n",
    "\n",
    "Collaborative Filtering (CF) is the process of making recommendations based on the behaviour of other similar users\n",
    "\n",
    "There are two types of Collaborative Filtering\n",
    "* User-User CF - We use the users ratings to infer the best items for each user\n",
    "* Item-Item CF \n"
   ]
  },
  {
   "cell_type": "markdown",
   "id": "399ab636-548e-4c3f-8df6-b5f5b48cb99c",
   "metadata": {},
   "source": [
    "\n",
    "### 2.1Introduction to Collaborative Filtering\n",
    "\n",
    "The key issue in Collaborative Filtering is to identify similarities between individuals or items (rows or columns) with many missing data.\n",
    "\n",
    "For that purpose the general procedure is as follows:\n",
    "\n",
    "1. Center the data set according to the row average\n",
    "2. compute the similarities using any metric - generally the Cosine Similarity\n",
    "\n",
    "Let's start with the example shown in class with the ratings of 4 users to 7 movies. Note that if a user did not rate a movie, it does not mean that it is zero, but rather that it is unknown. The purpose of collaborative Filtering is to discover those unknowns!"
   ]
  },
  {
   "cell_type": "code",
   "execution_count": 67,
   "id": "07fec583-d934-4cf3-99af-4e82b47f873e",
   "metadata": {
    "tags": []
   },
   "outputs": [
    {
     "data": {
      "text/html": [
       "<div>\n",
       "<style scoped>\n",
       "    .dataframe tbody tr th:only-of-type {\n",
       "        vertical-align: middle;\n",
       "    }\n",
       "\n",
       "    .dataframe tbody tr th {\n",
       "        vertical-align: top;\n",
       "    }\n",
       "\n",
       "    .dataframe thead th {\n",
       "        text-align: right;\n",
       "    }\n",
       "</style>\n",
       "<table border=\"1\" class=\"dataframe\">\n",
       "  <thead>\n",
       "    <tr style=\"text-align: right;\">\n",
       "      <th></th>\n",
       "      <th>HP1</th>\n",
       "      <th>HP2</th>\n",
       "      <th>HP3</th>\n",
       "      <th>TW</th>\n",
       "      <th>SW1</th>\n",
       "      <th>SW2</th>\n",
       "      <th>SW3</th>\n",
       "    </tr>\n",
       "  </thead>\n",
       "  <tbody>\n",
       "    <tr>\n",
       "      <th>A</th>\n",
       "      <td>4.0</td>\n",
       "      <td>NaN</td>\n",
       "      <td>NaN</td>\n",
       "      <td>5.0</td>\n",
       "      <td>1.0</td>\n",
       "      <td>NaN</td>\n",
       "      <td>NaN</td>\n",
       "    </tr>\n",
       "    <tr>\n",
       "      <th>B</th>\n",
       "      <td>5.0</td>\n",
       "      <td>5.0</td>\n",
       "      <td>4.0</td>\n",
       "      <td>NaN</td>\n",
       "      <td>NaN</td>\n",
       "      <td>NaN</td>\n",
       "      <td>NaN</td>\n",
       "    </tr>\n",
       "    <tr>\n",
       "      <th>C</th>\n",
       "      <td>NaN</td>\n",
       "      <td>NaN</td>\n",
       "      <td>NaN</td>\n",
       "      <td>2.0</td>\n",
       "      <td>4.0</td>\n",
       "      <td>5.0</td>\n",
       "      <td>NaN</td>\n",
       "    </tr>\n",
       "    <tr>\n",
       "      <th>D</th>\n",
       "      <td>NaN</td>\n",
       "      <td>3.0</td>\n",
       "      <td>NaN</td>\n",
       "      <td>NaN</td>\n",
       "      <td>NaN</td>\n",
       "      <td>NaN</td>\n",
       "      <td>2.0</td>\n",
       "    </tr>\n",
       "  </tbody>\n",
       "</table>\n",
       "</div>"
      ],
      "text/plain": [
       "   HP1  HP2  HP3   TW  SW1  SW2  SW3\n",
       "A  4.0  NaN  NaN  5.0  1.0  NaN  NaN\n",
       "B  5.0  5.0  4.0  NaN  NaN  NaN  NaN\n",
       "C  NaN  NaN  NaN  2.0  4.0  5.0  NaN\n",
       "D  NaN  3.0  NaN  NaN  NaN  NaN  2.0"
      ]
     },
     "execution_count": 67,
     "metadata": {},
     "output_type": "execute_result"
    }
   ],
   "source": [
    "D={\"HP1\": np.array([4,5,np.nan,np.nan]),\n",
    "   \"HP2\": np.array([np.nan,5,np.nan,3]),\n",
    "   \"HP3\": np.array([np.nan,4,np.nan,np.nan]),\n",
    "   \"TW\":  np.array([5, np.nan,2,np.nan]),\n",
    "   \"SW1\": np.array([1, np.nan,4,np.nan]),\n",
    "   \"SW2\": np.array([np.nan,np.nan,5,np.nan]),\n",
    "   \"SW3\": np.array([np.nan,np.nan,np.nan, 2])}\n",
    "df=pd.DataFrame(D)\n",
    "df.index=[\"A\", \"B\", \"C\", \"D\"]\n",
    "df"
   ]
  },
  {
   "cell_type": "code",
   "execution_count": 79,
   "id": "4c5fce5b-4b46-402e-823b-7ef0cfdbc4b6",
   "metadata": {
    "tags": []
   },
   "outputs": [
    {
     "data": {
      "text/plain": [
       "array([3.33333333, 4.66666667, 3.66666667, 2.5       ])"
      ]
     },
     "execution_count": 79,
     "metadata": {},
     "output_type": "execute_result"
    }
   ],
   "source": [
    "np.nanmean(df,axis=1)"
   ]
  },
  {
   "cell_type": "code",
   "execution_count": 80,
   "id": "eed9d9e0-f8dc-4c09-896f-09ff98a0edc6",
   "metadata": {
    "tags": []
   },
   "outputs": [
    {
     "data": {
      "text/plain": [
       "array([3.33333333, 4.66666667, 3.66666667, 2.5       ])"
      ]
     },
     "execution_count": 80,
     "metadata": {},
     "output_type": "execute_result"
    }
   ],
   "source": []
  },
  {
   "cell_type": "markdown",
   "id": "3b367316-f69d-49d9-836b-113a4d5d2432",
   "metadata": {},
   "source": [
    "We can intrinsically perceive that Person A is probably more similar to B than to C, as the only movie they commonly watched (HP1) they gave it similar rankings. On the other hand person A and C did had divergent opinions on TW and SW1\n",
    "\n",
    "Rather interestingly, Persons B and C do not share a single movie watched, and thus should be perhaps neutral to each other\n",
    "\n",
    "#### Step 1. Centering the Matrix\n",
    "\n",
    "The first step is to center the is matrix by subtracting the mean of each user, and as such the previous table will have positive and negative values \n",
    "\n",
    "This way we will assume that if a given movie has not been rated by a person it will have the average of that person ratings"
   ]
  },
  {
   "cell_type": "code",
   "execution_count": 88,
   "id": "1f4c532c-cc98-4300-ab81-b97a8c506552",
   "metadata": {
    "tags": []
   },
   "outputs": [
    {
     "data": {
      "text/plain": [
       "array([3.33333333, 4.66666667, 3.66666667, 2.5       ])"
      ]
     },
     "execution_count": 88,
     "metadata": {},
     "output_type": "execute_result"
    }
   ],
   "source": [
    "np.nanmean(df, axis=1)"
   ]
  },
  {
   "cell_type": "code",
   "execution_count": 95,
   "id": "2dab2ae5-6b47-4dc6-8674-e9fc5511a6c1",
   "metadata": {
    "tags": []
   },
   "outputs": [
    {
     "data": {
      "text/html": [
       "<div>\n",
       "<style scoped>\n",
       "    .dataframe tbody tr th:only-of-type {\n",
       "        vertical-align: middle;\n",
       "    }\n",
       "\n",
       "    .dataframe tbody tr th {\n",
       "        vertical-align: top;\n",
       "    }\n",
       "\n",
       "    .dataframe thead th {\n",
       "        text-align: right;\n",
       "    }\n",
       "</style>\n",
       "<table border=\"1\" class=\"dataframe\">\n",
       "  <thead>\n",
       "    <tr style=\"text-align: right;\">\n",
       "      <th></th>\n",
       "      <th>HP1</th>\n",
       "      <th>HP2</th>\n",
       "      <th>HP3</th>\n",
       "      <th>TW</th>\n",
       "      <th>SW1</th>\n",
       "      <th>SW2</th>\n",
       "      <th>SW3</th>\n",
       "    </tr>\n",
       "  </thead>\n",
       "  <tbody>\n",
       "    <tr>\n",
       "      <th>A</th>\n",
       "      <td>4.0</td>\n",
       "      <td>NaN</td>\n",
       "      <td>NaN</td>\n",
       "      <td>5.0</td>\n",
       "      <td>1.0</td>\n",
       "      <td>NaN</td>\n",
       "      <td>NaN</td>\n",
       "    </tr>\n",
       "    <tr>\n",
       "      <th>B</th>\n",
       "      <td>5.0</td>\n",
       "      <td>5.0</td>\n",
       "      <td>4.0</td>\n",
       "      <td>NaN</td>\n",
       "      <td>NaN</td>\n",
       "      <td>NaN</td>\n",
       "      <td>NaN</td>\n",
       "    </tr>\n",
       "    <tr>\n",
       "      <th>C</th>\n",
       "      <td>NaN</td>\n",
       "      <td>NaN</td>\n",
       "      <td>NaN</td>\n",
       "      <td>2.0</td>\n",
       "      <td>4.0</td>\n",
       "      <td>5.0</td>\n",
       "      <td>NaN</td>\n",
       "    </tr>\n",
       "    <tr>\n",
       "      <th>D</th>\n",
       "      <td>NaN</td>\n",
       "      <td>3.0</td>\n",
       "      <td>NaN</td>\n",
       "      <td>NaN</td>\n",
       "      <td>NaN</td>\n",
       "      <td>NaN</td>\n",
       "      <td>2.0</td>\n",
       "    </tr>\n",
       "  </tbody>\n",
       "</table>\n",
       "</div>"
      ],
      "text/plain": [
       "   HP1  HP2  HP3   TW  SW1  SW2  SW3\n",
       "A  4.0  NaN  NaN  5.0  1.0  NaN  NaN\n",
       "B  5.0  5.0  4.0  NaN  NaN  NaN  NaN\n",
       "C  NaN  NaN  NaN  2.0  4.0  5.0  NaN\n",
       "D  NaN  3.0  NaN  NaN  NaN  NaN  2.0"
      ]
     },
     "execution_count": 95,
     "metadata": {},
     "output_type": "execute_result"
    }
   ],
   "source": [
    "df"
   ]
  },
  {
   "cell_type": "code",
   "execution_count": 99,
   "id": "b067d4d5-f1b0-4385-b2d5-1a3f1a5f1c15",
   "metadata": {
    "tags": []
   },
   "outputs": [],
   "source": [
    "def RowCenterMatrix(M):\n",
    "    mat= np.nanmean(M, axis=1)\n",
    "    MC = M.T - mat\n",
    "    MC[np.isnan(MC)]=0\n",
    "    return MC.T"
   ]
  },
  {
   "cell_type": "code",
   "execution_count": 100,
   "id": "eaf26763-50aa-4c0f-b0b4-58f4e5be5f85",
   "metadata": {
    "tags": []
   },
   "outputs": [
    {
     "data": {
      "text/html": [
       "<div>\n",
       "<style scoped>\n",
       "    .dataframe tbody tr th:only-of-type {\n",
       "        vertical-align: middle;\n",
       "    }\n",
       "\n",
       "    .dataframe tbody tr th {\n",
       "        vertical-align: top;\n",
       "    }\n",
       "\n",
       "    .dataframe thead th {\n",
       "        text-align: right;\n",
       "    }\n",
       "</style>\n",
       "<table border=\"1\" class=\"dataframe\">\n",
       "  <thead>\n",
       "    <tr style=\"text-align: right;\">\n",
       "      <th></th>\n",
       "      <th>HP1</th>\n",
       "      <th>HP2</th>\n",
       "      <th>HP3</th>\n",
       "      <th>TW</th>\n",
       "      <th>SW1</th>\n",
       "      <th>SW2</th>\n",
       "      <th>SW3</th>\n",
       "    </tr>\n",
       "  </thead>\n",
       "  <tbody>\n",
       "    <tr>\n",
       "      <th>A</th>\n",
       "      <td>0.666667</td>\n",
       "      <td>0.000000</td>\n",
       "      <td>0.000000</td>\n",
       "      <td>1.666667</td>\n",
       "      <td>-2.333333</td>\n",
       "      <td>0.000000</td>\n",
       "      <td>0.0</td>\n",
       "    </tr>\n",
       "    <tr>\n",
       "      <th>B</th>\n",
       "      <td>0.333333</td>\n",
       "      <td>0.333333</td>\n",
       "      <td>-0.666667</td>\n",
       "      <td>0.000000</td>\n",
       "      <td>0.000000</td>\n",
       "      <td>0.000000</td>\n",
       "      <td>0.0</td>\n",
       "    </tr>\n",
       "    <tr>\n",
       "      <th>C</th>\n",
       "      <td>0.000000</td>\n",
       "      <td>0.000000</td>\n",
       "      <td>0.000000</td>\n",
       "      <td>-1.666667</td>\n",
       "      <td>0.333333</td>\n",
       "      <td>1.333333</td>\n",
       "      <td>0.0</td>\n",
       "    </tr>\n",
       "    <tr>\n",
       "      <th>D</th>\n",
       "      <td>0.000000</td>\n",
       "      <td>0.500000</td>\n",
       "      <td>0.000000</td>\n",
       "      <td>0.000000</td>\n",
       "      <td>0.000000</td>\n",
       "      <td>0.000000</td>\n",
       "      <td>-0.5</td>\n",
       "    </tr>\n",
       "  </tbody>\n",
       "</table>\n",
       "</div>"
      ],
      "text/plain": [
       "        HP1       HP2       HP3        TW       SW1       SW2  SW3\n",
       "A  0.666667  0.000000  0.000000  1.666667 -2.333333  0.000000  0.0\n",
       "B  0.333333  0.333333 -0.666667  0.000000  0.000000  0.000000  0.0\n",
       "C  0.000000  0.000000  0.000000 -1.666667  0.333333  1.333333  0.0\n",
       "D  0.000000  0.500000  0.000000  0.000000  0.000000  0.000000 -0.5"
      ]
     },
     "execution_count": 100,
     "metadata": {},
     "output_type": "execute_result"
    }
   ],
   "source": [
    "\n",
    "\n",
    "VC=RowCenterMatrix(df.values)\n",
    "\n",
    "dfc=pd.DataFrame(VC)\n",
    "dfc.columns=df.columns\n",
    "dfc.index=df.index\n",
    "dfc"
   ]
  },
  {
   "cell_type": "markdown",
   "id": "193af891-dd34-4287-b299-748120ca192e",
   "metadata": {},
   "source": [
    "#### Step 2. Compute the Similarity Matrix\n",
    "\n",
    "Now that we have the ratings-matrix centered we can in fact apply the Cosine Similarity to identify the most similar persons"
   ]
  },
  {
   "cell_type": "code",
   "execution_count": 101,
   "id": "730292da-b947-40b4-a447-27baca9fdb2d",
   "metadata": {
    "tags": []
   },
   "outputs": [],
   "source": [
    "#cos sim\n",
    "def CosSim(A, B):\n",
    "    Norm_A = np.sqrt(np.sum(A*A))\n",
    "    Norm_B = np.sqrt(np.sum(B*B))\n",
    "    return np.sum(A*B)/(Norm_A*Norm_B)"
   ]
  },
  {
   "cell_type": "markdown",
   "id": "07383348-1581-407d-b9ca-f47d88285927",
   "metadata": {},
   "source": [
    "With this similarity function we can now verify the similarities between people, and verify our previous intuition\n"
   ]
  },
  {
   "cell_type": "code",
   "execution_count": 102,
   "id": "9fef3c3a-d4a9-41d6-952b-44bb59c64ef6",
   "metadata": {
    "tags": []
   },
   "outputs": [
    {
     "name": "stdout",
     "output_type": "stream",
     "text": [
      "Sim User A and B:  0.0925\n",
      "Sim User A and C: -0.5591\n",
      "Sim User B and C:  0.0000\n"
     ]
    }
   ],
   "source": [
    "#Similarity users:\n",
    "print(\"Sim User A and B: %7.4f\" % CosSim(VC[0], VC[1]))\n",
    "print(\"Sim User A and C: %7.4f\" % CosSim(VC[0], VC[2]))\n",
    "print(\"Sim User B and C: %7.4f\" % CosSim(VC[1], VC[2]))\n",
    "#VC[0]"
   ]
  },
  {
   "cell_type": "markdown",
   "id": "32dad473-e253-4850-aadf-29107ab2f9df",
   "metadata": {},
   "source": [
    "The above procedure is adequate for comparing 2 rows of the same matrix. We can generalize it easily for making a Person x Person matrix using the centered data as above"
   ]
  },
  {
   "cell_type": "code",
   "execution_count": 118,
   "id": "5699ea80-9156-4728-8da2-b0dafba5c6f9",
   "metadata": {
    "tags": []
   },
   "outputs": [],
   "source": [
    "def CosSim_Matrix(M):\n",
    "    norms=np.sqrt(np.sum(M*M, axis=1))\n",
    "    norms[norms<0.001]=0.001  #this will solve rows or cols without variance\n",
    "\n",
    "    norms_M = np.outer(norms, norms)\n",
    "    VC=M.copy()\n",
    "    return np.dot(VC, VC.T)/norms_M"
   ]
  },
  {
   "cell_type": "code",
   "execution_count": 119,
   "id": "4dfb4e8b-0e81-46cd-8c4b-84a3e5d63017",
   "metadata": {
    "tags": []
   },
   "outputs": [
    {
     "data": {
      "text/html": [
       "<div>\n",
       "<style scoped>\n",
       "    .dataframe tbody tr th:only-of-type {\n",
       "        vertical-align: middle;\n",
       "    }\n",
       "\n",
       "    .dataframe tbody tr th {\n",
       "        vertical-align: top;\n",
       "    }\n",
       "\n",
       "    .dataframe thead th {\n",
       "        text-align: right;\n",
       "    }\n",
       "</style>\n",
       "<table border=\"1\" class=\"dataframe\">\n",
       "  <thead>\n",
       "    <tr style=\"text-align: right;\">\n",
       "      <th></th>\n",
       "      <th>A</th>\n",
       "      <th>B</th>\n",
       "      <th>C</th>\n",
       "      <th>D</th>\n",
       "    </tr>\n",
       "  </thead>\n",
       "  <tbody>\n",
       "    <tr>\n",
       "      <th>A</th>\n",
       "      <td>1.000000</td>\n",
       "      <td>0.092450</td>\n",
       "      <td>-0.559085</td>\n",
       "      <td>0.000000</td>\n",
       "    </tr>\n",
       "    <tr>\n",
       "      <th>B</th>\n",
       "      <td>0.092450</td>\n",
       "      <td>1.000000</td>\n",
       "      <td>0.000000</td>\n",
       "      <td>0.288675</td>\n",
       "    </tr>\n",
       "    <tr>\n",
       "      <th>C</th>\n",
       "      <td>-0.559085</td>\n",
       "      <td>0.000000</td>\n",
       "      <td>1.000000</td>\n",
       "      <td>0.000000</td>\n",
       "    </tr>\n",
       "    <tr>\n",
       "      <th>D</th>\n",
       "      <td>0.000000</td>\n",
       "      <td>0.288675</td>\n",
       "      <td>0.000000</td>\n",
       "      <td>1.000000</td>\n",
       "    </tr>\n",
       "  </tbody>\n",
       "</table>\n",
       "</div>"
      ],
      "text/plain": [
       "          A         B         C         D\n",
       "A  1.000000  0.092450 -0.559085  0.000000\n",
       "B  0.092450  1.000000  0.000000  0.288675\n",
       "C -0.559085  0.000000  1.000000  0.000000\n",
       "D  0.000000  0.288675  0.000000  1.000000"
      ]
     },
     "execution_count": 119,
     "metadata": {},
     "output_type": "execute_result"
    }
   ],
   "source": [
    "sim_mat = CosSim_Matrix(VC)\n",
    "sims=pd.DataFrame(sim_mat)\n",
    "sims.columns=df.index\n",
    "sims.index=df.index\n",
    "sims"
   ]
  },
  {
   "cell_type": "markdown",
   "id": "5bdbc19d-1ed7-4799-958f-40f45d964157",
   "metadata": {},
   "source": [
    "#### Exercises \n",
    "Analize the previous matrix similarity matrix. \n",
    "* What are the most dissimilar users?\n",
    "* what are the most similar Users?\n",
    "\n",
    "\n",
    "#### Step 3. Making predictions\n",
    "\n",
    "For making predictions, we will use the most similar users found. There are two common approaches, with many, more sophisticated, tweaks\n",
    "\n",
    "* Compute the average of the most similar users\n",
    "* Do a weighted sum of the most similar users, using the user similarity\n",
    "\n",
    "This last approach is essentially the same procedure we will use for Item-Item collaborative filtering and will be described next"
   ]
  },
  {
   "cell_type": "markdown",
   "id": "1621b3f9-d886-4c5b-bd4a-700bb7ed7d92",
   "metadata": {},
   "source": [
    "\n",
    "\n",
    "### 2.2 Item - Item Collaborative filtering\n",
    "\n",
    "We will use the above procedures to preprocess a slightly larger database (also shown in class) and will start with with a Item-Item approach for making recommendations\n",
    "\n",
    "\n",
    "#### 2.2.1 Read the data set acknowledging for the missing data\n",
    "\n",
    "the `movies.csv` dataset has ratings of 12 users for 6 movies"
   ]
  },
  {
   "cell_type": "code",
   "execution_count": 120,
   "id": "9f5bd8fa-e62d-4b1d-8791-cc9679d224d9",
   "metadata": {
    "tags": []
   },
   "outputs": [
    {
     "data": {
      "text/html": [
       "<div>\n",
       "<style scoped>\n",
       "    .dataframe tbody tr th:only-of-type {\n",
       "        vertical-align: middle;\n",
       "    }\n",
       "\n",
       "    .dataframe tbody tr th {\n",
       "        vertical-align: top;\n",
       "    }\n",
       "\n",
       "    .dataframe thead th {\n",
       "        text-align: right;\n",
       "    }\n",
       "</style>\n",
       "<table border=\"1\" class=\"dataframe\">\n",
       "  <thead>\n",
       "    <tr style=\"text-align: right;\">\n",
       "      <th></th>\n",
       "      <th>U1</th>\n",
       "      <th>U2</th>\n",
       "      <th>U3</th>\n",
       "      <th>U4</th>\n",
       "      <th>U5</th>\n",
       "      <th>U6</th>\n",
       "      <th>U7</th>\n",
       "      <th>U8</th>\n",
       "      <th>U9</th>\n",
       "      <th>U10</th>\n",
       "      <th>U11</th>\n",
       "      <th>U12</th>\n",
       "    </tr>\n",
       "  </thead>\n",
       "  <tbody>\n",
       "    <tr>\n",
       "      <th>M1</th>\n",
       "      <td>1.0</td>\n",
       "      <td>NaN</td>\n",
       "      <td>3.0</td>\n",
       "      <td>NaN</td>\n",
       "      <td>NaN</td>\n",
       "      <td>5.0</td>\n",
       "      <td>NaN</td>\n",
       "      <td>NaN</td>\n",
       "      <td>5.0</td>\n",
       "      <td>NaN</td>\n",
       "      <td>4</td>\n",
       "      <td>NaN</td>\n",
       "    </tr>\n",
       "    <tr>\n",
       "      <th>M2</th>\n",
       "      <td>NaN</td>\n",
       "      <td>NaN</td>\n",
       "      <td>5.0</td>\n",
       "      <td>4.0</td>\n",
       "      <td>NaN</td>\n",
       "      <td>NaN</td>\n",
       "      <td>4.0</td>\n",
       "      <td>NaN</td>\n",
       "      <td>NaN</td>\n",
       "      <td>2.0</td>\n",
       "      <td>1</td>\n",
       "      <td>3.0</td>\n",
       "    </tr>\n",
       "    <tr>\n",
       "      <th>M3</th>\n",
       "      <td>2.0</td>\n",
       "      <td>4.0</td>\n",
       "      <td>NaN</td>\n",
       "      <td>1.0</td>\n",
       "      <td>2.0</td>\n",
       "      <td>NaN</td>\n",
       "      <td>3.0</td>\n",
       "      <td>NaN</td>\n",
       "      <td>4.0</td>\n",
       "      <td>3.0</td>\n",
       "      <td>5</td>\n",
       "      <td>NaN</td>\n",
       "    </tr>\n",
       "    <tr>\n",
       "      <th>M4</th>\n",
       "      <td>NaN</td>\n",
       "      <td>2.0</td>\n",
       "      <td>4.0</td>\n",
       "      <td>NaN</td>\n",
       "      <td>5.0</td>\n",
       "      <td>NaN</td>\n",
       "      <td>NaN</td>\n",
       "      <td>4.0</td>\n",
       "      <td>NaN</td>\n",
       "      <td>NaN</td>\n",
       "      <td>2</td>\n",
       "      <td>NaN</td>\n",
       "    </tr>\n",
       "    <tr>\n",
       "      <th>M5</th>\n",
       "      <td>NaN</td>\n",
       "      <td>NaN</td>\n",
       "      <td>4.0</td>\n",
       "      <td>3.0</td>\n",
       "      <td>4.0</td>\n",
       "      <td>2.0</td>\n",
       "      <td>NaN</td>\n",
       "      <td>NaN</td>\n",
       "      <td>NaN</td>\n",
       "      <td>NaN</td>\n",
       "      <td>2</td>\n",
       "      <td>5.0</td>\n",
       "    </tr>\n",
       "    <tr>\n",
       "      <th>M6</th>\n",
       "      <td>1.0</td>\n",
       "      <td>NaN</td>\n",
       "      <td>3.0</td>\n",
       "      <td>NaN</td>\n",
       "      <td>3.0</td>\n",
       "      <td>NaN</td>\n",
       "      <td>NaN</td>\n",
       "      <td>2.0</td>\n",
       "      <td>NaN</td>\n",
       "      <td>NaN</td>\n",
       "      <td>4</td>\n",
       "      <td>NaN</td>\n",
       "    </tr>\n",
       "  </tbody>\n",
       "</table>\n",
       "</div>"
      ],
      "text/plain": [
       "     U1   U2   U3   U4   U5   U6   U7   U8   U9  U10  U11  U12\n",
       "M1  1.0  NaN  3.0  NaN  NaN  5.0  NaN  NaN  5.0  NaN    4  NaN\n",
       "M2  NaN  NaN  5.0  4.0  NaN  NaN  4.0  NaN  NaN  2.0    1  3.0\n",
       "M3  2.0  4.0  NaN  1.0  2.0  NaN  3.0  NaN  4.0  3.0    5  NaN\n",
       "M4  NaN  2.0  4.0  NaN  5.0  NaN  NaN  4.0  NaN  NaN    2  NaN\n",
       "M5  NaN  NaN  4.0  3.0  4.0  2.0  NaN  NaN  NaN  NaN    2  5.0\n",
       "M6  1.0  NaN  3.0  NaN  3.0  NaN  NaN  2.0  NaN  NaN    4  NaN"
      ]
     },
     "execution_count": 120,
     "metadata": {},
     "output_type": "execute_result"
    }
   ],
   "source": [
    "df=pd.read_csv(\"movies.csv\", index_col=0)\n",
    "df"
   ]
  },
  {
   "cell_type": "markdown",
   "id": "ebaa3591-e60a-4ea8-a853-6955f5298b71",
   "metadata": {},
   "source": [
    "#### 2.2.2. Compute the similarites bewtween rows\n",
    "\n",
    "First center the data. We can use the previously defined functions"
   ]
  },
  {
   "cell_type": "code",
   "execution_count": 121,
   "id": "a5fafdf8-cf48-4c2b-ab7b-792e78710537",
   "metadata": {
    "tags": []
   },
   "outputs": [
    {
     "data": {
      "text/html": [
       "<div>\n",
       "<style scoped>\n",
       "    .dataframe tbody tr th:only-of-type {\n",
       "        vertical-align: middle;\n",
       "    }\n",
       "\n",
       "    .dataframe tbody tr th {\n",
       "        vertical-align: top;\n",
       "    }\n",
       "\n",
       "    .dataframe thead th {\n",
       "        text-align: right;\n",
       "    }\n",
       "</style>\n",
       "<table border=\"1\" class=\"dataframe\">\n",
       "  <thead>\n",
       "    <tr style=\"text-align: right;\">\n",
       "      <th></th>\n",
       "      <th>0</th>\n",
       "      <th>1</th>\n",
       "      <th>2</th>\n",
       "      <th>3</th>\n",
       "      <th>4</th>\n",
       "      <th>5</th>\n",
       "      <th>6</th>\n",
       "      <th>7</th>\n",
       "      <th>8</th>\n",
       "      <th>9</th>\n",
       "      <th>10</th>\n",
       "      <th>11</th>\n",
       "    </tr>\n",
       "  </thead>\n",
       "  <tbody>\n",
       "    <tr>\n",
       "      <th>0</th>\n",
       "      <td>-2.6</td>\n",
       "      <td>0.0</td>\n",
       "      <td>-0.600000</td>\n",
       "      <td>0.000000</td>\n",
       "      <td>0.000000</td>\n",
       "      <td>1.400000</td>\n",
       "      <td>0.000000</td>\n",
       "      <td>0.0</td>\n",
       "      <td>1.4</td>\n",
       "      <td>0.000000</td>\n",
       "      <td>0.400000</td>\n",
       "      <td>0.000000</td>\n",
       "    </tr>\n",
       "    <tr>\n",
       "      <th>1</th>\n",
       "      <td>0.0</td>\n",
       "      <td>0.0</td>\n",
       "      <td>1.833333</td>\n",
       "      <td>0.833333</td>\n",
       "      <td>0.000000</td>\n",
       "      <td>0.000000</td>\n",
       "      <td>0.833333</td>\n",
       "      <td>0.0</td>\n",
       "      <td>0.0</td>\n",
       "      <td>-1.166667</td>\n",
       "      <td>-2.166667</td>\n",
       "      <td>-0.166667</td>\n",
       "    </tr>\n",
       "    <tr>\n",
       "      <th>2</th>\n",
       "      <td>-1.0</td>\n",
       "      <td>1.0</td>\n",
       "      <td>0.000000</td>\n",
       "      <td>-2.000000</td>\n",
       "      <td>-1.000000</td>\n",
       "      <td>0.000000</td>\n",
       "      <td>0.000000</td>\n",
       "      <td>0.0</td>\n",
       "      <td>1.0</td>\n",
       "      <td>0.000000</td>\n",
       "      <td>2.000000</td>\n",
       "      <td>0.000000</td>\n",
       "    </tr>\n",
       "    <tr>\n",
       "      <th>3</th>\n",
       "      <td>0.0</td>\n",
       "      <td>-1.4</td>\n",
       "      <td>0.600000</td>\n",
       "      <td>0.000000</td>\n",
       "      <td>1.600000</td>\n",
       "      <td>0.000000</td>\n",
       "      <td>0.000000</td>\n",
       "      <td>0.6</td>\n",
       "      <td>0.0</td>\n",
       "      <td>0.000000</td>\n",
       "      <td>-1.400000</td>\n",
       "      <td>0.000000</td>\n",
       "    </tr>\n",
       "    <tr>\n",
       "      <th>4</th>\n",
       "      <td>0.0</td>\n",
       "      <td>0.0</td>\n",
       "      <td>0.666667</td>\n",
       "      <td>-0.333333</td>\n",
       "      <td>0.666667</td>\n",
       "      <td>-1.333333</td>\n",
       "      <td>0.000000</td>\n",
       "      <td>0.0</td>\n",
       "      <td>0.0</td>\n",
       "      <td>0.000000</td>\n",
       "      <td>-1.333333</td>\n",
       "      <td>1.666667</td>\n",
       "    </tr>\n",
       "    <tr>\n",
       "      <th>5</th>\n",
       "      <td>-1.6</td>\n",
       "      <td>0.0</td>\n",
       "      <td>0.400000</td>\n",
       "      <td>0.000000</td>\n",
       "      <td>0.400000</td>\n",
       "      <td>0.000000</td>\n",
       "      <td>0.000000</td>\n",
       "      <td>-0.6</td>\n",
       "      <td>0.0</td>\n",
       "      <td>0.000000</td>\n",
       "      <td>1.400000</td>\n",
       "      <td>0.000000</td>\n",
       "    </tr>\n",
       "  </tbody>\n",
       "</table>\n",
       "</div>"
      ],
      "text/plain": [
       "    0    1         2         3         4         5         6    7    8   \\\n",
       "0 -2.6  0.0 -0.600000  0.000000  0.000000  1.400000  0.000000  0.0  1.4   \n",
       "1  0.0  0.0  1.833333  0.833333  0.000000  0.000000  0.833333  0.0  0.0   \n",
       "2 -1.0  1.0  0.000000 -2.000000 -1.000000  0.000000  0.000000  0.0  1.0   \n",
       "3  0.0 -1.4  0.600000  0.000000  1.600000  0.000000  0.000000  0.6  0.0   \n",
       "4  0.0  0.0  0.666667 -0.333333  0.666667 -1.333333  0.000000  0.0  0.0   \n",
       "5 -1.6  0.0  0.400000  0.000000  0.400000  0.000000  0.000000 -0.6  0.0   \n",
       "\n",
       "         9         10        11  \n",
       "0  0.000000  0.400000  0.000000  \n",
       "1 -1.166667 -2.166667 -0.166667  \n",
       "2  0.000000  2.000000  0.000000  \n",
       "3  0.000000 -1.400000  0.000000  \n",
       "4  0.000000 -1.333333  1.666667  \n",
       "5  0.000000  1.400000  0.000000  "
      ]
     },
     "execution_count": 121,
     "metadata": {},
     "output_type": "execute_result"
    }
   ],
   "source": [
    "VC=RowCenterMatrix(df.values)\n",
    "pd.DataFrame(VC)"
   ]
  },
  {
   "cell_type": "markdown",
   "id": "b47b07fc-bca4-4593-b529-fc81b4739954",
   "metadata": {},
   "source": [
    "Now compute the similarities between Rows (Movies)"
   ]
  },
  {
   "cell_type": "code",
   "execution_count": 158,
   "id": "284fd62b-ee1c-46c5-8806-7e701cc9a971",
   "metadata": {
    "tags": []
   },
   "outputs": [
    {
     "data": {
      "text/html": [
       "<div>\n",
       "<style scoped>\n",
       "    .dataframe tbody tr th:only-of-type {\n",
       "        vertical-align: middle;\n",
       "    }\n",
       "\n",
       "    .dataframe tbody tr th {\n",
       "        vertical-align: top;\n",
       "    }\n",
       "\n",
       "    .dataframe thead th {\n",
       "        text-align: right;\n",
       "    }\n",
       "</style>\n",
       "<table border=\"1\" class=\"dataframe\">\n",
       "  <thead>\n",
       "    <tr style=\"text-align: right;\">\n",
       "      <th></th>\n",
       "      <th>M1</th>\n",
       "      <th>M2</th>\n",
       "      <th>M3</th>\n",
       "      <th>M4</th>\n",
       "      <th>M5</th>\n",
       "      <th>M6</th>\n",
       "    </tr>\n",
       "  </thead>\n",
       "  <tbody>\n",
       "    <tr>\n",
       "      <th>M1</th>\n",
       "      <td>1.000000</td>\n",
       "      <td>-0.178542</td>\n",
       "      <td>0.414039</td>\n",
       "      <td>-0.102450</td>\n",
       "      <td>-0.308957</td>\n",
       "      <td>0.587040</td>\n",
       "    </tr>\n",
       "    <tr>\n",
       "      <th>M2</th>\n",
       "      <td>-0.178542</td>\n",
       "      <td>1.000000</td>\n",
       "      <td>-0.526235</td>\n",
       "      <td>0.468008</td>\n",
       "      <td>0.398911</td>\n",
       "      <td>-0.306440</td>\n",
       "    </tr>\n",
       "    <tr>\n",
       "      <th>M3</th>\n",
       "      <td>0.414039</td>\n",
       "      <td>-0.526235</td>\n",
       "      <td>1.000000</td>\n",
       "      <td>-0.623981</td>\n",
       "      <td>-0.284268</td>\n",
       "      <td>0.506370</td>\n",
       "    </tr>\n",
       "    <tr>\n",
       "      <th>M4</th>\n",
       "      <td>-0.102450</td>\n",
       "      <td>0.468008</td>\n",
       "      <td>-0.623981</td>\n",
       "      <td>1.000000</td>\n",
       "      <td>0.458735</td>\n",
       "      <td>-0.235339</td>\n",
       "    </tr>\n",
       "    <tr>\n",
       "      <th>M5</th>\n",
       "      <td>-0.308957</td>\n",
       "      <td>0.398911</td>\n",
       "      <td>-0.284268</td>\n",
       "      <td>0.458735</td>\n",
       "      <td>1.000000</td>\n",
       "      <td>-0.215917</td>\n",
       "    </tr>\n",
       "    <tr>\n",
       "      <th>M6</th>\n",
       "      <td>0.587040</td>\n",
       "      <td>-0.306440</td>\n",
       "      <td>0.506370</td>\n",
       "      <td>-0.235339</td>\n",
       "      <td>-0.215917</td>\n",
       "      <td>1.000000</td>\n",
       "    </tr>\n",
       "  </tbody>\n",
       "</table>\n",
       "</div>"
      ],
      "text/plain": [
       "          M1        M2        M3        M4        M5        M6\n",
       "M1  1.000000 -0.178542  0.414039 -0.102450 -0.308957  0.587040\n",
       "M2 -0.178542  1.000000 -0.526235  0.468008  0.398911 -0.306440\n",
       "M3  0.414039 -0.526235  1.000000 -0.623981 -0.284268  0.506370\n",
       "M4 -0.102450  0.468008 -0.623981  1.000000  0.458735 -0.235339\n",
       "M5 -0.308957  0.398911 -0.284268  0.458735  1.000000 -0.215917\n",
       "M6  0.587040 -0.306440  0.506370 -0.235339 -0.215917  1.000000"
      ]
     },
     "execution_count": 158,
     "metadata": {},
     "output_type": "execute_result"
    }
   ],
   "source": [
    "sim_mat = CosSim_Matrix(VC)\n",
    "sim_movies=pd.DataFrame(sim_mat, columns=df.index, index=df.index)\n",
    "sim_movies\n"
   ]
  },
  {
   "cell_type": "markdown",
   "id": "9d07f9bd-045b-4ebc-b267-8693e5528c83",
   "metadata": {},
   "source": [
    "#### 2.2.3  Global Baseline approach \n",
    "\n",
    "For any Item, the Global BaseLine approach is\n",
    "$$\n",
    "    GBA_{u,i} = M + D_i + D_u\n",
    "$$\n",
    "\n",
    "where $M$ is the average Item rating for all items and users, $D_i$ is the difference between the global average and the average of that item, and $D_u$ is the difference of the ratios of user $i$ to the global average\n",
    "\n"
   ]
  },
  {
   "cell_type": "code",
   "execution_count": 159,
   "id": "b19ebea8-ed16-4614-91f0-9d582971a781",
   "metadata": {
    "tags": []
   },
   "outputs": [
    {
     "data": {
      "text/html": [
       "<div>\n",
       "<style scoped>\n",
       "    .dataframe tbody tr th:only-of-type {\n",
       "        vertical-align: middle;\n",
       "    }\n",
       "\n",
       "    .dataframe tbody tr th {\n",
       "        vertical-align: top;\n",
       "    }\n",
       "\n",
       "    .dataframe thead th {\n",
       "        text-align: right;\n",
       "    }\n",
       "</style>\n",
       "<table border=\"1\" class=\"dataframe\">\n",
       "  <thead>\n",
       "    <tr style=\"text-align: right;\">\n",
       "      <th></th>\n",
       "      <th>0</th>\n",
       "      <th>1</th>\n",
       "      <th>2</th>\n",
       "      <th>3</th>\n",
       "      <th>4</th>\n",
       "      <th>5</th>\n",
       "      <th>6</th>\n",
       "      <th>7</th>\n",
       "      <th>8</th>\n",
       "      <th>9</th>\n",
       "      <th>10</th>\n",
       "      <th>11</th>\n",
       "    </tr>\n",
       "  </thead>\n",
       "  <tbody>\n",
       "    <tr>\n",
       "      <th>0</th>\n",
       "      <td>1.761905</td>\n",
       "      <td>3.428571</td>\n",
       "      <td>4.228571</td>\n",
       "      <td>3.095238</td>\n",
       "      <td>3.928571</td>\n",
       "      <td>3.928571</td>\n",
       "      <td>3.928571</td>\n",
       "      <td>3.428571</td>\n",
       "      <td>4.928571</td>\n",
       "      <td>2.928571</td>\n",
       "      <td>3.428571</td>\n",
       "      <td>4.428571</td>\n",
       "    </tr>\n",
       "    <tr>\n",
       "      <th>1</th>\n",
       "      <td>1.328571</td>\n",
       "      <td>2.995238</td>\n",
       "      <td>3.795238</td>\n",
       "      <td>2.661905</td>\n",
       "      <td>3.495238</td>\n",
       "      <td>3.495238</td>\n",
       "      <td>3.495238</td>\n",
       "      <td>2.995238</td>\n",
       "      <td>4.495238</td>\n",
       "      <td>2.495238</td>\n",
       "      <td>2.995238</td>\n",
       "      <td>3.995238</td>\n",
       "    </tr>\n",
       "    <tr>\n",
       "      <th>2</th>\n",
       "      <td>1.161905</td>\n",
       "      <td>2.828571</td>\n",
       "      <td>3.628571</td>\n",
       "      <td>2.495238</td>\n",
       "      <td>3.328571</td>\n",
       "      <td>3.328571</td>\n",
       "      <td>3.328571</td>\n",
       "      <td>2.828571</td>\n",
       "      <td>4.328571</td>\n",
       "      <td>2.328571</td>\n",
       "      <td>2.828571</td>\n",
       "      <td>3.828571</td>\n",
       "    </tr>\n",
       "    <tr>\n",
       "      <th>3</th>\n",
       "      <td>1.561905</td>\n",
       "      <td>3.228571</td>\n",
       "      <td>4.028571</td>\n",
       "      <td>2.895238</td>\n",
       "      <td>3.728571</td>\n",
       "      <td>3.728571</td>\n",
       "      <td>3.728571</td>\n",
       "      <td>3.228571</td>\n",
       "      <td>4.728571</td>\n",
       "      <td>2.728571</td>\n",
       "      <td>3.228571</td>\n",
       "      <td>4.228571</td>\n",
       "    </tr>\n",
       "    <tr>\n",
       "      <th>4</th>\n",
       "      <td>1.495238</td>\n",
       "      <td>3.161905</td>\n",
       "      <td>3.961905</td>\n",
       "      <td>2.828571</td>\n",
       "      <td>3.661905</td>\n",
       "      <td>3.661905</td>\n",
       "      <td>3.661905</td>\n",
       "      <td>3.161905</td>\n",
       "      <td>4.661905</td>\n",
       "      <td>2.661905</td>\n",
       "      <td>3.161905</td>\n",
       "      <td>4.161905</td>\n",
       "    </tr>\n",
       "    <tr>\n",
       "      <th>5</th>\n",
       "      <td>0.761905</td>\n",
       "      <td>2.428571</td>\n",
       "      <td>3.228571</td>\n",
       "      <td>2.095238</td>\n",
       "      <td>2.928571</td>\n",
       "      <td>2.928571</td>\n",
       "      <td>2.928571</td>\n",
       "      <td>2.428571</td>\n",
       "      <td>3.928571</td>\n",
       "      <td>1.928571</td>\n",
       "      <td>2.428571</td>\n",
       "      <td>3.428571</td>\n",
       "    </tr>\n",
       "  </tbody>\n",
       "</table>\n",
       "</div>"
      ],
      "text/plain": [
       "         0         1         2         3         4         5         6   \\\n",
       "0  1.761905  3.428571  4.228571  3.095238  3.928571  3.928571  3.928571   \n",
       "1  1.328571  2.995238  3.795238  2.661905  3.495238  3.495238  3.495238   \n",
       "2  1.161905  2.828571  3.628571  2.495238  3.328571  3.328571  3.328571   \n",
       "3  1.561905  3.228571  4.028571  2.895238  3.728571  3.728571  3.728571   \n",
       "4  1.495238  3.161905  3.961905  2.828571  3.661905  3.661905  3.661905   \n",
       "5  0.761905  2.428571  3.228571  2.095238  2.928571  2.928571  2.928571   \n",
       "\n",
       "         7         8         9         10        11  \n",
       "0  3.428571  4.928571  2.928571  3.428571  4.428571  \n",
       "1  2.995238  4.495238  2.495238  2.995238  3.995238  \n",
       "2  2.828571  4.328571  2.328571  2.828571  3.828571  \n",
       "3  3.228571  4.728571  2.728571  3.228571  4.228571  \n",
       "4  3.161905  4.661905  2.661905  3.161905  4.161905  \n",
       "5  2.428571  3.928571  1.928571  2.428571  3.428571  "
      ]
     },
     "execution_count": 159,
     "metadata": {},
     "output_type": "execute_result"
    }
   ],
   "source": [
    "def make_GBAMatrix(df):\n",
    "    Mat=df.values\n",
    "\n",
    "    M = np.nanmean(Mat)\n",
    "    col_means = np.nanmean(Mat, axis=0)\n",
    "    D_cols    = np.ones(Mat.shape)*col_means-M\n",
    "    pd.DataFrame(D_cols)\n",
    "\n",
    "    TMat=Mat.T\n",
    "    row_means = np.nanmean(TMat, axis=0)\n",
    "    D_rows    = np.ones(TMat.shape)*row_means-M\n",
    "    D_rows    = D_rows.T\n",
    "\n",
    "    return M+D_cols+D_rows\n",
    "\n",
    "gba=make_GBAMatrix(df)\n",
    "pd.DataFrame(gba)"
   ]
  },
  {
   "cell_type": "code",
   "execution_count": 160,
   "id": "620003c9-57ef-4655-9a4d-a74962ea7656",
   "metadata": {
    "tags": []
   },
   "outputs": [],
   "source": [
    "R=np.nanmean(df, axis=0)"
   ]
  },
  {
   "cell_type": "code",
   "execution_count": 161,
   "id": "c7e92c54-557c-4fcb-97a1-462f773d4475",
   "metadata": {
    "tags": []
   },
   "outputs": [],
   "source": [
    "C=np.nanmean(df, axis=1)"
   ]
  },
  {
   "cell_type": "code",
   "execution_count": 162,
   "id": "07a5eb81-224f-4744-8c6c-e772df6c6bdb",
   "metadata": {
    "tags": []
   },
   "outputs": [],
   "source": [
    "M = np.nanmean(df)"
   ]
  },
  {
   "cell_type": "markdown",
   "id": "ab44cf89-25d8-42c3-a52f-33b2f2600c24",
   "metadata": {},
   "source": [
    "#### Exercise\n",
    "* Discuss - Could there exist scores below 0 or above 5?\n",
    "    - Yes --> M = 2.5; $User_{bad} = -1.5$; $Movie_{bad} = - 1.5$\n",
    "\n"
   ]
  },
  {
   "cell_type": "markdown",
   "id": "b2a5035f-6b45-4d26-8cc5-c69a82fc9e8a",
   "metadata": {},
   "source": [
    "\n",
    "\n",
    "#### 2.2.4 Make recommendations - With collaborative Filtering\n",
    "\n",
    "Now that we have the similarity scores we just have to compute an estimated score.\n",
    "\n",
    "We just need to select a number of neighbours (the closest ones) that have actual scores and do a weighted average\n",
    "with the actual similarities\n",
    "\n",
    "This is the actual procedure we are going to use:\n",
    "\n",
    "1. For the specified row, sort descendingly the other elements according to the actual similarity matrix\n",
    "2. Filter the items with actual measured scores\n",
    "3. Select the top Nearest Neighbours elements\n",
    "4. Compute the Weighted Average according to the similarity and actual scores\n",
    "5. If there are actually no similars we are going to output the Global Baseline Average\n",
    "\n"
   ]
  },
  {
   "cell_type": "code",
   "execution_count": 163,
   "id": "1b20d3f4-d02d-4d50-a23a-e8d54fd6df5c",
   "metadata": {
    "tags": []
   },
   "outputs": [],
   "source": [
    "def estimate_score(df, SM, nn, r,c, verbose=False):\n",
    "    vals=df.values\n",
    "    N,M=vals.shape\n",
    "    sims=list(zip(SM[r], range(N)))\n",
    "    sims.sort()\n",
    "    sims.reverse()\n",
    "    cnt=0\n",
    "    S=0\n",
    "    Ssims=0\n",
    "    if verbose: print(\"row: %d - col: %d\" % (r,c))\n",
    "    for  sim, idx in sims[1:]:\n",
    "        if not np.isnan(vals[idx, c]) and sim>0:\n",
    "            cnt   += 1\n",
    "            S     += sim*vals[idx, c]\n",
    "            Ssims += sim\n",
    "            if verbose: print(\"\\tItem:%4d    Score:%4.1f (Sim: %6.3f)\" %(idx, vals[idx, c], sim))\n",
    "        if cnt>= nn: break\n",
    "        \n",
    "    #this is the situation where no nighbours were found\n",
    "    if Ssims<=0:\n",
    "        #this is very inneficient!!! <- better have it precomputed \n",
    "        if verbose: print(\"\\tNo similars: outputing the Global Baseline Average\")\n",
    "        M = np.nanmean(df.values)\n",
    "        rA= R[r]\n",
    "        cA= C[c]\n",
    "        r = min(max(rA+cA-M,0),5)\n",
    "        if verbose: print(\"\\tScore: %7.4f\" % r)\n",
    "        return r\n",
    "    \n",
    "    if verbose: print(\"\\tScore: %7.4f\" % (S/Ssims))\n",
    "    return S/Ssims\n"
   ]
  },
  {
   "cell_type": "markdown",
   "id": "1007e1a9-7708-45e0-a27e-acf9608dfea1",
   "metadata": {},
   "source": [
    "Let's estimate the score `U5` would give to `M1`"
   ]
  },
  {
   "cell_type": "code",
   "execution_count": 164,
   "id": "bf3a4d68-f145-4eab-9d54-cda78ecb9ec3",
   "metadata": {
    "tags": []
   },
   "outputs": [
    {
     "name": "stdout",
     "output_type": "stream",
     "text": [
      "row: 0 - col: 4\n",
      "\tItem:   5    Score: 3.0 (Sim:  0.587)\n",
      "\tItem:   2    Score: 2.0 (Sim:  0.414)\n",
      "\tScore:  2.5864\n"
     ]
    },
    {
     "data": {
      "text/plain": [
       "2.5864068669348175"
      ]
     },
     "execution_count": 164,
     "metadata": {},
     "output_type": "execute_result"
    }
   ],
   "source": [
    "estimate_score(df, sim_mat, 2, df.index.get_loc(\"M1\"),df.columns.get_loc(\"U5\"), True)\n"
   ]
  },
  {
   "cell_type": "markdown",
   "id": "e6d4b446-244a-497b-bff4-7602cda81b49",
   "metadata": {},
   "source": [
    "we can use this procedure for identifying any missing values in our original table\n",
    "For instance, let's compute for \n",
    "* (M2, U2)\n",
    "* (M4, U1)\n",
    "* (M3, U8)\n",
    "* (M4, U12)"
   ]
  },
  {
   "cell_type": "code",
   "execution_count": 165,
   "id": "81c8b47a-e326-46e6-997d-1c326ad0ec47",
   "metadata": {
    "tags": []
   },
   "outputs": [
    {
     "name": "stdout",
     "output_type": "stream",
     "text": [
      "row: 0 - col: 4\n",
      "\tItem:   5    Score: 3.0 (Sim:  0.587)\n",
      "\tItem:   2    Score: 2.0 (Sim:  0.414)\n",
      "\tScore:  2.5864\n",
      "row: 1 - col: 1\n",
      "\tItem:   3    Score: 2.0 (Sim:  0.468)\n",
      "\tScore:  2.0000\n",
      "row: 2 - col: 7\n",
      "\tItem:   5    Score: 2.0 (Sim:  0.506)\n",
      "\tScore:  2.0000\n",
      "row: 3 - col: 11\n",
      "\tItem:   1    Score: 3.0 (Sim:  0.468)\n",
      "\tItem:   4    Score: 5.0 (Sim:  0.459)\n",
      "\tScore:  3.9900\n",
      "row: 3 - col: 0\n",
      "\tNo similars: outputing the Global Baseline Average\n",
      "\tScore:  3.0952\n"
     ]
    }
   ],
   "source": [
    "estimate_score(df, sim_mat, 2, df.index.get_loc(\"M1\"),df.columns.get_loc(\"U5\"), True)\n",
    "estimate_score(df, sim_mat, 3, df.index.get_loc(\"M2\"),df.columns.get_loc(\"U2\"), True)\n",
    "estimate_score(df, sim_mat, 3, df.index.get_loc(\"M3\"),df.columns.get_loc(\"U8\"), True)\n",
    "estimate_score(df, sim_mat, 3, df.index.get_loc(\"M4\"),df.columns.get_loc(\"U12\"), True)\n",
    "estimate_score(df, sim_mat, 3, df.index.get_loc(\"M4\"),df.columns.get_loc(\"U1\" ), True)\n",
    "a=1"
   ]
  },
  {
   "cell_type": "markdown",
   "id": "ec5a02ba-4954-4095-a24e-a230d53e6cda",
   "metadata": {},
   "source": [
    "Note: There are other approaches that use the following function for estimating the rating of item $i$ by user $x$ ($r_{xi}$)\n",
    "\n",
    "$$\n",
    "r_{xi}=GBA_{xi}+\\frac{\\sum_{j \\in N(i;x)} {s_{ij}.(r_{ij}-GBA_{xj})}}{\\sum_{j \\in N(i;x).(s_{ij}}}\n",
    "$$\n",
    "\n",
    "where $N(i,x)$ are the nearest neighbour items of $i$ rated by user $x$, $r_{xj}$ is the rating of item $j$ by user $x$ and  $GBA_{xi}$ the global baseline average for item and user\n",
    "\n",
    "It is left as an **exercise the construction of a estimation function with this modification**\n",
    "\n",
    "\n",
    "### 2.3. User - User  Collaborative filtering\n",
    "\n",
    "User User collaborative Filtering is similar to the procedure for Item-Item and the same matrix may be used . We just need to transpose it!\n"
   ]
  },
  {
   "cell_type": "code",
   "execution_count": 166,
   "id": "0004b458-4ebd-46d2-88b4-9bc79d38e429",
   "metadata": {
    "tags": []
   },
   "outputs": [
    {
     "data": {
      "text/html": [
       "<div>\n",
       "<style scoped>\n",
       "    .dataframe tbody tr th:only-of-type {\n",
       "        vertical-align: middle;\n",
       "    }\n",
       "\n",
       "    .dataframe tbody tr th {\n",
       "        vertical-align: top;\n",
       "    }\n",
       "\n",
       "    .dataframe thead th {\n",
       "        text-align: right;\n",
       "    }\n",
       "</style>\n",
       "<table border=\"1\" class=\"dataframe\">\n",
       "  <thead>\n",
       "    <tr style=\"text-align: right;\">\n",
       "      <th></th>\n",
       "      <th>M1</th>\n",
       "      <th>M2</th>\n",
       "      <th>M3</th>\n",
       "      <th>M4</th>\n",
       "      <th>M5</th>\n",
       "      <th>M6</th>\n",
       "    </tr>\n",
       "  </thead>\n",
       "  <tbody>\n",
       "    <tr>\n",
       "      <th>U1</th>\n",
       "      <td>1.0</td>\n",
       "      <td>NaN</td>\n",
       "      <td>2.0</td>\n",
       "      <td>NaN</td>\n",
       "      <td>NaN</td>\n",
       "      <td>1.0</td>\n",
       "    </tr>\n",
       "    <tr>\n",
       "      <th>U2</th>\n",
       "      <td>NaN</td>\n",
       "      <td>NaN</td>\n",
       "      <td>4.0</td>\n",
       "      <td>2.0</td>\n",
       "      <td>NaN</td>\n",
       "      <td>NaN</td>\n",
       "    </tr>\n",
       "    <tr>\n",
       "      <th>U3</th>\n",
       "      <td>3.0</td>\n",
       "      <td>5.0</td>\n",
       "      <td>NaN</td>\n",
       "      <td>4.0</td>\n",
       "      <td>4.0</td>\n",
       "      <td>3.0</td>\n",
       "    </tr>\n",
       "    <tr>\n",
       "      <th>U4</th>\n",
       "      <td>NaN</td>\n",
       "      <td>4.0</td>\n",
       "      <td>1.0</td>\n",
       "      <td>NaN</td>\n",
       "      <td>3.0</td>\n",
       "      <td>NaN</td>\n",
       "    </tr>\n",
       "    <tr>\n",
       "      <th>U5</th>\n",
       "      <td>NaN</td>\n",
       "      <td>NaN</td>\n",
       "      <td>2.0</td>\n",
       "      <td>5.0</td>\n",
       "      <td>4.0</td>\n",
       "      <td>3.0</td>\n",
       "    </tr>\n",
       "    <tr>\n",
       "      <th>U6</th>\n",
       "      <td>5.0</td>\n",
       "      <td>NaN</td>\n",
       "      <td>NaN</td>\n",
       "      <td>NaN</td>\n",
       "      <td>2.0</td>\n",
       "      <td>NaN</td>\n",
       "    </tr>\n",
       "    <tr>\n",
       "      <th>U7</th>\n",
       "      <td>NaN</td>\n",
       "      <td>4.0</td>\n",
       "      <td>3.0</td>\n",
       "      <td>NaN</td>\n",
       "      <td>NaN</td>\n",
       "      <td>NaN</td>\n",
       "    </tr>\n",
       "    <tr>\n",
       "      <th>U8</th>\n",
       "      <td>NaN</td>\n",
       "      <td>NaN</td>\n",
       "      <td>NaN</td>\n",
       "      <td>4.0</td>\n",
       "      <td>NaN</td>\n",
       "      <td>2.0</td>\n",
       "    </tr>\n",
       "    <tr>\n",
       "      <th>U9</th>\n",
       "      <td>5.0</td>\n",
       "      <td>NaN</td>\n",
       "      <td>4.0</td>\n",
       "      <td>NaN</td>\n",
       "      <td>NaN</td>\n",
       "      <td>NaN</td>\n",
       "    </tr>\n",
       "    <tr>\n",
       "      <th>U10</th>\n",
       "      <td>NaN</td>\n",
       "      <td>2.0</td>\n",
       "      <td>3.0</td>\n",
       "      <td>NaN</td>\n",
       "      <td>NaN</td>\n",
       "      <td>NaN</td>\n",
       "    </tr>\n",
       "    <tr>\n",
       "      <th>U11</th>\n",
       "      <td>4.0</td>\n",
       "      <td>1.0</td>\n",
       "      <td>5.0</td>\n",
       "      <td>2.0</td>\n",
       "      <td>2.0</td>\n",
       "      <td>4.0</td>\n",
       "    </tr>\n",
       "    <tr>\n",
       "      <th>U12</th>\n",
       "      <td>NaN</td>\n",
       "      <td>3.0</td>\n",
       "      <td>NaN</td>\n",
       "      <td>NaN</td>\n",
       "      <td>5.0</td>\n",
       "      <td>NaN</td>\n",
       "    </tr>\n",
       "  </tbody>\n",
       "</table>\n",
       "</div>"
      ],
      "text/plain": [
       "      M1   M2   M3   M4   M5   M6\n",
       "U1   1.0  NaN  2.0  NaN  NaN  1.0\n",
       "U2   NaN  NaN  4.0  2.0  NaN  NaN\n",
       "U3   3.0  5.0  NaN  4.0  4.0  3.0\n",
       "U4   NaN  4.0  1.0  NaN  3.0  NaN\n",
       "U5   NaN  NaN  2.0  5.0  4.0  3.0\n",
       "U6   5.0  NaN  NaN  NaN  2.0  NaN\n",
       "U7   NaN  4.0  3.0  NaN  NaN  NaN\n",
       "U8   NaN  NaN  NaN  4.0  NaN  2.0\n",
       "U9   5.0  NaN  4.0  NaN  NaN  NaN\n",
       "U10  NaN  2.0  3.0  NaN  NaN  NaN\n",
       "U11  4.0  1.0  5.0  2.0  2.0  4.0\n",
       "U12  NaN  3.0  NaN  NaN  5.0  NaN"
      ]
     },
     "execution_count": 166,
     "metadata": {},
     "output_type": "execute_result"
    }
   ],
   "source": [
    "u_df=df.transpose()\n",
    "u_df"
   ]
  },
  {
   "cell_type": "markdown",
   "id": "d54dba09-07c3-44be-a538-505b26206fde",
   "metadata": {},
   "source": [
    "#### 2.3.1. Center and compute similarities\n",
    "\n",
    "We can now center the matrix and compute the user similarities as before"
   ]
  },
  {
   "cell_type": "code",
   "execution_count": 167,
   "id": "8b9fde36-a6a7-4455-a073-3bf758a92cbd",
   "metadata": {
    "tags": []
   },
   "outputs": [
    {
     "data": {
      "text/html": [
       "<div>\n",
       "<style scoped>\n",
       "    .dataframe tbody tr th:only-of-type {\n",
       "        vertical-align: middle;\n",
       "    }\n",
       "\n",
       "    .dataframe tbody tr th {\n",
       "        vertical-align: top;\n",
       "    }\n",
       "\n",
       "    .dataframe thead th {\n",
       "        text-align: right;\n",
       "    }\n",
       "</style>\n",
       "<table border=\"1\" class=\"dataframe\">\n",
       "  <thead>\n",
       "    <tr style=\"text-align: right;\">\n",
       "      <th></th>\n",
       "      <th>U1</th>\n",
       "      <th>U2</th>\n",
       "      <th>U3</th>\n",
       "      <th>U4</th>\n",
       "      <th>U5</th>\n",
       "      <th>U6</th>\n",
       "      <th>U7</th>\n",
       "      <th>U8</th>\n",
       "      <th>U9</th>\n",
       "      <th>U10</th>\n",
       "      <th>U11</th>\n",
       "      <th>U12</th>\n",
       "    </tr>\n",
       "  </thead>\n",
       "  <tbody>\n",
       "    <tr>\n",
       "      <th>U1</th>\n",
       "      <td>1.000000</td>\n",
       "      <td>0.577350</td>\n",
       "      <td>0.390360</td>\n",
       "      <td>-0.629941</td>\n",
       "      <td>-0.456435</td>\n",
       "      <td>-0.288675</td>\n",
       "      <td>-0.577350</td>\n",
       "      <td>0.288675</td>\n",
       "      <td>-0.866025</td>\n",
       "      <td>0.577350</td>\n",
       "      <td>0.235702</td>\n",
       "      <td>0.000000</td>\n",
       "    </tr>\n",
       "    <tr>\n",
       "      <th>U2</th>\n",
       "      <td>0.577350</td>\n",
       "      <td>1.000000</td>\n",
       "      <td>-0.084515</td>\n",
       "      <td>-0.545545</td>\n",
       "      <td>-0.948683</td>\n",
       "      <td>0.000000</td>\n",
       "      <td>-0.500000</td>\n",
       "      <td>-0.500000</td>\n",
       "      <td>-0.500000</td>\n",
       "      <td>0.500000</td>\n",
       "      <td>0.612372</td>\n",
       "      <td>0.000000</td>\n",
       "    </tr>\n",
       "    <tr>\n",
       "      <th>U3</th>\n",
       "      <td>0.390360</td>\n",
       "      <td>-0.084515</td>\n",
       "      <td>1.000000</td>\n",
       "      <td>0.461069</td>\n",
       "      <td>0.213809</td>\n",
       "      <td>-0.422577</td>\n",
       "      <td>0.507093</td>\n",
       "      <td>0.422577</td>\n",
       "      <td>-0.338062</td>\n",
       "      <td>-0.507093</td>\n",
       "      <td>-0.759072</td>\n",
       "      <td>-0.422577</td>\n",
       "    </tr>\n",
       "    <tr>\n",
       "      <th>U4</th>\n",
       "      <td>-0.629941</td>\n",
       "      <td>-0.545545</td>\n",
       "      <td>0.461069</td>\n",
       "      <td>1.000000</td>\n",
       "      <td>0.552052</td>\n",
       "      <td>-0.109109</td>\n",
       "      <td>0.981981</td>\n",
       "      <td>0.000000</td>\n",
       "      <td>0.545545</td>\n",
       "      <td>-0.981981</td>\n",
       "      <td>-0.846327</td>\n",
       "      <td>-0.327327</td>\n",
       "    </tr>\n",
       "    <tr>\n",
       "      <th>U5</th>\n",
       "      <td>-0.456435</td>\n",
       "      <td>-0.948683</td>\n",
       "      <td>0.213809</td>\n",
       "      <td>0.552052</td>\n",
       "      <td>1.000000</td>\n",
       "      <td>-0.158114</td>\n",
       "      <td>0.474342</td>\n",
       "      <td>0.632456</td>\n",
       "      <td>0.474342</td>\n",
       "      <td>-0.474342</td>\n",
       "      <td>-0.710047</td>\n",
       "      <td>0.158114</td>\n",
       "    </tr>\n",
       "    <tr>\n",
       "      <th>U6</th>\n",
       "      <td>-0.288675</td>\n",
       "      <td>0.000000</td>\n",
       "      <td>-0.422577</td>\n",
       "      <td>-0.109109</td>\n",
       "      <td>-0.158114</td>\n",
       "      <td>1.000000</td>\n",
       "      <td>0.000000</td>\n",
       "      <td>0.000000</td>\n",
       "      <td>0.500000</td>\n",
       "      <td>0.000000</td>\n",
       "      <td>0.408248</td>\n",
       "      <td>-0.500000</td>\n",
       "    </tr>\n",
       "    <tr>\n",
       "      <th>U7</th>\n",
       "      <td>-0.577350</td>\n",
       "      <td>-0.500000</td>\n",
       "      <td>0.507093</td>\n",
       "      <td>0.981981</td>\n",
       "      <td>0.474342</td>\n",
       "      <td>0.000000</td>\n",
       "      <td>1.000000</td>\n",
       "      <td>0.000000</td>\n",
       "      <td>0.500000</td>\n",
       "      <td>-1.000000</td>\n",
       "      <td>-0.816497</td>\n",
       "      <td>-0.500000</td>\n",
       "    </tr>\n",
       "    <tr>\n",
       "      <th>U8</th>\n",
       "      <td>0.288675</td>\n",
       "      <td>-0.500000</td>\n",
       "      <td>0.422577</td>\n",
       "      <td>0.000000</td>\n",
       "      <td>0.632456</td>\n",
       "      <td>0.000000</td>\n",
       "      <td>0.000000</td>\n",
       "      <td>1.000000</td>\n",
       "      <td>0.000000</td>\n",
       "      <td>0.000000</td>\n",
       "      <td>-0.408248</td>\n",
       "      <td>0.000000</td>\n",
       "    </tr>\n",
       "    <tr>\n",
       "      <th>U9</th>\n",
       "      <td>-0.866025</td>\n",
       "      <td>-0.500000</td>\n",
       "      <td>-0.338062</td>\n",
       "      <td>0.545545</td>\n",
       "      <td>0.474342</td>\n",
       "      <td>0.500000</td>\n",
       "      <td>0.500000</td>\n",
       "      <td>0.000000</td>\n",
       "      <td>1.000000</td>\n",
       "      <td>-0.500000</td>\n",
       "      <td>-0.204124</td>\n",
       "      <td>0.000000</td>\n",
       "    </tr>\n",
       "    <tr>\n",
       "      <th>U10</th>\n",
       "      <td>0.577350</td>\n",
       "      <td>0.500000</td>\n",
       "      <td>-0.507093</td>\n",
       "      <td>-0.981981</td>\n",
       "      <td>-0.474342</td>\n",
       "      <td>0.000000</td>\n",
       "      <td>-1.000000</td>\n",
       "      <td>0.000000</td>\n",
       "      <td>-0.500000</td>\n",
       "      <td>1.000000</td>\n",
       "      <td>0.816497</td>\n",
       "      <td>0.500000</td>\n",
       "    </tr>\n",
       "    <tr>\n",
       "      <th>U11</th>\n",
       "      <td>0.235702</td>\n",
       "      <td>0.612372</td>\n",
       "      <td>-0.759072</td>\n",
       "      <td>-0.846327</td>\n",
       "      <td>-0.710047</td>\n",
       "      <td>0.408248</td>\n",
       "      <td>-0.816497</td>\n",
       "      <td>-0.408248</td>\n",
       "      <td>-0.204124</td>\n",
       "      <td>0.816497</td>\n",
       "      <td>1.000000</td>\n",
       "      <td>0.204124</td>\n",
       "    </tr>\n",
       "    <tr>\n",
       "      <th>U12</th>\n",
       "      <td>0.000000</td>\n",
       "      <td>0.000000</td>\n",
       "      <td>-0.422577</td>\n",
       "      <td>-0.327327</td>\n",
       "      <td>0.158114</td>\n",
       "      <td>-0.500000</td>\n",
       "      <td>-0.500000</td>\n",
       "      <td>0.000000</td>\n",
       "      <td>0.000000</td>\n",
       "      <td>0.500000</td>\n",
       "      <td>0.204124</td>\n",
       "      <td>1.000000</td>\n",
       "    </tr>\n",
       "  </tbody>\n",
       "</table>\n",
       "</div>"
      ],
      "text/plain": [
       "           U1        U2        U3        U4        U5        U6        U7  \\\n",
       "U1   1.000000  0.577350  0.390360 -0.629941 -0.456435 -0.288675 -0.577350   \n",
       "U2   0.577350  1.000000 -0.084515 -0.545545 -0.948683  0.000000 -0.500000   \n",
       "U3   0.390360 -0.084515  1.000000  0.461069  0.213809 -0.422577  0.507093   \n",
       "U4  -0.629941 -0.545545  0.461069  1.000000  0.552052 -0.109109  0.981981   \n",
       "U5  -0.456435 -0.948683  0.213809  0.552052  1.000000 -0.158114  0.474342   \n",
       "U6  -0.288675  0.000000 -0.422577 -0.109109 -0.158114  1.000000  0.000000   \n",
       "U7  -0.577350 -0.500000  0.507093  0.981981  0.474342  0.000000  1.000000   \n",
       "U8   0.288675 -0.500000  0.422577  0.000000  0.632456  0.000000  0.000000   \n",
       "U9  -0.866025 -0.500000 -0.338062  0.545545  0.474342  0.500000  0.500000   \n",
       "U10  0.577350  0.500000 -0.507093 -0.981981 -0.474342  0.000000 -1.000000   \n",
       "U11  0.235702  0.612372 -0.759072 -0.846327 -0.710047  0.408248 -0.816497   \n",
       "U12  0.000000  0.000000 -0.422577 -0.327327  0.158114 -0.500000 -0.500000   \n",
       "\n",
       "           U8        U9       U10       U11       U12  \n",
       "U1   0.288675 -0.866025  0.577350  0.235702  0.000000  \n",
       "U2  -0.500000 -0.500000  0.500000  0.612372  0.000000  \n",
       "U3   0.422577 -0.338062 -0.507093 -0.759072 -0.422577  \n",
       "U4   0.000000  0.545545 -0.981981 -0.846327 -0.327327  \n",
       "U5   0.632456  0.474342 -0.474342 -0.710047  0.158114  \n",
       "U6   0.000000  0.500000  0.000000  0.408248 -0.500000  \n",
       "U7   0.000000  0.500000 -1.000000 -0.816497 -0.500000  \n",
       "U8   1.000000  0.000000  0.000000 -0.408248  0.000000  \n",
       "U9   0.000000  1.000000 -0.500000 -0.204124  0.000000  \n",
       "U10  0.000000 -0.500000  1.000000  0.816497  0.500000  \n",
       "U11 -0.408248 -0.204124  0.816497  1.000000  0.204124  \n",
       "U12  0.000000  0.000000  0.500000  0.204124  1.000000  "
      ]
     },
     "execution_count": 167,
     "metadata": {},
     "output_type": "execute_result"
    }
   ],
   "source": [
    "user_centered=RowCenterMatrix(u_df.values)\n",
    "usim_mat = CosSim_Matrix(user_centered)\n",
    "sim_users=pd.DataFrame(usim_mat, columns=u_df.index, index=u_df.index)\n",
    "sim_users"
   ]
  },
  {
   "cell_type": "markdown",
   "id": "ab24da39-c5cb-4f26-8bdf-5914ed77085e",
   "metadata": {},
   "source": [
    "#### 2.3.2 Make recommendations based on User Similarities\n",
    "\n",
    "Computing similarities. The procedure is essentially the same, but using the new matrices with the similarities and the scores, but we are going to use a loop to compute all movie user pairs\n",
    "\n",
    "It is interesting to verify that for this database it is actually easier to find similars for the specified pairs"
   ]
  },
  {
   "cell_type": "code",
   "execution_count": 168,
   "id": "80ddde5b-e8e1-4129-8114-440cf224b756",
   "metadata": {
    "tags": []
   },
   "outputs": [
    {
     "name": "stdout",
     "output_type": "stream",
     "text": [
      "row: 4 - col: 0\n",
      "\tItem:   8    Score: 5.0 (Sim:  0.474)\n",
      "\tItem:   2    Score: 3.0 (Sim:  0.214)\n",
      "\tScore:  4.3786\n",
      "row: 1 - col: 1\n",
      "\tItem:  10    Score: 1.0 (Sim:  0.612)\n",
      "\tItem:   9    Score: 2.0 (Sim:  0.500)\n",
      "\tScore:  1.4495\n",
      "row: 7 - col: 2\n",
      "\tItem:   4    Score: 2.0 (Sim:  0.632)\n",
      "\tItem:   0    Score: 2.0 (Sim:  0.289)\n",
      "\tScore:  2.0000\n",
      "row: 11 - col: 3\n",
      "\tItem:  10    Score: 2.0 (Sim:  0.204)\n",
      "\tItem:   4    Score: 5.0 (Sim:  0.158)\n",
      "\tScore:  3.3095\n",
      "row: 0 - col: 3\n",
      "\tItem:   1    Score: 2.0 (Sim:  0.577)\n",
      "\tItem:   2    Score: 4.0 (Sim:  0.390)\n",
      "\tItem:   7    Score: 4.0 (Sim:  0.289)\n",
      "\tScore:  3.0809\n"
     ]
    }
   ],
   "source": [
    "estimations=[(\"M1\", \"U5\"), (\"M2\", \"U2\"), (\"M3\", \"U8\"), (\"M4\", \"U12\"), (\"M4\", \"U1\")]\n",
    "for c,r in estimations:\n",
    "    estimate_score(u_df, usim_mat, 3, u_df.index.get_loc(r),u_df.columns.get_loc(c), True)\n"
   ]
  },
  {
   "cell_type": "code",
   "execution_count": 174,
   "id": "665efc0a-9dd0-49ed-84d7-e2f3794af959",
   "metadata": {
    "tags": []
   },
   "outputs": [
    {
     "name": "stdout",
     "output_type": "stream",
     "text": [
      "row: 0 - col: 4\n",
      "\tItem:   5    Score: 3.0 (Sim:  0.587)\n",
      "\tItem:   2    Score: 2.0 (Sim:  0.414)\n",
      "\tScore:  2.5864\n",
      "row: 1 - col: 1\n",
      "\tItem:   3    Score: 2.0 (Sim:  0.468)\n",
      "\tScore:  2.0000\n",
      "row: 2 - col: 7\n",
      "\tItem:   5    Score: 2.0 (Sim:  0.506)\n",
      "\tScore:  2.0000\n",
      "row: 3 - col: 11\n",
      "\tItem:   1    Score: 3.0 (Sim:  0.468)\n",
      "\tItem:   4    Score: 5.0 (Sim:  0.459)\n",
      "\tScore:  3.9900\n",
      "row: 3 - col: 0\n",
      "\tNo similars: outputing the Global Baseline Average\n",
      "\tScore:  3.0952\n"
     ]
    }
   ],
   "source": [
    "for r,c in estimations:\n",
    "    estimate_score(df, sim_mat, 3, df.index.get_loc(r),df.columns.get_loc(c), True)"
   ]
  },
  {
   "cell_type": "markdown",
   "id": "8c578e84-4fa8-4461-9c45-d3a82bb9a9fa",
   "metadata": {},
   "source": [
    "#### Exercises\n",
    "1. make a direct comparison of the scores computed by User-User and Item-Item CF for all five scores inferred. Discuss your findings in assessing how more confident you would be for both cases\n",
    "2. [to do at home] make a Recommend_Item function that given a set of parammeters (matrices) and a set of item ratings by a new user, would be capable of suggesting new items to the user "
   ]
  },
  {
   "cell_type": "markdown",
   "id": "7e2ba470-fa4e-4d03-8fb2-4e5f2b5422a6",
   "metadata": {},
   "source": [
    "## 3. A bigger exercise for Collaborative Filter\n",
    "\n",
    "On Kaggle there is a [Movie Recommendation Data set](https://www.kaggle.com/datasets/rohan4050/movie-recommendation-data) with 610 users and 9723 movies ratings from 1 to 5. The ratings table is available directly for today's class\n",
    "\n",
    "and we are going to use it for suggesting recommendations to users"
   ]
  },
  {
   "cell_type": "code",
   "execution_count": 179,
   "id": "eafc1c3f-59d0-4d16-a71f-1b32fda54882",
   "metadata": {
    "tags": []
   },
   "outputs": [
    {
     "data": {
      "text/html": [
       "<div>\n",
       "<style scoped>\n",
       "    .dataframe tbody tr th:only-of-type {\n",
       "        vertical-align: middle;\n",
       "    }\n",
       "\n",
       "    .dataframe tbody tr th {\n",
       "        vertical-align: top;\n",
       "    }\n",
       "\n",
       "    .dataframe thead th {\n",
       "        text-align: right;\n",
       "    }\n",
       "</style>\n",
       "<table border=\"1\" class=\"dataframe\">\n",
       "  <thead>\n",
       "    <tr style=\"text-align: right;\">\n",
       "      <th></th>\n",
       "      <th>userId</th>\n",
       "      <th>movieId</th>\n",
       "      <th>rating</th>\n",
       "      <th>timestamp</th>\n",
       "    </tr>\n",
       "  </thead>\n",
       "  <tbody>\n",
       "    <tr>\n",
       "      <th>0</th>\n",
       "      <td>1</td>\n",
       "      <td>1</td>\n",
       "      <td>4.0</td>\n",
       "      <td>964982703</td>\n",
       "    </tr>\n",
       "    <tr>\n",
       "      <th>1</th>\n",
       "      <td>1</td>\n",
       "      <td>3</td>\n",
       "      <td>4.0</td>\n",
       "      <td>964981247</td>\n",
       "    </tr>\n",
       "    <tr>\n",
       "      <th>2</th>\n",
       "      <td>1</td>\n",
       "      <td>6</td>\n",
       "      <td>4.0</td>\n",
       "      <td>964982224</td>\n",
       "    </tr>\n",
       "    <tr>\n",
       "      <th>3</th>\n",
       "      <td>1</td>\n",
       "      <td>47</td>\n",
       "      <td>5.0</td>\n",
       "      <td>964983815</td>\n",
       "    </tr>\n",
       "    <tr>\n",
       "      <th>4</th>\n",
       "      <td>1</td>\n",
       "      <td>50</td>\n",
       "      <td>5.0</td>\n",
       "      <td>964982931</td>\n",
       "    </tr>\n",
       "    <tr>\n",
       "      <th>...</th>\n",
       "      <td>...</td>\n",
       "      <td>...</td>\n",
       "      <td>...</td>\n",
       "      <td>...</td>\n",
       "    </tr>\n",
       "    <tr>\n",
       "      <th>100831</th>\n",
       "      <td>610</td>\n",
       "      <td>166534</td>\n",
       "      <td>4.0</td>\n",
       "      <td>1493848402</td>\n",
       "    </tr>\n",
       "    <tr>\n",
       "      <th>100832</th>\n",
       "      <td>610</td>\n",
       "      <td>168248</td>\n",
       "      <td>5.0</td>\n",
       "      <td>1493850091</td>\n",
       "    </tr>\n",
       "    <tr>\n",
       "      <th>100833</th>\n",
       "      <td>610</td>\n",
       "      <td>168250</td>\n",
       "      <td>5.0</td>\n",
       "      <td>1494273047</td>\n",
       "    </tr>\n",
       "    <tr>\n",
       "      <th>100834</th>\n",
       "      <td>610</td>\n",
       "      <td>168252</td>\n",
       "      <td>5.0</td>\n",
       "      <td>1493846352</td>\n",
       "    </tr>\n",
       "    <tr>\n",
       "      <th>100835</th>\n",
       "      <td>610</td>\n",
       "      <td>170875</td>\n",
       "      <td>3.0</td>\n",
       "      <td>1493846415</td>\n",
       "    </tr>\n",
       "  </tbody>\n",
       "</table>\n",
       "<p>100836 rows × 4 columns</p>\n",
       "</div>"
      ],
      "text/plain": [
       "        userId  movieId  rating   timestamp\n",
       "0            1        1     4.0   964982703\n",
       "1            1        3     4.0   964981247\n",
       "2            1        6     4.0   964982224\n",
       "3            1       47     5.0   964983815\n",
       "4            1       50     5.0   964982931\n",
       "...        ...      ...     ...         ...\n",
       "100831     610   166534     4.0  1493848402\n",
       "100832     610   168248     5.0  1493850091\n",
       "100833     610   168250     5.0  1494273047\n",
       "100834     610   168252     5.0  1493846352\n",
       "100835     610   170875     3.0  1493846415\n",
       "\n",
       "[100836 rows x 4 columns]"
      ]
     },
     "execution_count": 179,
     "metadata": {},
     "output_type": "execute_result"
    }
   ],
   "source": [
    "rawdata=pd.read_csv(\"ratings.csv\")\n",
    "rawdata"
   ]
  },
  {
   "cell_type": "markdown",
   "id": "7759124e-5e05-4f50-badc-88c78c7d3549",
   "metadata": {},
   "source": [
    "First create a dataframe with the data just read"
   ]
  },
  {
   "cell_type": "code",
   "execution_count": 180,
   "id": "868c682b-4ed3-42bf-a599-1cbfda79faef",
   "metadata": {
    "tags": []
   },
   "outputs": [
    {
     "data": {
      "text/html": [
       "<div>\n",
       "<style scoped>\n",
       "    .dataframe tbody tr th:only-of-type {\n",
       "        vertical-align: middle;\n",
       "    }\n",
       "\n",
       "    .dataframe tbody tr th {\n",
       "        vertical-align: top;\n",
       "    }\n",
       "\n",
       "    .dataframe thead th {\n",
       "        text-align: right;\n",
       "    }\n",
       "</style>\n",
       "<table border=\"1\" class=\"dataframe\">\n",
       "  <thead>\n",
       "    <tr style=\"text-align: right;\">\n",
       "      <th></th>\n",
       "      <th>0</th>\n",
       "      <th>1</th>\n",
       "      <th>2</th>\n",
       "      <th>3</th>\n",
       "      <th>4</th>\n",
       "      <th>5</th>\n",
       "      <th>6</th>\n",
       "      <th>7</th>\n",
       "      <th>8</th>\n",
       "      <th>9</th>\n",
       "      <th>...</th>\n",
       "      <th>600</th>\n",
       "      <th>601</th>\n",
       "      <th>602</th>\n",
       "      <th>603</th>\n",
       "      <th>604</th>\n",
       "      <th>605</th>\n",
       "      <th>606</th>\n",
       "      <th>607</th>\n",
       "      <th>608</th>\n",
       "      <th>609</th>\n",
       "    </tr>\n",
       "  </thead>\n",
       "  <tbody>\n",
       "    <tr>\n",
       "      <th>0</th>\n",
       "      <td>4.0</td>\n",
       "      <td>NaN</td>\n",
       "      <td>NaN</td>\n",
       "      <td>NaN</td>\n",
       "      <td>4.0</td>\n",
       "      <td>NaN</td>\n",
       "      <td>4.5</td>\n",
       "      <td>NaN</td>\n",
       "      <td>NaN</td>\n",
       "      <td>NaN</td>\n",
       "      <td>...</td>\n",
       "      <td>4.0</td>\n",
       "      <td>NaN</td>\n",
       "      <td>4.0</td>\n",
       "      <td>3.0</td>\n",
       "      <td>4.0</td>\n",
       "      <td>2.5</td>\n",
       "      <td>4.0</td>\n",
       "      <td>2.5</td>\n",
       "      <td>3.0</td>\n",
       "      <td>5.0</td>\n",
       "    </tr>\n",
       "    <tr>\n",
       "      <th>1</th>\n",
       "      <td>NaN</td>\n",
       "      <td>NaN</td>\n",
       "      <td>NaN</td>\n",
       "      <td>NaN</td>\n",
       "      <td>NaN</td>\n",
       "      <td>4.0</td>\n",
       "      <td>NaN</td>\n",
       "      <td>4.0</td>\n",
       "      <td>NaN</td>\n",
       "      <td>NaN</td>\n",
       "      <td>...</td>\n",
       "      <td>NaN</td>\n",
       "      <td>4.0</td>\n",
       "      <td>NaN</td>\n",
       "      <td>5.0</td>\n",
       "      <td>3.5</td>\n",
       "      <td>NaN</td>\n",
       "      <td>NaN</td>\n",
       "      <td>2.0</td>\n",
       "      <td>NaN</td>\n",
       "      <td>NaN</td>\n",
       "    </tr>\n",
       "    <tr>\n",
       "      <th>2</th>\n",
       "      <td>4.0</td>\n",
       "      <td>NaN</td>\n",
       "      <td>NaN</td>\n",
       "      <td>NaN</td>\n",
       "      <td>NaN</td>\n",
       "      <td>5.0</td>\n",
       "      <td>NaN</td>\n",
       "      <td>NaN</td>\n",
       "      <td>NaN</td>\n",
       "      <td>NaN</td>\n",
       "      <td>...</td>\n",
       "      <td>NaN</td>\n",
       "      <td>NaN</td>\n",
       "      <td>NaN</td>\n",
       "      <td>NaN</td>\n",
       "      <td>NaN</td>\n",
       "      <td>NaN</td>\n",
       "      <td>NaN</td>\n",
       "      <td>2.0</td>\n",
       "      <td>NaN</td>\n",
       "      <td>NaN</td>\n",
       "    </tr>\n",
       "    <tr>\n",
       "      <th>3</th>\n",
       "      <td>NaN</td>\n",
       "      <td>NaN</td>\n",
       "      <td>NaN</td>\n",
       "      <td>NaN</td>\n",
       "      <td>NaN</td>\n",
       "      <td>3.0</td>\n",
       "      <td>NaN</td>\n",
       "      <td>NaN</td>\n",
       "      <td>NaN</td>\n",
       "      <td>NaN</td>\n",
       "      <td>...</td>\n",
       "      <td>NaN</td>\n",
       "      <td>NaN</td>\n",
       "      <td>NaN</td>\n",
       "      <td>NaN</td>\n",
       "      <td>NaN</td>\n",
       "      <td>NaN</td>\n",
       "      <td>NaN</td>\n",
       "      <td>NaN</td>\n",
       "      <td>NaN</td>\n",
       "      <td>NaN</td>\n",
       "    </tr>\n",
       "    <tr>\n",
       "      <th>4</th>\n",
       "      <td>NaN</td>\n",
       "      <td>NaN</td>\n",
       "      <td>NaN</td>\n",
       "      <td>NaN</td>\n",
       "      <td>NaN</td>\n",
       "      <td>5.0</td>\n",
       "      <td>NaN</td>\n",
       "      <td>NaN</td>\n",
       "      <td>NaN</td>\n",
       "      <td>NaN</td>\n",
       "      <td>...</td>\n",
       "      <td>NaN</td>\n",
       "      <td>NaN</td>\n",
       "      <td>NaN</td>\n",
       "      <td>3.0</td>\n",
       "      <td>NaN</td>\n",
       "      <td>NaN</td>\n",
       "      <td>NaN</td>\n",
       "      <td>NaN</td>\n",
       "      <td>NaN</td>\n",
       "      <td>NaN</td>\n",
       "    </tr>\n",
       "    <tr>\n",
       "      <th>...</th>\n",
       "      <td>...</td>\n",
       "      <td>...</td>\n",
       "      <td>...</td>\n",
       "      <td>...</td>\n",
       "      <td>...</td>\n",
       "      <td>...</td>\n",
       "      <td>...</td>\n",
       "      <td>...</td>\n",
       "      <td>...</td>\n",
       "      <td>...</td>\n",
       "      <td>...</td>\n",
       "      <td>...</td>\n",
       "      <td>...</td>\n",
       "      <td>...</td>\n",
       "      <td>...</td>\n",
       "      <td>...</td>\n",
       "      <td>...</td>\n",
       "      <td>...</td>\n",
       "      <td>...</td>\n",
       "      <td>...</td>\n",
       "      <td>...</td>\n",
       "    </tr>\n",
       "    <tr>\n",
       "      <th>9719</th>\n",
       "      <td>NaN</td>\n",
       "      <td>NaN</td>\n",
       "      <td>NaN</td>\n",
       "      <td>NaN</td>\n",
       "      <td>NaN</td>\n",
       "      <td>NaN</td>\n",
       "      <td>NaN</td>\n",
       "      <td>NaN</td>\n",
       "      <td>NaN</td>\n",
       "      <td>NaN</td>\n",
       "      <td>...</td>\n",
       "      <td>NaN</td>\n",
       "      <td>NaN</td>\n",
       "      <td>NaN</td>\n",
       "      <td>NaN</td>\n",
       "      <td>NaN</td>\n",
       "      <td>NaN</td>\n",
       "      <td>NaN</td>\n",
       "      <td>NaN</td>\n",
       "      <td>NaN</td>\n",
       "      <td>NaN</td>\n",
       "    </tr>\n",
       "    <tr>\n",
       "      <th>9720</th>\n",
       "      <td>NaN</td>\n",
       "      <td>NaN</td>\n",
       "      <td>NaN</td>\n",
       "      <td>NaN</td>\n",
       "      <td>NaN</td>\n",
       "      <td>NaN</td>\n",
       "      <td>NaN</td>\n",
       "      <td>NaN</td>\n",
       "      <td>NaN</td>\n",
       "      <td>NaN</td>\n",
       "      <td>...</td>\n",
       "      <td>NaN</td>\n",
       "      <td>NaN</td>\n",
       "      <td>NaN</td>\n",
       "      <td>NaN</td>\n",
       "      <td>NaN</td>\n",
       "      <td>NaN</td>\n",
       "      <td>NaN</td>\n",
       "      <td>NaN</td>\n",
       "      <td>NaN</td>\n",
       "      <td>NaN</td>\n",
       "    </tr>\n",
       "    <tr>\n",
       "      <th>9721</th>\n",
       "      <td>NaN</td>\n",
       "      <td>NaN</td>\n",
       "      <td>NaN</td>\n",
       "      <td>NaN</td>\n",
       "      <td>NaN</td>\n",
       "      <td>NaN</td>\n",
       "      <td>NaN</td>\n",
       "      <td>NaN</td>\n",
       "      <td>NaN</td>\n",
       "      <td>NaN</td>\n",
       "      <td>...</td>\n",
       "      <td>NaN</td>\n",
       "      <td>NaN</td>\n",
       "      <td>NaN</td>\n",
       "      <td>NaN</td>\n",
       "      <td>NaN</td>\n",
       "      <td>NaN</td>\n",
       "      <td>NaN</td>\n",
       "      <td>NaN</td>\n",
       "      <td>NaN</td>\n",
       "      <td>NaN</td>\n",
       "    </tr>\n",
       "    <tr>\n",
       "      <th>9722</th>\n",
       "      <td>NaN</td>\n",
       "      <td>NaN</td>\n",
       "      <td>NaN</td>\n",
       "      <td>NaN</td>\n",
       "      <td>NaN</td>\n",
       "      <td>NaN</td>\n",
       "      <td>NaN</td>\n",
       "      <td>NaN</td>\n",
       "      <td>NaN</td>\n",
       "      <td>NaN</td>\n",
       "      <td>...</td>\n",
       "      <td>NaN</td>\n",
       "      <td>NaN</td>\n",
       "      <td>NaN</td>\n",
       "      <td>NaN</td>\n",
       "      <td>NaN</td>\n",
       "      <td>NaN</td>\n",
       "      <td>NaN</td>\n",
       "      <td>NaN</td>\n",
       "      <td>NaN</td>\n",
       "      <td>4.0</td>\n",
       "    </tr>\n",
       "    <tr>\n",
       "      <th>9723</th>\n",
       "      <td>NaN</td>\n",
       "      <td>NaN</td>\n",
       "      <td>NaN</td>\n",
       "      <td>NaN</td>\n",
       "      <td>NaN</td>\n",
       "      <td>NaN</td>\n",
       "      <td>NaN</td>\n",
       "      <td>NaN</td>\n",
       "      <td>NaN</td>\n",
       "      <td>NaN</td>\n",
       "      <td>...</td>\n",
       "      <td>NaN</td>\n",
       "      <td>NaN</td>\n",
       "      <td>NaN</td>\n",
       "      <td>NaN</td>\n",
       "      <td>NaN</td>\n",
       "      <td>NaN</td>\n",
       "      <td>NaN</td>\n",
       "      <td>NaN</td>\n",
       "      <td>NaN</td>\n",
       "      <td>NaN</td>\n",
       "    </tr>\n",
       "  </tbody>\n",
       "</table>\n",
       "<p>9724 rows × 610 columns</p>\n",
       "</div>"
      ],
      "text/plain": [
       "      0    1    2    3    4    5    6    7    8    9    ...  600  601  602  \\\n",
       "0     4.0  NaN  NaN  NaN  4.0  NaN  4.5  NaN  NaN  NaN  ...  4.0  NaN  4.0   \n",
       "1     NaN  NaN  NaN  NaN  NaN  4.0  NaN  4.0  NaN  NaN  ...  NaN  4.0  NaN   \n",
       "2     4.0  NaN  NaN  NaN  NaN  5.0  NaN  NaN  NaN  NaN  ...  NaN  NaN  NaN   \n",
       "3     NaN  NaN  NaN  NaN  NaN  3.0  NaN  NaN  NaN  NaN  ...  NaN  NaN  NaN   \n",
       "4     NaN  NaN  NaN  NaN  NaN  5.0  NaN  NaN  NaN  NaN  ...  NaN  NaN  NaN   \n",
       "...   ...  ...  ...  ...  ...  ...  ...  ...  ...  ...  ...  ...  ...  ...   \n",
       "9719  NaN  NaN  NaN  NaN  NaN  NaN  NaN  NaN  NaN  NaN  ...  NaN  NaN  NaN   \n",
       "9720  NaN  NaN  NaN  NaN  NaN  NaN  NaN  NaN  NaN  NaN  ...  NaN  NaN  NaN   \n",
       "9721  NaN  NaN  NaN  NaN  NaN  NaN  NaN  NaN  NaN  NaN  ...  NaN  NaN  NaN   \n",
       "9722  NaN  NaN  NaN  NaN  NaN  NaN  NaN  NaN  NaN  NaN  ...  NaN  NaN  NaN   \n",
       "9723  NaN  NaN  NaN  NaN  NaN  NaN  NaN  NaN  NaN  NaN  ...  NaN  NaN  NaN   \n",
       "\n",
       "      603  604  605  606  607  608  609  \n",
       "0     3.0  4.0  2.5  4.0  2.5  3.0  5.0  \n",
       "1     5.0  3.5  NaN  NaN  2.0  NaN  NaN  \n",
       "2     NaN  NaN  NaN  NaN  2.0  NaN  NaN  \n",
       "3     NaN  NaN  NaN  NaN  NaN  NaN  NaN  \n",
       "4     3.0  NaN  NaN  NaN  NaN  NaN  NaN  \n",
       "...   ...  ...  ...  ...  ...  ...  ...  \n",
       "9719  NaN  NaN  NaN  NaN  NaN  NaN  NaN  \n",
       "9720  NaN  NaN  NaN  NaN  NaN  NaN  NaN  \n",
       "9721  NaN  NaN  NaN  NaN  NaN  NaN  NaN  \n",
       "9722  NaN  NaN  NaN  NaN  NaN  NaN  4.0  \n",
       "9723  NaN  NaN  NaN  NaN  NaN  NaN  NaN  \n",
       "\n",
       "[9724 rows x 610 columns]"
      ]
     },
     "execution_count": 180,
     "metadata": {},
     "output_type": "execute_result"
    }
   ],
   "source": [
    "def create_rankingMatrix(rowLabel, colLabel, df):\n",
    "    rows = list(set(rawdata[rowLabel])) \n",
    "    cols = list(set(rawdata[colLabel])) \n",
    "    n_rows = len(rows)\n",
    "    n_cols = len(cols)\n",
    "\n",
    "    rows = dict(zip(rows, np.arange(n_rows)))\n",
    "    cols = dict(zip(cols, np.arange(n_cols)))\n",
    "    mat = np.zeros((n_rows, n_cols))\n",
    "    mat[mat==0]=np.nan\n",
    "    for rw in df.values:\n",
    "        mat[rows[rw[0]], cols[rw[1]]]=rw[2]\n",
    "    return mat\n",
    "\n",
    "mat=create_rankingMatrix(\"userId\", \"movieId\", rawdata)\n",
    "mat=mat.T\n",
    "pd.DataFrame(mat)"
   ]
  },
  {
   "cell_type": "markdown",
   "id": "b7121b00-7b55-43e8-b58c-b79fd28d19b1",
   "metadata": {},
   "source": [
    "We can do the same as before and center and compute the similarities"
   ]
  },
  {
   "cell_type": "code",
   "execution_count": 181,
   "id": "11fed6a4-baac-4435-8a3b-83b77f8d0457",
   "metadata": {
    "tags": []
   },
   "outputs": [
    {
     "data": {
      "text/html": [
       "<div>\n",
       "<style scoped>\n",
       "    .dataframe tbody tr th:only-of-type {\n",
       "        vertical-align: middle;\n",
       "    }\n",
       "\n",
       "    .dataframe tbody tr th {\n",
       "        vertical-align: top;\n",
       "    }\n",
       "\n",
       "    .dataframe thead th {\n",
       "        text-align: right;\n",
       "    }\n",
       "</style>\n",
       "<table border=\"1\" class=\"dataframe\">\n",
       "  <thead>\n",
       "    <tr style=\"text-align: right;\">\n",
       "      <th></th>\n",
       "      <th>0</th>\n",
       "      <th>1</th>\n",
       "      <th>2</th>\n",
       "      <th>3</th>\n",
       "      <th>4</th>\n",
       "      <th>5</th>\n",
       "      <th>6</th>\n",
       "      <th>7</th>\n",
       "      <th>8</th>\n",
       "      <th>9</th>\n",
       "      <th>...</th>\n",
       "      <th>9714</th>\n",
       "      <th>9715</th>\n",
       "      <th>9716</th>\n",
       "      <th>9717</th>\n",
       "      <th>9718</th>\n",
       "      <th>9719</th>\n",
       "      <th>9720</th>\n",
       "      <th>9721</th>\n",
       "      <th>9722</th>\n",
       "      <th>9723</th>\n",
       "    </tr>\n",
       "  </thead>\n",
       "  <tbody>\n",
       "    <tr>\n",
       "      <th>0</th>\n",
       "      <td>1.000000</td>\n",
       "      <td>0.139649</td>\n",
       "      <td>0.113850</td>\n",
       "      <td>0.032658</td>\n",
       "      <td>0.076230</td>\n",
       "      <td>0.037291</td>\n",
       "      <td>0.064268</td>\n",
       "      <td>0.085986</td>\n",
       "      <td>0.041389</td>\n",
       "      <td>-0.008184</td>\n",
       "      <td>...</td>\n",
       "      <td>-0.057898</td>\n",
       "      <td>-0.010636</td>\n",
       "      <td>0.074217</td>\n",
       "      <td>0.0</td>\n",
       "      <td>0.0</td>\n",
       "      <td>0.0</td>\n",
       "      <td>-0.115796</td>\n",
       "      <td>0.0</td>\n",
       "      <td>0.154751</td>\n",
       "      <td>0.0</td>\n",
       "    </tr>\n",
       "    <tr>\n",
       "      <th>1</th>\n",
       "      <td>0.139649</td>\n",
       "      <td>1.000000</td>\n",
       "      <td>0.187303</td>\n",
       "      <td>-0.016897</td>\n",
       "      <td>0.154411</td>\n",
       "      <td>0.067458</td>\n",
       "      <td>0.067552</td>\n",
       "      <td>0.031078</td>\n",
       "      <td>0.046682</td>\n",
       "      <td>0.007021</td>\n",
       "      <td>...</td>\n",
       "      <td>0.043645</td>\n",
       "      <td>0.034338</td>\n",
       "      <td>0.192373</td>\n",
       "      <td>0.0</td>\n",
       "      <td>0.0</td>\n",
       "      <td>0.0</td>\n",
       "      <td>0.033170</td>\n",
       "      <td>0.0</td>\n",
       "      <td>0.314891</td>\n",
       "      <td>0.0</td>\n",
       "    </tr>\n",
       "    <tr>\n",
       "      <th>2</th>\n",
       "      <td>0.113850</td>\n",
       "      <td>0.187303</td>\n",
       "      <td>1.000000</td>\n",
       "      <td>0.071153</td>\n",
       "      <td>0.220868</td>\n",
       "      <td>0.185618</td>\n",
       "      <td>0.195055</td>\n",
       "      <td>0.188311</td>\n",
       "      <td>0.160743</td>\n",
       "      <td>-0.010144</td>\n",
       "      <td>...</td>\n",
       "      <td>0.000000</td>\n",
       "      <td>0.016012</td>\n",
       "      <td>0.013015</td>\n",
       "      <td>0.0</td>\n",
       "      <td>0.0</td>\n",
       "      <td>0.0</td>\n",
       "      <td>0.024370</td>\n",
       "      <td>0.0</td>\n",
       "      <td>0.000000</td>\n",
       "      <td>0.0</td>\n",
       "    </tr>\n",
       "    <tr>\n",
       "      <th>3</th>\n",
       "      <td>0.032658</td>\n",
       "      <td>-0.016897</td>\n",
       "      <td>0.071153</td>\n",
       "      <td>1.000000</td>\n",
       "      <td>0.128339</td>\n",
       "      <td>0.004044</td>\n",
       "      <td>0.022439</td>\n",
       "      <td>0.012922</td>\n",
       "      <td>0.000000</td>\n",
       "      <td>0.076458</td>\n",
       "      <td>...</td>\n",
       "      <td>0.000000</td>\n",
       "      <td>0.000000</td>\n",
       "      <td>0.000000</td>\n",
       "      <td>0.0</td>\n",
       "      <td>0.0</td>\n",
       "      <td>0.0</td>\n",
       "      <td>0.000000</td>\n",
       "      <td>0.0</td>\n",
       "      <td>0.000000</td>\n",
       "      <td>0.0</td>\n",
       "    </tr>\n",
       "    <tr>\n",
       "      <th>4</th>\n",
       "      <td>0.076230</td>\n",
       "      <td>0.154411</td>\n",
       "      <td>0.220868</td>\n",
       "      <td>0.128339</td>\n",
       "      <td>1.000000</td>\n",
       "      <td>0.080362</td>\n",
       "      <td>0.217156</td>\n",
       "      <td>0.224129</td>\n",
       "      <td>0.070375</td>\n",
       "      <td>0.047833</td>\n",
       "      <td>...</td>\n",
       "      <td>0.000000</td>\n",
       "      <td>0.031511</td>\n",
       "      <td>0.047210</td>\n",
       "      <td>0.0</td>\n",
       "      <td>0.0</td>\n",
       "      <td>0.0</td>\n",
       "      <td>0.008036</td>\n",
       "      <td>0.0</td>\n",
       "      <td>0.000000</td>\n",
       "      <td>0.0</td>\n",
       "    </tr>\n",
       "    <tr>\n",
       "      <th>...</th>\n",
       "      <td>...</td>\n",
       "      <td>...</td>\n",
       "      <td>...</td>\n",
       "      <td>...</td>\n",
       "      <td>...</td>\n",
       "      <td>...</td>\n",
       "      <td>...</td>\n",
       "      <td>...</td>\n",
       "      <td>...</td>\n",
       "      <td>...</td>\n",
       "      <td>...</td>\n",
       "      <td>...</td>\n",
       "      <td>...</td>\n",
       "      <td>...</td>\n",
       "      <td>...</td>\n",
       "      <td>...</td>\n",
       "      <td>...</td>\n",
       "      <td>...</td>\n",
       "      <td>...</td>\n",
       "      <td>...</td>\n",
       "      <td>...</td>\n",
       "    </tr>\n",
       "    <tr>\n",
       "      <th>9719</th>\n",
       "      <td>0.000000</td>\n",
       "      <td>0.000000</td>\n",
       "      <td>0.000000</td>\n",
       "      <td>0.000000</td>\n",
       "      <td>0.000000</td>\n",
       "      <td>0.000000</td>\n",
       "      <td>0.000000</td>\n",
       "      <td>0.000000</td>\n",
       "      <td>0.000000</td>\n",
       "      <td>0.000000</td>\n",
       "      <td>...</td>\n",
       "      <td>0.000000</td>\n",
       "      <td>0.000000</td>\n",
       "      <td>0.000000</td>\n",
       "      <td>0.0</td>\n",
       "      <td>0.0</td>\n",
       "      <td>0.0</td>\n",
       "      <td>0.000000</td>\n",
       "      <td>0.0</td>\n",
       "      <td>0.000000</td>\n",
       "      <td>0.0</td>\n",
       "    </tr>\n",
       "    <tr>\n",
       "      <th>9720</th>\n",
       "      <td>-0.115796</td>\n",
       "      <td>0.033170</td>\n",
       "      <td>0.024370</td>\n",
       "      <td>0.000000</td>\n",
       "      <td>0.008036</td>\n",
       "      <td>0.000000</td>\n",
       "      <td>0.000000</td>\n",
       "      <td>0.000000</td>\n",
       "      <td>0.000000</td>\n",
       "      <td>-0.036217</td>\n",
       "      <td>...</td>\n",
       "      <td>0.000000</td>\n",
       "      <td>0.328526</td>\n",
       "      <td>0.118678</td>\n",
       "      <td>0.0</td>\n",
       "      <td>0.0</td>\n",
       "      <td>0.0</td>\n",
       "      <td>1.000000</td>\n",
       "      <td>0.0</td>\n",
       "      <td>0.000000</td>\n",
       "      <td>0.0</td>\n",
       "    </tr>\n",
       "    <tr>\n",
       "      <th>9721</th>\n",
       "      <td>0.000000</td>\n",
       "      <td>0.000000</td>\n",
       "      <td>0.000000</td>\n",
       "      <td>0.000000</td>\n",
       "      <td>0.000000</td>\n",
       "      <td>0.000000</td>\n",
       "      <td>0.000000</td>\n",
       "      <td>0.000000</td>\n",
       "      <td>0.000000</td>\n",
       "      <td>0.000000</td>\n",
       "      <td>...</td>\n",
       "      <td>0.000000</td>\n",
       "      <td>0.000000</td>\n",
       "      <td>0.000000</td>\n",
       "      <td>0.0</td>\n",
       "      <td>0.0</td>\n",
       "      <td>0.0</td>\n",
       "      <td>0.000000</td>\n",
       "      <td>0.0</td>\n",
       "      <td>0.000000</td>\n",
       "      <td>0.0</td>\n",
       "    </tr>\n",
       "    <tr>\n",
       "      <th>9722</th>\n",
       "      <td>0.154751</td>\n",
       "      <td>0.314891</td>\n",
       "      <td>0.000000</td>\n",
       "      <td>0.000000</td>\n",
       "      <td>0.000000</td>\n",
       "      <td>0.033833</td>\n",
       "      <td>0.000000</td>\n",
       "      <td>0.000000</td>\n",
       "      <td>0.000000</td>\n",
       "      <td>0.064858</td>\n",
       "      <td>...</td>\n",
       "      <td>-0.013634</td>\n",
       "      <td>-0.002023</td>\n",
       "      <td>0.461131</td>\n",
       "      <td>0.0</td>\n",
       "      <td>0.0</td>\n",
       "      <td>0.0</td>\n",
       "      <td>0.000000</td>\n",
       "      <td>0.0</td>\n",
       "      <td>1.000000</td>\n",
       "      <td>0.0</td>\n",
       "    </tr>\n",
       "    <tr>\n",
       "      <th>9723</th>\n",
       "      <td>0.000000</td>\n",
       "      <td>0.000000</td>\n",
       "      <td>0.000000</td>\n",
       "      <td>0.000000</td>\n",
       "      <td>0.000000</td>\n",
       "      <td>0.000000</td>\n",
       "      <td>0.000000</td>\n",
       "      <td>0.000000</td>\n",
       "      <td>0.000000</td>\n",
       "      <td>0.000000</td>\n",
       "      <td>...</td>\n",
       "      <td>0.000000</td>\n",
       "      <td>0.000000</td>\n",
       "      <td>0.000000</td>\n",
       "      <td>0.0</td>\n",
       "      <td>0.0</td>\n",
       "      <td>0.0</td>\n",
       "      <td>0.000000</td>\n",
       "      <td>0.0</td>\n",
       "      <td>0.000000</td>\n",
       "      <td>0.0</td>\n",
       "    </tr>\n",
       "  </tbody>\n",
       "</table>\n",
       "<p>9724 rows × 9724 columns</p>\n",
       "</div>"
      ],
      "text/plain": [
       "          0         1         2         3         4         5         6     \\\n",
       "0     1.000000  0.139649  0.113850  0.032658  0.076230  0.037291  0.064268   \n",
       "1     0.139649  1.000000  0.187303 -0.016897  0.154411  0.067458  0.067552   \n",
       "2     0.113850  0.187303  1.000000  0.071153  0.220868  0.185618  0.195055   \n",
       "3     0.032658 -0.016897  0.071153  1.000000  0.128339  0.004044  0.022439   \n",
       "4     0.076230  0.154411  0.220868  0.128339  1.000000  0.080362  0.217156   \n",
       "...        ...       ...       ...       ...       ...       ...       ...   \n",
       "9719  0.000000  0.000000  0.000000  0.000000  0.000000  0.000000  0.000000   \n",
       "9720 -0.115796  0.033170  0.024370  0.000000  0.008036  0.000000  0.000000   \n",
       "9721  0.000000  0.000000  0.000000  0.000000  0.000000  0.000000  0.000000   \n",
       "9722  0.154751  0.314891  0.000000  0.000000  0.000000  0.033833  0.000000   \n",
       "9723  0.000000  0.000000  0.000000  0.000000  0.000000  0.000000  0.000000   \n",
       "\n",
       "          7         8         9     ...      9714      9715      9716  9717  \\\n",
       "0     0.085986  0.041389 -0.008184  ... -0.057898 -0.010636  0.074217   0.0   \n",
       "1     0.031078  0.046682  0.007021  ...  0.043645  0.034338  0.192373   0.0   \n",
       "2     0.188311  0.160743 -0.010144  ...  0.000000  0.016012  0.013015   0.0   \n",
       "3     0.012922  0.000000  0.076458  ...  0.000000  0.000000  0.000000   0.0   \n",
       "4     0.224129  0.070375  0.047833  ...  0.000000  0.031511  0.047210   0.0   \n",
       "...        ...       ...       ...  ...       ...       ...       ...   ...   \n",
       "9719  0.000000  0.000000  0.000000  ...  0.000000  0.000000  0.000000   0.0   \n",
       "9720  0.000000  0.000000 -0.036217  ...  0.000000  0.328526  0.118678   0.0   \n",
       "9721  0.000000  0.000000  0.000000  ...  0.000000  0.000000  0.000000   0.0   \n",
       "9722  0.000000  0.000000  0.064858  ... -0.013634 -0.002023  0.461131   0.0   \n",
       "9723  0.000000  0.000000  0.000000  ...  0.000000  0.000000  0.000000   0.0   \n",
       "\n",
       "      9718  9719      9720  9721      9722  9723  \n",
       "0      0.0   0.0 -0.115796   0.0  0.154751   0.0  \n",
       "1      0.0   0.0  0.033170   0.0  0.314891   0.0  \n",
       "2      0.0   0.0  0.024370   0.0  0.000000   0.0  \n",
       "3      0.0   0.0  0.000000   0.0  0.000000   0.0  \n",
       "4      0.0   0.0  0.008036   0.0  0.000000   0.0  \n",
       "...    ...   ...       ...   ...       ...   ...  \n",
       "9719   0.0   0.0  0.000000   0.0  0.000000   0.0  \n",
       "9720   0.0   0.0  1.000000   0.0  0.000000   0.0  \n",
       "9721   0.0   0.0  0.000000   0.0  0.000000   0.0  \n",
       "9722   0.0   0.0  0.000000   0.0  1.000000   0.0  \n",
       "9723   0.0   0.0  0.000000   0.0  0.000000   0.0  \n",
       "\n",
       "[9724 rows x 9724 columns]"
      ]
     },
     "execution_count": 181,
     "metadata": {},
     "output_type": "execute_result"
    }
   ],
   "source": [
    "mat_centered=RowCenterMatrix(mat)\n",
    "sim_mat = CosSim_Matrix(mat_centered)\n",
    "pd.DataFrame(sim_mat)"
   ]
  },
  {
   "cell_type": "markdown",
   "id": "4e299707-f9ba-4d77-bb15-fe4669a46e67",
   "metadata": {},
   "source": [
    "let's make an estimation for `Movie = 3` and `User = 1`"
   ]
  },
  {
   "cell_type": "code",
   "execution_count": 206,
   "id": "5b6d8311-7c9a-42e4-a5fe-bcd78c2bfb18",
   "metadata": {
    "tags": []
   },
   "outputs": [
    {
     "name": "stdout",
     "output_type": "stream",
     "text": [
      "row: 1 - col: 3\n",
      "\tItem:3415    Score: 3.0 (Sim:  0.237)\n",
      "\tItem:2889    Score: 4.0 (Sim:  0.207)\n",
      "\tItem:2038    Score: 3.0 (Sim:  0.203)\n",
      "\tItem: 514    Score: 1.0 (Sim:  0.199)\n",
      "\tItem:2427    Score: 5.0 (Sim:  0.196)\n",
      "\tScore:  3.1932\n"
     ]
    }
   ],
   "source": [
    "r = estimate_score(pd.DataFrame(mat), sim_mat, 5, 1, 3, True)"
   ]
  },
  {
   "cell_type": "markdown",
   "id": "d68013da-75be-416f-8831-fd0ac7d8072e",
   "metadata": {},
   "source": [
    "#### Exercise\n",
    "\n",
    "* for user 1, of the films he did not watch which are the ones we can recommend to him?\n",
    "* given any user list of rankings, can you make a recomendation for that user?"
   ]
  },
  {
   "cell_type": "code",
   "execution_count": 190,
   "id": "eb297c30-1fca-4481-9851-806356973b4f",
   "metadata": {
    "tags": []
   },
   "outputs": [
    {
     "data": {
      "text/plain": [
       "RangeIndex(start=0, stop=610, step=1)"
      ]
     },
     "execution_count": 190,
     "metadata": {},
     "output_type": "execute_result"
    }
   ],
   "source": [
    "## your move\n",
    "df = pd.DataFrame(mat)"
   ]
  },
  {
   "cell_type": "code",
   "execution_count": 211,
   "id": "750593c8-c9f7-47bf-919c-08cd4006d035",
   "metadata": {
    "tags": []
   },
   "outputs": [
    {
     "name": "stdout",
     "output_type": "stream",
     "text": [
      "row: 1 - col: 125\n",
      "\tItem: 352    Score: 5.0 (Sim:  0.258)\n",
      "\tItem: 477    Score: 4.0 (Sim:  0.242)\n",
      "\tItem: 415    Score: 3.0 (Sim:  0.217)\n",
      "\tItem: 142    Score: 4.0 (Sim:  0.203)\n",
      "\tItem: 365    Score: 5.0 (Sim:  0.181)\n",
      "\tScore:  4.2025\n"
     ]
    },
    {
     "data": {
      "text/plain": [
       "4.202451490686916"
      ]
     },
     "execution_count": 211,
     "metadata": {},
     "output_type": "execute_result"
    }
   ],
   "source": [
    "#go for it - try a graphical approach\n",
    "estimate_score(df, sim_mat, 5, 1, 125, True)"
   ]
  },
  {
   "cell_type": "code",
   "execution_count": 213,
   "id": "02f6273b-890c-4fa1-bc39-6759f0a2f7b5",
   "metadata": {
    "tags": []
   },
   "outputs": [
    {
     "data": {
      "text/plain": [
       "(9724, 610)"
      ]
     },
     "execution_count": 213,
     "metadata": {},
     "output_type": "execute_result"
    }
   ],
   "source": [
    "df.shape"
   ]
  },
  {
   "cell_type": "code",
   "execution_count": 219,
   "id": "f3cbf979-d9ed-416a-86ce-3efe4c88ec11",
   "metadata": {
    "tags": []
   },
   "outputs": [],
   "source": [
    "estimates = [ estimate_score(df, sim_mat, 5, 1, i, False) for i in range(df.shape[1]) if np.isnan(df.loc[1, i]) ]"
   ]
  },
  {
   "cell_type": "code",
   "execution_count": 220,
   "id": "65c746c6-05e1-458e-9399-6bb48a1bb5c8",
   "metadata": {
    "tags": []
   },
   "outputs": [
    {
     "data": {
      "text/plain": [
       "500"
      ]
     },
     "execution_count": 220,
     "metadata": {},
     "output_type": "execute_result"
    }
   ],
   "source": [
    "len(estimates)"
   ]
  },
  {
   "cell_type": "code",
   "execution_count": 221,
   "id": "6fdd9d0b-13a3-425b-b15a-5933a2f6c965",
   "metadata": {
    "tags": []
   },
   "outputs": [
    {
     "data": {
      "text/plain": [
       "array([210, 197,  44, 448, 425], dtype=int64)"
      ]
     },
     "execution_count": 221,
     "metadata": {},
     "output_type": "execute_result"
    }
   ],
   "source": [
    "np.argsort(estimates)[-5:]"
   ]
  },
  {
   "cell_type": "code",
   "execution_count": 222,
   "id": "1ad1acf5-7266-468d-ac28-9cdab682358b",
   "metadata": {
    "tags": []
   },
   "outputs": [
    {
     "data": {
      "text/plain": [
       "4.911070485768047"
      ]
     },
     "execution_count": 222,
     "metadata": {},
     "output_type": "execute_result"
    }
   ],
   "source": [
    "estimates[210]"
   ]
  },
  {
   "cell_type": "code",
   "execution_count": null,
   "id": "b069ed02-d984-40a8-b50f-1565d6586b0f",
   "metadata": {},
   "outputs": [],
   "source": []
  }
 ],
 "metadata": {
  "kernelspec": {
   "display_name": "Python 3 (ipykernel)",
   "language": "python",
   "name": "python3"
  },
  "language_info": {
   "codemirror_mode": {
    "name": "ipython",
    "version": 3
   },
   "file_extension": ".py",
   "mimetype": "text/x-python",
   "name": "python",
   "nbconvert_exporter": "python",
   "pygments_lexer": "ipython3",
   "version": "3.9.7"
  }
 },
 "nbformat": 4,
 "nbformat_minor": 5
}
