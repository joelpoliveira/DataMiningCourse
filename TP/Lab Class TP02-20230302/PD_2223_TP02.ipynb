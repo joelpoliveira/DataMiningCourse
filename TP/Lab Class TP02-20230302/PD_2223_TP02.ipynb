{
 "cells": [
  {
   "cell_type": "markdown",
   "id": "bb9efcbd-b436-4bed-9d1d-9dfdf88b8e81",
   "metadata": {},
   "source": [
    "# Prospecção de Dados - Data Mining - DI/FCUL2022/2023\n",
    "\n",
    "## Lab class TP02\n",
    "\n",
    "# Naive Bayes and Linear Regression\n",
    "\n",
    "*A Data Mining Tutorial by Andre Falcao (DI/FCUL 2021-2023)*\n",
    "\n",
    "### Summary\n",
    "\n",
    "1. Introduction to Naive-Bayes\n",
    "2. The essence of Linear Regression\n",
    "3. Appendix: Gaussian Naive Bayes\n",
    "\n",
    "\n",
    "## 1. Introduction to Naïve Bayes\n",
    "\n",
    "\n",
    "Naive Bayes is a simplification of Bayesian Learning by we assume all variables are independent. If that is the case we can just multiply the priors and the individual likelihoods. For instance for two different classes A, and B we can generate the Aposteriori Probability and select the class that gives the highst overal score\n",
    "\n",
    "$P(i \\in Class_A | x_i) \\propto \\prod_j{P(x_{ij} |i \\in Class_A)}.P(Class_A)$\n",
    "\n",
    "$P(i \\in Class_B | x_i)  \\propto \\prod_j{P(x_{ij} |i \\in Class_B)}.P(Class_B)$\n",
    "\n",
    "A very simple implementation of Naive Bayes could be defined as this:\n",
    "\n",
    "1. Calculate the priors of each class - If our data comes unbiasedly from a sampled population, these can be assumed by simply counting how many instances exist in each class\n",
    "2. Compute the likelihoods. For all possible values in the dataset we just need to count the mumer of times each value appears in each class\n",
    "\n",
    "A Naive Bayes Model is then just these two pieces of information. And for each new item we multiply the priors of the existing values and the priors to have an estimation of the posterior\n",
    "\n",
    "A simple implementation that would receive a traditional table dataset and would compute a model (priors and likelihoods) that could be used for classification would be very simple in python"
   ]
  },
  {
   "cell_type": "code",
   "execution_count": 1,
   "id": "6f916e17-e0a3-4871-9eea-b6281234fd53",
   "metadata": {
    "tags": []
   },
   "outputs": [],
   "source": [
    "import numpy as np\n",
    "import pandas as pd"
   ]
  },
  {
   "cell_type": "code",
   "execution_count": 2,
   "id": "6da5d807-1439-403b-84b7-8faeaf4f3063",
   "metadata": {
    "tags": []
   },
   "outputs": [],
   "source": [
    "def PD_NB(X, y):\n",
    "    N, M=X.shape\n",
    "\n",
    "    yv, yc=np.unique(y, return_counts=True)\n",
    "    priors={yv[i]: yc[i]/sum(yc) for i in range(len(yv)) }\n",
    "\n",
    "    L_hoods={}\n",
    "    for j in range(M):\n",
    "        xs=np.unique(X[:,j])\n",
    "        for v in xs:\n",
    "            for yi in yv: L_hoods[(j, v,  yi)]=0.0\n",
    "\n",
    "    for yi in yv:\n",
    "        X_c = X[y==yi]\n",
    "        #...now search each individual X column\n",
    "        for j in range(M):\n",
    "            col = X_c[:,j]\n",
    "            vs, cs = np.unique(col, return_counts=True)\n",
    "            # ...for each possible value now we divide it all\n",
    "            for i, v in enumerate(vs):\n",
    "                L_hoods[(j, v,  yi)] = cs[i]/np.sum(cs)\n",
    "    \n",
    "\n",
    "    return priors, L_hoods"
   ]
  },
  {
   "cell_type": "markdown",
   "id": "604550b6-861c-4fef-be55-c7cd2eca8bfe",
   "metadata": {
    "tags": []
   },
   "source": [
    "#### Exercises\n",
    "1. Identify the prior construction part in the above function\n",
    "\n",
    " - use numpy to count <br>\n",
    " - create a dictionary with pairs **{value} : {probability}**\n",
    "\n",
    "2. Identify the construction of the Likelihoods\n",
    "\n",
    " - first loops initialize likelyhoods with $0$\n",
    " - second loops calculate the likelyhoods\n",
    "\n",
    "3. What is the complexity of each part?\n",
    "\n",
    " - 1. $O(M \\cdot k)$\n",
    " - 2. $O(M \\cdot k \\cdot l)$\n",
    "\n",
    "4. What are the drawbacks of the above implementation for a large scale application?\n",
    "\n",
    " - $X$ size. Multiple filters over all $X$ and $y$ rows --> $O(N^k)$\n",
    "\n",
    "We can visualise out model with a simple function"
   ]
  },
  {
   "cell_type": "code",
   "execution_count": 3,
   "id": "9746b6c3-d226-4e56-a54e-19932b7b03e3",
   "metadata": {
    "tags": []
   },
   "outputs": [],
   "source": [
    "def show_NB(priors, L_hoods):\n",
    "    print(\"Priors are:\")\n",
    "    for yi in priors:\n",
    "        print(\"\\tP(Y = %s) = %7.4f\" % (yi, priors[yi]))\n",
    "    print(\"Likelyhoods:\")\n",
    "    for i, xi, yi in L_hoods:\n",
    "        print(\"\\tP(X%d = %s | Y = %s) = %7.4f\" % (i, xi, yi, L_hoods[(i,xi,yi)]))"
   ]
  },
  {
   "cell_type": "markdown",
   "id": "027a9cba-3158-4899-a44e-6e227d659a62",
   "metadata": {},
   "source": [
    "With the Priors and the likelihoods(the \"Model\") we can make predictions, which is just to compute the posterior probabilities, given the assumptions of the Naive Bayes approach\n",
    "\n",
    "The function below will compute and output the posterior probabilities"
   ]
  },
  {
   "cell_type": "code",
   "execution_count": 4,
   "id": "9054c56f-1aec-487d-b086-0aa4f4845b83",
   "metadata": {
    "tags": []
   },
   "outputs": [],
   "source": [
    "def calc_posterior(data, priors, L_hoods):\n",
    "    probs=np.zeros(len(priors))\n",
    "    for j, yp in enumerate(priors.keys()):\n",
    "        probs[j]=priors[yp]\n",
    "        for i, d in enumerate(data): probs[j]*=L_hoods[(i, d, yp)]\n",
    "    #scaling to 1.0\n",
    "    probs=probs/np.sum(probs)\n",
    "    return {yp: probs[j] for j, yp in enumerate(priors.keys())}\n"
   ]
  },
  {
   "cell_type": "markdown",
   "id": "31015200-5d17-47cd-8d7d-f31ac4f26139",
   "metadata": {},
   "source": [
    "### Testing the above approach with the (in)famous iris dataset\n",
    "\n",
    "This is the simplest of all toy datasets, but it will cover one important thing: **How to make predictions when we have continuous data.** The solution is to discretize the available data into classes and then use a one-hot encoding for each class.\n"
   ]
  },
  {
   "cell_type": "code",
   "execution_count": 5,
   "id": "13246ab2-c544-4149-9a7d-a1b6f93aa0a4",
   "metadata": {
    "tags": []
   },
   "outputs": [
    {
     "name": "stdout",
     "output_type": "stream",
     "text": [
      "['Small' 'Large' 'Small' 'Small'] ----> setosa\n",
      "['Medium' 'Large' 'Small' 'Small'] ----> setosa\n",
      "['Small' 'Large' 'Small' 'Small'] ----> setosa\n",
      "['Small' 'Small' 'Medium' 'Medium'] ----> versicolor\n",
      "['Medium' 'Small' 'Medium' 'Medium'] ----> versicolor\n",
      "['Medium' 'Large' 'Large' 'Large'] ----> virginica\n",
      "['Large' 'Medium' 'Large' 'Large'] ----> virginica\n",
      "['Large' 'Medium' 'Large' 'Large'] ----> virginica\n"
     ]
    }
   ],
   "source": [
    "from sklearn.datasets import load_iris\n",
    "\n",
    "data=load_iris()\n",
    "cnames=data.feature_names\n",
    "X0=data.data\n",
    "class_names=data.target_names\n",
    "y_iris=data.target_names[data.target]\n",
    "X_iris=np.empty(X0.shape,dtype=\"object\")\n",
    "X_iris[:,:]=\"Medium\"\n",
    "for i,cname in enumerate(cnames):\n",
    "    q33, q67=np.quantile(X0[:,i], (0.33, 0.67))\n",
    "    X_iris[X0[:,i]<q33, i]=\"Small\"\n",
    "    X_iris[X0[:,i]>q67, i]=\"Large\"\n",
    "\n",
    "#here is some sample data from the dataset\n",
    "for i in range(0, len(X_iris), 20):\n",
    "    print(X_iris[i], \"---->\", y_iris[i])\n"
   ]
  },
  {
   "cell_type": "markdown",
   "id": "757fb112-a582-4a49-bbe1-876141e3d342",
   "metadata": {},
   "source": [
    "Now we can make the model, given the data (X and y)"
   ]
  },
  {
   "cell_type": "code",
   "execution_count": 7,
   "id": "6f6b3479-2143-49f6-bde7-df84be7804c5",
   "metadata": {
    "tags": []
   },
   "outputs": [],
   "source": [
    "priors, L_hoods = PD_NB(X_iris, y_iris)"
   ]
  },
  {
   "cell_type": "code",
   "execution_count": 8,
   "id": "b7ded8af-3d53-40ac-86b7-8977e56cff41",
   "metadata": {
    "tags": []
   },
   "outputs": [
    {
     "name": "stdout",
     "output_type": "stream",
     "text": [
      "Priors are:\n",
      "\tP(Y = setosa) =  0.3333\n",
      "\tP(Y = versicolor) =  0.3333\n",
      "\tP(Y = virginica) =  0.3333\n",
      "Likelyhoods:\n",
      "\tP(X0 = Large | Y = setosa) =  0.0000\n",
      "\tP(X0 = Large | Y = versicolor) =  0.2200\n",
      "\tP(X0 = Large | Y = virginica) =  0.6200\n",
      "\tP(X0 = Medium | Y = setosa) =  0.2000\n",
      "\tP(X0 = Medium | Y = versicolor) =  0.6800\n",
      "\tP(X0 = Medium | Y = virginica) =  0.3600\n",
      "\tP(X0 = Small | Y = setosa) =  0.8000\n",
      "\tP(X0 = Small | Y = versicolor) =  0.1000\n",
      "\tP(X0 = Small | Y = virginica) =  0.0200\n",
      "\tP(X1 = Large | Y = setosa) =  0.6600\n",
      "\tP(X1 = Large | Y = versicolor) =  0.0400\n",
      "\tP(X1 = Large | Y = virginica) =  0.1600\n",
      "\tP(X1 = Medium | Y = setosa) =  0.3200\n",
      "\tP(X1 = Medium | Y = versicolor) =  0.4200\n",
      "\tP(X1 = Medium | Y = virginica) =  0.4600\n",
      "\tP(X1 = Small | Y = setosa) =  0.0200\n",
      "\tP(X1 = Small | Y = versicolor) =  0.5400\n",
      "\tP(X1 = Small | Y = virginica) =  0.3800\n",
      "\tP(X2 = Large | Y = setosa) =  0.0000\n",
      "\tP(X2 = Large | Y = versicolor) =  0.0400\n",
      "\tP(X2 = Large | Y = virginica) =  0.8800\n",
      "\tP(X2 = Medium | Y = setosa) =  0.0000\n",
      "\tP(X2 = Medium | Y = versicolor) =  0.9600\n",
      "\tP(X2 = Medium | Y = virginica) =  0.1200\n",
      "\tP(X2 = Small | Y = setosa) =  1.0000\n",
      "\tP(X2 = Small | Y = versicolor) =  0.0000\n",
      "\tP(X2 = Small | Y = virginica) =  0.0000\n",
      "\tP(X3 = Large | Y = setosa) =  0.0000\n",
      "\tP(X3 = Large | Y = versicolor) =  0.0400\n",
      "\tP(X3 = Large | Y = virginica) =  0.9200\n",
      "\tP(X3 = Medium | Y = setosa) =  0.0000\n",
      "\tP(X3 = Medium | Y = versicolor) =  0.9600\n",
      "\tP(X3 = Medium | Y = virginica) =  0.0800\n",
      "\tP(X3 = Small | Y = setosa) =  1.0000\n",
      "\tP(X3 = Small | Y = versicolor) =  0.0000\n",
      "\tP(X3 = Small | Y = virginica) =  0.0000\n"
     ]
    }
   ],
   "source": [
    "show_NB(priors, L_hoods)"
   ]
  },
  {
   "cell_type": "markdown",
   "id": "e1258f82-01ac-412b-a5f6-9e587283f4ef",
   "metadata": {},
   "source": [
    "let's test the model with two randomly selected flowers "
   ]
  },
  {
   "cell_type": "code",
   "execution_count": 9,
   "id": "6022e4cc-27e7-4b94-b2ac-516838224cda",
   "metadata": {
    "tags": []
   },
   "outputs": [
    {
     "name": "stdout",
     "output_type": "stream",
     "text": [
      "Caso:  ['Medium', 'Large', 'Medium', 'Large']\n",
      "\tP(Y = setosa | X=['Medium', 'Large', 'Medium', 'Large'] )=  0.0000\n",
      "\tP(Y = versicolor | X=['Medium', 'Large', 'Medium', 'Large'] )=  0.1411\n",
      "\tP(Y = virginica | X=['Medium', 'Large', 'Medium', 'Large'] )=  0.8589\n",
      "\t==> Best is: virginica\n",
      "Caso:  ['Small', 'Large', 'Small', 'Small']\n",
      "\tP(Y = setosa | X=['Small', 'Large', 'Small', 'Small'] )=  1.0000\n",
      "\tP(Y = versicolor | X=['Small', 'Large', 'Small', 'Small'] )=  0.0000\n",
      "\tP(Y = virginica | X=['Small', 'Large', 'Small', 'Small'] )=  0.0000\n",
      "\t==> Best is: setosa\n"
     ]
    }
   ],
   "source": [
    "data=[[\"Medium\", \"Large\", \"Medium\", \"Large\"], [\"Small\", \"Large\", \"Small\", \"Small\"]]\n",
    "for d in data:\n",
    "    res =calc_posterior(d, priors, L_hoods)\n",
    "    print(\"Caso: \", d)\n",
    "    cur_best=(-999,\"x\")\n",
    "    for yi in res:\n",
    "        if (res[yi], yi)>cur_best: cur_best=(res[yi], yi)\n",
    "        print(\"\\tP(Y = %s | X=%s )= %7.4f\"% (yi, d, res[yi]))\n",
    "    print(\"\\t==> Best is:\", cur_best[1])\n"
   ]
  },
  {
   "cell_type": "markdown",
   "id": "043c653e-2037-4f4d-b163-fd507658701a",
   "metadata": {},
   "source": [
    "### Exercises\n",
    "The last example fitted is very obviously of the \"setosa\" species, but there is no possibility of being of any other class?\n",
    "1. Identify why is that the case\n",
    " - Laplace Smoothing\n",
    "2. What technique could we use for at least admitting that possibility\n",
    "3. Implement it in Python, by changing the PD_NB function\n",
    "4. test the new model with the same examples and do some sensitivity analyisis"
   ]
  },
  {
   "cell_type": "code",
   "execution_count": 16,
   "id": "49a02a82-b135-46b4-9ef2-7fc6707c18ac",
   "metadata": {
    "tags": []
   },
   "outputs": [
    {
     "data": {
      "text/plain": [
       "array(['setosa', 'setosa', 'setosa', 'setosa', 'setosa', 'setosa',\n",
       "       'setosa', 'setosa', 'setosa', 'setosa', 'setosa', 'setosa',\n",
       "       'setosa', 'setosa', 'setosa', 'setosa', 'setosa', 'setosa',\n",
       "       'setosa', 'setosa', 'setosa', 'setosa', 'setosa'], dtype='<U10')"
      ]
     },
     "execution_count": 16,
     "metadata": {},
     "output_type": "execute_result"
    }
   ],
   "source": [
    "idx = np.all(X_iris==['Small', 'Large', 'Small', 'Small'], axis=1)\n",
    "y_iris[idx]"
   ]
  },
  {
   "cell_type": "code",
   "execution_count": 82,
   "id": "61c98ffb-2196-4226-a764-1ae4c1be104a",
   "metadata": {
    "tags": []
   },
   "outputs": [],
   "source": [
    "#####!!!!!!!!!!!!!!!!! SOLUTION of exercise 3\n",
    "def PD_NB(X, y, α = 0.01):\n",
    "    N, M=X.shape\n",
    "    \n",
    "    yv, yc=np.unique(y, return_counts=True)\n",
    "    priors={yv[i]: yc[i]/sum(yc) for i in range(len(yv)) }\n",
    "\n",
    "    L_hoods={}\n",
    "    for j in range(M):\n",
    "        xs=np.unique(X[:,j])\n",
    "        for v in xs:\n",
    "            for yi in yv: L_hoods[(j, v,  yi)]=α\n",
    "\n",
    "    for yi in yv:\n",
    "        X_c = X[y==yi]\n",
    "        #...now search each individual X column\n",
    "        for j in range(M):\n",
    "            col = X_c[:,j]\n",
    "            vs, cs = np.unique(col, return_counts=True)\n",
    "            # ...for each possible value now we divide it all\n",
    "            for i, v in enumerate(vs):\n",
    "                L_hoods[(j, v,  yi)] += (cs[i])/( np.sum(cs) )\n",
    "\n",
    "\n",
    "    return priors, L_hoods\n"
   ]
  },
  {
   "cell_type": "code",
   "execution_count": 94,
   "id": "a9d145bf-ef65-4212-abdb-cc933add49de",
   "metadata": {
    "tags": []
   },
   "outputs": [],
   "source": [
    "priors, L_hoods = PD_NB(X_iris, y_iris, α=0.1)"
   ]
  },
  {
   "cell_type": "code",
   "execution_count": 96,
   "id": "3599def8-19ab-4734-8c8d-5fc3fc73fe30",
   "metadata": {
    "tags": []
   },
   "outputs": [
    {
     "name": "stdout",
     "output_type": "stream",
     "text": [
      "Caso:  ['Medium', 'Large', 'Medium', 'Large']\n",
      "\tP(Y = setosa | X=['Medium', 'Large', 'Medium', 'Large'] )=  0.0503\n",
      "\tP(Y = versicolor | X=['Medium', 'Large', 'Medium', 'Large'] )=  0.3575\n",
      "\tP(Y = virginica | X=['Medium', 'Large', 'Medium', 'Large'] )=  0.5921\n",
      "\t==> Best is: virginica\n",
      "Caso:  ['Small', 'Large', 'Small', 'Small']\n",
      "\tP(Y = setosa | X=['Small', 'Large', 'Small', 'Small'] )=  0.9993\n",
      "\tP(Y = versicolor | X=['Small', 'Large', 'Small', 'Small'] )=  0.0003\n",
      "\tP(Y = virginica | X=['Small', 'Large', 'Small', 'Small'] )=  0.0004\n",
      "\t==> Best is: setosa\n"
     ]
    }
   ],
   "source": [
    "######!!!!!!!!!!!!!!!!!SOLUTION of exercise 4\n",
    "data=[[\"Medium\", \"Large\", \"Medium\", \"Large\"], [\"Small\", \"Large\", \"Small\", \"Small\"]]\n",
    "for d in data:\n",
    "    res =calc_posterior(d, priors, L_hoods)\n",
    "    print(\"Caso: \", d)\n",
    "    cur_best=(-999,\"x\")\n",
    "    for yi in res:\n",
    "        if (res[yi], yi)>cur_best: cur_best=(res[yi], yi)\n",
    "        print(\"\\tP(Y = %s | X=%s )= %7.4f\"% (yi, d, res[yi]))\n",
    "    print(\"\\t==> Best is:\", cur_best[1])"
   ]
  },
  {
   "cell_type": "markdown",
   "id": "4f42fff7-c9eb-42c4-859a-70d725445b00",
   "metadata": {},
   "source": [
    "## Running Naive Bayes for large datasets\n",
    "\n",
    "Naive Bayes is a robust algorithm that can be used for very large algorithms, for which the simplistic table based approximation followed is not adequate.\n",
    "\n",
    "Many times, an instance in real life is just the specification that something happened, like a list of items in a basket or the set of words in a document. And of course any table, like the one above, can be transformed in such a description\n",
    "\n",
    "### Discriminating between SPAM and HAM in a small email dataset\n",
    "\n",
    "Here are going ot use the [SPAM and HAM Dataset from Kaggle](https://www.kaggle.com/datasets/veleon/ham-and-spam-dataset) with 2551 emails that are not spam (HAM) and 501 SPAM emails. and we are going to use the presence of words to make a simple Naive-Bayes spam filter.\n",
    "\n",
    "The data was previously processed so that the basic texts from the emails are extracted for each message Even though we could use all the words from the text [the dataset of all the words is actually present in this folder] we are just going to use the words from the subjects for our model\n",
    "\n"
   ]
  },
  {
   "cell_type": "markdown",
   "id": "3952253d-05ca-43b3-80e6-057e7e5a999d",
   "metadata": {},
   "source": [
    "We can have a glimpse of the data and some of the actual problems still extant [which we are not going to solve!]"
   ]
  },
  {
   "cell_type": "code",
   "execution_count": 97,
   "id": "9b87cced-e686-437b-bb8f-d7eb4c88cb51",
   "metadata": {
    "tags": []
   },
   "outputs": [
    {
     "name": "stdout",
     "output_type": "stream",
     "text": [
      "0 1 ---> {'insurance', 'why', 'life', 'more', 'pay'}\n",
      "500 1 ---> {'fortune', 'a', 'on', 'make', 'ebay'}\n",
      "1000 0 ---> {'wedded', 'was', 're:', 'ouch', 'bliss', 'selling'}\n",
      "1500 0 ---> {'bug', 're:', 'exmh'}\n",
      "2000 0 ---> {'re:', 'mail', 'spamm', 'is', 'users', 'empty', 'razor'}\n",
      "2500 0 ---> {'�', 'houses', 'a', 'rise', 'week'}\n"
     ]
    }
   ],
   "source": [
    "import pickle\n",
    "word_sbs, labs = pickle.load(open(\"subjects.pickle\", \"rb\"))\n",
    "for i in range(0, len(word_sbs), 500):\n",
    "    print(i, labs[i], \"--->\", word_sbs[i])"
   ]
  },
  {
   "cell_type": "code",
   "execution_count": 101,
   "id": "03639169-67f3-4b2f-b8e4-52898e669869",
   "metadata": {
    "tags": []
   },
   "outputs": [
    {
     "data": {
      "text/plain": [
       "0    2166\n",
       "1     502\n",
       "dtype: int64"
      ]
     },
     "execution_count": 101,
     "metadata": {},
     "output_type": "execute_result"
    }
   ],
   "source": [
    "pd.Series(labs).value_counts()"
   ]
  },
  {
   "cell_type": "markdown",
   "id": "aabf2377-8a11-48f4-ab5c-abaf966f3b8b",
   "metadata": {},
   "source": [
    "### Make a sparkling new Bayesian classifier for SPAM detection\n",
    "\n",
    "The steps we defined above are exaclty the same as before.\n",
    "1. First compute the priors\n",
    "2. then compute the likelihoods\n",
    "\n",
    "For the priors we are going to assume that each class has a unique ID from 0 to K. Here we just have two classes [0,1] for HAM and SPAM, respectively.\n",
    "\n",
    "One important detail is that we are going to keep our functions updateable, so we are going to output the actual counts and not the actual probalilities. To compute them we will have to divide the results by the sum of the priors"
   ]
  },
  {
   "cell_type": "code",
   "execution_count": 98,
   "id": "b08d383c-5257-4551-86d1-63a84284b761",
   "metadata": {
    "tags": []
   },
   "outputs": [
    {
     "name": "stdout",
     "output_type": "stream",
     "text": [
      "Class Priors: [0.81184408 0.18815592]\n"
     ]
    }
   ],
   "source": [
    "def calc_prior_counts(labels):\n",
    "    yv, yc=np.unique(labels, return_counts=True)\n",
    "    priors=np.ones(len(yv))\n",
    "    priors[yv]=yc\n",
    "    return priors\n",
    "\n",
    "PC = calc_prior_counts(labs)\n",
    "print(\"Class Priors:\", PC/PC.sum())"
   ]
  },
  {
   "cell_type": "markdown",
   "id": "2bfbc7fd-d2ff-4e58-aa37-a8f255035bd3",
   "metadata": {},
   "source": [
    "for computing the likelihood counts we will need first an initialization function for structuring the number of times a word appears on a email of class K. For doing that we need to get all the words in this corpus, and we will use a previously created function"
   ]
  },
  {
   "cell_type": "code",
   "execution_count": 102,
   "id": "50b5e923-3ce7-47b4-a0a8-d6c4a5066f5a",
   "metadata": {
    "tags": []
   },
   "outputs": [],
   "source": [
    "def calc_all_words(words_text_sets):\n",
    "    #joins all the words from lists of words in documents to get a unique set of all the words\n",
    "    all_words=set()\n",
    "    for words in words_text_sets: all_words |= words\n",
    "    return all_words\n",
    "\n",
    "\n",
    "def init_likelihood_counts(docs_words, n_labels):\n",
    "    all_words=calc_all_words(docs_words)\n",
    "    L_hoods={}\n",
    "    for w in all_words:\n",
    "        L_hoods[w]=np.zeros(n_labels)\n",
    "    return L_hoods\n"
   ]
  },
  {
   "cell_type": "markdown",
   "id": "8e84d477-42b3-4092-a824-3294df26acd9",
   "metadata": {},
   "source": [
    "Similarly to the priors we are going to compute the counts of SPAM/HAM documents for each word.\n",
    "\n",
    "Our calc_likelihood function will work in a such a way that it can be trivially updated as more data arrives and we can update our model with it"
   ]
  },
  {
   "cell_type": "code",
   "execution_count": 103,
   "id": "f5b27802-ce25-461a-9769-2b24ad873f45",
   "metadata": {
    "tags": []
   },
   "outputs": [
    {
     "name": "stdout",
     "output_type": "stream",
     "text": [
      "hittin' ---> [1. 0.]\n",
      "gillmor: ---> [1. 0.]\n",
      "bowers: ---> [1. 0.]\n",
      "doctors ---> [0. 3.]\n",
      "cypriot ---> [1. 0.]\n",
      "client ---> [7. 0.]\n",
      "fw: ---> [11. 10.]\n",
      "until ---> [0. 1.]\n",
      "videogame ---> [1. 0.]\n",
      "pcs ---> [2. 0.]\n",
      "_audio ---> [1. 0.]\n",
      "sendmail ---> [7. 0.]\n",
      "xosd ---> [1. 0.]\n",
      "junk ---> [2. 0.]\n",
      "handheld ---> [0. 1.]\n",
      "bridge ---> [2. 0.]\n"
     ]
    }
   ],
   "source": [
    "\n",
    "def update_likelihood_counts(L_hoods, words, label):\n",
    "    for word in words: \n",
    "        L_hoods[word][label]+=1\n",
    "\n",
    "def calc_likelihood_counts(docs_words, labels):\n",
    "    n_labels=len(set(labels)) #!!! <- not very bright!\n",
    "    L_hoods = init_likelihood_counts(docs_words, n_labels)\n",
    "    for i, words in enumerate(docs_words): \n",
    "        update_likelihood_counts(L_hoods, words, labels[i])\n",
    "    return L_hoods\n",
    "\n",
    "LHC=calc_likelihood_counts(word_sbs, labs)\n",
    "\n",
    "#take a glimpse of the word counts for each word\n",
    "words=list(LHC.keys())\n",
    "for i in range(0, len(words), int(len(words)/15)):\n",
    "    print(words[i], \"--->\", LHC[words[i]])"
   ]
  },
  {
   "cell_type": "markdown",
   "id": "46691089-e18e-41a3-9fbc-05424be5fc9b",
   "metadata": {},
   "source": [
    "Now we have both pieces and we can classify any new email for which we have its subject \n",
    "\n",
    "Two important issues:\n",
    "\n",
    "1. notice that we are puting the Regularization constant (alpha) only here, this is important if we are basing our model on counts and not probabilities\n",
    "2. Notice also what happens if a word does not exist in the corpus - It is basically ignored! If no word exists, the classifier will just output the priors\n",
    "\n"
   ]
  },
  {
   "cell_type": "code",
   "execution_count": 105,
   "id": "9c233bd2-104a-4354-a58f-7ec39d9e6465",
   "metadata": {
    "tags": []
   },
   "outputs": [
    {
     "data": {
      "text/plain": [
       "(array([0.99585283, 0.00414717]), {'at', 'get', 'in', 'the', 'top'})"
      ]
     },
     "execution_count": 105,
     "metadata": {},
     "output_type": "execute_result"
    }
   ],
   "source": [
    "def classify_new_document(words, priors, L_hoods, α=0.01):\n",
    "    res=priors/priors.sum()\n",
    "    alpha_vec=np.ones(len(res))*α\n",
    "    for word in words:\n",
    "        if word in L_hoods: \n",
    "            res*=(L_hoods[word]/L_hoods[word].sum() + alpha_vec)\n",
    "    return res/res.sum()\n",
    "\n",
    "words = word_sbs[50]\n",
    "classify_new_document(words, PC, LHC), words"
   ]
  },
  {
   "cell_type": "markdown",
   "id": "edcd3a55-1779-450e-aee5-f2ac451e8812",
   "metadata": {},
   "source": [
    "Let's see exactly how good our model is by splitting our dataset into a training set and testing sets, fiting the model with the former and evaluating it with the later"
   ]
  },
  {
   "cell_type": "code",
   "execution_count": 153,
   "id": "e259e95c-9220-40a4-9416-d367afbfd735",
   "metadata": {
    "tags": []
   },
   "outputs": [],
   "source": [
    "from random import sample, shuffle\n",
    "def make_train_test(X, y, r=0.25 ):\n",
    "    N=len(X)\n",
    "    test_idx  = set(sample(range(N), int(N*r)))\n",
    "    train_idx = list(set(range(N)) - test_idx)\n",
    "    test_idx =list(test_idx)\n",
    "    shuffle(train_idx)\n",
    "    shuffle(test_idx)\n",
    "    train_set_X = [X[i] for i in train_idx]\n",
    "    train_set_y = [y[i] for i in train_idx]\n",
    "    test_set_X = [X[i] for i in test_idx]\n",
    "    test_set_y = [y[i] for i in test_idx]\n",
    "    return train_set_X, train_set_y, test_set_X, test_set_y\n",
    "\n",
    "def make_train_test(X, y, r=0.25 ):\n",
    "    N=len(X)\n",
    "    D=list(range(N))\n",
    "    shuffle(D)\n",
    "    train_set_X = [X[i] for i in D[int(N*r):]]\n",
    "    train_set_y = [y[i] for i in D[int(N*r):]]\n",
    "    test_set_X = [X[i] for i in D[:int(N*r)]]\n",
    "    test_set_y = [y[i] for i in D[:int(N*r)]]\n",
    "    return train_set_X, train_set_y, test_set_X, test_set_y\n",
    "\n",
    "word_sbs_train, labs_train, word_sbs_test, labs_test = make_train_test(word_sbs, labs, r=0.5)\n"
   ]
  },
  {
   "cell_type": "code",
   "execution_count": 154,
   "id": "cae38df3-769e-423f-a122-1b076f3610e1",
   "metadata": {
    "tags": []
   },
   "outputs": [],
   "source": [
    "PC = calc_prior_counts(labs_train)\n",
    "LHC=calc_likelihood_counts(word_sbs_train, labs_train)"
   ]
  },
  {
   "cell_type": "code",
   "execution_count": 155,
   "id": "1dff59b1-d958-4df8-a42d-4d77cf1c3522",
   "metadata": {
    "tags": []
   },
   "outputs": [],
   "source": [
    "def classify_documents(docs, priors, L_hoods, alpha=0):\n",
    "    return [classify_new_document(words, priors, L_hoods, alpha).argmax(axis=0) for words in docs]\n",
    "\n",
    "\n",
    "preds=classify_documents(word_sbs_test, PC, LHC, alpha=0.0001)"
   ]
  },
  {
   "cell_type": "markdown",
   "id": "c5e6b43e-da79-4f4d-a3c4-d81ddca6fe5b",
   "metadata": {},
   "source": [
    "Let's just look at the predictions according to the words for the first 20 documents"
   ]
  },
  {
   "cell_type": "code",
   "execution_count": 156,
   "id": "f2dcd318-cf80-48c1-b164-c8443ba6351d",
   "metadata": {
    "tags": []
   },
   "outputs": [
    {
     "data": {
      "text/plain": [
       "1334"
      ]
     },
     "execution_count": 156,
     "metadata": {},
     "output_type": "execute_result"
    }
   ],
   "source": [
    "len(word_sbs_test)"
   ]
  },
  {
   "cell_type": "code",
   "execution_count": 157,
   "id": "009ca00c-c204-4784-84d8-66c8cca67eae",
   "metadata": {
    "tags": []
   },
   "outputs": [],
   "source": [
    "from time import time\n",
    "times = []\n",
    "for i in range(1,1334,20):\n",
    "    start = time()\n",
    "    classify_documents(word_sbs_test[:i], PC, LHC, alpha=0.001)\n",
    "    times.append(time()-start)"
   ]
  },
  {
   "cell_type": "code",
   "execution_count": 159,
   "id": "97d84ea3-158a-4daf-8214-5b76d965545a",
   "metadata": {
    "tags": []
   },
   "outputs": [
    {
     "data": {
      "text/plain": [
       "<matplotlib.collections.PathCollection at 0x2b92223e610>"
      ]
     },
     "execution_count": 159,
     "metadata": {},
     "output_type": "execute_result"
    },
    {
     "data": {
      "image/png": "[encoded data removed]",
      "text/plain": [
       "<Figure size 640x480 with 1 Axes>"
      ]
     },
     "metadata": {},
     "output_type": "display_data"
    }
   ],
   "source": [
    "import matplotlib.pyplot as plt\n",
    "\n",
    "plt.scatter(range(1,1334,20), times)"
   ]
  },
  {
   "cell_type": "code",
   "execution_count": 160,
   "id": "7dc83e1a-6b6e-4cdc-8566-ba0f42041f78",
   "metadata": {
    "tags": []
   },
   "outputs": [
    {
     "data": {
      "text/plain": [
       "0.0"
      ]
     },
     "execution_count": 160,
     "metadata": {},
     "output_type": "execute_result"
    }
   ],
   "source": [
    "times[0]"
   ]
  },
  {
   "cell_type": "code",
   "execution_count": 134,
   "id": "60e2530a-2bc9-4717-be23-5be09e9bfce9",
   "metadata": {
    "tags": []
   },
   "outputs": [
    {
     "name": "stdout",
     "output_type": "stream",
     "text": [
      "0 -- 0 <-- {'almost', 'easy', 'alsa', 'made'}\n",
      "1 -- 0 <-- {'the', 'testing', 're:', 'satalk', 'install'}\n",
      "2 -- 1 <-- {'hit', 'with', 'road', 'cna', 'the'}\n",
      "3 -- 0 <-- {'hilarity', 'up', 'acorn', 'his', 'nose', 'kid', 'crams', 'ensues'}\n",
      "4 -- 0 <-- {'linux', 'fun', 'raid', 'software'}\n",
      "5 -- 0 <-- {'parole', 'uncle', 'mark', 'zzzzteana', 'seeks'}\n",
      "6 -- 0 <-- {'dependencies', 'xine', 're:'}\n",
      "7 -- 0 <-- {'analog', 'optical', 're:', 'computing'}\n",
      "8 -- 0 <-- {'resume', 'and', 'job', 'my', 'offers'}\n",
      "9 -- 0 <-- {'cystals', 'flavor', 're:'}\n",
      "10 -- 0 <-- {'the', 'note', 'to', 'spec', 'pingback', 'self:', 'opinion', 'read', 'form'}\n",
      "11 -- 0 <-- {'pre', 'with', 'pb', 'mplayer'}\n",
      "12 -- 0 <-- set()\n",
      "13 -- 0 <-- {'probe', 'space', 'kit', 'terrestrial', 'will', 'fight', 'crime'}\n",
      "14 -- 1 <-- {'coxr', 'computeryou', 'systemworks', 'protect', 're:', 'need', 'your'}\n",
      "15 -- 0 <-- {'here', 'access', 're:', 'free', 'is', 'your'}\n",
      "16 -- 0 <-- {'solaris', 'ilug', 'sun', 're:'}\n",
      "17 -- 1 <-- {'been', 'has', 'closed', 'account', 'your'}\n",
      "18 -- 0 <-- {'base', 'of', 're:', 'for', 'from', 'recovery', 'use', 'image', '/', 'delta', 'attacks', 'fw:', 'automated'}\n",
      "19 -- 0 <-- {'the', 'disappearing', 'alliance', 're:'}\n"
     ]
    }
   ],
   "source": [
    "for i, words in enumerate(word_sbs_test[:20]):\n",
    "    print(i, \"--\", preds[i], \"<--\", words)"
   ]
  },
  {
   "cell_type": "markdown",
   "id": "8f38762d-46dc-4638-b297-8e947d3792e2",
   "metadata": {},
   "source": [
    "As for evaluating our model we are going to use [Scikit Learn metrics](https://scikit-learn.org/stable/modules/classes.html#module-sklearn.metrics)"
   ]
  },
  {
   "cell_type": "code",
   "execution_count": 135,
   "id": "a35f387d-afb3-402d-b34b-57645a45c380",
   "metadata": {
    "tags": []
   },
   "outputs": [
    {
     "name": "stdout",
     "output_type": "stream",
     "text": [
      "The accuracy score is:  0.9173\n",
      "The F1 score is:  0.7442\n",
      "The MCC score is:  0.7198\n",
      "The precision score is:  0.9412\n",
      "The recall score is:  0.6154\n"
     ]
    }
   ],
   "source": [
    "from sklearn.metrics import f1_score, matthews_corrcoef, confusion_matrix, precision_score, recall_score, accuracy_score, ConfusionMatrixDisplay\n",
    "\n",
    "print(\"The accuracy score is: %7.4f\" % accuracy_score(labs_test, preds))\n",
    "print(\"The F1 score is: %7.4f\" % f1_score(labs_test, preds))\n",
    "print(\"The MCC score is: %7.4f\" % matthews_corrcoef(labs_test, preds))\n",
    "print(\"The precision score is: %7.4f\" %  precision_score(labs_test, preds))\n",
    "print(\"The recall score is: %7.4f\" %  recall_score(labs_test, preds))\n",
    "\n"
   ]
  },
  {
   "cell_type": "code",
   "execution_count": 136,
   "id": "376aeb92-6830-4a9f-a5e0-648f90f5b827",
   "metadata": {
    "tags": []
   },
   "outputs": [
    {
     "data": {
      "text/plain": [
       "<sklearn.metrics._plot.confusion_matrix.ConfusionMatrixDisplay at 0x2b91bbceb80>"
      ]
     },
     "execution_count": 136,
     "metadata": {},
     "output_type": "execute_result"
    },
    {
     "data": {
      "image/png": "[encoded data removed]",
      "text/plain": [
       "<Figure size 640x480 with 2 Axes>"
      ]
     },
     "metadata": {},
     "output_type": "display_data"
    }
   ],
   "source": [
    "ConfusionMatrixDisplay(\n",
    "    confusion_matrix(labs_test, preds)\n",
    ").plot()"
   ]
  },
  {
   "cell_type": "code",
   "execution_count": null,
   "id": "e579264b-ff88-4fcc-8695-465b52ea470b",
   "metadata": {},
   "outputs": [],
   "source": []
  },
  {
   "cell_type": "markdown",
   "id": "16eade7a-f7ab-4716-9cf6-e4a40268b7ca",
   "metadata": {},
   "source": [
    "#### Exercises\n",
    "1. Comment the results above\n",
    "2. Analise the performance of the above algorithm. How does it scale? Does the number of \"variables\" have an impact on the overal model time performance?\n",
    "3. [to do at home] What is the overal impact of using the words of the message content for the same analysis? Test your asumptions with the `content.pickle` data set with email content data from the same dataset\n",
    "\n",
    "### Using Tabular data with the new implementation\n",
    "\n",
    "Now that we have a generic Naive Bayes classifier, we can try it with the Iris again, but changing the dataset so that it will become a set of transactions"
   ]
  },
  {
   "cell_type": "code",
   "execution_count": 137,
   "id": "2e70555c-2ac3-42bb-ad7f-11f844d01ac3",
   "metadata": {
    "tags": []
   },
   "outputs": [],
   "source": [
    "data=load_iris()\n",
    "cnames=data.feature_names\n",
    "X0=data.data\n",
    "class_names=data.target_names\n",
    "y_iris=data.target\n",
    "X_iris=np.empty(X0.shape,dtype=\"object\")\n",
    "for i,cname in enumerate(cnames):\n",
    "    X_iris[:,i] = cname + \":Medium\"\n",
    "    q33, q67=np.quantile(X0[:,i], (0.33, 0.67))\n",
    "    X_iris[X0[:,i]<q33, i]=cname+\":Small\"\n",
    "    X_iris[X0[:,i]>q67, i]=cname+\":Large\"\n",
    "\n",
    "iris_transactions=[set(X_iris[i,:].tolist()) for i in range(X_iris.shape[0])]\n"
   ]
  },
  {
   "cell_type": "code",
   "execution_count": 139,
   "id": "ef58fa09-5aea-4437-9233-84e4e3161505",
   "metadata": {
    "tags": []
   },
   "outputs": [
    {
     "data": {
      "text/plain": [
       "(array([50., 50., 50.]),\n",
       " {'petal length (cm):Large': array([ 0.,  2., 44.]),\n",
       "  'sepal width (cm):Medium': array([16., 21., 23.]),\n",
       "  'sepal width (cm):Small': array([ 1., 27., 19.]),\n",
       "  'petal width (cm):Medium': array([ 0., 48.,  4.]),\n",
       "  'petal width (cm):Small': array([50.,  0.,  0.]),\n",
       "  'petal length (cm):Small': array([50.,  0.,  0.]),\n",
       "  'sepal width (cm):Large': array([33.,  2.,  8.]),\n",
       "  'sepal length (cm):Large': array([ 0., 11., 31.]),\n",
       "  'petal length (cm):Medium': array([ 0., 48.,  6.]),\n",
       "  'petal width (cm):Large': array([ 0.,  2., 46.]),\n",
       "  'sepal length (cm):Small': array([40.,  5.,  1.]),\n",
       "  'sepal length (cm):Medium': array([10., 34., 18.])})"
      ]
     },
     "execution_count": 139,
     "metadata": {},
     "output_type": "execute_result"
    }
   ],
   "source": [
    "PC = calc_prior_counts(y_iris)\n",
    "LHC=calc_likelihood_counts(iris_transactions, y_iris)\n",
    "PC, LHC"
   ]
  },
  {
   "cell_type": "code",
   "execution_count": 140,
   "id": "64ce2e0c-b869-49af-8184-71d34631d585",
   "metadata": {
    "tags": []
   },
   "outputs": [
    {
     "data": {
      "text/plain": [
       "<sklearn.metrics._plot.confusion_matrix.ConfusionMatrixDisplay at 0x2b91ee39bb0>"
      ]
     },
     "execution_count": 140,
     "metadata": {},
     "output_type": "execute_result"
    },
    {
     "data": {
      "image/png": "[encoded data removed]",
      "text/plain": [
       "<Figure size 640x480 with 2 Axes>"
      ]
     },
     "metadata": {},
     "output_type": "display_data"
    }
   ],
   "source": [
    "preds=classify_documents(iris_transactions, PC, LHC)\n",
    "ConfusionMatrixDisplay(confusion_matrix(y_iris, preds)).plot()"
   ]
  },
  {
   "cell_type": "markdown",
   "id": "3fd3ae96-19ae-432f-b2ff-257fc7305164",
   "metadata": {},
   "source": [
    "## 2. Linear Regression\n",
    "\n",
    "### 2.1. Computing Linear regression manually\n",
    "\n",
    "We know that the parameters of a linear model can be computed according to the equation\n",
    "\n",
    "$\\beta = (X^T.X)^{-1}.X^T.Y $ \n",
    "\n",
    "\n",
    "The function below assumes we have one suplementatry column of ones, which will account for the bias"
   ]
  },
  {
   "cell_type": "code",
   "execution_count": 141,
   "id": "6ac37e42-2c92-4a31-a3a5-9bdd3a634b27",
   "metadata": {
    "tags": []
   },
   "outputs": [],
   "source": [
    "def make_linear_model(X, y):\n",
    "    #first compute the transpose\n",
    "    Xtt = X.T\n",
    "    # now we will compute the Gram matrix (X.T @ X)\n",
    "    gram = Xtt @  X                     #[M.M]\n",
    "    # which is then inverted\n",
    "    gram_inv = np.linalg.inv(gram)      #[M.M]\n",
    "    #Now we multiply it again by X.T    \n",
    "    X_part = np.dot(gram_inv,Xtt)       #\n",
    "    Beta_est=np.dot(X_part, y_train)\n",
    "    return Beta_est"
   ]
  },
  {
   "cell_type": "markdown",
   "id": "bb9e94be-3d9a-493b-9b4e-753484bd6f37",
   "metadata": {},
   "source": [
    "#### Exercises\n",
    "1. What is the part of the above computation that is the hardest to to compute. Hint: Think about the dimensions of the elements\n",
    "    - gram matrix\n",
    "2. what if your dataset contains many thousands of columns, but comparatively few rows?\n",
    "    - gram multiplyed by X.T (?)\n",
    "3. Discuss how this could be implemented using partial multiplications using `Ray` or `multiprocessing`\n",
    "    - Compute each element of the new matrix each time (?). Dot product / process\n",
    "#### An example of executing the above code\n",
    "\n",
    "Let's check it out for the [diabetes dataset form the toy examples of sckikit learn](https://scikit-learn.org/stable/datasets/toy_dataset.html) that has 10 independent variables"
   ]
  },
  {
   "cell_type": "code",
   "execution_count": 142,
   "id": "84c0b359-1d97-4200-9b17-de838924e921",
   "metadata": {
    "tags": []
   },
   "outputs": [
    {
     "data": {
      "text/html": [
       "<div>\n",
       "<style scoped>\n",
       "    .dataframe tbody tr th:only-of-type {\n",
       "        vertical-align: middle;\n",
       "    }\n",
       "\n",
       "    .dataframe tbody tr th {\n",
       "        vertical-align: top;\n",
       "    }\n",
       "\n",
       "    .dataframe thead th {\n",
       "        text-align: right;\n",
       "    }\n",
       "</style>\n",
       "<table border=\"1\" class=\"dataframe\">\n",
       "  <thead>\n",
       "    <tr style=\"text-align: right;\">\n",
       "      <th></th>\n",
       "      <th>0</th>\n",
       "      <th>1</th>\n",
       "      <th>2</th>\n",
       "      <th>3</th>\n",
       "      <th>4</th>\n",
       "      <th>5</th>\n",
       "      <th>6</th>\n",
       "      <th>7</th>\n",
       "      <th>8</th>\n",
       "      <th>9</th>\n",
       "    </tr>\n",
       "  </thead>\n",
       "  <tbody>\n",
       "    <tr>\n",
       "      <th>0</th>\n",
       "      <td>0.038076</td>\n",
       "      <td>0.050680</td>\n",
       "      <td>0.061696</td>\n",
       "      <td>0.021872</td>\n",
       "      <td>-0.044223</td>\n",
       "      <td>-0.034821</td>\n",
       "      <td>-0.043401</td>\n",
       "      <td>-0.002592</td>\n",
       "      <td>0.019907</td>\n",
       "      <td>-0.017646</td>\n",
       "    </tr>\n",
       "    <tr>\n",
       "      <th>1</th>\n",
       "      <td>-0.001882</td>\n",
       "      <td>-0.044642</td>\n",
       "      <td>-0.051474</td>\n",
       "      <td>-0.026328</td>\n",
       "      <td>-0.008449</td>\n",
       "      <td>-0.019163</td>\n",
       "      <td>0.074412</td>\n",
       "      <td>-0.039493</td>\n",
       "      <td>-0.068332</td>\n",
       "      <td>-0.092204</td>\n",
       "    </tr>\n",
       "    <tr>\n",
       "      <th>2</th>\n",
       "      <td>0.085299</td>\n",
       "      <td>0.050680</td>\n",
       "      <td>0.044451</td>\n",
       "      <td>-0.005670</td>\n",
       "      <td>-0.045599</td>\n",
       "      <td>-0.034194</td>\n",
       "      <td>-0.032356</td>\n",
       "      <td>-0.002592</td>\n",
       "      <td>0.002861</td>\n",
       "      <td>-0.025930</td>\n",
       "    </tr>\n",
       "    <tr>\n",
       "      <th>3</th>\n",
       "      <td>-0.089063</td>\n",
       "      <td>-0.044642</td>\n",
       "      <td>-0.011595</td>\n",
       "      <td>-0.036656</td>\n",
       "      <td>0.012191</td>\n",
       "      <td>0.024991</td>\n",
       "      <td>-0.036038</td>\n",
       "      <td>0.034309</td>\n",
       "      <td>0.022688</td>\n",
       "      <td>-0.009362</td>\n",
       "    </tr>\n",
       "    <tr>\n",
       "      <th>4</th>\n",
       "      <td>0.005383</td>\n",
       "      <td>-0.044642</td>\n",
       "      <td>-0.036385</td>\n",
       "      <td>0.021872</td>\n",
       "      <td>0.003935</td>\n",
       "      <td>0.015596</td>\n",
       "      <td>0.008142</td>\n",
       "      <td>-0.002592</td>\n",
       "      <td>-0.031988</td>\n",
       "      <td>-0.046641</td>\n",
       "    </tr>\n",
       "    <tr>\n",
       "      <th>...</th>\n",
       "      <td>...</td>\n",
       "      <td>...</td>\n",
       "      <td>...</td>\n",
       "      <td>...</td>\n",
       "      <td>...</td>\n",
       "      <td>...</td>\n",
       "      <td>...</td>\n",
       "      <td>...</td>\n",
       "      <td>...</td>\n",
       "      <td>...</td>\n",
       "    </tr>\n",
       "    <tr>\n",
       "      <th>437</th>\n",
       "      <td>0.041708</td>\n",
       "      <td>0.050680</td>\n",
       "      <td>0.019662</td>\n",
       "      <td>0.059744</td>\n",
       "      <td>-0.005697</td>\n",
       "      <td>-0.002566</td>\n",
       "      <td>-0.028674</td>\n",
       "      <td>-0.002592</td>\n",
       "      <td>0.031193</td>\n",
       "      <td>0.007207</td>\n",
       "    </tr>\n",
       "    <tr>\n",
       "      <th>438</th>\n",
       "      <td>-0.005515</td>\n",
       "      <td>0.050680</td>\n",
       "      <td>-0.015906</td>\n",
       "      <td>-0.067642</td>\n",
       "      <td>0.049341</td>\n",
       "      <td>0.079165</td>\n",
       "      <td>-0.028674</td>\n",
       "      <td>0.034309</td>\n",
       "      <td>-0.018114</td>\n",
       "      <td>0.044485</td>\n",
       "    </tr>\n",
       "    <tr>\n",
       "      <th>439</th>\n",
       "      <td>0.041708</td>\n",
       "      <td>0.050680</td>\n",
       "      <td>-0.015906</td>\n",
       "      <td>0.017293</td>\n",
       "      <td>-0.037344</td>\n",
       "      <td>-0.013840</td>\n",
       "      <td>-0.024993</td>\n",
       "      <td>-0.011080</td>\n",
       "      <td>-0.046883</td>\n",
       "      <td>0.015491</td>\n",
       "    </tr>\n",
       "    <tr>\n",
       "      <th>440</th>\n",
       "      <td>-0.045472</td>\n",
       "      <td>-0.044642</td>\n",
       "      <td>0.039062</td>\n",
       "      <td>0.001215</td>\n",
       "      <td>0.016318</td>\n",
       "      <td>0.015283</td>\n",
       "      <td>-0.028674</td>\n",
       "      <td>0.026560</td>\n",
       "      <td>0.044529</td>\n",
       "      <td>-0.025930</td>\n",
       "    </tr>\n",
       "    <tr>\n",
       "      <th>441</th>\n",
       "      <td>-0.045472</td>\n",
       "      <td>-0.044642</td>\n",
       "      <td>-0.073030</td>\n",
       "      <td>-0.081413</td>\n",
       "      <td>0.083740</td>\n",
       "      <td>0.027809</td>\n",
       "      <td>0.173816</td>\n",
       "      <td>-0.039493</td>\n",
       "      <td>-0.004222</td>\n",
       "      <td>0.003064</td>\n",
       "    </tr>\n",
       "  </tbody>\n",
       "</table>\n",
       "<p>442 rows × 10 columns</p>\n",
       "</div>"
      ],
      "text/plain": [
       "            0         1         2         3         4         5         6  \\\n",
       "0    0.038076  0.050680  0.061696  0.021872 -0.044223 -0.034821 -0.043401   \n",
       "1   -0.001882 -0.044642 -0.051474 -0.026328 -0.008449 -0.019163  0.074412   \n",
       "2    0.085299  0.050680  0.044451 -0.005670 -0.045599 -0.034194 -0.032356   \n",
       "3   -0.089063 -0.044642 -0.011595 -0.036656  0.012191  0.024991 -0.036038   \n",
       "4    0.005383 -0.044642 -0.036385  0.021872  0.003935  0.015596  0.008142   \n",
       "..        ...       ...       ...       ...       ...       ...       ...   \n",
       "437  0.041708  0.050680  0.019662  0.059744 -0.005697 -0.002566 -0.028674   \n",
       "438 -0.005515  0.050680 -0.015906 -0.067642  0.049341  0.079165 -0.028674   \n",
       "439  0.041708  0.050680 -0.015906  0.017293 -0.037344 -0.013840 -0.024993   \n",
       "440 -0.045472 -0.044642  0.039062  0.001215  0.016318  0.015283 -0.028674   \n",
       "441 -0.045472 -0.044642 -0.073030 -0.081413  0.083740  0.027809  0.173816   \n",
       "\n",
       "            7         8         9  \n",
       "0   -0.002592  0.019907 -0.017646  \n",
       "1   -0.039493 -0.068332 -0.092204  \n",
       "2   -0.002592  0.002861 -0.025930  \n",
       "3    0.034309  0.022688 -0.009362  \n",
       "4   -0.002592 -0.031988 -0.046641  \n",
       "..        ...       ...       ...  \n",
       "437 -0.002592  0.031193  0.007207  \n",
       "438  0.034309 -0.018114  0.044485  \n",
       "439 -0.011080 -0.046883  0.015491  \n",
       "440  0.026560  0.044529 -0.025930  \n",
       "441 -0.039493 -0.004222  0.003064  \n",
       "\n",
       "[442 rows x 10 columns]"
      ]
     },
     "execution_count": 142,
     "metadata": {},
     "output_type": "execute_result"
    }
   ],
   "source": [
    "from sklearn.datasets import load_diabetes\n",
    "X_diabetes, y_diabetes=load_diabetes(return_X_y=True)\n",
    "\n",
    "pd.DataFrame(X_diabetes)"
   ]
  },
  {
   "cell_type": "markdown",
   "id": "0c080603-aaf4-489f-9f35-9f865a69795d",
   "metadata": {},
   "source": [
    "To use this procedure we first need to add one **ONE** column to the whole dataset that will emcompass the the bias of the model (intercept)"
   ]
  },
  {
   "cell_type": "code",
   "execution_count": 161,
   "id": "e1fd6f37-b640-4659-bac6-3e1a0d3c3b06",
   "metadata": {
    "tags": []
   },
   "outputs": [],
   "source": [
    "from sklearn.model_selection import train_test_split\n",
    "\n",
    "X1 = np.insert(X_diabetes, 0, 1, axis=1)\n",
    "\n",
    "X_train, X_test, y_train, y_test = train_test_split(X1, y_diabetes, test_size=0.33, random_state=22)\n"
   ]
  },
  {
   "cell_type": "code",
   "execution_count": 162,
   "id": "3f97852f-7f6e-4b9a-a1f3-92decf3ad6df",
   "metadata": {
    "tags": []
   },
   "outputs": [
    {
     "name": "stdout",
     "output_type": "stream",
     "text": [
      "The bias is:  151.46118603018388\n",
      "The other parameters are:\n",
      " [  21.36566678 -280.55342835  487.08099359  322.64974813 -557.16364122\n",
      "  330.79660445 -183.03578001   39.13607284  656.87736459  117.3693665 ]\n"
     ]
    }
   ],
   "source": [
    "coefs = make_linear_model(X_train, y_train)\n",
    "print(\"The bias is: \", coefs[0])\n",
    "print(\"The other parameters are:\\n\", coefs[1:])\n"
   ]
  },
  {
   "cell_type": "markdown",
   "id": "536f4236-e526-4dda-b929-31161903b647",
   "metadata": {},
   "source": [
    "Let's just make some simple prediction as the \"`predict`\" function is just simply the dot product of the coefficients and the X matrix of the testing set"
   ]
  },
  {
   "cell_type": "code",
   "execution_count": 163,
   "id": "77d774bf-f530-4ca1-a013-b085e1174448",
   "metadata": {
    "tags": []
   },
   "outputs": [
    {
     "data": {
      "image/png": "[encoded data removed]",
      "text/plain": [
       "<Figure size 640x480 with 1 Axes>"
      ]
     },
     "metadata": {},
     "output_type": "display_data"
    }
   ],
   "source": [
    "import matplotlib.pyplot as plt\n",
    "my_preds=np.dot(X_test,coefs)\n",
    "plt.hist(my_preds, bins=20, alpha=.8)\n",
    "plt.grid()\n",
    "plt.show()"
   ]
  },
  {
   "cell_type": "markdown",
   "id": "59f16416-9391-4a8d-8ea7-284410922dba",
   "metadata": {},
   "source": [
    "Let's first create a simple function that outputs the classification results using scikit-learn's implementations. We will use\n",
    "* The Ratio of the Variance Explained\n",
    "* The RMSE\n",
    "* The Pearson Correlation Score\n",
    "* The Maximum absolute Error\n",
    "* The Mean absolute Error\n"
   ]
  },
  {
   "cell_type": "code",
   "execution_count": 164,
   "id": "bdc36aa4-2288-4cd5-af66-005251beefd4",
   "metadata": {
    "tags": []
   },
   "outputs": [],
   "source": [
    "from sklearn.metrics import explained_variance_score, mean_squared_error, accuracy_score, max_error, mean_absolute_error\n",
    "from scipy.stats import pearsonr\n",
    "\n",
    "def printRegStatistics(truth, preds):\n",
    "    print(\"The RVE is: \", explained_variance_score(truth, preds))\n",
    "    print(\"The rmse is: \", mean_squared_error(truth, preds, squared=False))\n",
    "    corr, pval = pearsonr(truth, preds)\n",
    "    print(\"The Correlation Score is is: %6.4f (p-value=%e)\\n\"%(corr,pval))\n",
    "    print(\"The Maximum Error is is: \", max_error(truth, preds))\n",
    "    print(\"The Mean Absolute Error is: \", mean_absolute_error(truth, preds))\n",
    "\n",
    "\n"
   ]
  },
  {
   "cell_type": "code",
   "execution_count": 165,
   "id": "b1ddd5e6-5574-4cdb-b13c-45ad4a8cfca3",
   "metadata": {
    "tags": []
   },
   "outputs": [
    {
     "name": "stdout",
     "output_type": "stream",
     "text": [
      "The RVE is:  0.5108366200843056\n",
      "The rmse is:  54.52268460842509\n",
      "The Correlation Score is is: 0.7194 (p-value=1.493611e-24)\n",
      "\n",
      "The Maximum Error is is:  159.0056099346001\n",
      "The Mean Absolute Error is:  42.02806937184886\n"
     ]
    }
   ],
   "source": [
    "printRegStatistics(y_test, my_preds)"
   ]
  },
  {
   "cell_type": "code",
   "execution_count": 166,
   "id": "923a0f78-e995-4e8d-bbef-a9513e044c9f",
   "metadata": {
    "tags": []
   },
   "outputs": [
    {
     "data": {
      "image/png": "[encoded data removed]",
      "text/plain": [
       "<Figure size 700x700 with 1 Axes>"
      ]
     },
     "metadata": {},
     "output_type": "display_data"
    }
   ],
   "source": [
    "import matplotlib.pyplot as plt\n",
    "\n",
    "plt.figure(figsize=(7,7))\n",
    "plt.scatter(my_preds, y_test)\n",
    "plt.grid()\n",
    "#this is the 45degrees angle. The closer the predictions approach this, the better the model\n",
    "plt.plot([50, 300], [50, 300], c=\"r\")\n",
    "plt.show()"
   ]
  },
  {
   "cell_type": "markdown",
   "id": "b38848f5-fff1-486c-8220-ed075370ca2f",
   "metadata": {},
   "source": [
    "## Appendix: Gaussian Naive Bayes\n",
    "### Naive Bayes for Continuous dimensions - Gaussian Naive Bayes\n",
    "\n",
    "Assuming a Gaussian distribution of the independent variables, it is very simple to make a Bayesian classifier. Given 2 classes A and B, the probability that instance i is in class A can be computed as the product of the likelyhood and the priors, yet the likelihoods are computed from the normal function of the independent variables\n",
    "\n",
    "\n",
    "$P(i \\in Class_A | x_i) \\propto \\prod_j{P(x_{ij} |i \\in Class_A)}.P(Class_A)$\n",
    "\n",
    "$P(i \\in Class_B | x_i)  \\propto \\prod_j{P(x_{ij} |i \\in Class_B)}.P(Class_B)$\n",
    "\n",
    "Therefore we need some functions that, given any dataset, are able to:\n",
    "\n",
    "* compute overal statistics for parametrization of the Gaussians and priors `get_class_stats()`\n",
    "* compute the Gaussian functions given the stats for each class `get_gaussians()`\n",
    "* Compute the priors given the priors `get_priors()`"
   ]
  },
  {
   "cell_type": "code",
   "execution_count": 167,
   "id": "749c7008-9501-4c57-9e72-ef3d989dda32",
   "metadata": {
    "tags": []
   },
   "outputs": [],
   "source": [
    "from scipy.stats import norm\n",
    "\n",
    "#this function will compute the means and std deviations for all classes\n",
    "def get_class_stats(X, y):\n",
    "    classes=list(set(y))\n",
    "    N,M=X.shape\n",
    "    stats={c: None for c in classes}\n",
    "    for c in classes:\n",
    "        mX = X[y==c,:]\n",
    "        means = np.mean(mX, axis=0)\n",
    "        stds  = np.sqrt(np.var(mX, axis=0))\n",
    "        count,_=mX.shape\n",
    "        stats[c]=(count, means, stds)\n",
    "    return stats\n",
    "    \n",
    "#this function will get all the gaussians: One for each variable, class combination\n",
    "def get_gaussians(stats):\n",
    "    gaussians={}\n",
    "    for c in stats:\n",
    "        N, means, stds=stats[c]\n",
    "        gaussians[c]=[norm(loc=mean, scale=stds[i]) for i, mean in enumerate(means)]\n",
    "    return gaussians\n",
    "\n",
    "def get_priors(stats):\n",
    "    priors = {}\n",
    "    total  = 0\n",
    "    for c in stats:\n",
    "        N, means, stds=stats[c]\n",
    "        priors[c]=N\n",
    "        total+=N\n",
    "    for c in priors: priors[c]/=total\n",
    "    return priors\n"
   ]
  },
  {
   "cell_type": "code",
   "execution_count": 168,
   "id": "4ea40e6d-1d01-4518-b85f-3369a969e40a",
   "metadata": {
    "tags": []
   },
   "outputs": [],
   "source": [
    "def gnb_predict(Xtst, priors, gaussians):\n",
    "    N,M = Xtst.shape\n",
    "    res         = -np.ones(N)\n",
    "    final_preds = -np.zeros(N)\n",
    "    final_preds=final_preds.astype(str)\n",
    "    for c in gaussians:\n",
    "        preds=np.ones(N)*priors[c]\n",
    "        for col in range(M): preds*=gaussians[c][col].pdf(Xtst[:,col])\n",
    "        final_preds[preds>res]=c\n",
    "        res[preds>res]=preds[preds>res]\n",
    "    return final_preds\n"
   ]
  },
  {
   "cell_type": "markdown",
   "id": "ec5e98be-d450-4506-9fed-a2abae7ec0bb",
   "metadata": {},
   "source": [
    "Running Gaussian Naive Bayes with the Iris dataset (or any similar type of problem) is actually much simpler as we do not need to discretize the data"
   ]
  },
  {
   "cell_type": "code",
   "execution_count": 174,
   "id": "515c3431-3d30-4fe0-8a35-afbbb76b81c2",
   "metadata": {
    "tags": []
   },
   "outputs": [
    {
     "name": "stdout",
     "output_type": "stream",
     "text": [
      "The global accuracy is:  0.9600\n",
      "The global mcc is:  0.9396\n"
     ]
    },
    {
     "data": {
      "text/plain": [
       "<sklearn.metrics._plot.confusion_matrix.ConfusionMatrixDisplay at 0x2b922a26670>"
      ]
     },
     "execution_count": 174,
     "metadata": {},
     "output_type": "execute_result"
    },
    {
     "data": {
      "image/png": "[encoded data removed]",
      "text/plain": [
       "<Figure size 640x480 with 2 Axes>"
      ]
     },
     "metadata": {},
     "output_type": "display_data"
    }
   ],
   "source": [
    "from sklearn.model_selection import train_test_split\n",
    "\n",
    "X_iris, y_iris = load_iris(return_X_y = True) \n",
    "\n",
    "X_train, X_test, y_train, y_test = train_test_split(X_iris,y_iris, test_size=0.33, random_state=22)\n",
    "\n",
    "stats = get_class_stats(X_train,y_train)\n",
    "gaussians= get_gaussians(stats)\n",
    "priors = get_priors(stats)\n",
    "preds = gnb_predict(X_test, priors, gaussians)\n",
    "preds=preds.astype(int)  #we need to convert the data to integers\n",
    "\n",
    "print(\"The global accuracy is: %7.4f\" % accuracy_score(y_test, preds))\n",
    "print(\"The global mcc is: %7.4f\" % matthews_corrcoef(y_test, preds))\n",
    "\n",
    "ConfusionMatrixDisplay(confusion_matrix(y_test, preds)).plot()"
   ]
  },
  {
   "cell_type": "code",
   "execution_count": null,
   "id": "e18ae5cd-07e5-4e4e-97b4-3d7a1cd8a2b4",
   "metadata": {},
   "outputs": [],
   "source": []
  }
 ],
 "metadata": {
  "kernelspec": {
   "display_name": "Python 3 (ipykernel)",
   "language": "python",
   "name": "python3"
  },
  "language_info": {
   "codemirror_mode": {
    "name": "ipython",
    "version": 3
   },
   "file_extension": ".py",
   "mimetype": "text/x-python",
   "name": "python",
   "nbconvert_exporter": "python",
   "pygments_lexer": "ipython3",
   "version": "3.9.7"
  }
 },
 "nbformat": 4,
 "nbformat_minor": 5
}
