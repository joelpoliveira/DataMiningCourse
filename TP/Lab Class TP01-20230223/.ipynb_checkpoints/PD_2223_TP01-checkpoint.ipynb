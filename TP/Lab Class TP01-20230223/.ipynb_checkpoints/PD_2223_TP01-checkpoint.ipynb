{
 "cells": [
  {
   "cell_type": "markdown",
   "id": "9955825c-5163-4581-b4a1-76ff210e39a0",
   "metadata": {},
   "source": [
    "# Prospecção de Dados (Data Mining) DI/FCUL - TP01\n",
    "\n",
    "\n",
    "## Processing large quantities of data - an exposition for text procesing\n",
    "\n",
    "#### A simple tutorial by Andre Falcao (MC/DI/FCUL - 2023)\n",
    "\n",
    "This tutorial will try to solve a very simple problem: **from a set of documents, can we identify the ones that are more similar to each other?**\n",
    "\n",
    "The first part of this tutorial will focus on [18 of La Fontaine fables](https://en.wikipedia.org/wiki/La_Fontaine%27s_Fables), translated into English by William Trowbridge and made available to the public by [Project Gutenberg](https://www.gutenberg.org/ebooks/24108). The Text file was editted removing headers and copyright information as they would add noise to the data set. Each fable is then one document and the basic question stands: What documents are more similar to others\n",
    "\n",
    "First let's open our data set and print it out, as it is rather small (and actually entertaining)"
   ]
  },
  {
   "cell_type": "code",
   "execution_count": 1,
   "id": "89fac076-716b-4bab-8504-849c568a3e70",
   "metadata": {
    "tags": []
   },
   "outputs": [],
   "source": [
    "import numpy as np"
   ]
  },
  {
   "cell_type": "code",
   "execution_count": 2,
   "id": "abd9d417-c669-440d-961e-b96ef29dddf5",
   "metadata": {
    "tags": []
   },
   "outputs": [
    {
     "name": "stdout",
     "output_type": "stream",
     "text": [
      "Story 0:\n",
      " The Frog Who Wished To Be As Big As The Ox. There was a little Fog Whose home was in a bog, And he worried 'cause he wasn't big enough. He sees an ox and cries: \"That's just about my size, If I stretch myself--Say Sister, see me puff!\" So he blew, blew, blew, Saying: \"Sister, will that do?\" But she shook her head. And then he lost his wits. For he stretched and puffed again Till he cracked beneath the strain, And burst, and flew about in little bits.\n",
      "\n",
      "Story 1:\n",
      " The Grasshopper And The Ant. The Grasshopper, singing All summer long, Now found winter stinging, And ceased in his song. Not a morsel or crumb in his cupboard-- So he shivered, and ceased in his song. Miss Ant was his neighbor; To her he went: \"O, you're rich from labor, And I've not a cent. Lend me food, and I vow I'll return it, Though at present I have not a cent.\" The Ant's not a lender, I must confess. Her heart's far from tender To one in distress. So she said: \"Pray, how passed you the summer, That in winter you come to distress?\" \"I sang through the summer,\" Grasshopper said. \"But now I am glummer Because I've no bread.\" \"So you sang!\" sneered the Ant. \"That relieves me. Now it's winter--go dance for your bread!\"\n",
      "\n",
      "Story 2:\n",
      " The Cat And The Fox. The Cat and the Fox once took a walk together, Sharpening their wits with talk about the weather And as their walking sharpened appetite, too; They also took some things they had no right to. Cream, that is so delicious when it thickens, Pleased the Cat best. The Fox liked little chickens. With stomachs filled, they presently grew prouder, And each began to try to talk the louder-- Bragging about his skill, and strength, and cunning. \"Pooh!\" said the Fox. \"You ought to see me running. Besides, I have a hundred tricks. You Cat, you! What can you do when Mr. Dog comes at you?\" \"To tell the truth,\" the Cat said, \"though it grieve me I've but one trick. Yet that's enough--believe me!\" There came a pack of fox-hounds--yelping, baying. \"Pardon me\", said the Cat. \"I can't be staying. This is my trick.\" And up a tree he scurried, Leaving the Fox below a trifle worried. In vain he tried his hundred tricks and ruses (The sort of thing that Mr. Dog confuses)-- Doubling, and seeking one hole, then another-- Smoked out of each until he thought he'd smother. At last as he once more came out of cover, Two nimble dogs pounced on him--All was over!\n",
      "\n",
      "Story 3:\n",
      " The Hen With The Golden Eggs. To this lesson in greed, Pray, little ones, heed: Each day, we are told, A most wonderful Hen Laid an egg made of gold For this meanest of men. So greedy was he, He was not satisfied. \"What is one egg to me? I want all that' inside!\" He cut off her head, And began to explore. But the poor hen was dead. And could lay eggs no more.\n",
      "\n",
      "Story 4:\n",
      " The Dog And His Image. A foolish Dog, who carried in his jaw A juicy bone, Looked down into a stream, and there he saw Another one, Splash! In he plunged.. The image disappeared-- The meat he had was gone. Indeed, he nearly sank, And barely reached the bank.\n",
      "\n",
      "Story 5:\n",
      " The Acorn and the Pumpkin. Once there was a country bumpkin Who observed a great big pumpkin To a slender stem attached; While upon an oak tree nourished, Little acorns grew and flourished. \"Bah!\" said he. \"That's badly matched.\" \"If, despite my humble station, I'd a hand in this Creation, Pumpkins on the oaks would be; And the acorn, light and little, On this pumpkin stem so brittle Would be placed by clever Me.\" Then, fatigued with so much thought, he Rest beneath the oak tree sought. He Soon in slumber found repose But, alas! An acorn, falling On the spot where he lay sprawling, Hit him--plump!--Upon the nose. Up he jumped--a wiser bumpkin. \"Gosh!\" he said. \"Suppose a pumpkin Came a-fallin' on my face! After all, if I had made things, I'll allow that I'm afraid things Might be some what out of place.\"\n",
      "\n",
      "Story 6:\n",
      " The Raven And The Fox. Mr. Raven was perched upon a limb, And Reynard the Fox looked up at him; For the Raven held in his great big beak A morsel the Fox would go far to seek. Said the Fox, in admiring tones: \"My word! Sir Raven, you are a handsome bird. Such feathers! If you would only sing, The birds of these woods would call you King.\" The Raven, who did not see the joke, Forgot that his voice was just a croak. He opened his beak, in his foolish pride-- And down fell the morsel the Fox had spied. \"Ha-ha!\" said the Fox. \"And now you see You should not listen to flattery. Vanity, Sir is a horrid vice-- I'm sure the lesson is worth the price.\"\n",
      "\n",
      "Story 7:\n",
      " The City Mouse And The Country Mouse. A City Mouse, with ways polite, A Country Mouse invited To sup with him and spend the night. Said Country Mouse: \"De--lighted!\" In truth it proved a royal treat, With everything that's good to eat. Alas! When they had just begun To gobble their dinner, A knock was heard that made them run. The City Mouse seemed thinner. And as they scampered and turned tail, He saw the Country Mouse grow pale. The knocking ceased. A false alarm! The City Mouse grew braver. \"Come back!\" he cried. \"No, no! The farm, Where I'll not quake or quaver, Suits me,\" replied the Country Mouse. \"You're welcome to your city house.\"\n",
      "\n",
      "Story 8:\n",
      " The Lion And The Gnat.The Lion once said to the Gnat: \"You brat, Clear out just as quick as you can, now--s'cat! If you meddle with me I will not guarantee That you won't be slammed perfectly flat-- D'ye see?\" Said the Gnat: \"Because you're called King--you thing!-- You fancy that you will make me take wing. Why, an ox weighs much more, Yet I drive him before When I get good and ready to sting. Now, roar!\" Then loudly his trumpet he blew. And--whew! How fiercely and fast at his foe he flew. From the tail to the toes He draws blood as he goes. Then he starts in to sting and to chew His nose. Sir Lion was mad with the pain. In vain He roared and he foamed and he shook his mane. All the beasts that were nigh Fled in fear from his cry. But the Gnat only stung him again-- In the eye. He looked and laughed as he saw--Haw, Haw!-- The Lion self-torn by his tooth and claw, So His Majesty's hide With his own blood was dyed. Said the Gnat: \"Shall I serve you up raw-- Or fried?\" It's finished. The Lion's loud roar is o'er. He's bitten and beaten, he's sick and sore. But a spider's web spread Trapped the Gnat as he sped With the news...He will never fight more-- He's dead!\n",
      "\n",
      "Story 9:\n",
      " The Dove And The Ant. An Ant who in a brook would drink Fell off the bank. He tried To swim, and felt his courage sink-- This ocean seemed so wide. But for a dove who flew above He would have drowned and died. The friendly Dove within her beak A bridge of grass-stem bore: On this the Ant, though worn and weak. Contrived to reach the shore Said he: \"The tact of this kind act I'll cherish evermore.\" Behold! A barefoot wretch went by With slingshot in his hand. Said he: \"You'll make a pigeon pie That will be kind of grand.\" He meant to murder the gentle bird-- Who did not understand. The Ant then stung him on the heel (So quick to see the sling). He turned his head, and missed a meal: The pigeon pie took wing. And so the Dove lived on to love-- Beloved by everything.\n",
      "\n",
      "Story 10:\n",
      " The Fox And The Grapes. Rosy and ripe, and ready to box, The grapes hang high o'er the hungry Fox.-- He pricks up his ears, and his eye he cocks. Ripe and rosy, yet so high!-- He gazes at them with a greedy eye, And knows he must eat and drink--or die. When the jump proves to be beyond his power-- \"Pooh!\" says the Fox. \"Let the pigs devour Fruit of that sort. Those grapes are sour!\"\n",
      "\n",
      "Story 11:\n",
      " The Ass In The Lion's Skin. An Ass in The Lion's skin arrayed Made everybody fear. And this was queer, Because he was himself afraid. Yet everywhere he strayed The people ran like deer. Ah, ah! He is betrayed: No lion has that long and hairy ears. Old Martin spied the tip; and country folk Who are not in the secret of the joke, With open mouths and eyes Stare at old Martin's prize-- A Lion led to mill, with neck in yoke.\n",
      "\n",
      "Story 12:\n",
      " The Fox And The Stork. Old Father Fox, who was known to be mean, Invited Dame Stork in to dinner. There was nothing but soup that could scarcely be seen:-- Soup never was served any thinner. And the worst of it was, as I'm bound to relate, Father Fox dished it up on a flat china plate. Dame Stork, as you know, has a very long beak: Not a crumb or drop could she gather Had she pecked at the plate every day in the week. But as for the Fox--sly old Father: With his tongue lapping soup at a scandalous rate, He licked up the last bit and polished the plate. Pretty soon Mistress Stork spread a feast of her own; Father Fox was invited to share it. He came, and he saw, and he gave a great groan: The stork had known how to prepare it. She had meant to get even, and now was her turn: Father Fox was invited to eat from an urn. The urn's mouth was small, and it had a long neck; The food in it smelled most delightful. Dame Stork, with her beak in, proceeded to peck; But the Fox found that fasting is frightful. Home he sneaked. On his way there he felt his ears burn When he thought of the Stork and her tall, tricky urn.\n",
      "\n",
      "Story 13:\n",
      " The Monkey And The Cat. Jocko the Monkey, Mouser--his chum, the Cat, Had the same master. Both were sleek and fat, And mischievous. If anything went wrong, The neighbors where not blamed. Be sure of that. Jocko, 'tis said was something of a thief; Mouser, if truth be told, would just as lief Much stolen cheese as chase the midnight mouse. The praise bestowed on either must be brief. One day these rogues, stretched flat before the fire, Saw chestnuts roassting. \"Ah! Could we conspire To jerk them out,\" said Jocko, \"from the coals, We'd smash the shells and have our heart's desire. \"Come, Brother Mouser! This day 'tis your turn To do some bold and desperate thing to earn A reputation. You, who are so quick, Snatch out the nuts before they start to burn. \"Alas! That I, a Monkey, was not made To play with fire. But you are not afraid.\" So Mouser--pleased, like many a cat or man, With pretty words--sly Jocko's wish obeyed. Into the fire he put a practiced paw: Out came a chestnut clinging to his claw-- Another and another. As they dropped Jocko devoured them, whether roast or raw. A servant enters. Off the robbers run. Jocko, you may be sure, enjoyed the fun. But Mouser's paw is sadly singed--for what? Just to get nuts for Jocko. He got none.\n",
      "\n",
      "Story 14:\n",
      " The Hare And The Tortoise. Said the Tortoise one day to the Hare: \"I'll run you a race if you dare. I'll bet you cannot Arrive at that spot As quickly as I can get there.\" Quoth the Hare: \"You are surely insane. Pray, what has affected your brain? You seem pretty sick. Call a doctor in--quick, And let him prescribe for your pain.\" \"Never mind,\" said the Tortoise. \"Let's run! Will you bet me?\" \"Why, certainly.\" \"Done!\" While the slow Tortoise creeps Mr. Hare makes four leaps, And then loafs around in the sun. It seemed such a one-sided race, To win was almost a disgrace. So he frolicked about Then at last he set out-- As the Tortoise was as nearing the place. Too late! Though he sped like a dart, The Tortoise was first. She was smart: \"You can surely run fast,\" She remarked. \"Yet you're last. It is better to get a good start.\"\n",
      "\n",
      "Story 15:\n",
      " The Heron Who Was Hard To Please. A long-legged Heron, with long neck and beak, Set out for a stroll by the bank of a creek. So clear was the water that if you looked sharp You could see the pike caper around with the carp. The Heron might quickly have speared enough fish To make for his dinner a capital dish. But he was a very particular bird: His food fixed \"just so,\" at the hours he preferred. And hence he decided 'twas better to wait, Since his appetite grew when he supped rather late. Pretty soon he was hungry, and stalked to the bank. Where some pondfish were leaping--a fish of low rank. \"Bah, Bah!\" said the Bird. \"Sup on these? No--not I. I'm known as a Heron: as such I live high.\" Then some gudgeon swam past that were tempting to see, But the Heron said hautily: \"No--not for me. For those I'd not bother to open my beak, If I had to hang 'round come next Friday a week.\" Thus bragged the big Bird. But he's bound to confess That he opened his elegant beak for much less. Not another fish came. When he found all else fail, He was happy to happen upon a fat snail.\n",
      "\n",
      "Story 16:\n",
      " The Raven Who Would Rival The Eagle. An Eagle swooped from out the sky, And carried off a sheep. A Raven seeing him, said: \"I Could do that too if I should try. His meal comes mighty cheap.\" Of all that well-fed flock was one As fat as fat could be. The Raven rose, and lit upon Her back. She seemed to weigh a ton-- So very fat was she. And, oh! Her wool was wondrous thick: It would have made a mat. The Raven's claws are caught, and stick! He's played himself a pretty trick-- To fly with one so fat. \"Ba, ba!\" \"Caw, caw!\" cry bird and beast. The shepherd comes at last: Sir Raven who would find a feast Is from the woolly one released, And in a cage kept fast.\n",
      "\n",
      "Story 17:\n",
      " The Miller, His Son And The Ass. A Miller and Son once set out for the fair, To sell a fine ass they had brought up with care; And the way that they started made everyone stare. To keep the Ass fresh, so the beast would sell dear On a pole they slung him. It surely seemed queer: He looked, with heels up, like some huge chandelier. One person who passed them cried out in great glee. \"Was there anything ever so silly?\" said he. \"Can you guess who the greatest Ass is of those three?\" The Miller at once put the brute on the ground; And the Ass, who had liked to ride t'other way round, Complained in language of curious sound. No matter. The Miller now made his Son ride, While he followed after or walked alongside. Then up came three merchants. The eldest one cried; \"Get down there, young fellow! I never did see Such manners:--a gray-beard walks where you should be. He should ride, you should follow. Just take that from me!\" \"Dear Sirs,\" quoth the Miller, \"I'd see you content.\" He climbed to the saddle; on foot the boy went... Three girls passed. Said one: \"Do you see that old Gent? There he sits, like a bishop. I say it's a shame, While that boy trudging after seems more than half lame.\" \"Little girl,\" said the Miller, \"go back whence you came.\" Yet this young creature so worked on his mind That he wanted no woman to call him unkind: And he said to his Son: \"Seat yourself here--behind.\" With the Ass bearing double they jogged on again, And once more met a critic, who said: \"It is plain Only dunces would give their poor donkey such pain. He will die with their weight: it's a shame and a sin. For their faithful servant they care not a pin. They'll have nothing to sell at the fair but his skin.\" \"Dear me!\" said the Miller, \"what am I to do? Must I suit the whole world and the world's father, too? Yet it must end some time--so I'll see the thing through.\" Both Father and Son now decided to walk, While the Ass marched in front with a strut and a stalk; Yet the people who passed them continued to talk. Said one to another: \"Look there, if you please, How they wear out their shoes, while their Ass takes his ease. Were there ever, d'ye think, three such asses as these?\" Said the Miller: \"You're right. I'm an Ass! It is true. Too long have I listened to people like you. But now I am done with the whole kit and crew. \"Let them blame me or praise me, keep silent or yell, My goings and comings they cannot compel. I will do as I please!\"...So he did--and did well.\n",
      "\n"
     ]
    }
   ],
   "source": [
    "stories=open(\"lafontaine.txt\", \"rt\").readlines()\n",
    "\n",
    "all_word_counts=[]\n",
    "texts=[]\n",
    "for i,story in enumerate(stories):\n",
    "    print(\"Story %d:\\n %s\" % (i, story))"
   ]
  },
  {
   "cell_type": "markdown",
   "id": "785532de-42d2-4689-8195-752c58127eb0",
   "metadata": {},
   "source": [
    "Text  retrieved from the web many times contains weird characters that do not add content and end up bycreating artificial differences, so we will use the following 3 utilitary functions\n",
    "\n",
    "* The simplest possible `tokenizer` (this will eventually be replaced in the future with a more robust solution)\n",
    "* `remove_accents()` - this will remove all accents from a unicode text replacing it with the equivalent nonaccented words\n",
    "* `remove_stuff()` - will remove many weird and strange characters that occasionally appear in tecrt scraped from the web"
   ]
  },
  {
   "cell_type": "code",
   "execution_count": 3,
   "id": "b524fad2-e6d7-4ab8-9067-efeee60e52ea",
   "metadata": {
    "tags": []
   },
   "outputs": [],
   "source": [
    "import unicodedata\n",
    "\n",
    "def basic_word_tokenizer(text):\n",
    "    return text.split()\n",
    "\n",
    "def remove_accents(s):\n",
    "    nfkd_form = unicodedata.normalize('NFKD', s)\n",
    "    return u\"\".join([c for c in nfkd_form if not unicodedata.combining(c)])\n",
    "\n",
    "def remove_stuff(s):\n",
    "    for c in \"\\\\\\t0123456789Ææœ—‘’\\ufeff{|}“”.,()$£%&[]?@#!=;*+–\\\"ǁ\":\n",
    "        s=s.replace(c, \"\")\n",
    "    s=s.replace(\"-\", \" \")\n",
    "    return s\n"
   ]
  },
  {
   "cell_type": "markdown",
   "id": "9d18dcb2-b301-4427-a60a-0d1c466d8696",
   "metadata": {},
   "source": [
    "We will now add another function, that will use all these utilities, for extracting all the words form a set of documents (a corpus)\n"
   ]
  },
  {
   "cell_type": "code",
   "execution_count": 4,
   "id": "7680feee-43dc-4a89-b1fb-81eb75303ce7",
   "metadata": {
    "tags": []
   },
   "outputs": [
    {
     "name": "stdout",
     "output_type": "stream",
     "text": [
      "Story 0:\n",
      " ['the', 'frog', 'who', 'wished', 'to', 'be', 'as', 'big', 'as', 'the', 'ox', 'there', 'was', 'a', 'little', 'fog', 'whose', 'home', 'was', 'in']\n",
      "Story 1:\n",
      " ['the', 'grasshopper', 'and', 'the', 'ant', 'the', 'grasshopper', 'singing', 'all', 'summer', 'long', 'now', 'found', 'winter', 'stinging', 'and', 'ceased', 'in', 'his', 'song']\n",
      "Story 2:\n",
      " ['the', 'cat', 'and', 'the', 'fox', 'the', 'cat', 'and', 'the', 'fox', 'once', 'took', 'a', 'walk', 'together', 'sharpening', 'their', 'wits', 'with', 'talk']\n",
      "Story 3:\n",
      " ['the', 'hen', 'with', 'the', 'golden', 'eggs', 'to', 'this', 'lesson', 'in', 'greed', 'pray', 'little', 'ones', 'heed:', 'each', 'day', 'we', 'are', 'told']\n",
      "Story 4:\n",
      " ['the', 'dog', 'and', 'his', 'image', 'a', 'foolish', 'dog', 'who', 'carried', 'in', 'his', 'jaw', 'a', 'juicy', 'bone', 'looked', 'down', 'into', 'a']\n"
     ]
    }
   ],
   "source": [
    "\n",
    "def get_words_from_corpus(corpus):\n",
    "    words_texts=[]\n",
    "    for i,text in enumerate(corpus):\n",
    "        text=text.strip().lower()\n",
    "        text=remove_accents(text)\n",
    "        text=remove_stuff(text)\n",
    "        text=text.lower()\n",
    "        words = basic_word_tokenizer(text)\n",
    "        words_texts.append(words)\n",
    "    return words_texts\n",
    "\n",
    "\n",
    "words_texts = get_words_from_corpus(stories)\n",
    "\n",
    "#let's print out the first 20 words of the first five stories\n",
    "for i, words in enumerate(words_texts[:5]):\n",
    "    print(\"Story %d:\\n %s\" %(i, words[:20]))"
   ]
  },
  {
   "cell_type": "code",
   "execution_count": 5,
   "id": "9b36a9cf-e2ca-4318-9863-398b6183a18a",
   "metadata": {
    "tags": []
   },
   "outputs": [
    {
     "data": {
      "text/plain": [
       "{\"'cause\": 1,\n",
       " 'a': 2,\n",
       " 'about': 2,\n",
       " 'again': 1,\n",
       " 'an': 1,\n",
       " 'and': 6,\n",
       " 'as': 2,\n",
       " 'be': 1,\n",
       " 'beneath': 1,\n",
       " 'big': 2,\n",
       " 'bits': 1,\n",
       " 'blew': 3,\n",
       " 'bog': 1,\n",
       " 'burst': 1,\n",
       " 'but': 1,\n",
       " 'cracked': 1,\n",
       " 'cries:': 1,\n",
       " 'do': 1,\n",
       " 'enough': 1,\n",
       " 'flew': 1,\n",
       " 'fog': 1,\n",
       " 'for': 1,\n",
       " 'frog': 1,\n",
       " 'he': 7,\n",
       " 'head': 1,\n",
       " 'her': 1,\n",
       " 'his': 1,\n",
       " 'home': 1,\n",
       " 'i': 1,\n",
       " 'if': 1,\n",
       " 'in': 2,\n",
       " 'just': 1,\n",
       " 'little': 2,\n",
       " 'lost': 1,\n",
       " 'me': 1,\n",
       " 'my': 1,\n",
       " 'myself': 1,\n",
       " 'ox': 2,\n",
       " 'puff': 1,\n",
       " 'puffed': 1,\n",
       " 'say': 1,\n",
       " 'saying:': 1,\n",
       " 'see': 1,\n",
       " 'sees': 1,\n",
       " 'she': 1,\n",
       " 'shook': 1,\n",
       " 'sister': 2,\n",
       " 'size': 1,\n",
       " 'so': 1,\n",
       " 'strain': 1,\n",
       " 'stretch': 1,\n",
       " 'stretched': 1,\n",
       " 'that': 1,\n",
       " \"that's\": 1,\n",
       " 'the': 3,\n",
       " 'then': 1,\n",
       " 'there': 1,\n",
       " 'till': 1,\n",
       " 'to': 1,\n",
       " 'was': 2,\n",
       " \"wasn't\": 1,\n",
       " 'who': 1,\n",
       " 'whose': 1,\n",
       " 'will': 1,\n",
       " 'wished': 1,\n",
       " 'wits': 1,\n",
       " 'worried': 1}"
      ]
     },
     "execution_count": 5,
     "metadata": {},
     "output_type": "execute_result"
    }
   ],
   "source": [
    "dict(zip(*np.unique(words_texts[0],return_counts=True)))"
   ]
  },
  {
   "cell_type": "markdown",
   "id": "f133fbb2-d6d0-430a-9dd7-8148102a4f99",
   "metadata": {},
   "source": [
    "Other things we will eventually need is to have the unique words of each document and also  the set of all the unique words in a given corpus\n",
    "\n",
    "We will accomplish both objectives with Python sets"
   ]
  },
  {
   "cell_type": "code",
   "execution_count": 6,
   "id": "cdac11dd-fed7-4059-bb09-d60c5edf603f",
   "metadata": {
    "tags": []
   },
   "outputs": [
    {
     "name": "stdout",
     "output_type": "stream",
     "text": [
      "Word 0: big\n",
      "Word 1: fiercely\n",
      "Word 2: bold\n",
      "Word 3: barely\n",
      "Word 4: shoes\n",
      "Word 5: fed\n",
      "Word 6: acorns\n",
      "Word 7: plunged\n",
      "Word 8: attached\n",
      "Word 9: thing\n",
      "Word 10: and\n",
      "Word 11: gudgeon\n",
      "Word 12: gazes\n",
      "Word 13: tree\n",
      "Word 14: carried\n",
      "Word 15: before\n",
      "Word 16: cream\n",
      "Word 17: comes\n",
      "Word 18: bone\n",
      "Word 19: falling\n"
     ]
    }
   ],
   "source": [
    "def calc_all_words(words_text_sets):\n",
    "    all_words=set()\n",
    "    for words in words_text_sets: all_words |= words\n",
    "    return all_words\n",
    "\n",
    "words_text_sets = [set(words) for words in words_texts]\n",
    "all_words=calc_all_words(words_text_sets)\n",
    "for i, word in enumerate(list(all_words)[:20]):\n",
    "    print(\"Word %d: %s\" %(i, word))"
   ]
  },
  {
   "cell_type": "code",
   "execution_count": 7,
   "id": "14dc50d3-63a7-4263-9b1d-52da2e2c5d02",
   "metadata": {
    "tags": []
   },
   "outputs": [
    {
     "data": {
      "text/plain": [
       "67"
      ]
     },
     "execution_count": 7,
     "metadata": {},
     "output_type": "execute_result"
    }
   ],
   "source": [
    "len(words_text_sets[0])"
   ]
  },
  {
   "cell_type": "code",
   "execution_count": 8,
   "id": "35664fe4-2e0f-46eb-a12a-28fe2d193c21",
   "metadata": {
    "tags": []
   },
   "outputs": [
    {
     "data": {
      "text/plain": [
       "91"
      ]
     },
     "execution_count": 8,
     "metadata": {},
     "output_type": "execute_result"
    }
   ],
   "source": [
    "len(words_texts[0])"
   ]
  },
  {
   "cell_type": "markdown",
   "id": "78571a44-aabe-41e1-9c74-44954b7c67d4",
   "metadata": {},
   "source": [
    "### Question: What are the stories that are most similar in content?\n",
    "\n",
    "### Solution 1:  we might compare by checking how many words each story shares and make a table\n",
    "\n",
    "We could do this by making sets of the existing words in each text, which will take out all repetitions and then make comparisons among all sets. A very common way of doing that would be to compute the Cosine Similarity that checks the ratio of the scores of the common words of a document \n",
    "\n",
    "$$CosSim=\\dfrac{\\sum_i{A_i.B_i}}{\\sqrt{\\sum_i{A_i^2}}.\\sqrt{\\sum_i{B_i^2}}}$$\n",
    "\n",
    "\n",
    "for a simple approach  A_i and B_i correspond to the presence of word $i$ in Document $A$ or document $B$\n",
    "\n",
    "Another way to make comparisons would be to use the jaccard score that could be easily computed with python sets as it is just the ratio of the intersection with the union of both sets\n",
    "\n",
    "$$Jaccard=\\dfrac{T_a \\cap T_b}{T_a \\cup T_b}$$\n",
    "\n"
   ]
  },
  {
   "cell_type": "code",
   "execution_count": 9,
   "id": "bffa8baa-f552-470b-b4f4-280eda46b26f",
   "metadata": {
    "tags": []
   },
   "outputs": [
    {
     "name": "stdout",
     "output_type": "stream",
     "text": [
      "(5, 15) has similarity:  0.3016\n",
      "(2, 5) has similarity:  0.3005\n",
      "(14, 17) has similarity:  0.2861\n",
      "(2, 17) has similarity:  0.2794\n",
      "(0, 5) has similarity:  0.2755\n"
     ]
    }
   ],
   "source": [
    "words_text_sets=[set(words) for words in words_texts]\n",
    "from math import sqrt\n",
    "def text_similarities1(word_sets):\n",
    "    sims=[]\n",
    "    for a in range(len(word_sets)-1):\n",
    "        for b in range(a+1, len(word_sets)):\n",
    "            CosSim=len(word_sets[a] & word_sets[b]) / (sqrt(len(word_sets[a])*len(word_sets[b])))\n",
    "            sims.append((CosSim, (a,b)))\n",
    "    return sims\n",
    "\n",
    "\n",
    "sims = text_similarities1(words_text_sets)\n",
    "\n",
    "#now let's sort the list in descending order so that the most similar stories will appear\n",
    "sims = sorted(sims, reverse=True)\n",
    "\n",
    "#now let's get the 5 most common text pairs\n",
    "for J, text_pair in sims[:5]: \n",
    "    print( \"%s has similarity: %7.4f\" % (text_pair, J))"
   ]
  },
  {
   "cell_type": "markdown",
   "id": "1984eb9f-007e-4b03-9bd0-4093ee132850",
   "metadata": {},
   "source": [
    "This function willl be critical in assessing the similarity of many pairs of documents thus it will be critical to assess its performance"
   ]
  },
  {
   "cell_type": "code",
   "execution_count": 10,
   "id": "bdea614d-5620-4b74-8211-e6dbad32551e",
   "metadata": {
    "tags": []
   },
   "outputs": [
    {
     "name": "stdout",
     "output_type": "stream",
     "text": [
      "624 µs ± 5.71 µs per loop (mean ± std. dev. of 7 runs, 1,000 loops each)\n"
     ]
    }
   ],
   "source": [
    "%timeit sims = text_similarities1(words_text_sets)"
   ]
  },
  {
   "cell_type": "markdown",
   "id": "597cdd79-76fa-4b7e-8fa8-3968a2d12900",
   "metadata": {},
   "source": [
    "#### Exercises: \n",
    "1. Modify the text_similarity so that it will use the Jaccard score \n",
    "2. Compare the results and discuss them\n",
    "3. Check its performance and comment the differences\n",
    "4. [to do at home!] can the above function be sped up if instead of using strings for words we use integers as indices for each individual word"
   ]
  },
  {
   "cell_type": "code",
   "execution_count": 11,
   "id": "859f6e6d-e5df-4823-a6f2-85fff7e609ae",
   "metadata": {
    "tags": []
   },
   "outputs": [],
   "source": [
    "# !!!!!!!! solution 1 !!!!!!!!!\n",
    "def text_similarities1j(word_sets : list[set]):\n",
    "    # your code here\n",
    "    sims = []\n",
    "    for i,a in enumerate(word_sets[:-1]):\n",
    "        for b in word_sets[i+1:]:\n",
    "            intersect = len(a.intersection(b))\n",
    "            union = len(a) + len(b) - intersect\n",
    "            jaccard = intersect / union\n",
    "            sims.append((jaccard, (a,b)))\n",
    "    return sims\n"
   ]
  },
  {
   "cell_type": "code",
   "execution_count": 12,
   "id": "f78465ad-7953-4b81-ad37-f2b24d04fc1d",
   "metadata": {
    "tags": []
   },
   "outputs": [
    {
     "name": "stdout",
     "output_type": "stream",
     "text": [
      "607 µs ± 8.32 µs per loop (mean ± std. dev. of 7 runs, 1,000 loops each)\n"
     ]
    }
   ],
   "source": [
    "%timeit sims = text_similarities1j(words_text_sets)"
   ]
  },
  {
   "cell_type": "code",
   "execution_count": 13,
   "id": "33a3018e-504c-474c-a490-8d23a7ac9ea4",
   "metadata": {
    "tags": []
   },
   "outputs": [
    {
     "name": "stdout",
     "output_type": "stream",
     "text": [
      "(5, 15) has similarity:  0.3016\n",
      "(2, 5) has similarity:  0.3005\n",
      "(14, 17) has similarity:  0.2861\n",
      "(2, 17) has similarity:  0.2794\n",
      "(0, 5) has similarity:  0.2755\n"
     ]
    }
   ],
   "source": [
    "for J, text_pair in sims[:5]: \n",
    "    print( \"%s has similarity: %7.4f\" % (text_pair, J))"
   ]
  },
  {
   "cell_type": "code",
   "execution_count": 14,
   "id": "de7d8317-71f5-49be-a68b-3a85c0272120",
   "metadata": {
    "tags": []
   },
   "outputs": [],
   "source": [
    "def get_idx_words_sets(words_text_sets):\n",
    "    all_words = dict()\n",
    "    i=0\n",
    "    \n",
    "    idx_text_sets = []\n",
    "    \n",
    "    for _set in words_text_sets:\n",
    "        temp_set = set()\n",
    "        for word in _set:\n",
    "            if word not in all_words:\n",
    "                all_words[word]=i\n",
    "                i+=1\n",
    "            temp_set|={all_words[word]}\n",
    "        idx_text_sets.append(temp_set)\n",
    "    \n",
    "    return idx_text_sets"
   ]
  },
  {
   "cell_type": "code",
   "execution_count": 15,
   "id": "c9fd4e8a-0b9f-4283-9bcc-abf091c95926",
   "metadata": {
    "tags": []
   },
   "outputs": [],
   "source": [
    "idxs_text_sets=get_idx_words_sets(words_text_sets)"
   ]
  },
  {
   "cell_type": "code",
   "execution_count": 16,
   "id": "26f3b55d-dc54-4b4b-a26c-243efec182c2",
   "metadata": {
    "tags": []
   },
   "outputs": [
    {
     "name": "stdout",
     "output_type": "stream",
     "text": [
      "512 µs ± 5.31 µs per loop (mean ± std. dev. of 7 runs, 1,000 loops each)\n"
     ]
    }
   ],
   "source": [
    "#your code here\n",
    "\n",
    "%timeit sims = text_similarities1(idxs_text_sets)"
   ]
  },
  {
   "cell_type": "code",
   "execution_count": 17,
   "id": "4e4e8b75-00e0-4153-bdc3-fc58acce6eb7",
   "metadata": {
    "tags": []
   },
   "outputs": [
    {
     "name": "stdout",
     "output_type": "stream",
     "text": [
      "(5, 15) has similarity:  0.3016\n",
      "(2, 5) has similarity:  0.3005\n",
      "(14, 17) has similarity:  0.2861\n",
      "(2, 17) has similarity:  0.2794\n",
      "(0, 5) has similarity:  0.2755\n"
     ]
    }
   ],
   "source": [
    "for J, text_pair in sims[:5]: \n",
    "    print( \"%s has similarity: %7.4f\" % (text_pair, J))"
   ]
  },
  {
   "cell_type": "markdown",
   "id": "6be61e62-7bb8-4ca1-894a-521258f09517",
   "metadata": {},
   "source": [
    "## A different solution\n",
    "\n",
    "The solution above is ok but we are not actually entering into  our computation the following issues:\n",
    "1. **Words have different importances**. The word \"the\" or \"a\" very much common words have different importance than \"eagle\", \"running\" or \"manners\"\n",
    "2. **We are disregarding the amount of times a word appear on a text**. A word more common should count more then a word that appears only once\n",
    "\n",
    "\n",
    "### Introducing TF.IDF - A way off the quagmire\n",
    "\n",
    "TFIDF is a calculation that allows to assign values to each word in our corpus and it is a product of 2 values \n",
    "\n",
    "$$ TFIDF_{ij} = TF_{ij}.IDF_i $$\n",
    "\n",
    "### Defining TF\n",
    "\n",
    "first let's define TF. which solves our Problem 2. How to emphasize the importance that each word has in a text? This score is defined as\n",
    "\n",
    "$$ TF_{ij} = \\dfrac{C_{ij}}{max_k(C_{kj})} $$\n",
    "\n",
    "where $C_{ij}$ is the number of times term $i$ appears on document $j$. So we will need a `word counter` that should be able to count the number of occurrences of each word on each text"
   ]
  },
  {
   "cell_type": "code",
   "execution_count": 18,
   "id": "463f41d6-5157-4b34-83e7-e85cb4111eb7",
   "metadata": {
    "tags": []
   },
   "outputs": [],
   "source": [
    "def word_counter(words):\n",
    "    #1. get uniques\n",
    "    unique_words=set(words)\n",
    "    #2. make a dictionary for counting\n",
    "    D=dict(zip(unique_words, [0]*len(unique_words)))\n",
    "    #3. count all\n",
    "    for w in words: D[w]+=1\n",
    "    return D  \n",
    "\n",
    "def TF(word_counts):\n",
    "    #get the counts\n",
    "    counts  = word_counts.values()\n",
    "    if len(counts)==0: return {}\n",
    "    the_max = max(counts)   #compute the maximum\n",
    "    #return a dictionary that for each word returns the ratio of wc/max_wc\n",
    "    return dict(zip(word_counts.keys(), [c/the_max for c in counts]))    \n",
    "\n",
    "#let's try the above functions for story one\n",
    "text=words_texts[0]\n",
    "wcounts =word_counter(text)\n",
    "tfs=TF(wcounts)\n",
    "\n"
   ]
  },
  {
   "cell_type": "markdown",
   "id": "3974c017-80a1-4422-a18d-e79d9b269794",
   "metadata": {},
   "source": [
    "and let's look at the TFs for the first 10 words of this little story:\n"
   ]
  },
  {
   "cell_type": "code",
   "execution_count": 19,
   "id": "115aed79-dbb6-4b94-932d-73cc1adb4cec",
   "metadata": {
    "tags": []
   },
   "outputs": [
    {
     "name": "stdout",
     "output_type": "stream",
     "text": [
      "         the - Counts:  3; TF:  0.4286\n",
      "        frog - Counts:  1; TF:  0.1429\n",
      "         who - Counts:  1; TF:  0.1429\n",
      "      wished - Counts:  1; TF:  0.1429\n",
      "          to - Counts:  1; TF:  0.1429\n",
      "          be - Counts:  1; TF:  0.1429\n",
      "          as - Counts:  2; TF:  0.2857\n",
      "         big - Counts:  2; TF:  0.2857\n",
      "          as - Counts:  2; TF:  0.2857\n",
      "         the - Counts:  3; TF:  0.4286\n"
     ]
    }
   ],
   "source": [
    "for word in text[:10]:\n",
    "    print(\"%12s - Counts:%3d; TF: %7.4f\" % (word, wcounts[word], tfs[word]))"
   ]
  },
  {
   "cell_type": "markdown",
   "id": "27cc049d-b5d3-4d97-bff0-0c0aa21c6713",
   "metadata": {},
   "source": [
    "Notice that the TFs correspond to one text only so we have to compute the TFs for all documents in a new function"
   ]
  },
  {
   "cell_type": "code",
   "execution_count": 20,
   "id": "9d623943-cc94-487e-8d6c-bcb281e5d414",
   "metadata": {
    "tags": []
   },
   "outputs": [],
   "source": [
    "def calc_tfs(words_texts):\n",
    "    all_tfs=[]\n",
    "    for words in words_texts:\n",
    "        wcounts = word_counter(words)\n",
    "        all_tfs.append(TF(wcounts))\n",
    "    return all_tfs\n",
    "\n",
    "all_tfs=calc_tfs(words_texts)\n"
   ]
  },
  {
   "cell_type": "code",
   "execution_count": 21,
   "id": "048ba832-f3c8-4f1a-b69e-657700db73ac",
   "metadata": {
    "tags": []
   },
   "outputs": [
    {
     "data": {
      "text/plain": [
       "{'big': 0.2857142857142857,\n",
       " 'do': 0.14285714285714285,\n",
       " 'in': 0.2857142857142857,\n",
       " 'say': 0.14285714285714285,\n",
       " 'myself': 0.14285714285714285,\n",
       " 'sister': 0.2857142857142857,\n",
       " 'see': 0.14285714285714285,\n",
       " 'frog': 0.14285714285714285,\n",
       " 'and': 0.8571428571428571,\n",
       " 'ox': 0.2857142857142857,\n",
       " 'stretch': 0.14285714285714285,\n",
       " 'beneath': 0.14285714285714285,\n",
       " 'wished': 0.14285714285714285,\n",
       " 'cracked': 0.14285714285714285,\n",
       " \"'cause\": 0.14285714285714285,\n",
       " 'so': 0.14285714285714285,\n",
       " 'wits': 0.14285714285714285,\n",
       " 'bits': 0.14285714285714285,\n",
       " 'lost': 0.14285714285714285,\n",
       " \"that's\": 0.14285714285714285,\n",
       " 'my': 0.14285714285714285,\n",
       " 'that': 0.14285714285714285,\n",
       " 'head': 0.14285714285714285,\n",
       " 'size': 0.14285714285714285,\n",
       " 'then': 0.14285714285714285,\n",
       " 'the': 0.42857142857142855,\n",
       " 'his': 0.14285714285714285,\n",
       " 'will': 0.14285714285714285,\n",
       " 'a': 0.2857142857142857,\n",
       " 'cries:': 0.14285714285714285,\n",
       " 'flew': 0.14285714285714285,\n",
       " 'there': 0.14285714285714285,\n",
       " 'puffed': 0.14285714285714285,\n",
       " 'again': 0.14285714285714285,\n",
       " 'i': 0.14285714285714285,\n",
       " 'saying:': 0.14285714285714285,\n",
       " 'be': 0.14285714285714285,\n",
       " 'burst': 0.14285714285714285,\n",
       " 'who': 0.14285714285714285,\n",
       " 'home': 0.14285714285714285,\n",
       " 'worried': 0.14285714285714285,\n",
       " 'fog': 0.14285714285714285,\n",
       " 'puff': 0.14285714285714285,\n",
       " 'as': 0.2857142857142857,\n",
       " 'she': 0.14285714285714285,\n",
       " 'bog': 0.14285714285714285,\n",
       " 'for': 0.14285714285714285,\n",
       " 'till': 0.14285714285714285,\n",
       " 'was': 0.2857142857142857,\n",
       " 'just': 0.14285714285714285,\n",
       " 'me': 0.14285714285714285,\n",
       " 'strain': 0.14285714285714285,\n",
       " 'enough': 0.14285714285714285,\n",
       " 'but': 0.14285714285714285,\n",
       " \"wasn't\": 0.14285714285714285,\n",
       " 'her': 0.14285714285714285,\n",
       " 'stretched': 0.14285714285714285,\n",
       " 'about': 0.2857142857142857,\n",
       " 'he': 1.0,\n",
       " 'if': 0.14285714285714285,\n",
       " 'whose': 0.14285714285714285,\n",
       " 'sees': 0.14285714285714285,\n",
       " 'shook': 0.14285714285714285,\n",
       " 'an': 0.14285714285714285,\n",
       " 'blew': 0.42857142857142855,\n",
       " 'little': 0.2857142857142857,\n",
       " 'to': 0.14285714285714285}"
      ]
     },
     "execution_count": 21,
     "metadata": {},
     "output_type": "execute_result"
    }
   ],
   "source": [
    "all_tfs[0]"
   ]
  },
  {
   "cell_type": "markdown",
   "id": "fc4102c0-cc53-4756-bb2d-aa768a88462c",
   "metadata": {},
   "source": [
    "#### Defining IDF\n",
    "\n",
    "IDF aims at solving problem 1. Not all words are equal, and some have more meaning than others. Words that appear in all documents of a corpus should not be that interesting, while some words quite rare should be scored more heavily.  \n",
    "\n",
    "$$ IDF_i = log_2{\\dfrac{N}{n_i}} $$\n",
    "\n",
    "Where N is the total number of words in a corpus and $n_i$ is the number of documents in which the word $i$ appears in. This requires us to have a complete list of the words. The IDF will assign a global score to each word. The more uncommon it is, the higher the score. Words that appear always, like \"the\" or \"a\" will have score of zero, or very close"
   ]
  },
  {
   "cell_type": "code",
   "execution_count": 22,
   "id": "f70ae319-3797-4ffd-8554-715a5b01a6a3",
   "metadata": {
    "tags": []
   },
   "outputs": [],
   "source": [
    "from math import log2\n",
    "\n",
    "def IDF(all_words, doc_word_counts):\n",
    "    #first initialize a new dictionary with one entry for each word\n",
    "    D=dict(zip(all_words, [0]*len(all_words)))\n",
    "    N=len(doc_word_counts)\n",
    "    for doc in doc_word_counts:\n",
    "        for word in doc: D[word]+=1\n",
    "    return {w: log2(N/D[w]) for w in D}\n",
    "\n",
    "idfs = IDF(all_words, words_text_sets)\n"
   ]
  },
  {
   "cell_type": "markdown",
   "id": "dbaaa414-e650-4159-a501-54125782a8d0",
   "metadata": {},
   "source": [
    "With the global IDFs computed we can now show the results of the first 10 words of the first fable"
   ]
  },
  {
   "cell_type": "code",
   "execution_count": 23,
   "id": "41d9a54f-6e99-4763-bd17-ea4523eed330",
   "metadata": {
    "tags": []
   },
   "outputs": [
    {
     "name": "stdout",
     "output_type": "stream",
     "text": [
      "         the - Counts:  3; TF:  0.4286 IDF:  0.0000 -> TFIDF:  0.0000\n",
      "        frog - Counts:  1; TF:  0.1429 IDF:  4.1699 -> TFIDF:  0.5957\n",
      "         who - Counts:  1; TF:  0.1429 IDF:  0.7105 -> TFIDF:  0.1015\n",
      "      wished - Counts:  1; TF:  0.1429 IDF:  4.1699 -> TFIDF:  0.5957\n",
      "          to - Counts:  1; TF:  0.1429 IDF:  0.0825 -> TFIDF:  0.0118\n",
      "          be - Counts:  1; TF:  0.1429 IDF:  0.8480 -> TFIDF:  0.1211\n",
      "          as - Counts:  2; TF:  0.2857 IDF:  0.8480 -> TFIDF:  0.2423\n",
      "         big - Counts:  2; TF:  0.2857 IDF:  2.1699 -> TFIDF:  0.6200\n",
      "          as - Counts:  2; TF:  0.2857 IDF:  0.8480 -> TFIDF:  0.2423\n",
      "         the - Counts:  3; TF:  0.4286 IDF:  0.0000 -> TFIDF:  0.0000\n"
     ]
    }
   ],
   "source": [
    "text=words_texts[0]\n",
    "wcounts =word_counter(text)\n",
    "tfs=TF(wcounts)\n",
    "\n",
    "for word in text[:10]:\n",
    "    print(\"%12s - Counts:%3d; TF: %7.4f IDF: %7.4f -> TFIDF: %7.4f\" % (word, wcounts[word], \n",
    "                                                                       tfs[word], idfs[word],\n",
    "                                                                       tfs[word]*idfs[word]))"
   ]
  },
  {
   "cell_type": "markdown",
   "id": "c2fb7fd1-6fce-42d2-9c02-4c6971f81a7e",
   "metadata": {},
   "source": [
    "### Computing document similarity with TFIDF\n",
    "\n",
    "We will now make a little function that receives the indexes of the documents, the unique words of both documents, and the TFs and IDFs previously computed and will produce the cosine distance for each pair of documents\n",
    "\n",
    "We are going to use numpy for its broadcasting capabilities that will speed up the calculations of the similarities\n",
    "\n"
   ]
  },
  {
   "cell_type": "code",
   "execution_count": 24,
   "id": "680a4b81-e895-48a5-8a70-2853f47b825c",
   "metadata": {
    "tags": []
   },
   "outputs": [
    {
     "name": "stdout",
     "output_type": "stream",
     "text": [
      "The distance between stories 1 and 3 is  0.0233\n"
     ]
    }
   ],
   "source": [
    "import numpy as np\n",
    "def cosine_similarity_tfidf(idx1, idx2, words_text_sets, all_tfs, idfs):\n",
    "    text1= words_text_sets[idx1]\n",
    "    text2= words_text_sets[idx2]\n",
    "    tfs1=all_tfs[idx1]\n",
    "    tfs2=all_tfs[idx2]\n",
    "\n",
    "    common_words = text1 & text2\n",
    "    if len(common_words)==0: return 0.0\n",
    "    common_tfidfs = [tfs1[w]*tfs2[w]*idfs[w]*idfs[w] for w in common_words]\n",
    "\n",
    "    #squared tfidfs\n",
    "    tfidfs2_1=np.array([tfs1[w]*idfs[w] for w in text1])**2\n",
    "    tfidfs2_2=np.array([tfs2[w]*idfs[w] for w in text2])**2\n",
    "\n",
    "    return sum(common_tfidfs)/(np.sqrt(tfidfs2_1.sum())*np.sqrt(tfidfs2_2.sum()))\n",
    "\n",
    "dst=cosine_similarity_tfidf(1, 3, words_text_sets, all_tfs, idfs)\n",
    "print(\"The distance between stories 1 and 3 is %7.4f\" % ( dst)) "
   ]
  },
  {
   "cell_type": "markdown",
   "id": "0273110e-2bf3-40a8-9962-03a638b674f4",
   "metadata": {},
   "source": [
    "we can now compute all distances between all pairs of documents and find the most similar"
   ]
  },
  {
   "cell_type": "code",
   "execution_count": 25,
   "id": "08114ee8-c9bc-470a-ad0d-64cea32ed1d4",
   "metadata": {
    "tags": []
   },
   "outputs": [
    {
     "name": "stdout",
     "output_type": "stream",
     "text": [
      "(6, 16) has similarity:  0.2025\n",
      "(2, 6) has similarity:  0.1352\n",
      "(11, 17) has similarity:  0.1275\n",
      "(6, 12) has similarity:  0.1210\n",
      "(2, 17) has similarity:  0.1184\n"
     ]
    }
   ],
   "source": [
    "def text_similarities2(words_text_sets, all_tfs, idfs):\n",
    "    N=len(words_text_sets)\n",
    "    sims=[]\n",
    "    for i in range(N-1):\n",
    "        for j in range(i+1, N):\n",
    "            sim = cosine_similarity_tfidf(i,j, words_text_sets, all_tfs, idfs)\n",
    "            sims.append((sim, (i,j)))\n",
    "    return sims\n",
    "\n",
    "sims = text_similarities2(words_text_sets, all_tfs, idfs)\n",
    "\n",
    "sims = sorted(sims, reverse=True)\n",
    "for J, text_pair in sims[:5]: \n",
    "    print( \"%s has similarity: %7.4f\" % (text_pair, J))"
   ]
  },
  {
   "cell_type": "markdown",
   "id": "379b1c75-1dfb-4509-90fb-79ef1c044137",
   "metadata": {},
   "source": [
    "This is all very nice, but what is the performance impact of this new similarity metric?"
   ]
  },
  {
   "cell_type": "code",
   "execution_count": 26,
   "id": "3011c55c-aa87-48a0-87fa-7a29a272308a",
   "metadata": {
    "tags": []
   },
   "outputs": [
    {
     "name": "stdout",
     "output_type": "stream",
     "text": [
      "9.35 ms ± 38.3 µs per loop (mean ± std. dev. of 7 runs, 100 loops each)\n"
     ]
    }
   ],
   "source": [
    "%timeit sims = text_similarities2(words_text_sets, all_tfs, idfs)"
   ]
  },
  {
   "cell_type": "markdown",
   "id": "653099a8-dc61-4cde-98f8-042a0521215a",
   "metadata": {},
   "source": [
    "#### Exercises: \n",
    "1. What are the common words between documents 6 and 16, and justify why they appear closer. \n",
    "2. analise and comment the results\n",
    "    1. Are all words equally important?\n",
    "    2. What might improve the results?\n",
    "    3. What problems would this entail?"
   ]
  },
  {
   "cell_type": "code",
   "execution_count": 27,
   "id": "1fdeb938-94c5-4d40-949d-9049ffad0696",
   "metadata": {
    "tags": []
   },
   "outputs": [
    {
     "name": "stdout",
     "output_type": "stream",
     "text": [
      "in:\n",
      "\tStory 6 = 0.214 |\tStory 16 = 0.143 |\tIDF = 0.263\n",
      "and:\n",
      "\tStory 6 = 0.286 |\tStory 16 = 0.857 |\tIDF = 0.000\n",
      "the:\n",
      "\tStory 6 = 1.000 |\tStory 16 = 1.000 |\tIDF = 0.000\n",
      "upon:\n",
      "\tStory 6 = 0.071 |\tStory 16 = 0.143 |\tIDF = 2.170\n",
      "at:\n",
      "\tStory 6 = 0.071 |\tStory 16 = 0.143 |\tIDF = 0.710\n",
      "a:\n",
      "\tStory 6 = 0.357 |\tStory 16 = 1.000 |\tIDF = 0.000\n",
      "raven:\n",
      "\tStory 6 = 0.357 |\tStory 16 = 0.571 |\tIDF = 3.170\n",
      "if:\n",
      "\tStory 6 = 0.071 |\tStory 16 = 0.143 |\tIDF = 1.000\n",
      "of:\n",
      "\tStory 6 = 0.071 |\tStory 16 = 0.143 |\tIDF = 0.585\n",
      "to:\n",
      "\tStory 6 = 0.143 |\tStory 16 = 0.286 |\tIDF = 0.082\n",
      "should:\n",
      "\tStory 6 = 0.071 |\tStory 16 = 0.143 |\tIDF = 2.585\n",
      "that:\n",
      "\tStory 6 = 0.071 |\tStory 16 = 0.286 |\tIDF = 0.170\n",
      "his:\n",
      "\tStory 6 = 0.286 |\tStory 16 = 0.143 |\tIDF = 0.469\n",
      "sir:\n",
      "\tStory 6 = 0.143 |\tStory 16 = 0.143 |\tIDF = 2.585\n",
      "who:\n",
      "\tStory 6 = 0.071 |\tStory 16 = 0.286 |\tIDF = 0.710\n",
      "are:\n",
      "\tStory 6 = 0.071 |\tStory 16 = 0.143 |\tIDF = 1.363\n",
      "bird:\n",
      "\tStory 6 = 0.071 |\tStory 16 = 0.143 |\tIDF = 2.170\n",
      "would:\n",
      "\tStory 6 = 0.214 |\tStory 16 = 0.429 |\tIDF = 1.585\n",
      "was:\n",
      "\tStory 6 = 0.143 |\tStory 16 = 0.429 |\tIDF = 0.170\n",
      "is:\n",
      "\tStory 6 = 0.143 |\tStory 16 = 0.143 |\tIDF = 0.848\n",
      "him:\n",
      "\tStory 6 = 0.071 |\tStory 16 = 0.143 |\tIDF = 1.000\n"
     ]
    }
   ],
   "source": [
    "for word in all_tfs[6].keys()|all_tfs[16].keys():\n",
    "    if word in all_tfs[6] and word in all_tfs[16]:\n",
    "        print(word + \":\")\n",
    "        print(f\"\\tStory 6 = {all_tfs[6][word]:.3f}\", end=\" |\\t\")\n",
    "        print(f\"Story 16 = {all_tfs[16][word]:.3f}\", end=\" |\\t\")\n",
    "        print(f\"IDF = {idfs[word]:.3f}\")"
   ]
  },
  {
   "cell_type": "markdown",
   "id": "b85b87de-b7e8-42ff-87ad-b3dbc89d23da",
   "metadata": {
    "tags": []
   },
   "source": [
    "## Expanding this approach to a larger corpus\n",
    "\n",
    "We are going to use a very small sample from [the Wikipedia from Nov 2020](https://www.kaggle.com/datasets/ltcmdrdata/plain-text-wikipedia-202011) that is made available in Kaggle. The full dataset is about 24 GB of data, of which we are only using 40 MB in JSON file for a total of about 14,500 documents. [the quality of the entries is very variable with occasional hypertext markings in several entries]\n",
    "\n",
    "Python makes it easy to process these files by using the json standard library"
   ]
  },
  {
   "cell_type": "code",
   "execution_count": 28,
   "id": "b3c11e65-5d38-45ee-8c69-39478946a685",
   "metadata": {
    "tags": []
   },
   "outputs": [
    {
     "name": "stdout",
     "output_type": "stream",
     "text": [
      "Number of docs: 14679\n",
      "Showing first 10 titles\n",
      "60229527 ---> 3109 [ Curraghglass ]\n",
      "60229537 ---> 14044 [ Anthony Joshua vs. Andy Ruiz Jr. ]\n",
      "60229541 ---> 7368 [ Wrestling at the 1956 Summer Olympics – Men's freestyle welterweight ]\n",
      "60229580 ---> 5436 [ Munich-Montserrat Book of Hours ]\n",
      "60229585 ---> 1618 [ Valdó Szűcs ]\n",
      "60229589 ---> 99546 [ Baseball Rule ]\n",
      "60229605 ---> 374 [ Muhammad Latif ]\n",
      "60229607 ---> 3778 [ Hephaestus (DC Comics) ]\n",
      "60229620 ---> 1018 [ Wilfred Randall ]\n",
      "60229623 ---> 2917 [ Jack Prescott (rugby league) ]\n"
     ]
    }
   ],
   "source": [
    "import json\n",
    "\n",
    "data = json.load(open('file1.json', \"rt\", encoding=\"utf-8\"))\n",
    "  \n",
    "print(\"Number of docs:\", len(data))\n",
    "print(\"Showing first 10 titles\")\n",
    "for d in data[:10]:\n",
    "    print(d[\"id\"],\"--->\", len(d[\"text\"]) , \"[\", d[\"title\"], \"]\")"
   ]
  },
  {
   "cell_type": "markdown",
   "id": "c863d035-a154-45bf-ae88-c4c6a4d2144e",
   "metadata": {},
   "source": [
    "First let's create a new corpus from this data and then make some text processing and identify all words and all unique words as before\n",
    "\n",
    "**Note:** this should take slightly longer as 14,500 documents are significantly more difficult to process than 18 short fables"
   ]
  },
  {
   "cell_type": "code",
   "execution_count": 29,
   "id": "622b7c24-74f1-434a-bf5e-b76b6d4ad97a",
   "metadata": {
    "tags": []
   },
   "outputs": [
    {
     "name": "stdout",
     "output_type": "stream",
     "text": [
      "N. of texts: 14679\n"
     ]
    }
   ],
   "source": [
    "corpus = [d[\"text\"] for d in data]\n",
    "\n",
    "words_texts     = get_words_from_corpus(corpus)\n",
    "words_text_sets = [set(words) for words in words_texts]\n",
    "all_words       = calc_all_words(words_text_sets)\n",
    "\n",
    "print(\"N. of texts:\", len(corpus))"
   ]
  },
  {
   "cell_type": "markdown",
   "id": "43431a1e-c016-447d-b711-6b08f317cb4a",
   "metadata": {},
   "source": [
    "As before let's compute the TF and IDFs for all documents and words in the corpus"
   ]
  },
  {
   "cell_type": "code",
   "execution_count": 30,
   "id": "e09c6a6c-4dc9-4008-a061-cb0952478fb5",
   "metadata": {
    "tags": []
   },
   "outputs": [],
   "source": [
    "idfs = IDF(all_words, words_text_sets)\n",
    "all_tfs=calc_tfs(words_texts)\n"
   ]
  },
  {
   "cell_type": "markdown",
   "id": "6a9267d9-55b5-45d2-bc6a-11b3c861b175",
   "metadata": {},
   "source": [
    "### Time for a break\n",
    "\n",
    "Before we continue let's examine what's ahead: We need to compute the distances of all documents to all documents and **this is a quadratic time operation $O(N^2)$**\n",
    "\n",
    "The number of computations should be:\n",
    "\n",
    "$$nc= \\dfrac{N.(N-1)}{2}$$\n",
    "\n",
    "so for 14,679 documents it should be"
   ]
  },
  {
   "cell_type": "code",
   "execution_count": 31,
   "id": "8319874c-bae2-4cad-a102-d75eb3d5e4a9",
   "metadata": {
    "tags": []
   },
   "outputs": [
    {
     "name": "stdout",
     "output_type": "stream",
     "text": [
      "107729181.0\n"
     ]
    }
   ],
   "source": [
    "N=len(corpus)\n",
    "print(N*(N-1)/2)"
   ]
  },
  {
   "cell_type": "markdown",
   "id": "82c44420-fdb3-4865-acf4-6f7876258ad7",
   "metadata": {},
   "source": [
    "Assuming we have sufficient memory to accomodate these results, how long will it take for processing it?\n",
    "\n",
    "Let's start with 20 documents"
   ]
  },
  {
   "cell_type": "code",
   "execution_count": 32,
   "id": "f5f26373-47bc-4732-88b2-47aaebbf895f",
   "metadata": {
    "tags": []
   },
   "outputs": [
    {
     "name": "stdout",
     "output_type": "stream",
     "text": [
      "(6, 13) has similarity:  0.6404\n",
      "(10, 13) has similarity:  0.4919\n",
      "(6, 10) has similarity:  0.4650\n",
      "(13, 15) has similarity:  0.3999\n",
      "(2, 18) has similarity:  0.2704\n"
     ]
    }
   ],
   "source": [
    "sims = text_similarities2(words_text_sets[:20], all_tfs, idfs)\n",
    "\n",
    "sims = sorted(sims, reverse=True)\n",
    "for J, text_pair in sims[:5]: \n",
    "    print( \"%s has similarity: %7.4f\" % (text_pair, J))\n"
   ]
  },
  {
   "cell_type": "markdown",
   "id": "61beb548-cf70-43c7-aeb2-ebe7d2dbdd10",
   "metadata": {},
   "source": [
    "Let's check documents 6 and 13 as they look really similar"
   ]
  },
  {
   "cell_type": "code",
   "execution_count": 33,
   "id": "a0ae4da9-5f7e-470c-bf11-d64c99f9635b",
   "metadata": {
    "tags": []
   },
   "outputs": [
    {
     "name": "stdout",
     "output_type": "stream",
     "text": [
      "Muhammad Latif (born 13 February 1939) is a Pakistani wrestler. He competed in the men's freestyle welterweight at the 1956 Summer Olympics. ==References== Category:1939 births Category:Living people Category:Pakistani male sport wrestlers Category:Olympic wrestlers of Pakistan Category:Wrestlers at the 1956 Summer Olympics Category:Place of birth missing (living people) \n",
      "\n",
      "Devi Singh (born 1926) is an Indian wrestler. He competed in the men's freestyle welterweight at the 1956 Summer Olympics. ==References== Category:1926 births Category:Possibly living people Category:Indian male sport wrestlers Category:Olympic wrestlers of India Category:Wrestlers at the 1956 Summer Olympics Category:Place of birth missing \n"
     ]
    }
   ],
   "source": [
    "print(corpus[6])\n",
    "print()\n",
    "print(corpus[13])"
   ]
  },
  {
   "cell_type": "markdown",
   "id": "29ec39fb-de41-494b-a202-f7cb88306e27",
   "metadata": {},
   "source": [
    "Also let's time this using python's common `time()` function"
   ]
  },
  {
   "cell_type": "code",
   "execution_count": 34,
   "id": "73df006a-1916-43ef-bf08-8e2f96ac0a22",
   "metadata": {
    "tags": []
   },
   "outputs": [
    {
     "name": "stdout",
     "output_type": "stream",
     "text": [
      "the operation took 0.054998 seconds\n"
     ]
    }
   ],
   "source": [
    "from time import time\n",
    "time1=time()\n",
    "sims = text_similarities2(words_text_sets[:20], all_tfs, idfs)\n",
    "time2=time()\n",
    "print(\"the operation took %8.6f seconds\" % (time2-time1))"
   ]
  },
  {
   "cell_type": "code",
   "execution_count": 35,
   "id": "55a11b33-3281-4950-abf1-e53e7804a7b9",
   "metadata": {
    "tags": []
   },
   "outputs": [
    {
     "name": "stdout",
     "output_type": "stream",
     "text": [
      "36.8 ms ± 1.01 ms per loop (mean ± std. dev. of 7 runs, 10 loops each)\n"
     ]
    }
   ],
   "source": [
    "%timeit sims = text_similarities2(words_text_sets[:20], all_tfs, idfs)"
   ]
  },
  {
   "cell_type": "markdown",
   "id": "5f25fe26-0379-490f-b11d-a0dd17c0c2df",
   "metadata": {},
   "source": [
    "#### Solved Exercises\n",
    "\n",
    "1. increase the number of documents to search similarities from up to 500 documents\n",
    "2. plot the number of documents vs execution time (use matplotlib!)\n",
    "3. Comment your results\n",
    "4. Estimate how much would it take for processing the full corpus (~14500 documents)"
   ]
  },
  {
   "cell_type": "code",
   "execution_count": 36,
   "id": "26fcdb46-95ed-482c-841d-f4ec3714fe52",
   "metadata": {
    "tags": []
   },
   "outputs": [
    {
     "name": "stdout",
     "output_type": "stream",
     "text": [
      " 50 -->   0.1970 seconds\n",
      "100 -->   0.7440 seconds\n",
      "150 -->   1.6150 seconds\n",
      "200 -->   2.9970 seconds\n",
      "250 -->   4.4630 seconds\n",
      "300 -->   6.6840 seconds\n",
      "350 -->   9.0090 seconds\n",
      "400 -->  11.1060 seconds\n",
      "450 -->  13.6840 seconds\n",
      "500 -->  16.9767 seconds\n"
     ]
    }
   ],
   "source": [
    "ndocs=range(50, 501, 50)\n",
    "times=[]\n",
    "for n in ndocs:\n",
    "    t1=time()\n",
    "    sims = text_similarities2(words_text_sets[:n], all_tfs, idfs)\n",
    "    t2=time()\n",
    "    print(\"%3d --> %8.4f seconds\" % (n, t2-t1)) \n",
    "    times.append(t2-t1)"
   ]
  },
  {
   "cell_type": "code",
   "execution_count": 96,
   "id": "a8545686-c4e9-4735-96e5-12af8dee37b4",
   "metadata": {
    "tags": []
   },
   "outputs": [
    {
     "name": "stdout",
     "output_type": "stream",
     "text": [
      "For 14500~ documents it would take ~ 4.355 hours\n"
     ]
    }
   ],
   "source": [
    "poly = np.polyfit(range(50,501,50), times, deg=2)\n",
    "print(f\"For 14500~ documents it would take ~ {np.polyval(poly, 14500)/3600:.3f} hours\", sep=\"\")"
   ]
  },
  {
   "cell_type": "code",
   "execution_count": 97,
   "id": "abb4eef0-e17a-480f-8dcb-742cdb705347",
   "metadata": {
    "tags": []
   },
   "outputs": [
    {
     "data": {
      "image/png": "[encoded data removed]",
      "text/plain": [
       "<Figure size 640x480 with 1 Axes>"
      ]
     },
     "metadata": {},
     "output_type": "display_data"
    }
   ],
   "source": [
    "import matplotlib.pyplot as plt\n",
    "\n",
    "times=np.array(times)\n",
    "\n",
    "plt.plot(ndocs, times)\n",
    "plt.title(\"NDocs vs Time\")\n",
    "plt.grid()\n",
    "plt.show()"
   ]
  },
  {
   "cell_type": "markdown",
   "id": "d62f79e4-4236-40ec-abc3-d601616ba2b3",
   "metadata": {},
   "source": [
    "This could perhaps be better visualised if we transform the times into its square root, where its linear dimension should become apparent"
   ]
  },
  {
   "cell_type": "code",
   "execution_count": 98,
   "id": "186d0bc5-cc19-4aff-b20c-b3cfe10874ee",
   "metadata": {
    "tags": []
   },
   "outputs": [
    {
     "data": {
      "image/png": "[encoded data removed]",
      "text/plain": [
       "<Figure size 640x480 with 1 Axes>"
      ]
     },
     "metadata": {},
     "output_type": "display_data"
    }
   ],
   "source": [
    "\n",
    "plt.plot(ndocs, np.sqrt(times))\n",
    "plt.title(\"NDocs vs sqrt(Time)\")\n",
    "plt.grid()\n",
    "plt.show()"
   ]
  },
  {
   "cell_type": "code",
   "execution_count": 99,
   "id": "1cf2851a-7957-4dfd-a680-438031f7e082",
   "metadata": {
    "tags": []
   },
   "outputs": [
    {
     "name": "stdout",
     "output_type": "stream",
     "text": [
      "To compute the entire corpus it would take  4.278 hours\n"
     ]
    }
   ],
   "source": [
    "# Solution of exercise 4!!!!!!!!!!!!!!!!\n",
    "# compute slope\n",
    "slope=(np.sqrt(times)[-1]-np.sqrt(times)[1])/(ndocs[-1]-ndocs[1])\n",
    "print(\"To compute the entire corpus it would take %6.3f hours\" % ((slope*len(corpus))**2/3600))\n"
   ]
  },
  {
   "cell_type": "code",
   "execution_count": 100,
   "id": "64283fde-e412-46c9-827a-15de3b94a39d",
   "metadata": {
    "tags": []
   },
   "outputs": [
    {
     "name": "stdout",
     "output_type": "stream",
     "text": [
      "To compute the entire corpus it would take 285.892\n"
     ]
    }
   ],
   "source": [
    "# compute slope\n",
    "slope=(np.sqrt(times)[-1]-np.sqrt(times)[1])/(ndocs[-1]-ndocs[1])\n",
    "print(\"To compute the entire corpus it would take %6.3f\" % ((slope*2000)**2))"
   ]
  },
  {
   "cell_type": "markdown",
   "id": "8b185aed-bfdc-44b9-b8cc-44944765b822",
   "metadata": {},
   "source": [
    "## Entering ray - Easy distributed processing for Python\n",
    "\n",
    "[Ray](https://www.ray.io/) is a very powerful library for distributed computing that allows load distribution between different logical units on the same machine, using GPUs, and different servers. Setting up a ray cluster is very easy and the same exact procedures used for distributing heavy computing loads in a machine, are the same if you have a data cluster or working in a cloud computing environment\n",
    "\n",
    "ray is not installed by default so it must be installed on the command line with `pip install ray` or, if you feel lucky, you may tray the line below\n"
   ]
  },
  {
   "cell_type": "code",
   "execution_count": null,
   "id": "784cc60d-7116-4a2f-94fd-c3062274cf1a",
   "metadata": {},
   "outputs": [],
   "source": [
    "#!pip install ray"
   ]
  },
  {
   "cell_type": "markdown",
   "id": "de68c937-a2d2-4990-b9c7-e8c24931ef12",
   "metadata": {},
   "source": [
    "Ray is alwys initialized with ray.init()"
   ]
  },
  {
   "cell_type": "code",
   "execution_count": 101,
   "id": "1a3f5efa-6d94-42f9-a3b1-39ce062479dd",
   "metadata": {
    "tags": []
   },
   "outputs": [
    {
     "name": "stderr",
     "output_type": "stream",
     "text": [
      "2023-02-23 17:29:23,148\tINFO worker.py:1538 -- Started a local Ray instance.\n"
     ]
    },
    {
     "data": {
      "text/html": [
       "<div>\n",
       "    <div style=\"margin-left: 50px;display: flex;flex-direction: row;align-items: center\">\n",
       "        <h3 style=\"color: var(--jp-ui-font-color0)\">Ray</h3>\n",
       "        <svg version=\"1.1\" id=\"ray\" width=\"3em\" viewBox=\"0 0 144.5 144.6\" style=\"margin-left: 3em;margin-right: 3em\">\n",
       "            <g id=\"layer-1\">\n",
       "                <path fill=\"#00a2e9\" class=\"st0\" d=\"M97.3,77.2c-3.8-1.1-6.2,0.9-8.3,5.1c-3.5,6.8-9.9,9.9-17.4,9.6S58,88.1,54.8,81.2c-1.4-3-3-4-6.3-4.1\n",
       "                    c-5.6-0.1-9.9,0.1-13.1,6.4c-3.8,7.6-13.6,10.2-21.8,7.6C5.2,88.4-0.4,80.5,0,71.7c0.1-8.4,5.7-15.8,13.8-18.2\n",
       "                    c8.4-2.6,17.5,0.7,22.3,8c1.3,1.9,1.3,5.2,3.6,5.6c3.9,0.6,8,0.2,12,0.2c1.8,0,1.9-1.6,2.4-2.8c3.5-7.8,9.7-11.8,18-11.9\n",
       "                    c8.2-0.1,14.4,3.9,17.8,11.4c1.3,2.8,2.9,3.6,5.7,3.3c1-0.1,2,0.1,3,0c2.8-0.5,6.4,1.7,8.1-2.7s-2.3-5.5-4.1-7.5\n",
       "                    c-5.1-5.7-10.9-10.8-16.1-16.3C84,38,81.9,37.1,78,38.3C66.7,42,56.2,35.7,53,24.1C50.3,14,57.3,2.8,67.7,0.5\n",
       "                    C78.4-2,89,4.7,91.5,15.3c0.1,0.3,0.1,0.5,0.2,0.8c0.7,3.4,0.7,6.9-0.8,9.8c-1.7,3.2-0.8,5,1.5,7.2c6.7,6.5,13.3,13,19.8,19.7\n",
       "                    c1.8,1.8,3,2.1,5.5,1.2c9.1-3.4,17.9-0.6,23.4,7c4.8,6.9,4.6,16.1-0.4,22.9c-5.4,7.2-14.2,9.9-23.1,6.5c-2.3-0.9-3.5-0.6-5.1,1.1\n",
       "                    c-6.7,6.9-13.6,13.7-20.5,20.4c-1.8,1.8-2.5,3.2-1.4,5.9c3.5,8.7,0.3,18.6-7.7,23.6c-7.9,5-18.2,3.8-24.8-2.9\n",
       "                    c-6.4-6.4-7.4-16.2-2.5-24.3c4.9-7.8,14.5-11,23.1-7.8c3,1.1,4.7,0.5,6.9-1.7C91.7,98.4,98,92.3,104.2,86c1.6-1.6,4.1-2.7,2.6-6.2\n",
       "                    c-1.4-3.3-3.8-2.5-6.2-2.6C99.8,77.2,98.9,77.2,97.3,77.2z M72.1,29.7c5.5,0.1,9.9-4.3,10-9.8c0-0.1,0-0.2,0-0.3\n",
       "                    C81.8,14,77,9.8,71.5,10.2c-5,0.3-9,4.2-9.3,9.2c-0.2,5.5,4,10.1,9.5,10.3C71.8,29.7,72,29.7,72.1,29.7z M72.3,62.3\n",
       "                    c-5.4-0.1-9.9,4.2-10.1,9.7c0,0.2,0,0.3,0,0.5c0.2,5.4,4.5,9.7,9.9,10c5.1,0.1,9.9-4.7,10.1-9.8c0.2-5.5-4-10-9.5-10.3\n",
       "                    C72.6,62.3,72.4,62.3,72.3,62.3z M115,72.5c0.1,5.4,4.5,9.7,9.8,9.9c5.6-0.2,10-4.8,10-10.4c-0.2-5.4-4.6-9.7-10-9.7\n",
       "                    c-5.3-0.1-9.8,4.2-9.9,9.5C115,72.1,115,72.3,115,72.5z M19.5,62.3c-5.4,0.1-9.8,4.4-10,9.8c-0.1,5.1,5.2,10.4,10.2,10.3\n",
       "                    c5.6-0.2,10-4.9,9.8-10.5c-0.1-5.4-4.5-9.7-9.9-9.6C19.6,62.3,19.5,62.3,19.5,62.3z M71.8,134.6c5.9,0.2,10.3-3.9,10.4-9.6\n",
       "                    c0.5-5.5-3.6-10.4-9.1-10.8c-5.5-0.5-10.4,3.6-10.8,9.1c0,0.5,0,0.9,0,1.4c-0.2,5.3,4,9.8,9.3,10\n",
       "                    C71.6,134.6,71.7,134.6,71.8,134.6z\"/>\n",
       "            </g>\n",
       "        </svg>\n",
       "        <table>\n",
       "            <tr>\n",
       "                <td style=\"text-align: left\"><b>Python version:</b></td>\n",
       "                <td style=\"text-align: left\"><b>3.9.7</b></td>\n",
       "            </tr>\n",
       "            <tr>\n",
       "                <td style=\"text-align: left\"><b>Ray version:</b></td>\n",
       "                <td style=\"text-align: left\"><b> 2.2.0</b></td>\n",
       "            </tr>\n",
       "            \n",
       "        </table>\n",
       "    </div>\n",
       "</div>\n"
      ],
      "text/plain": [
       "RayContext(dashboard_url='', python_version='3.9.7', ray_version='2.2.0', ray_commit='b6af0887ee5f2e460202133791ad941a41f15beb', address_info={'node_ip_address': '127.0.0.1', 'raylet_ip_address': '127.0.0.1', 'redis_address': None, 'object_store_address': 'tcp://127.0.0.1:63887', 'raylet_socket_name': 'tcp://127.0.0.1:65369', 'webui_url': '', 'session_dir': 'C:\\\\Users\\\\joelp\\\\AppData\\\\Local\\\\Temp\\\\ray\\\\session_2023-02-23_17-29-19_275197_11044', 'metrics_export_port': 64018, 'gcs_address': '127.0.0.1:64945', 'address': '127.0.0.1:64945', 'dashboard_agent_listen_port': 52365, 'node_id': '9c0df7571322fafa16aa1d88bb4b07b5f2d1f60a259df47719894291'})"
      ]
     },
     "execution_count": 101,
     "metadata": {},
     "output_type": "execute_result"
    }
   ],
   "source": [
    "import ray\n",
    "\n",
    "ray.init()\n"
   ]
  },
  {
   "cell_type": "markdown",
   "id": "5d9d213b-96f3-4089-bc85-1163d8b44aad",
   "metadata": {},
   "source": [
    "as a very simple example on how ray works let's create a dummy function that just wastes time (like a normal function would do). This function just uses the sleep function for sitting idle and the time (in seconds) it takes is a parameter and returns a simple string"
   ]
  },
  {
   "cell_type": "code",
   "execution_count": 103,
   "id": "b301c2a7-dd1d-4b4c-a3b0-8efaf4b347ae",
   "metadata": {
    "tags": []
   },
   "outputs": [
    {
     "name": "stdout",
     "output_type": "stream",
     "text": [
      "The time spent was: 9.30854320526123\n",
      "The time expected of sleep would be: 9.200000000000003\n",
      "Sleep time 1.5\n",
      "Sleep time 0.1\n",
      "Sleep time 0.2\n",
      "Sleep time 0.1\n",
      "Sleep time 0.5\n",
      "Sleep time 0.7\n",
      "Sleep time 0.5\n",
      "Sleep time 0.4\n",
      "Sleep time 1.5\n",
      "Sleep time 1.3\n",
      "Sleep time 0.7\n",
      "Sleep time 0.6\n",
      "Sleep time 0.3\n",
      "Sleep time 0.8\n"
     ]
    }
   ],
   "source": [
    "import time\n",
    "\n",
    "def dummy(sleep):\n",
    "    time.sleep(sleep)\n",
    "    return f\"Sleep time {sleep}\"\n",
    "\n",
    "sleep_times = [1.5, 0.1, 0.2, 0.1, 0.5, 0.7, 0.5, 0.4, 1.5, 1.3, 0.7, 0.6, 0.3, 0.8]\n",
    "\n",
    "t1=time.time()\n",
    "results=[dummy(st) for st in sleep_times]\n",
    "t2=time.time()\n",
    "\n",
    "print(\"The time spent was:\", t2-t1)\n",
    "print(\"The time expected of sleep would be:\", sum(sleep_times))\n",
    "for res in results: print(res)"
   ]
  },
  {
   "cell_type": "markdown",
   "id": "50fa09da-568e-4d11-b46d-04b992a0ab7e",
   "metadata": {},
   "source": [
    "now we can parallelize this with ray by decorating the function as a remote function (with `@ray.remote`), so ray will make use of resources avaliable to assign each task to each logical unit. and if there are more tasks than processing units, ray will manage the process and as soon as a new resource becomes available, it will be assigned.\n",
    "\n",
    "The results from a remote function may have not been completed, they are a `future`, which means a promise that the result will become ready soon. to actually get the result we have use the method `ray.get()`\n",
    "\n",
    "So to parallelize our dummy problem wi will reqrite our code like this"
   ]
  },
  {
   "cell_type": "code",
   "execution_count": 105,
   "id": "f262dc89-8d65-49f7-8abc-6954d751c718",
   "metadata": {
    "tags": []
   },
   "outputs": [
    {
     "name": "stdout",
     "output_type": "stream",
     "text": [
      "The time spent for dispatching the tasks: 0.0050013065338134766\n",
      "The time spent for getting the results: 2.853633165359497\n",
      "The total time spent: 2.8586344718933105\n",
      "The order of the results is:\n",
      "Sleep time 1.5\n",
      "Sleep time 0.1\n",
      "Sleep time 0.2\n",
      "Sleep time 0.1\n",
      "Sleep time 0.5\n",
      "Sleep time 0.7\n",
      "Sleep time 0.5\n",
      "Sleep time 0.4\n",
      "Sleep time 1.5\n",
      "Sleep time 1.3\n",
      "Sleep time 0.7\n",
      "Sleep time 0.6\n",
      "Sleep time 0.3\n",
      "Sleep time 0.8\n"
     ]
    }
   ],
   "source": [
    "@ray.remote\n",
    "def dummy(sleep):\n",
    "    time.sleep(sleep)\n",
    "    return f\"Sleep time {sleep}\"\n",
    "\n",
    "\n",
    "t1=time.time()\n",
    "res_futures=[dummy.remote(st) for st in sleep_times]\n",
    "t2=time.time()\n",
    "results = ray.get(res_futures) \n",
    "t3=time.time()\n",
    "print(\"The time spent for dispatching the tasks:\", t2-t1)\n",
    "print(\"The time spent for getting the results:\", t3-t2)\n",
    "print(\"The total time spent:\", t3-t1)\n",
    "print(\"The order of the results is:\")\n",
    "for res in results: print(res)\n"
   ]
  },
  {
   "cell_type": "markdown",
   "id": "c611daf9-24e2-44c6-b350-2bfa6220cc64",
   "metadata": {},
   "source": [
    "### Using Distributed processing for speeding up similarity calculations\n",
    "\n",
    "We will rewrite slightly our cosine similarity so that it may be easier to process and integrate with our previous code. The only thing is that this function will ruturn not only the similarity but a tuple of the indexes of the two documents involved. This function is not going to be declared remote.\n",
    "\n",
    "What will be declared remote is a new function that will encompass the inside loop of the `text_similarities`, so that each core will receive one document as its basis and process its similarities to all the others"
   ]
  },
  {
   "cell_type": "code",
   "execution_count": 106,
   "id": "22e9b115-c997-4be8-a5e0-da24dcf7ddf8",
   "metadata": {
    "tags": []
   },
   "outputs": [],
   "source": [
    "def cos_sim_ray(idx1, idx2, words_text_sets, all_tfs, idfs):\n",
    "    text1= words_text_sets[idx1]\n",
    "    text2= words_text_sets[idx2]\n",
    "    tfs1=all_tfs[idx1]\n",
    "    tfs2=all_tfs[idx2]\n",
    "\n",
    "    common_words = text1 & text2\n",
    "    if len(common_words)==0: return 0.0, (idx1, idx2)\n",
    "    common_tfidfs = [tfs1[w]*tfs2[w]*idfs[w]*idfs[w] for w in common_words]\n",
    "\n",
    "    #squared tfidfs\n",
    "    tfidfs2_1=np.array([tfs1[w]*idfs[w] for w in text1])**2\n",
    "    tfidfs2_2=np.array([tfs2[w]*idfs[w] for w in text2])**2\n",
    "\n",
    "    return sum(common_tfidfs)/(np.sqrt(tfidfs2_1.sum())*np.sqrt(tfidfs2_2.sum())), (idx1, idx2)\n",
    "\n",
    "@ray.remote\n",
    "def text_row_sims(i, words_text_sets, all_tfs, idfs):\n",
    "    N=len(words_text_sets)\n",
    "    sims=[]\n",
    "    for j in range(i+1, N):\n",
    "        res = cos_sim_ray(i, j, words_text_sets, all_tfs, idfs)\n",
    "        sims.append(res)\n",
    "    return sims\n",
    "\n"
   ]
  },
  {
   "cell_type": "markdown",
   "id": "b33a4e1a-ddd2-4652-a6f8-e5189195e2d6",
   "metadata": {},
   "source": [
    "Finally the most important function, the base call that is going to distribute the load to all the workers. As before we will call the remote function for each base document\n",
    "\n",
    "Yet one further aspect must be referred to. Sending the `word text sets`, the `idfs` and the `tfs` to each worker (that amay not even be on the same machine, might be a very time consuming process, as these resources will be common to all the distributed processing. As such ray allows the creation of copies of those resources in a common shared spaced that can be accessed thorgh special references. These references are then used instead of the actual parameters to the remote function, that is then able to use them without actually being continuously receiving them. The only thing that the remote function receives is a reference that will allow the access to this resource"
   ]
  },
  {
   "cell_type": "code",
   "execution_count": 107,
   "id": "cade9e8a-ec67-4e53-add7-4e23c51a2853",
   "metadata": {
    "tags": []
   },
   "outputs": [],
   "source": [
    "from functools import reduce\n",
    "\n",
    "def text_similarities_ray(words_text_sets, all_tfs, idfs):\n",
    "    N=len(words_text_sets)\n",
    "    r_wts=ray.put(words_text_sets)\n",
    "    r_tfs=ray.put(all_tfs)\n",
    "    r_idfs=ray.put(idfs)\n",
    "    res=[]\n",
    "    for i in range(N-1):\n",
    "        res_futures=text_row_sims.remote(i, r_wts, r_tfs, r_idfs)\n",
    "        res.append(res_futures)\n",
    "    sims=ray.get(res)\n",
    "    return reduce(lambda a,b: a+b, sims)"
   ]
  },
  {
   "cell_type": "markdown",
   "id": "fcca481f-0414-4beb-80d2-11fc92054c6d",
   "metadata": {},
   "source": [
    "Let's confirm that the results are the same as before"
   ]
  },
  {
   "cell_type": "code",
   "execution_count": 108,
   "id": "0bd36bd7-9e6f-41bf-bfe3-128f992dfaa3",
   "metadata": {
    "tags": []
   },
   "outputs": [
    {
     "name": "stdout",
     "output_type": "stream",
     "text": [
      "(6, 13) has similarity:  0.6404\n",
      "(10, 13) has similarity:  0.4919\n",
      "(6, 10) has similarity:  0.4650\n",
      "(13, 15) has similarity:  0.3999\n",
      "(2, 18) has similarity:  0.2704\n"
     ]
    }
   ],
   "source": [
    "sims=text_similarities_ray(words_text_sets[:20], all_tfs, idfs)\n",
    "sims = sorted(sims, reverse=True)\n",
    "for J, text_pair in sims[:5]: \n",
    "    print( \"%s has similarity: %7.4f\" % (text_pair, J))\n"
   ]
  },
  {
   "cell_type": "markdown",
   "id": "7ffb88e5-89f7-41b9-8b41-5581615ced92",
   "metadata": {},
   "source": [
    "#### Exercises \n",
    "1. Measure the performance of this approach by testing 10, 20,...,100 documents\n",
    "2. Can you explain the performance differences?\n",
    "3. Plot the (ndocs, time) graph and comment the results\n",
    "4. in what situations would this approach be clearly better than the single processing?"
   ]
  },
  {
   "cell_type": "code",
   "execution_count": 110,
   "id": "fc5d6d9c-ef02-4647-89bd-be7975e94044",
   "metadata": {
    "tags": []
   },
   "outputs": [
    {
     "name": "stdout",
     "output_type": "stream",
     "text": [
      " 10 -->   4.0345 seconds\n",
      " 20 -->   7.2660 seconds\n",
      " 30 -->  11.4784 seconds\n",
      " 40 -->  13.9667 seconds\n",
      " 50 -->  17.5543 seconds\n",
      " 60 -->  21.2905 seconds\n",
      " 70 -->  25.6193 seconds\n",
      " 80 -->  27.5980 seconds\n",
      " 90 -->  31.5137 seconds\n",
      "100 -->  34.3940 seconds\n"
     ]
    }
   ],
   "source": [
    "# !!!!!! Solução problema 1 !!!!!!!!!!!!!!\n",
    "ndocs=range(10, 101, 10)\n",
    "times = []\n",
    "#your code here\n",
    "for n in ndocs:\n",
    "    t1=time.time()\n",
    "    sims = text_similarities_ray(words_text_sets[:n], all_tfs, idfs)\n",
    "    t2=time.time()\n",
    "    print(\"%3d --> %8.4f seconds\" % (n, t2-t1)) \n",
    "    times.append(t2-t1)"
   ]
  },
  {
   "cell_type": "code",
   "execution_count": 111,
   "id": "8aef67d2-b586-4066-bdc1-a0c0c99ff83c",
   "metadata": {
    "tags": []
   },
   "outputs": [
    {
     "data": {
      "text/plain": [
       "Text(0.5, 1.0, 'NDocs VS Time Taken')"
      ]
     },
     "execution_count": 111,
     "metadata": {},
     "output_type": "execute_result"
    },
    {
     "data": {
      "image/png": "[encoded data removed]",
      "text/plain": [
       "<Figure size 640x480 with 1 Axes>"
      ]
     },
     "metadata": {},
     "output_type": "display_data"
    }
   ],
   "source": [
    "# !!!!!! Solução problema 3 !!!!!!!!!!!!!!\n",
    "plt.plot(ndocs, times)\n",
    "plt.grid()\n",
    "plt.title(\"NDocs VS Time Taken\")\n",
    "#your code here"
   ]
  },
  {
   "cell_type": "markdown",
   "id": "6ccd8658-2c25-48a9-a7d2-263be404b7c0",
   "metadata": {},
   "source": [
    "## A local Alternative to Ray - using Python's multiprocessing \n",
    "\n",
    "the `multiprocessing` library allows for fast local processing taking advantage of many cores a machine may have, whithout the overload of ray for handling  much more complex situations \n",
    "\n",
    "The Multiprocessing module works by creating a pool of processes that can be run asynchronously and we access these resources by mapping each data item to each process. As such we will use an actual `map` function, that takes two arguments: a function and a list containing the data to be processed\n",
    "\n",
    "Here is a simple example with the `dummy` sleep function"
   ]
  },
  {
   "cell_type": "code",
   "execution_count": 113,
   "id": "6ca03e10-5502-4440-9db2-141945b7f3ae",
   "metadata": {
    "tags": []
   },
   "outputs": [
    {
     "name": "stdout",
     "output_type": "stream",
     "text": [
      "The time spent for distributing the load: 2.8458008766174316\n"
     ]
    }
   ],
   "source": [
    "import time\n",
    "def dummy(sleep):\n",
    "    time.sleep(sleep)\n",
    "    return f\"Sleep time {sleep}\"\n",
    "\n",
    "from multiprocessing.pool import ThreadPool as Pool\n",
    "\n",
    "sleep_times = [1.5, 0.1, 0.2, 0.1, 0.5, 0.7, 0.5, 0.4, 1.5, 1.3, 0.7, 0.6, 0.3, 0.8]\n",
    "t1=time.time()\n",
    "with Pool(4) as p:\n",
    "    res = p.map(dummy, sleep_times)\n",
    "t2=time.time()\n",
    "print(\"The time spent for distributing the load:\", t2-t1)\n"
   ]
  },
  {
   "cell_type": "markdown",
   "id": "f245e017-0260-426b-9c0c-310cb74258f6",
   "metadata": {},
   "source": [
    "Now to apply this resource to our problem we need to define our problem as a mappoing problem, taking note that the map only accepts one argument and our similirty function actually requires 4 arguments (the row to process, the full set of words, the tfs and idfs for all words)\n",
    "\n",
    "Two alternatives would be possible:\n",
    "* Use global variables - which would eventually be solved by the multiprocessing environment creating local copies\n",
    "* Redefine our list of arguments, where each element is tuple constituted of all the required data which is later unpacked by the distributed function\n",
    "\n",
    "We will follow the second approach which can be trivially implemented by slightly rewriting the involved functions\n"
   ]
  },
  {
   "cell_type": "code",
   "execution_count": 126,
   "id": "e1b96645-54d8-4faf-aa26-3b5ce19928ee",
   "metadata": {
    "tags": []
   },
   "outputs": [],
   "source": [
    "def text_row_sims_mp(args):\n",
    "    i, words_text_sets, all_tfs,idfs= args\n",
    "    N=len(words_text_sets)\n",
    "    sims=[]\n",
    "    for j in range(i+1, N):\n",
    "        res = cos_sim_ray(i, j, words_text_sets, all_tfs, idfs)\n",
    "        sims.append(res)\n",
    "    return sims\n",
    "\n",
    "\n",
    "\n",
    "def text_similarities_mp(words_text_sets, all_tfs, idfs):\n",
    "    N=len(words_text_sets)\n",
    "    #here we define the new arguments\n",
    "    args=[(i,words_text_sets,all_tfs,idfs)  for i in range(N-1)]\n",
    "        \n",
    "    with Pool(5) as p:\n",
    "        sims=p.map(text_row_sims_mp, args)\n",
    "    return reduce(lambda a,b: a+b, sims)"
   ]
  },
  {
   "cell_type": "code",
   "execution_count": 121,
   "id": "bb12f4c6-e56b-49be-a5be-7474fc7f9dd9",
   "metadata": {
    "tags": []
   },
   "outputs": [
    {
     "name": "stdout",
     "output_type": "stream",
     "text": [
      "(6, 13) has similarity:  0.6404\n",
      "(10, 13) has similarity:  0.4919\n",
      "(6, 10) has similarity:  0.4650\n",
      "(13, 15) has similarity:  0.3999\n",
      "(2, 18) has similarity:  0.2704\n"
     ]
    }
   ],
   "source": [
    "sims = text_similarities_mp(words_text_sets[:20], all_tfs, idfs)\n",
    "sims = sorted(sims, reverse=True)\n",
    "for J, text_pair in sims[:5]: \n",
    "    print( \"%s has similarity: %7.4f\" % (text_pair, J))\n"
   ]
  },
  {
   "cell_type": "markdown",
   "id": "7bba3977-b72b-4b4e-80b4-77787194e537",
   "metadata": {},
   "source": [
    "#### Exercises\n",
    "1. Measure and plot the performance of this approach by testing 10, 20,...,100 documents and compare it to the other approaches"
   ]
  },
  {
   "cell_type": "code",
   "execution_count": 125,
   "id": "8c2de39b-0645-4d8f-a586-f78cf95152f7",
   "metadata": {
    "tags": []
   },
   "outputs": [
    {
     "name": "stdout",
     "output_type": "stream",
     "text": [
      " 10 -->   0.0250 seconds\n",
      " 20 -->   0.0590 seconds\n",
      " 30 -->   0.0970 seconds\n",
      " 40 -->   0.1420 seconds\n",
      " 50 -->   0.2013 seconds\n",
      " 60 -->   0.3330 seconds\n",
      " 70 -->   0.4450 seconds\n",
      " 80 -->   0.5276 seconds\n",
      " 90 -->   0.6263 seconds\n",
      "100 -->   0.8544 seconds\n"
     ]
    }
   ],
   "source": [
    "#your code here\n",
    "ndocs=range(10, 101, 10)\n",
    "times = []\n",
    "#your code here\n",
    "for n in ndocs:\n",
    "    t1=time.time()\n",
    "    sims = text_similarities_mp(words_text_sets[:n], all_tfs, idfs)\n",
    "    t2=time.time()\n",
    "    print(\"%3d --> %8.4f seconds\" % (n, t2-t1)) \n",
    "    times.append(t2-t1)"
   ]
  },
  {
   "cell_type": "code",
   "execution_count": 127,
   "id": "137c44bd-ab8d-4682-93ac-8c3ccd3fbf1f",
   "metadata": {
    "tags": []
   },
   "outputs": [
    {
     "name": "stdout",
     "output_type": "stream",
     "text": [
      "Pools=4\n"
     ]
    },
    {
     "data": {
      "image/png": "[encoded data removed]",
      "text/plain": [
       "<Figure size 640x480 with 1 Axes>"
      ]
     },
     "metadata": {},
     "output_type": "display_data"
    }
   ],
   "source": [
    "plt.plot(ndocs, times)\n",
    "plt.title(\"NDocs VS Times\")\n",
    "print(\"Pools=4\")"
   ]
  },
  {
   "cell_type": "code",
   "execution_count": 128,
   "id": "1f284270-c3cd-4f2e-8742-7aff32b0893b",
   "metadata": {
    "tags": []
   },
   "outputs": [
    {
     "name": "stdout",
     "output_type": "stream",
     "text": [
      " 10 -->   0.0271 seconds\n",
      " 20 -->   0.0570 seconds\n",
      " 30 -->   0.1010 seconds\n",
      " 40 -->   0.1430 seconds\n",
      " 50 -->   0.2060 seconds\n",
      " 60 -->   0.3124 seconds\n",
      " 70 -->   0.4234 seconds\n",
      " 80 -->   0.5259 seconds\n",
      " 90 -->   0.6628 seconds\n",
      "100 -->   0.7964 seconds\n"
     ]
    }
   ],
   "source": [
    "#your code here\n",
    "ndocs=range(10, 101, 10)\n",
    "times = []\n",
    "#your code here\n",
    "for n in ndocs:\n",
    "    t1=time.time()\n",
    "    sims = text_similarities_mp(words_text_sets[:n], all_tfs, idfs)\n",
    "    t2=time.time()\n",
    "    print(\"%3d --> %8.4f seconds\" % (n, t2-t1)) \n",
    "    times.append(t2-t1)"
   ]
  },
  {
   "cell_type": "code",
   "execution_count": 129,
   "id": "5c4e1b80-00b3-4339-a5dc-3334944fbe80",
   "metadata": {
    "tags": []
   },
   "outputs": [
    {
     "name": "stdout",
     "output_type": "stream",
     "text": [
      "Pools=5\n"
     ]
    },
    {
     "data": {
      "image/png": "[encoded data removed]",
      "text/plain": [
       "<Figure size 640x480 with 1 Axes>"
      ]
     },
     "metadata": {},
     "output_type": "display_data"
    }
   ],
   "source": [
    "plt.plot(ndocs, times)\n",
    "plt.title(\"NDocs VS Times\")\n",
    "print(\"Pools=5\")"
   ]
  },
  {
   "cell_type": "code",
   "execution_count": null,
   "id": "6c79101b-2bfa-4238-8b3e-9557aa007a58",
   "metadata": {},
   "outputs": [],
   "source": []
  }
 ],
 "metadata": {
  "kernelspec": {
   "display_name": "Python 3 (ipykernel)",
   "language": "python",
   "name": "python3"
  },
  "language_info": {
   "codemirror_mode": {
    "name": "ipython",
    "version": 3
   },
   "file_extension": ".py",
   "mimetype": "text/x-python",
   "name": "python",
   "nbconvert_exporter": "python",
   "pygments_lexer": "ipython3",
   "version": "3.9.7"
  }
 },
 "nbformat": 4,
 "nbformat_minor": 5
}
