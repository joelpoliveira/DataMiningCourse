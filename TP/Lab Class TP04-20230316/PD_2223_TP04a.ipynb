{
 "cells": [
  {
   "cell_type": "markdown",
   "metadata": {},
   "source": [
    "# Prospecção de Dados - Data Mining - DI/FCUL 2022/2023\n",
    "\n",
    "## Lab class TP04a\n",
    "\n",
    "# Semi Supervised Learning (part I)\n",
    "\n",
    "*A Semi Supervised Learning Tutorial by Andre Falcao (DI/FCUL 2021-2022)*\n",
    "\n",
    "### Summary\n",
    "\n",
    "1. Computing Support and Confidence\n",
    "2. Identifying Itemsets with Minimum Support\n",
    "3. Computing Rules\n",
    "\n",
    "What follows is a simple approach devised for showing the essentials of Semi-supervised learning. What is below is a full working example and we can compute all frequent itemsets in an efficient way, but it is **not** the apriori algorithm\n"
   ]
  },
  {
   "cell_type": "markdown",
   "metadata": {},
   "source": [
    "## Computing Support and Confidence\n",
    "\n",
    "\n",
    "Here a transaction is a set of elements, which should be quite adequate and efficient for pattern matching\n",
    "\n",
    "Please observe how this data set is structured in Python. It starts as a List of Lists (one element for transaction) which is the transformed in a list of sets. Each set is one transaction. Sets are very optimized for searching and common set operations like Union, Intersection and Subtraction"
   ]
  },
  {
   "cell_type": "code",
   "execution_count": 10,
   "metadata": {
    "tags": []
   },
   "outputs": [],
   "source": [
    "from time import time, time_ns"
   ]
  },
  {
   "cell_type": "code",
   "execution_count": 1,
   "metadata": {
    "tags": []
   },
   "outputs": [],
   "source": [
    "import numpy as np\n",
    "transactions = [['Milk', 'Onion', 'Nutmeg', 'Kidney Beans', 'Eggs', 'Yogurt'],\n",
    "           ['Dill', 'Onion', 'Nutmeg', 'Kidney Beans', 'Eggs', 'Yogurt'],\n",
    "           ['Milk', 'Apple', 'Kidney Beans', 'Eggs'],\n",
    "           ['Milk', 'Unicorn', 'Corn', 'Kidney Beans', 'Yogurt'],\n",
    "           ['Corn', 'Onion', 'Onion', 'Kidney Beans', 'Ice cream', 'Eggs']]\n",
    "tr_sets=[set(tr) for tr in transactions]\n"
   ]
  },
  {
   "cell_type": "code",
   "execution_count": 4,
   "metadata": {
    "tags": []
   },
   "outputs": [
    {
     "data": {
      "text/plain": [
       "[{'Eggs', 'Kidney Beans', 'Milk', 'Nutmeg', 'Onion', 'Yogurt'},\n",
       " {'Dill', 'Eggs', 'Kidney Beans', 'Nutmeg', 'Onion', 'Yogurt'},\n",
       " {'Apple', 'Eggs', 'Kidney Beans', 'Milk'},\n",
       " {'Corn', 'Kidney Beans', 'Milk', 'Unicorn', 'Yogurt'},\n",
       " {'Corn', 'Eggs', 'Ice cream', 'Kidney Beans', 'Onion'}]"
      ]
     },
     "execution_count": 4,
     "metadata": {},
     "output_type": "execute_result"
    }
   ],
   "source": [
    "tr_sets"
   ]
  },
  {
   "cell_type": "markdown",
   "metadata": {},
   "source": [
    "### Processing support\n",
    "\n",
    "Support is the actual count of occurrences of a set of items in all transactions. A simple way of computing support for any data set modelled as above would be to go for each transaction and verify if the items that we are looking for are a subset"
   ]
  },
  {
   "cell_type": "code",
   "execution_count": 11,
   "metadata": {
    "tags": []
   },
   "outputs": [],
   "source": [
    "def getSupport(items, Trs):\n",
    "    t = time_ns()\n",
    "    N=len(Trs)\n",
    "    idxs=range(N)\n",
    "    res=set(idxs)\n",
    "    for elem in items:\n",
    "        finds=[idx for idx in idxs if elem in Trs[idx]]\n",
    "        res = res & set(finds)\n",
    "    print(time_ns() - t)\n",
    "    return len(res)/N\n"
   ]
  },
  {
   "cell_type": "markdown",
   "metadata": {},
   "source": [
    "Testing the function:"
   ]
  },
  {
   "cell_type": "code",
   "execution_count": 12,
   "metadata": {
    "tags": []
   },
   "outputs": [
    {
     "name": "stdout",
     "output_type": "stream",
     "text": [
      "0\n",
      "Support for Milk: 0.6\n",
      "0\n",
      "Support for Milk & Eggs: 0.4\n"
     ]
    }
   ],
   "source": [
    "print(\"Support for Milk:\", getSupport(set([\"Milk\"]), tr_sets))\n",
    "print(\"Support for Milk & Eggs:\", getSupport(set([\"Milk\", \"Eggs\"]), tr_sets))"
   ]
  },
  {
   "cell_type": "markdown",
   "metadata": {},
   "source": [
    "Actually this function is not particularly efficient (**Discuss why**)\n",
    "\n",
    "A better approach is using the is subset method of the set data type in Python (Note that we replace the original function)"
   ]
  },
  {
   "cell_type": "code",
   "execution_count": 13,
   "metadata": {
    "tags": []
   },
   "outputs": [],
   "source": [
    "def getSupport(items, Trs):\n",
    "    N=len(Trs)\n",
    "    R=[i for i in range(N) if items.issubset(Trs[i])]\n",
    "    return len(R)/N"
   ]
  },
  {
   "cell_type": "code",
   "execution_count": 14,
   "metadata": {
    "tags": []
   },
   "outputs": [
    {
     "name": "stdout",
     "output_type": "stream",
     "text": [
      "Support for Milk: 0.6\n",
      "Support for Milk & Eggs: 0.4\n"
     ]
    }
   ],
   "source": [
    "print(\"Support for Milk:\", getSupport(set([\"Milk\"]), tr_sets))\n",
    "print(\"Support for Milk & Eggs:\", getSupport(set([\"Milk\", \"Eggs\"]), tr_sets))"
   ]
  },
  {
   "cell_type": "markdown",
   "metadata": {},
   "source": [
    "One further function we will need is `getItems()` that, for a list of transactions will return a set with all unique elements presented"
   ]
  },
  {
   "cell_type": "code",
   "execution_count": 15,
   "metadata": {
    "tags": []
   },
   "outputs": [],
   "source": [
    "def getAllItems(Trs):\n",
    "    res=set()\n",
    "    for t in Trs: res=res | t\n",
    "    return res\n"
   ]
  },
  {
   "cell_type": "code",
   "execution_count": 16,
   "metadata": {
    "tags": []
   },
   "outputs": [
    {
     "name": "stdout",
     "output_type": "stream",
     "text": [
      "These are the unique items in the initial set of transactions\n",
      "\t ->  Corn\n",
      "\t ->  Onion\n",
      "\t ->  Apple\n",
      "\t ->  Yogurt\n",
      "\t ->  Kidney Beans\n",
      "\t ->  Dill\n",
      "\t ->  Eggs\n",
      "\t ->  Ice cream\n",
      "\t ->  Nutmeg\n",
      "\t ->  Unicorn\n",
      "\t ->  Milk\n"
     ]
    }
   ],
   "source": [
    "print(\"These are the unique items in the initial set of transactions\")\n",
    "for item in getAllItems(tr_sets):\n",
    "    print(\"\\t -> \", item)"
   ]
  },
  {
   "cell_type": "markdown",
   "metadata": {},
   "source": [
    "And we can also compute confidence between item sets (X and Y) very easily using the known equivalence between confidence and support:\n",
    "\n",
    "$confidence(X\\implies Y) = \\cfrac{support(X U Y)}{support(X)}$\n",
    "\n",
    "And using that principle we can compute it in a simple function that receives as arguments X and Y as well as the list of transactions. "
   ]
  },
  {
   "cell_type": "code",
   "execution_count": 17,
   "metadata": {
    "tags": []
   },
   "outputs": [],
   "source": [
    "def getConfidence(X, Y, Trs):\n",
    "    # confidence(X=>Y) = support(X U Y)/support(X)\n",
    "    supp_X=getSupport(X, Trs)\n",
    "    supp_XUY=getSupport(X|Y, Trs)\n",
    "    return supp_XUY/supp_X\n"
   ]
  },
  {
   "cell_type": "code",
   "execution_count": 18,
   "metadata": {
    "tags": []
   },
   "outputs": [
    {
     "name": "stdout",
     "output_type": "stream",
     "text": [
      "Confidence for Milk => Eggs:0.6667\n"
     ]
    }
   ],
   "source": [
    "conf_me=getConfidence({\"Milk\"}, {\"Eggs\"}, tr_sets)\n",
    "print(\"Confidence for Milk => Eggs:%6.4f\" % conf_me)\n"
   ]
  },
  {
   "cell_type": "markdown",
   "metadata": {},
   "source": [
    "#### Exercise \n",
    "\n",
    "Implement two functions: \n",
    "* `getLift`\n",
    "* `getConviction `\n",
    "\n",
    "that will calculate the Conviction and the Lift\n",
    "\n",
    "Where\n",
    "\n",
    "$\n",
    "Lift(A\\implies B) =\\frac{Support(A \\cup B)}{Support(A)Support(B)}\n",
    "$\n",
    "\n",
    "\n",
    "$\n",
    "Conviction(A\\implies B) =\\frac{1-Support(B)}{1-Confidence(A\\implies B)}\n",
    "$\n",
    "\n"
   ]
  },
  {
   "cell_type": "code",
   "execution_count": 45,
   "metadata": {
    "tags": []
   },
   "outputs": [],
   "source": [
    "#solution\n",
    "def getLift(X, Y, Trs):\n",
    "    #do it here!\n",
    "    supp_XuY = getSupport(X|Y, Trs)\n",
    "    supp_X = getSupport(X, Trs)\n",
    "    supp_Y = getSupport(Y, Trs)\n",
    "    \n",
    "    try:\n",
    "        return supp_XuY / supp_X / supp_Y\n",
    "    except ZeroDivisionError:\n",
    "        return 0\n",
    "\n",
    "\n",
    "def getConviction(X, Y, Trs):\n",
    "    #do it here!\n",
    "    supp_Y = getSupport(Y, Trs)\n",
    "    conf_XuY = getConfidence(X, Y, Trs)\n",
    "    \n",
    "    try:\n",
    "        return ( 1 - supp_Y ) / ( 1 - conf_XuY )\n",
    "    except ZeroDivisionError:\n",
    "        return np.inf\n",
    "    "
   ]
  },
  {
   "cell_type": "code",
   "execution_count": 29,
   "metadata": {
    "tags": []
   },
   "outputs": [
    {
     "name": "stdout",
     "output_type": "stream",
     "text": [
      "Lift = 1.6666666666666667\n",
      "Conviction = 0\n"
     ]
    }
   ],
   "source": [
    "A=['Yogurt','Corn']\n",
    "B=set(['Milk'])\n",
    "\n",
    "print(\"Lift =\", getLift(set(A), set(B), tr_sets))\n",
    "print(\"Conviction =\", getConviction(set(A), set(B), tr_sets))"
   ]
  },
  {
   "cell_type": "markdown",
   "metadata": {},
   "source": [
    "Now we can test these functions with the transactions we have\n",
    "\n",
    "Now let's compute the Statistics associated to the rule ['Yogurt','Corn'] => ['Milk']"
   ]
  },
  {
   "cell_type": "code",
   "execution_count": 35,
   "metadata": {
    "tags": []
   },
   "outputs": [
    {
     "name": "stdout",
     "output_type": "stream",
     "text": [
      "Support of ['Corn', 'Yogurt'] =  0.200\n",
      "Support of ['Milk'] =  0.600\n",
      "Support of ['Corn', 'Yogurt', 'Milk'] =  0.200\n",
      "Confidence of ['Corn', 'Yogurt'] => ['Milk'] =  1.000\n",
      "Lift of ['Corn', 'Yogurt'] => ['Milk'] = 1.667\n",
      "Conviction of ['Corn', 'Yogurt'] => ['Milk'] = 0.000\n"
     ]
    }
   ],
   "source": [
    "def print_rule_statistics(A, B, tr_sets):\n",
    "    X=set(A)\n",
    "    Y=set(B)\n",
    "    supp_x=getSupport(X,tr_sets)\n",
    "    supp_y=getSupport(Y,tr_sets)\n",
    "    supp_xy=getSupport(X|Y,tr_sets)\n",
    "    conf_xy=getConfidence(X,Y, tr_sets)\n",
    "    print(\"Support of %s = %6.3f\" % (list(X),  supp_x))\n",
    "    print(\"Support of %s = %6.3f\" % (list(Y),  supp_y))\n",
    "    print(\"Support of %s = %6.3f\" % (list(X)+list(Y),  supp_xy))\n",
    "    print(\"Confidence of %s => %s = %6.3f\" % (list(X), list(Y),  conf_xy))\n",
    "    print(f\"Lift of {list(X)} => {list(Y)} = {getLift(X,Y,tr_sets):.3f}\")\n",
    "    print(f\"Conviction of {list(X)} => {list(Y)} = {getConviction(X,Y,tr_sets):.3f}\")\n",
    "\n",
    "A=['Yogurt','Corn']\n",
    "B=set(['Milk'])\n",
    "print_rule_statistics(A, B, tr_sets)\n"
   ]
  },
  {
   "cell_type": "markdown",
   "metadata": {},
   "source": [
    "#### Exercises\n",
    "\n",
    "* Experiment the rule ['Corn'] => ['Onion'] and it's inverse rule ['Onion'] => ['Corn']. Are the results the same? Should they be?"
   ]
  },
  {
   "cell_type": "code",
   "execution_count": 36,
   "metadata": {
    "tags": []
   },
   "outputs": [
    {
     "name": "stdout",
     "output_type": "stream",
     "text": [
      "Support of ['Corn'] =  0.400\n",
      "Support of ['Onion'] =  0.600\n",
      "Support of ['Corn', 'Onion'] =  0.200\n",
      "Confidence of ['Corn'] => ['Onion'] =  0.500\n",
      "Lift of ['Corn'] => ['Onion'] = 0.833\n",
      "Conviction of ['Corn'] => ['Onion'] = 0.800\n"
     ]
    }
   ],
   "source": [
    "#solution\n",
    "print_rule_statistics([\"Corn\"], [\"Onion\"], tr_sets)"
   ]
  },
  {
   "cell_type": "code",
   "execution_count": 37,
   "metadata": {
    "tags": []
   },
   "outputs": [
    {
     "name": "stdout",
     "output_type": "stream",
     "text": [
      "Support of ['Onion'] =  0.600\n",
      "Support of ['Corn'] =  0.400\n",
      "Support of ['Onion', 'Corn'] =  0.200\n",
      "Confidence of ['Onion'] => ['Corn'] =  0.333\n",
      "Lift of ['Onion'] => ['Corn'] = 0.833\n",
      "Conviction of ['Onion'] => ['Corn'] = 0.900\n"
     ]
    }
   ],
   "source": [
    "print_rule_statistics([\"Onion\"], [\"Corn\"], tr_sets)"
   ]
  },
  {
   "cell_type": "markdown",
   "metadata": {},
   "source": [
    "## Computing minimum support itemsets\n",
    "\n",
    "As we know, one of the critical aspects in Association Rule Learning is the determination of minimum support itemsets, that is sets of elements that occur with a minimum support level\n",
    "\n",
    "A brute force approach would check for all possible combinations of unique items, check for their support levels and then output only the ones that are above the minimum support threshold\n"
   ]
  },
  {
   "cell_type": "markdown",
   "metadata": {},
   "source": [
    "### A better way to compute minimum support sets\n",
    "\n",
    "A faster procedure to obtain this is recursive. We start with the items that already have a minimum support level and add other tems that also have minimum support and we proceed until everything is explored and there is nothing to add\n",
    "\n",
    "A trivial recursive algorithm could be defined this way:\n",
    "\n",
    "1. select all items (set S) that have support above a threshold ($S_i>t$) \n",
    "2. add all items from 1. to a pool of of itemsets with minimum support ($P$)\n",
    "\n",
    "makeMinSupportSets:\n",
    "1. Admit set $T_i$ of all items in S except $i$ \n",
    "2. verify if itemset $(i|j)$ is not in $P$: if so compute its support and if it is above or equal the threshold ( $S_{i|j}\\geq t$ ), and there are still items to add, add ${i|j}$ to $P$, call the function again, removing j from the set S\n",
    "\n",
    "This procedure can be easily implemented in one function makeMinSupportSets() which is called recursively and a front end function getMinSupport() which is in charge of calling the main function, pre-processing the inputs and return the list of item combinations that satisfy the requirements \n"
   ]
  },
  {
   "cell_type": "code",
   "execution_count": 38,
   "metadata": {
    "tags": []
   },
   "outputs": [],
   "source": [
    "def makeMinSupportSets(cmb, min_supp, its, trs, supports):\n",
    "    #cmb is the current combination of items\n",
    "    #min_supp is the minimum support required\n",
    "    #its is the set of items not yet tested \n",
    "    #trs is the list for all transactions\n",
    "    #supports corresponds to the list of itemsets with support > min_supp (it is actually a dict)\n",
    "    for it in its-cmb:\n",
    "        sit={it}\n",
    "        new_cmb= cmb | sit\n",
    "        t_new_cmb= tuple(sorted(new_cmb))\n",
    "        \n",
    "        if t_new_cmb not in supports: \n",
    "            supp=getSupport(new_cmb, trs)\n",
    "            #print(t_new_cmb, supp)\n",
    "            \n",
    "            if supp>=min_supp: \n",
    "                supports[t_new_cmb]=supp\n",
    "                its0=its-sit\n",
    "                \n",
    "                if len(its0)>0:\n",
    "                    makeMinSupportSets(new_cmb, min_supp, its0, trs, supports)\n",
    "\n",
    "def getMinSupport(trs, min_supp):\n",
    "    supports={}\n",
    "    all_items=getAllItems(trs)\n",
    "    items=[]\n",
    "    for it in all_items: \n",
    "        supp=getSupport({it},trs)\n",
    "        if supp>min_supp: \n",
    "            items.append(it)\n",
    "    makeMinSupportSets(set(), min_supp, set(items), trs, supports)\n",
    "    return supports"
   ]
  },
  {
   "cell_type": "code",
   "execution_count": null,
   "metadata": {},
   "outputs": [],
   "source": []
  },
  {
   "cell_type": "markdown",
   "metadata": {},
   "source": [
    "Let's test the function with a minimum support of 0.4. All the item combinations that occur at or above 40% of the time"
   ]
  },
  {
   "cell_type": "code",
   "execution_count": 40,
   "metadata": {
    "tags": []
   },
   "outputs": [
    {
     "name": "stdout",
     "output_type": "stream",
     "text": [
      "Items that occur with support level >= 40%\n",
      "\t ('Eggs',) \tSupport:0.8000\n",
      "\t ('Eggs', 'Kidney Beans') \tSupport:0.8000\n",
      "\t ('Eggs', 'Kidney Beans', 'Milk') \tSupport:0.4000\n",
      "\t ('Eggs', 'Kidney Beans', 'Onion') \tSupport:0.6000\n",
      "\t ('Eggs', 'Kidney Beans', 'Onion', 'Yogurt') \tSupport:0.4000\n",
      "\t ('Eggs', 'Kidney Beans', 'Yogurt') \tSupport:0.4000\n",
      "\t ('Eggs', 'Milk') \tSupport:0.4000\n",
      "\t ('Eggs', 'Onion') \tSupport:0.6000\n",
      "\t ('Eggs', 'Onion', 'Yogurt') \tSupport:0.4000\n",
      "\t ('Eggs', 'Yogurt') \tSupport:0.4000\n",
      "\t ('Kidney Beans',) \tSupport:1.0000\n",
      "\t ('Kidney Beans', 'Milk') \tSupport:0.6000\n",
      "\t ('Kidney Beans', 'Milk', 'Yogurt') \tSupport:0.4000\n",
      "\t ('Kidney Beans', 'Onion') \tSupport:0.6000\n",
      "\t ('Kidney Beans', 'Onion', 'Yogurt') \tSupport:0.4000\n",
      "\t ('Kidney Beans', 'Yogurt') \tSupport:0.6000\n",
      "\t ('Milk',) \tSupport:0.6000\n",
      "\t ('Milk', 'Yogurt') \tSupport:0.4000\n",
      "\t ('Onion',) \tSupport:0.6000\n",
      "\t ('Onion', 'Yogurt') \tSupport:0.4000\n",
      "\t ('Yogurt',) \tSupport:0.6000\n"
     ]
    }
   ],
   "source": [
    "sup_sets=getMinSupport(tr_sets, 0.4)\n",
    "#%timeit supports=getMinSupport(tr_sets, 0.4)\n",
    "\n",
    "print(\"Items that occur with support level >= 40%\")\n",
    "sup_list=list(sup_sets)\n",
    "sup_list.sort()\n",
    "for s in sup_list:\n",
    "    print(\"\\t\",s, \"\\tSupport:%6.4f\" %sup_sets[s])"
   ]
  },
  {
   "cell_type": "markdown",
   "metadata": {},
   "source": [
    "#### Exercise\n",
    "* The above algorithm is **not** the apriori algorithm. In what aspects is it different? What are its potential advantages and disadvantages\n",
    "\n",
    "#### Advanced Exercises (to do on your own)\n",
    "\n",
    "* Explain in your own words how `makeMinSupportSets()` works. Identify the recursive part the conditions for its execution and stopping\n",
    "* Implement a Brute Force approach (`getMinSupportBF()`)\n"
   ]
  },
  {
   "cell_type": "markdown",
   "metadata": {},
   "source": [
    "## Making rules\n",
    "\n",
    "\n",
    "As we want the rules with a minimum confidence level, we just need a function able to process one specific set of items with a minimum support level and get those that have a threshold confidence level\n",
    "\n",
    "For that a simple function can be written that takes care of it all and receives a frequent itemset to identify possible rules, the set of all existing rules, and a confidence threshold"
   ]
  },
  {
   "cell_type": "code",
   "execution_count": 41,
   "metadata": {
    "tags": []
   },
   "outputs": [],
   "source": [
    "def checkRules(itemset, Trs, conf_thres):\n",
    "    rules=[]\n",
    "    for i in itemset:\n",
    "        Y={i}\n",
    "        X=itemset - Y\n",
    "        if len(X)>0:\n",
    "            conf=getConfidence(X, Y, Trs)\n",
    "            if conf>=conf_thres:\n",
    "                rules.append((X, Y, conf))\n",
    "    return rules"
   ]
  },
  {
   "cell_type": "code",
   "execution_count": 42,
   "metadata": {
    "tags": []
   },
   "outputs": [
    {
     "name": "stdout",
     "output_type": "stream",
     "text": [
      "{'Kidney Beans', 'Eggs', 'Yogurt'} => {'Onion'} \t[confidence: 1.0000]\n",
      "{'Onion', 'Eggs', 'Yogurt'} => {'Kidney Beans'} \t[confidence: 1.0000]\n",
      "{'Onion', 'Kidney Beans', 'Yogurt'} => {'Eggs'} \t[confidence: 1.0000]\n",
      "{'Onion', 'Eggs', 'Kidney Beans'} => {'Yogurt'} \t[confidence: 0.6667]\n"
     ]
    }
   ],
   "source": [
    "rules=checkRules(set(('Eggs', 'Kidney Beans', 'Onion', 'Yogurt')), tr_sets, 0.6)\n",
    "\n",
    "for X,Y,conf in rules:\n",
    "    print(X, \"=>\", Y, \"\\t[confidence: %6.4f]\" % conf)"
   ]
  },
  {
   "cell_type": "markdown",
   "metadata": {},
   "source": [
    "This can be used for all the minimum support itemsets"
   ]
  },
  {
   "cell_type": "code",
   "execution_count": 43,
   "metadata": {
    "tags": []
   },
   "outputs": [],
   "source": [
    "def getAllRules(MS_itemsets, Trs, conf_level):\n",
    "    allrules=[]\n",
    "    for itemset in MS_itemsets:\n",
    "        R=checkRules(set(itemset), Trs, conf_level)\n",
    "        allrules+=R\n",
    "    return allrules"
   ]
  },
  {
   "cell_type": "code",
   "execution_count": 44,
   "metadata": {
    "tags": []
   },
   "outputs": [
    {
     "name": "stdout",
     "output_type": "stream",
     "text": [
      "{'Onion'} => {'Kidney Beans'} \n",
      "[confidence: 1.0000]\n",
      "\n",
      "{'Onion', 'Eggs'} => {'Kidney Beans'} \n",
      "[confidence: 1.0000]\n",
      "\n",
      "{'Onion', 'Kidney Beans'} => {'Eggs'} \n",
      "[confidence: 1.0000]\n",
      "\n",
      "{'Kidney Beans', 'Eggs', 'Yogurt'} => {'Onion'} \n",
      "[confidence: 1.0000]\n",
      "\n",
      "{'Onion', 'Eggs', 'Yogurt'} => {'Kidney Beans'} \n",
      "[confidence: 1.0000]\n",
      "\n",
      "{'Onion', 'Kidney Beans', 'Yogurt'} => {'Eggs'} \n",
      "[confidence: 1.0000]\n",
      "\n",
      "{'Onion', 'Yogurt'} => {'Kidney Beans'} \n",
      "[confidence: 1.0000]\n",
      "\n",
      "{'Onion'} => {'Eggs'} \n",
      "[confidence: 1.0000]\n",
      "\n",
      "{'Yogurt', 'Eggs'} => {'Onion'} \n",
      "[confidence: 1.0000]\n",
      "\n",
      "{'Onion', 'Yogurt'} => {'Eggs'} \n",
      "[confidence: 1.0000]\n",
      "\n",
      "{'Milk', 'Eggs'} => {'Kidney Beans'} \n",
      "[confidence: 1.0000]\n",
      "\n",
      "{'Milk'} => {'Kidney Beans'} \n",
      "[confidence: 1.0000]\n",
      "\n",
      "{'Milk', 'Yogurt'} => {'Kidney Beans'} \n",
      "[confidence: 1.0000]\n",
      "\n",
      "{'Yogurt'} => {'Kidney Beans'} \n",
      "[confidence: 1.0000]\n",
      "\n",
      "{'Yogurt', 'Eggs'} => {'Kidney Beans'} \n",
      "[confidence: 1.0000]\n",
      "\n",
      "{'Eggs'} => {'Kidney Beans'} \n",
      "[confidence: 1.0000]\n",
      "\n",
      "{'Kidney Beans'} => {'Eggs'} \n",
      "[confidence: 0.8000]\n",
      "\n"
     ]
    }
   ],
   "source": [
    "rules= getAllRules(sup_sets, tr_sets, 0.8)\n",
    "for X,Y,conf in rules:\n",
    "    print(X, \"=>\", Y, \"\\n[confidence: %6.4f]\\n\" % conf)"
   ]
  },
  {
   "cell_type": "markdown",
   "metadata": {},
   "source": [
    "#### Question (discuss)\n",
    "* Do we get all possible rules this way? If not what types of rules are missing?  What can you do about it?\n",
    "\n"
   ]
  }
 ],
 "metadata": {
  "kernelspec": {
   "display_name": "Python 3 (ipykernel)",
   "language": "python",
   "name": "python3"
  },
  "language_info": {
   "codemirror_mode": {
    "name": "ipython",
    "version": 3
   },
   "file_extension": ".py",
   "mimetype": "text/x-python",
   "name": "python",
   "nbconvert_exporter": "python",
   "pygments_lexer": "ipython3",
   "version": "3.9.7"
  }
 },
 "nbformat": 4,
 "nbformat_minor": 4
}
