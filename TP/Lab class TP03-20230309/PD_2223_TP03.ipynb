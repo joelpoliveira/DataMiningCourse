{
 "cells": [
  {
   "cell_type": "markdown",
   "id": "8df1f1e3-27f5-4299-8aaa-02831bf3d05f",
   "metadata": {},
   "source": [
    "# Prospecção de Dados - Data Mining - DI/FCUL2022/2023\n",
    "\n",
    "## Lab class TP03\n",
    "\n",
    "# Dimensionality Reduction - Sparse matrices, PCA and SVD\n",
    "\n",
    "*A Data Mining Tutorial by Andre Falcao (DI/FCUL 2021-2023)*\n"
   ]
  },
  {
   "cell_type": "code",
   "execution_count": 2,
   "id": "acf36f27-976c-4d37-9f4a-4e33aeee124d",
   "metadata": {
    "tags": []
   },
   "outputs": [],
   "source": [
    "import numpy as np\n",
    "import pickle\n",
    "from random import randint, seed\n",
    "import matplotlib.pyplot as plt"
   ]
  },
  {
   "cell_type": "markdown",
   "id": "86014103-b654-4a0c-8935-ad0d2fe00cc2",
   "metadata": {},
   "source": [
    "## Sparse Matrices\n",
    "\n",
    "many times matrices are very sparse and a numpy array is not a convenient way to handle it as most entries are Zero. This is the typical case for words on a set of documents, transactions in market basket analysis, or preferences of products according to users.\n",
    "\n",
    "If Python Lists and dictionaries are sometimes convenient for basic computations, theuy are not efficient to matrix type calculations that can be accomplished much more easily in specialized matrix processing libraries, like numpy or scipy\n",
    "\n",
    "### Introducing Scipy sparse matrices\n",
    "\n",
    "The popular [scipy library](https://docs.scipy.org/doc/scipy/index.html)  implements many needed functions and different ways of storing [sparse data](https://docs.scipy.org/doc/scipy/reference/sparse.html) that can be used is a very similar way as numpy arrays, and easily converted\n",
    "\n",
    "There are several types of sparse arrays that we can consider, although several others \n",
    "\n",
    "* dok_array - dictionary of keys - very convenient to process python dictionaries or lists\n",
    "* lil_array - Lists of lists\n",
    "* csr_array - compressed sparse row array - for each row, the column indexes are stored separately\n",
    "* csc_array - compressed sparse column array - for each column, the row indexes are stored separately\n",
    "\n",
    "The last two are the most convenient for matrix operations (dot products, inversions, et al) \n",
    "\n",
    "Let's start with a sample matrix of 20 x 10 with only 30 no-zero values"
   ]
  },
  {
   "cell_type": "code",
   "execution_count": 2,
   "id": "5e94153b-c6c5-45ea-b594-1025fc8ad4e4",
   "metadata": {
    "tags": []
   },
   "outputs": [
    {
     "data": {
      "text/plain": [
       "array([[0, 0, 0, 0, 2, 3, 0, 0, 0, 0],\n",
       "       [0, 0, 0, 0, 5, 0, 0, 0, 0, 0],\n",
       "       [4, 0, 1, 0, 0, 0, 0, 2, 0, 4],\n",
       "       [0, 0, 0, 0, 0, 0, 0, 0, 0, 0],\n",
       "       [0, 0, 0, 0, 0, 0, 0, 0, 0, 0],\n",
       "       [2, 0, 1, 0, 0, 3, 0, 0, 0, 0],\n",
       "       [0, 0, 0, 0, 0, 0, 0, 0, 0, 4],\n",
       "       [0, 0, 0, 0, 0, 0, 0, 0, 0, 0],\n",
       "       [0, 4, 0, 0, 0, 0, 0, 0, 0, 0],\n",
       "       [0, 0, 0, 0, 0, 0, 0, 0, 0, 0],\n",
       "       [5, 0, 0, 0, 0, 5, 0, 0, 3, 0],\n",
       "       [0, 0, 0, 0, 0, 0, 0, 0, 0, 0],\n",
       "       [0, 0, 0, 0, 0, 0, 0, 0, 2, 0],\n",
       "       [0, 0, 0, 0, 0, 0, 0, 0, 0, 0],\n",
       "       [0, 3, 0, 0, 0, 0, 1, 0, 0, 0],\n",
       "       [3, 0, 0, 0, 0, 0, 0, 0, 0, 0],\n",
       "       [3, 0, 0, 0, 0, 0, 4, 0, 0, 0],\n",
       "       [0, 0, 0, 0, 0, 3, 3, 0, 0, 4],\n",
       "       [0, 2, 0, 0, 0, 5, 0, 4, 0, 0],\n",
       "       [0, 0, 0, 0, 0, 0, 0, 0, 0, 0]])"
      ]
     },
     "execution_count": 2,
     "metadata": {},
     "output_type": "execute_result"
    }
   ],
   "source": [
    "N,M=20,10\n",
    "seed(123)\n",
    "data = np.zeros([N, M], dtype=int)\n",
    "for i in range(30): data[randint(0, N-1), randint(0, M-1)]=randint(1,5)\n",
    "data"
   ]
  },
  {
   "cell_type": "markdown",
   "id": "658d5645-b19a-4e0c-ab6b-30ef3a5ccbe8",
   "metadata": {},
   "source": [
    "To check the size of the array we can do the following"
   ]
  },
  {
   "cell_type": "code",
   "execution_count": 4,
   "id": "f7f322dd-ac5f-41a7-8afc-d6fcbb14513a",
   "metadata": {
    "tags": []
   },
   "outputs": [
    {
     "name": "stdout",
     "output_type": "stream",
     "text": [
      "Data size of np.array 928 bytes\n"
     ]
    }
   ],
   "source": [
    "import sys\n",
    "print(\"Data size of np.array\", sys.getsizeof(data), \"bytes\")\n"
   ]
  },
  {
   "cell_type": "markdown",
   "id": "c7b3cc8c-468e-4bb1-be05-c162c0bf6ef4",
   "metadata": {},
   "source": [
    "This method sometimes does not work. Especially for objects with allocated memory not in Python. A more robust approach is serializing the data with pickle to a python binary object and check its size"
   ]
  },
  {
   "cell_type": "code",
   "execution_count": 5,
   "id": "aeea57d5-61a5-4c19-9770-0aa7f225dceb",
   "metadata": {
    "tags": []
   },
   "outputs": [
    {
     "name": "stdout",
     "output_type": "stream",
     "text": [
      "Data size of serialization of np.array 985 bytes\n"
     ]
    }
   ],
   "source": [
    "ob_data=pickle.dumps(data)\n",
    "print(\"Data size of serialization of np.array\", sys.getsizeof(ob_data), \"bytes\")"
   ]
  },
  {
   "cell_type": "markdown",
   "id": "fae67f25-e741-4fef-af25-7a7e6f0321a8",
   "metadata": {},
   "source": [
    "### Converting Numpy arrays  to Scipy sparse matrices\n",
    "\n",
    "We can convert any numpy array into a scipy sparse matrix in any of the available formats. Sparse matrices can be converted back into numpy arrays using the `.toarray()` method"
   ]
  },
  {
   "cell_type": "code",
   "execution_count": 3,
   "id": "98736e9e-3181-4aaf-96d3-6fbf23cc344c",
   "metadata": {
    "tags": []
   },
   "outputs": [
    {
     "ename": "NameError",
     "evalue": "name 'data' is not defined",
     "output_type": "error",
     "traceback": [
      "\u001b[1;31m---------------------------------------------------------------------------\u001b[0m",
      "\u001b[1;31mNameError\u001b[0m                                 Traceback (most recent call last)",
      "Cell \u001b[1;32mIn [3], line 2\u001b[0m\n\u001b[0;32m      1\u001b[0m \u001b[38;5;28;01mfrom\u001b[39;00m \u001b[38;5;21;01mscipy\u001b[39;00m\u001b[38;5;21;01m.\u001b[39;00m\u001b[38;5;21;01msparse\u001b[39;00m \u001b[38;5;28;01mimport\u001b[39;00m dok_array, csr_array, csc_array, bsr_array, lil_array\n\u001b[1;32m----> 2\u001b[0m S_csc\u001b[38;5;241m=\u001b[39mcsc_array(data)\n\u001b[0;32m      3\u001b[0m S_csr\u001b[38;5;241m=\u001b[39mcsr_array(data)\n\u001b[0;32m      4\u001b[0m S_bsr\u001b[38;5;241m=\u001b[39mbsr_array(data)\n",
      "\u001b[1;31mNameError\u001b[0m: name 'data' is not defined"
     ]
    }
   ],
   "source": [
    "from scipy.sparse import dok_array, csr_array, csc_array, bsr_array, lil_array\n",
    "S_csc=csc_array(data)\n",
    "S_csr=csr_array(data)\n",
    "S_bsr=bsr_array(data)\n",
    "S_lil=lil_array(data)\n"
   ]
  },
  {
   "cell_type": "markdown",
   "id": "a3add483-0c8c-48f0-8ba3-6ce350e48567",
   "metadata": {},
   "source": [
    "Due to the complexity of the sparse matrix format using `sys.getsizeof` will get us weird results, so we will use the pickle serialization method "
   ]
  },
  {
   "cell_type": "code",
   "execution_count": 7,
   "id": "fec6a670-4765-4839-80ba-9cade4665da9",
   "metadata": {
    "tags": []
   },
   "outputs": [
    {
     "name": "stdout",
     "output_type": "stream",
     "text": [
      "Data size of serialization of csc_array is: 599 bytes\n",
      "Data size of serialization of csr_array is: 639 bytes\n",
      "Data size of serialization of bsr_array is: 643 bytes\n",
      "Data size of serialization of lil_array is: 569 bytes\n"
     ]
    }
   ],
   "source": [
    "csc=pickle.dumps(S_csc)\n",
    "csr=pickle.dumps(S_csr)\n",
    "bsr=pickle.dumps(S_bsr)\n",
    "lil=pickle.dumps(S_lil)\n",
    "print(\"Data size of serialization of csc_array is:\", sys.getsizeof(csc), \"bytes\")\n",
    "print(\"Data size of serialization of csr_array is:\", sys.getsizeof(csr), \"bytes\")\n",
    "print(\"Data size of serialization of bsr_array is:\", sys.getsizeof(bsr), \"bytes\")\n",
    "print(\"Data size of serialization of lil_array is:\", sys.getsizeof(lil), \"bytes\")\n"
   ]
  },
  {
   "cell_type": "markdown",
   "id": "940d630a-bee2-4824-a0e7-6a3c73650c17",
   "metadata": {},
   "source": [
    "### Converting sparse matrices back into numpy arrays\n",
    "\n",
    "Any sparse matrix can be converted easily into an array, although some care must be taken as the memory might not be enough"
   ]
  },
  {
   "cell_type": "code",
   "execution_count": 8,
   "id": "39e57c18-8265-4662-b7d2-79e06f2d25f8",
   "metadata": {
    "tags": []
   },
   "outputs": [
    {
     "name": "stdout",
     "output_type": "stream",
     "text": [
      "[[0 0 0 0 2 3 0 0 0 0]\n",
      " [0 0 0 0 5 0 0 0 0 0]\n",
      " [4 0 1 0 0 0 0 2 0 4]\n",
      " [0 0 0 0 0 0 0 0 0 0]\n",
      " [0 0 0 0 0 0 0 0 0 0]\n",
      " [2 0 1 0 0 3 0 0 0 0]\n",
      " [0 0 0 0 0 0 0 0 0 4]\n",
      " [0 0 0 0 0 0 0 0 0 0]\n",
      " [0 4 0 0 0 0 0 0 0 0]\n",
      " [0 0 0 0 0 0 0 0 0 0]\n",
      " [5 0 0 0 0 5 0 0 3 0]\n",
      " [0 0 0 0 0 0 0 0 0 0]\n",
      " [0 0 0 0 0 0 0 0 2 0]\n",
      " [0 0 0 0 0 0 0 0 0 0]\n",
      " [0 3 0 0 0 0 1 0 0 0]\n",
      " [3 0 0 0 0 0 0 0 0 0]\n",
      " [3 0 0 0 0 0 4 0 0 0]\n",
      " [0 0 0 0 0 3 3 0 0 4]\n",
      " [0 2 0 0 0 5 0 4 0 0]\n",
      " [0 0 0 0 0 0 0 0 0 0]]\n"
     ]
    }
   ],
   "source": [
    "print(S_csc.toarray())"
   ]
  },
  {
   "cell_type": "markdown",
   "id": "4d9430a0-56eb-4e5c-b3ff-c735aa3a64cb",
   "metadata": {},
   "source": [
    "#### Exercises\n",
    "The advantage of sparse matrices for this example does not look very impressive. \n",
    "1. Make a new data vector of dimensions 20000 x 100, with 3000 non zero values\n",
    "2. Compute the size of each new sparse matrix\n",
    "3. Make a new data vector of dimensions 100 x 20000, with 3000 non zero values and repeat the computation of the size of the sparse matrices\n",
    "4. Comment the results "
   ]
  },
  {
   "cell_type": "code",
   "execution_count": 16,
   "id": "d33a5972-c82e-459d-8567-e0f58495d90b",
   "metadata": {
    "tags": []
   },
   "outputs": [],
   "source": [
    "#sol Ex 1\n",
    "\n",
    "m = np.zeros((20000,100))\n",
    "rows = np.random.choice(list(range(0, 20000)), size=3000, replace=False)\n",
    "cols = np.random.choice(list(range(0, 100)), size=3000, replace=True)\n",
    "\n",
    "for r, c in zip(rows,cols):\n",
    "    m[r,c] = randint(0,10000)\n",
    "    \n",
    "S_csc=csc_array(m)\n",
    "S_csr=csr_array(m)\n",
    "S_bsr=bsr_array(m)\n",
    "S_lil=lil_array(m)"
   ]
  },
  {
   "cell_type": "code",
   "execution_count": 18,
   "id": "5714abaf-d4b9-46ca-a416-dcc9cc9a300a",
   "metadata": {
    "tags": []
   },
   "outputs": [],
   "source": [
    "md = pickle.dumps(m)\n",
    "csc=pickle.dumps(S_csc)\n",
    "csr=pickle.dumps(S_csr)\n",
    "bsr=pickle.dumps(S_bsr)\n",
    "lil=pickle.dumps(S_lil)"
   ]
  },
  {
   "cell_type": "code",
   "execution_count": 19,
   "id": "3e8e13ad-fea9-47fc-85a9-c3e5673ccf3a",
   "metadata": {
    "tags": []
   },
   "outputs": [
    {
     "name": "stdout",
     "output_type": "stream",
     "text": [
      "Numpy: 16000195 bytes\n",
      "Compressed Columns: 36789 bytes\n",
      "Compressed Rows: 116399 bytes\n",
      "Compressed Blocks: 116403 bytes\n",
      "List of Lists: 119427 bytes\n"
     ]
    }
   ],
   "source": [
    "#sol Ex 2\n",
    "print(f\"Numpy: {sys.getsizeof(md)} bytes\")\n",
    "print(f\"Compressed Columns: {sys.getsizeof(csc)} bytes\")\n",
    "print(f\"Compressed Rows: {sys.getsizeof(csr)} bytes\")\n",
    "print(f\"Compressed Blocks: {sys.getsizeof(bsr)} bytes\")\n",
    "print(f\"List of Lists: {sys.getsizeof(lil)} bytes\")\n"
   ]
  },
  {
   "cell_type": "code",
   "execution_count": 20,
   "id": "285ccb39-966f-418f-ad0a-7b44bc500107",
   "metadata": {
    "tags": []
   },
   "outputs": [],
   "source": [
    "#sol Ex 3\n",
    "#sol Ex 1\n",
    "\n",
    "m = np.zeros((100,20000))\n",
    "cols = np.random.choice(list(range(0, 20000)), size=3000, replace=False)\n",
    "rows = np.random.choice(list(range(0, 100)), size=3000, replace=True)\n",
    "\n",
    "for r, c in zip(rows,cols):\n",
    "    m[r,c] = randint(0,10000)\n",
    "    \n",
    "S_csc=csc_array(m)\n",
    "S_csr=csr_array(m)\n",
    "S_bsr=bsr_array(m)\n",
    "S_lil=lil_array(m)\n"
   ]
  },
  {
   "cell_type": "code",
   "execution_count": 21,
   "id": "c6729507-b07c-4cf1-aa53-d15a3b416b07",
   "metadata": {
    "tags": []
   },
   "outputs": [],
   "source": [
    "md = pickle.dumps(m)\n",
    "csc=pickle.dumps(S_csc)\n",
    "csr=pickle.dumps(S_csr)\n",
    "bsr=pickle.dumps(S_bsr)\n",
    "lil=pickle.dumps(S_lil)"
   ]
  },
  {
   "cell_type": "code",
   "execution_count": 22,
   "id": "40514fdc-ad69-4e4c-871d-6544f6e25fc8",
   "metadata": {
    "tags": []
   },
   "outputs": [
    {
     "name": "stdout",
     "output_type": "stream",
     "text": [
      "Numpy: 16000195 bytes\n",
      "Compressed Columns: 116399 bytes\n",
      "Compressed Rows: 36789 bytes\n",
      "Compressed Blocks: 36793 bytes\n",
      "List of Lists: 37107 bytes\n"
     ]
    }
   ],
   "source": [
    "print(f\"Numpy: {sys.getsizeof(md)} bytes\")\n",
    "print(f\"Compressed Columns: {sys.getsizeof(csc)} bytes\")\n",
    "print(f\"Compressed Rows: {sys.getsizeof(csr)} bytes\")\n",
    "print(f\"Compressed Blocks: {sys.getsizeof(bsr)} bytes\")\n",
    "print(f\"List of Lists: {sys.getsizeof(lil)} bytes\")\n"
   ]
  },
  {
   "cell_type": "markdown",
   "id": "3aecd3a9-6faa-422a-8324-11dfc62fd0b8",
   "metadata": {},
   "source": [
    "### Testing sparse matrices on a real world dataset\n",
    "\n",
    "For a larger scale assessment of sparse matrices we are going to load the words processed from TP01 for the wikipedia dataset"
   ]
  },
  {
   "cell_type": "code",
   "execution_count": 4,
   "id": "18831239-bb9f-46fd-b21a-b141564a5090",
   "metadata": {
    "tags": []
   },
   "outputs": [
    {
     "name": "stdout",
     "output_type": "stream",
     "text": [
      "N. of documents:  14679\n",
      "N. of unique words: 243490\n"
     ]
    }
   ],
   "source": [
    "import pickle\n",
    "words_text_sets, all_words = pickle.load(open(\"wikipedia1.pickle\", \"rb\"))\n",
    "\n",
    "print(\"N. of documents: \", len(words_text_sets))\n",
    "print(\"N. of unique words:\",  len(all_words))\n",
    "N, M= len(words_text_sets), len(all_words)"
   ]
  },
  {
   "cell_type": "markdown",
   "id": "88ee4705-2a2a-4a32-8527-52ce7d5a83c1",
   "metadata": {},
   "source": [
    "A matrix of size 14,679 x 243,490 would be impractical to store in a numpy array (do not try it unless you are certain you have plenty of RAM)"
   ]
  },
  {
   "cell_type": "code",
   "execution_count": 24,
   "id": "7a94db80-bebe-4e42-9f7f-7a46776db96c",
   "metadata": {
    "tags": []
   },
   "outputs": [
    {
     "name": "stdout",
     "output_type": "stream",
     "text": [
      "Data size of np.array (in MB) 3408.6130504608154\n"
     ]
    }
   ],
   "source": [
    "large_array = np.zeros([N,M], dtype=np.int8)\n",
    "print(\"Data size of np.array (in MB)\", sys.getsizeof(large_array)/(1024*1024))"
   ]
  },
  {
   "cell_type": "markdown",
   "id": "b34ce244-2394-4496-bca3-f49baac3b78d",
   "metadata": {},
   "source": [
    "Yet we can take advantage of scipy `dok` sparse matrices that are easily incrementally updated to build our own word-document matrix already filled, which can be easily converted into all other sparse matrices"
   ]
  },
  {
   "cell_type": "code",
   "execution_count": 25,
   "id": "37f224fd-3b30-42b2-94d4-4fc157101438",
   "metadata": {
    "tags": []
   },
   "outputs": [],
   "source": [
    "def make_sparse_matrix(docs, words):\n",
    "    N = len(docs)\n",
    "    M = len(words)\n",
    "    D=dict(zip(all_words, range(len(all_words))))\n",
    "    S_mat = dok_array((N, M), dtype=np.int8)\n",
    "    for i in range(N):\n",
    "        word_idxs=np.array([D[w] for w in words_text_sets[i]])\n",
    "        #print(word_idxs[:10])\n",
    "        S_mat[i,word_idxs]=1\n",
    "    return S_mat\n",
    "\n",
    "dok_matrix = make_sparse_matrix(words_text_sets, all_words)"
   ]
  },
  {
   "cell_type": "markdown",
   "id": "87c84e63-c1d6-4548-9506-b16d2c12e4d0",
   "metadata": {},
   "source": [
    "we can verify the size of it by serializing it"
   ]
  },
  {
   "cell_type": "code",
   "execution_count": 32,
   "id": "e7401692-a3a1-4a19-87bd-681ca3f3e132",
   "metadata": {
    "tags": []
   },
   "outputs": [
    {
     "name": "stdout",
     "output_type": "stream",
     "text": [
      "Data size of DOK sparse matrix (in MB) 42.30705261230469\n"
     ]
    }
   ],
   "source": [
    "dok=pickle.dumps(dok_matrix)\n",
    "print(\"Data size of DOK sparse matrix (in MB)\", sys.getsizeof(dok)/(1024*1024))"
   ]
  },
  {
   "cell_type": "code",
   "execution_count": 29,
   "id": "e5b33339-f2f1-4d26-a5bf-c8e19dcd2159",
   "metadata": {
    "tags": []
   },
   "outputs": [
    {
     "data": {
      "text/plain": [
       "(14679, 243490)"
      ]
     },
     "execution_count": 29,
     "metadata": {},
     "output_type": "execute_result"
    }
   ],
   "source": [
    "dok_matrix.shape"
   ]
  },
  {
   "cell_type": "markdown",
   "id": "57bd2189-2287-4bbf-8d30-05cbacd23371",
   "metadata": {},
   "source": [
    "Yet DOK sparse matrices, if they are practical for data loading, they can be very inconvenient for any type of matrix processing so they need to be converted into CSR or CSC formats"
   ]
  },
  {
   "cell_type": "code",
   "execution_count": 30,
   "id": "02733738-54ce-48ff-b860-8f9df0eef710",
   "metadata": {
    "tags": []
   },
   "outputs": [
    {
     "name": "stdout",
     "output_type": "stream",
     "text": [
      "Data size of CSR sparse matrix (in MB) 10.939128875732422\n"
     ]
    }
   ],
   "source": [
    "S_csr=csr_array(dok_matrix)\n",
    "p_csr=pickle.dumps(S_csr)\n",
    "print(\"Data size of CSR sparse matrix (in MB)\", sys.getsizeof(p_csr)/(1024*1024))"
   ]
  },
  {
   "cell_type": "code",
   "execution_count": 47,
   "id": "66764e7d-5b54-48da-9afd-ea8f5f319d6c",
   "metadata": {
    "tags": []
   },
   "outputs": [
    {
     "data": {
      "text/plain": [
       "<14679x243490 sparse array of type '<class 'numpy.int8'>'\n",
       "\twith 2282275 stored elements in Compressed Sparse Row format>"
      ]
     },
     "execution_count": 47,
     "metadata": {},
     "output_type": "execute_result"
    }
   ],
   "source": [
    "S_csr"
   ]
  },
  {
   "cell_type": "markdown",
   "id": "bd4dbfda-8fa4-4f87-9e8d-dd9d6237ddea",
   "metadata": {},
   "source": [
    "Our dataset of 3.4 GB suddenly became ~11 MB, without any loss of information"
   ]
  },
  {
   "cell_type": "markdown",
   "id": "ceaf7d6f-d773-4572-99b3-e3ac8e6da43b",
   "metadata": {
    "tags": []
   },
   "source": [
    "## Dimensionality reduction \n",
    "\n",
    "### Principal Components Analysis\n",
    "\n",
    "\n",
    "First let's create a training set and a testing set from the diabetes dataset"
   ]
  },
  {
   "cell_type": "code",
   "execution_count": 31,
   "id": "33477556-84d8-4c3a-b824-bdd6baef3e96",
   "metadata": {
    "tags": []
   },
   "outputs": [],
   "source": [
    "from sklearn.model_selection import train_test_split\n",
    "from sklearn.datasets import load_diabetes\n",
    "X_diabetes, y_diabetes=load_diabetes(return_X_y=True)\n",
    "X_train, X_test, y_train, y_test = train_test_split(X_diabetes, y_diabetes, test_size=0.33, random_state=0)"
   ]
  },
  {
   "cell_type": "markdown",
   "id": "9f16a900-7d18-47f7-855d-613116259428",
   "metadata": {},
   "source": [
    "As we know Principal components analysis is essentially the eingenvalues/eigenvectors of the $ X^T.X $ which is related to the covariance matrix. So we can just use the builtin numpy `eig` method to do all the work"
   ]
  },
  {
   "cell_type": "code",
   "execution_count": 34,
   "id": "3b6981a7-7968-48c6-8a78-3e3eafdc4c74",
   "metadata": {
    "tags": []
   },
   "outputs": [
    {
     "data": {
      "text/plain": [
       "(296, 10)"
      ]
     },
     "execution_count": 34,
     "metadata": {},
     "output_type": "execute_result"
    }
   ],
   "source": [
    "X_train.shape"
   ]
  },
  {
   "cell_type": "code",
   "execution_count": 45,
   "id": "4e3d332d-4347-41ca-8bf6-425e9c311817",
   "metadata": {
    "tags": []
   },
   "outputs": [
    {
     "name": "stdout",
     "output_type": "stream",
     "text": [
      "PC0 - Variance explained:  0.4223 - Total Variance:  0.4223\n",
      "PC1 - Variance explained:  0.1390 - Total Variance:  0.5613\n",
      "\n",
      "Actual Eigenvalues: [2.92072685 0.96116055]\n",
      "PC 0 --> [ 0.22448564  0.16973469  0.30133641  0.28718052  0.33053737  0.33830976\n",
      " -0.28722032  0.41868114  0.37464202  0.35449337]\n",
      "PC 1 --> [ 0.15815758 -0.40581392 -0.10845277 -0.07521348  0.55471144  0.40127546\n",
      "  0.54951636 -0.12615344  0.01755403 -0.0772291 ]\n"
     ]
    }
   ],
   "source": [
    "n_comps=2\n",
    "W, v = np.linalg.eig(X_train.T @ X_train)\n",
    "vexp = W/W.sum()\n",
    "\n",
    "tve=0\n",
    "for i, ve in enumerate(vexp[:n_comps]):\n",
    "    tve+=ve\n",
    "    print(\"PC%d - Variance explained: %7.4f - Total Variance: %7.4f\" % (i, ve, tve) )    \n",
    "\n",
    "print()\n",
    "\n",
    "print(\"Actual Eigenvalues:\", W[:n_comps])\n",
    "for i,comp in enumerate(v[:,:n_comps].T):\n",
    "    print(\"PC\",i, \"-->\", comp)\n"
   ]
  },
  {
   "cell_type": "code",
   "execution_count": 43,
   "id": "bc16beee-6cc8-4b53-adda-181ebdd95df0",
   "metadata": {
    "tags": []
   },
   "outputs": [
    {
     "name": "stdout",
     "output_type": "stream",
     "text": [
      "0.948989280519739 7\n"
     ]
    }
   ],
   "source": [
    "s = i = 0\n",
    "while s <= 0.9:\n",
    "    s+=vexp[i]\n",
    "    i+=1\n",
    "print(s, i)\n"
   ]
  },
  {
   "cell_type": "markdown",
   "id": "39b1a4e5-f9c1-433a-9979-bf1456a0f563",
   "metadata": {},
   "source": [
    "We can compare our results with the official scikit-learn approach. Running the same data with scikit learn we get:"
   ]
  },
  {
   "cell_type": "code",
   "execution_count": 44,
   "id": "53103a7d-aa26-4fb6-96ee-eccb695d9b62",
   "metadata": {
    "tags": []
   },
   "outputs": [
    {
     "name": "stdout",
     "output_type": "stream",
     "text": [
      "PC0 - Variance explained:  0.4224 - Total Variance:  0.4224\n",
      "PC1 - Variance explained:  0.1390 - Total Variance:  0.5614\n",
      "\n",
      "Actual Eigenvalues: [1.70882759 0.98023199]\n",
      "PC 0 --> [ 0.22452311  0.17011302  0.30125576  0.28754873  0.3304422   0.33811708\n",
      " -0.28709559  0.41864325  0.37460552  0.35451526]\n",
      "PC 1 --> [ 0.15942489 -0.40467003 -0.10862825 -0.07332126  0.55461976  0.40055909\n",
      "  0.55072724 -0.12697082  0.01754897 -0.0766098 ]\n"
     ]
    }
   ],
   "source": [
    "from sklearn.decomposition import PCA\n",
    "\n",
    "pca = PCA(n_components=2)\n",
    "pca.fit(X_train)\n",
    "tve=0\n",
    "for i, ve in enumerate(pca.explained_variance_ratio_):\n",
    "    tve+=ve\n",
    "    print(\"PC%d - Variance explained: %7.4f - Total Variance: %7.4f\" % (i, ve, tve) )\n",
    "print()\n",
    "print(\"Actual Eigenvalues:\", pca.singular_values_)\n",
    "for i,comp in enumerate(pca.components_):\n",
    "    print(\"PC\",i, \"-->\", comp)\n",
    "    "
   ]
  },
  {
   "cell_type": "markdown",
   "id": "368e0086-5383-48eb-b7d6-ff41ae6f02bb",
   "metadata": {},
   "source": [
    "#### Exercise\n",
    "1. intepret the results above. \n",
    "    * **Do not even leave this exercise until this is fully understood!**\n",
    "2. Verify the differences in results between numpy and sklearn and explain them\n",
    "\n",
    "\n",
    "Now let's project the data using the principal components defined and use them for regression"
   ]
  },
  {
   "cell_type": "code",
   "execution_count": 58,
   "id": "254b613a-2e01-4d3b-915e-baec824b5686",
   "metadata": {
    "tags": []
   },
   "outputs": [
    {
     "data": {
      "text/plain": [
       "(296, 2)"
      ]
     },
     "execution_count": 58,
     "metadata": {},
     "output_type": "execute_result"
    }
   ],
   "source": [
    "X_train_transf = X_train @ v[:n_comps,:].T\n",
    "X_train_transf.shape"
   ]
  },
  {
   "cell_type": "markdown",
   "id": "2b5b7de5-ba95-49f8-af2d-d955df9732dc",
   "metadata": {},
   "source": [
    "### A graphical view of PCA projection illustrated with regression data\n",
    "\n",
    "Let's examine the projection in 2 components Notice the gradients in color for  each instance"
   ]
  },
  {
   "cell_type": "code",
   "execution_count": 59,
   "id": "bf458ce5-6d6e-48c9-b904-3dfccd5ff6f7",
   "metadata": {
    "tags": []
   },
   "outputs": [
    {
     "data": {
      "image/png": "[encoded data removed]",
      "text/plain": [
       "<Figure size 640x480 with 1 Axes>"
      ]
     },
     "metadata": {},
     "output_type": "display_data"
    }
   ],
   "source": [
    "plt.scatter(X_train_transf[:,0], X_train_transf[:,1], c = y_train)\n",
    "plt.show()"
   ]
  },
  {
   "cell_type": "markdown",
   "id": "2ef61ef0-1593-4e74-88dc-d0ae017e294b",
   "metadata": {},
   "source": [
    "#### Exercises\n",
    "\n",
    "1. try linear regression with the projected training and test sets\n",
    "2. check how many componets are necessary for getting acceptable results\n",
    "3. Discuss how this approach might be more/less adequate in a big data envionment"
   ]
  },
  {
   "cell_type": "code",
   "execution_count": 63,
   "id": "f0ae8210-122a-4522-bd20-8c83f24c69e2",
   "metadata": {
    "tags": []
   },
   "outputs": [],
   "source": [
    "from sklearn.linear_model import LinearRegression\n",
    "from sklearn.metrics import max_error, mean_squared_error"
   ]
  },
  {
   "cell_type": "code",
   "execution_count": 61,
   "id": "2b4ca777-00af-4378-b72d-1e7f19bf5f2a",
   "metadata": {
    "tags": []
   },
   "outputs": [
    {
     "data": {
      "text/plain": [
       "array([ 96., 125., 182., 177.,  48.])"
      ]
     },
     "execution_count": 61,
     "metadata": {},
     "output_type": "execute_result"
    }
   ],
   "source": [
    "y_train[:5]"
   ]
  },
  {
   "cell_type": "code",
   "execution_count": 70,
   "id": "30050b04-228a-4cbb-ac66-ef94a2a39453",
   "metadata": {
    "tags": []
   },
   "outputs": [
    {
     "name": "stdout",
     "output_type": "stream",
     "text": [
      "Max error = 155.31545435384425\n",
      "RMSE = 55.4360721330851\n"
     ]
    },
    {
     "data": {
      "text/plain": [
       "[<matplotlib.lines.Line2D at 0x1a7c0616c10>]"
      ]
     },
     "execution_count": 70,
     "metadata": {},
     "output_type": "execute_result"
    },
    {
     "data": {
      "image/png": "[encoded data removed]",
      "text/plain": [
       "<Figure size 640x480 with 1 Axes>"
      ]
     },
     "metadata": {},
     "output_type": "display_data"
    }
   ],
   "source": [
    "pca = PCA(n_components=7)\n",
    "pca.fit(X_train)\n",
    "\n",
    "m = LinearRegression().fit(pca.transform(X_train), y_train)\n",
    "preds = m.predict(pca.transform(X_test))\n",
    "\n",
    "print(f\"Max error = {max_error(y_test, preds)}\")\n",
    "print(f\"RMSE = {mean_squared_error(y_test, preds, squared=False)}\")\n",
    "\n",
    "plt.scatter(preds, y_test)\n",
    "plt.plot([30, 300], [30, 300], c=\"r\")"
   ]
  },
  {
   "cell_type": "markdown",
   "id": "7960c2d4-9393-49d4-9241-5f9944817f28",
   "metadata": {
    "tags": []
   },
   "source": [
    "## SVD decomposition\n",
    "\n",
    "SVD decomposes any data matrix into a product of 3 other matrices U, S and V. Both U and V are orthonormal matrices, meaning that each row or column element is independent of the others \n",
    "\n",
    "We are going to make a simple verification of the SVD decomposition algorithm with a very simple recomendation dataset with 7 users and 5 movies\n",
    "\n"
   ]
  },
  {
   "cell_type": "code",
   "execution_count": 72,
   "id": "bede4b5e-d5af-4051-8a95-0f7f7317d86c",
   "metadata": {
    "tags": []
   },
   "outputs": [
    {
     "name": "stdout",
     "output_type": "stream",
     "text": [
      "Users: ['Alice', 'Bob', 'Charlie', 'Diane', 'Eddie', 'Fanny', 'Gustav']\n",
      "Movies: ['Matrix', 'Alien', 'StarWars', 'Casablanca', 'Titanic']\n",
      "[[5 5 5 0 1]\n",
      " [4 5 5 2 1]\n",
      " [5 4 4 1 0]\n",
      " [5 4 3 2 1]\n",
      " [1 1 0 5 5]\n",
      " [1 0 1 4 5]\n",
      " [2 2 2 5 4]]\n"
     ]
    }
   ],
   "source": [
    "lines=open(\"movies.txt\", \"rt\").readlines()\n",
    "movies=lines[0].strip().split()\n",
    "users=[]\n",
    "data=[]\n",
    "for line in lines[1:]:\n",
    "    fs=line.strip().split()\n",
    "    users.append(fs[0])\n",
    "    data.append([int(v) for v in fs[1:]])\n",
    "data=np.array(data)\n",
    "print(\"Users:\", users)\n",
    "print(\"Movies:\", movies)\n",
    "\n",
    "print(data)"
   ]
  },
  {
   "cell_type": "markdown",
   "id": "5785855f-c038-498f-94b9-f5a1e77d9f89",
   "metadata": {},
   "source": [
    "In the first place we will simply use the [numpy SVD decomposition](https://numpy.org/doc/stable/reference/generated/numpy.linalg.svd.html) to compute the 3 matrices U, S and V. The basic idea is that each of these matrices relate one of the aspects of the data to \"embedded concepts\". Each embedded concept\n",
    "\n",
    "* U is a matrix that reflects how each row relates to each embedded concept\n",
    "* V is a matrix that reflects how each column relates to each embedded concept\n",
    "* S is a diagonal matrix that reflects the importance of each concept"
   ]
  },
  {
   "cell_type": "code",
   "execution_count": 74,
   "id": "6fe5491f-c9fa-4eb7-81ca-c8d46b94629f",
   "metadata": {
    "tags": []
   },
   "outputs": [
    {
     "name": "stdout",
     "output_type": "stream",
     "text": [
      "U:\n",
      "[[-0.461  0.326  0.472  0.419 -0.381 -0.1    0.356]\n",
      " [-0.47   0.18   0.326 -0.632 -0.038  0.211 -0.442]\n",
      " [-0.407  0.276 -0.304  0.113  0.47  -0.631 -0.183]\n",
      " [-0.416  0.123 -0.631  0.217 -0.084  0.599  0.009]\n",
      " [-0.245 -0.578 -0.207  0.022 -0.598 -0.356 -0.278]\n",
      " [-0.223 -0.518  0.367  0.45   0.462  0.243 -0.269]\n",
      " [-0.345 -0.409 -0.047 -0.402  0.233 -0.037  0.703]]\n",
      "S:\n",
      "[[17.358  0.     0.     0.     0.   ]\n",
      " [ 0.    10.005  0.     0.     0.   ]\n",
      " [ 0.     0.     1.83   0.     0.   ]\n",
      " [ 0.     0.     0.     1.55   0.   ]\n",
      " [ 0.     0.     0.     0.     0.919]]\n",
      "V:\n",
      "[[-0.545 -0.511 -0.486 -0.347 -0.292]\n",
      " [ 0.243  0.273  0.267 -0.612 -0.648]\n",
      " [-0.516 -0.027  0.631 -0.392  0.425]\n",
      " [ 0.573 -0.338 -0.202 -0.528  0.488]\n",
      " [ 0.223 -0.741  0.503  0.269 -0.276]]\n"
     ]
    }
   ],
   "source": [
    "u,s,v =np.linalg.svd(data)\n",
    "np.set_printoptions(precision=3)\n",
    "np.set_printoptions(suppress=True)\n",
    "\n",
    "print(\"U:\")\n",
    "print(u)\n",
    "print(\"S:\")\n",
    "print(np.diag(s))\n",
    "print(\"V:\")\n",
    "print(v)"
   ]
  },
  {
   "cell_type": "markdown",
   "id": "1fe99256-c060-4c93-9661-d6a300268cbf",
   "metadata": {},
   "source": [
    "We can see clearly  that the first two \"embedded concepts\" have a  much larger value, which demonstrates the essential trends naturally present in this toy data set: Sci-fi vs Romance"
   ]
  },
  {
   "cell_type": "code",
   "execution_count": 75,
   "id": "86c39311-f695-479b-90d2-4b7910402868",
   "metadata": {
    "tags": []
   },
   "outputs": [
    {
     "name": "stdout",
     "output_type": "stream",
     "text": [
      "first 1 components have a combined importance of  0.5482\n",
      "first 2 components have a combined importance of  0.8642\n",
      "first 3 components have a combined importance of  0.9220\n",
      "first 4 components have a combined importance of  0.9710\n",
      "first 5 components have a combined importance of  1.0000\n"
     ]
    }
   ],
   "source": [
    "for i in range(len(s)):\n",
    "    print(\"first %d components have a combined importance of %7.4f\" %(i+1, s[:i+1].sum()/s.sum()))"
   ]
  },
  {
   "cell_type": "markdown",
   "id": "0cf60cc3-6f1e-4dd4-a5f2-012e9a1ffa00",
   "metadata": {},
   "source": [
    "SVD is particularly useful as we can select only some selected components and have a very clear representation of the full dataset\n",
    "\n",
    "For example as only 2 concepts represent about 86% of the data we can easily trim our resulting matrices, that with only a fraction of the data we can represent quite well the full dataset\n"
   ]
  },
  {
   "cell_type": "code",
   "execution_count": 88,
   "id": "243e3dd0-2c7b-4e6c-811a-a26428d520ab",
   "metadata": {
    "tags": []
   },
   "outputs": [
    {
     "name": "stdout",
     "output_type": "stream",
     "text": [
      "U:\n",
      "[[-0.461  0.326]\n",
      " [-0.47   0.18 ]\n",
      " [-0.407  0.276]\n",
      " [-0.416  0.123]\n",
      " [-0.245 -0.578]\n",
      " [-0.223 -0.518]\n",
      " [-0.345 -0.409]]\n",
      "S:\n",
      "[[17.358  0.   ]\n",
      " [ 0.    10.005]]\n",
      "V:\n",
      "[[-0.545 -0.511 -0.486 -0.347 -0.292]\n",
      " [ 0.243  0.273  0.267 -0.612 -0.648]]\n"
     ]
    }
   ],
   "source": [
    "r=2\n",
    "U = u[:,:r]\n",
    "S = np.diag(s[:r]) #presented in matrix diagonal format\n",
    "V = v[:r, :]\n",
    "\n",
    "print(\"U:\")\n",
    "print(U)\n",
    "print(\"S:\")\n",
    "print(S)\n",
    "print(\"V:\")\n",
    "print(V)"
   ]
  },
  {
   "cell_type": "markdown",
   "id": "79a8c00d-98ef-4575-98d0-e2f067812304",
   "metadata": {},
   "source": [
    "We can see that selecting only two components is able to almost produce the original matrix"
   ]
  },
  {
   "cell_type": "code",
   "execution_count": 77,
   "id": "e93835a8-0d5b-4118-a052-dae22914f64b",
   "metadata": {
    "tags": []
   },
   "outputs": [
    {
     "name": "stdout",
     "output_type": "stream",
     "text": [
      "[[5.152 4.984 4.762 0.776 0.219]\n",
      " [4.876 4.659 4.443 1.727 1.214]\n",
      " [4.516 4.364 4.169 0.758 0.27 ]\n",
      " [4.228 4.025 3.836 1.746 1.305]\n",
      " [0.907 0.594 0.523 5.017 4.993]\n",
      " [0.852 0.569 0.504 4.517 4.492]\n",
      " [2.266 1.945 1.82  4.58  4.399]]\n"
     ]
    }
   ],
   "source": [
    "print(U @ S @ V)"
   ]
  },
  {
   "cell_type": "code",
   "execution_count": 79,
   "id": "6f20b040-9b0d-4aa6-934e-87bea03738f5",
   "metadata": {
    "tags": []
   },
   "outputs": [
    {
     "name": "stdout",
     "output_type": "stream",
     "text": [
      "[[5. 5. 5. 1. 0.]\n",
      " [5. 5. 4. 2. 1.]\n",
      " [5. 4. 4. 1. 0.]\n",
      " [4. 4. 4. 2. 1.]\n",
      " [1. 1. 1. 5. 5.]\n",
      " [1. 1. 1. 5. 4.]\n",
      " [2. 2. 2. 5. 4.]]\n"
     ]
    }
   ],
   "source": [
    "print(np.round(U @ S @ V))"
   ]
  },
  {
   "cell_type": "code",
   "execution_count": 78,
   "id": "2824d8d9-5ab8-4dfa-81b1-ba304000a4ce",
   "metadata": {
    "tags": []
   },
   "outputs": [
    {
     "data": {
      "text/plain": [
       "array([[5, 5, 5, 0, 1],\n",
       "       [4, 5, 5, 2, 1],\n",
       "       [5, 4, 4, 1, 0],\n",
       "       [5, 4, 3, 2, 1],\n",
       "       [1, 1, 0, 5, 5],\n",
       "       [1, 0, 1, 4, 5],\n",
       "       [2, 2, 2, 5, 4]])"
      ]
     },
     "execution_count": 78,
     "metadata": {},
     "output_type": "execute_result"
    }
   ],
   "source": [
    "data"
   ]
  },
  {
   "cell_type": "markdown",
   "id": "b7979d18-8fab-4701-a342-ec80c6d4c6a2",
   "metadata": {},
   "source": [
    "We can further acount for the quality of the transformation, by computing the MSE relative to the original dataset"
   ]
  },
  {
   "cell_type": "code",
   "execution_count": 80,
   "id": "077256a3-8be7-4982-902b-80fe12c947a4",
   "metadata": {
    "tags": []
   },
   "outputs": [
    {
     "name": "stdout",
     "output_type": "stream",
     "text": [
      "The MSE with 2 components is:  0.1884\n"
     ]
    }
   ],
   "source": [
    "MSE=((data - U @ S @ V)**2).mean()\n",
    "print(\"The MSE with %d components is: %7.4f\" % (r, MSE))"
   ]
  },
  {
   "cell_type": "markdown",
   "id": "d6e52ba8-11d3-460a-9450-d1d0a1bf3609",
   "metadata": {},
   "source": [
    "#### Exercises\n",
    "* Check out the MSE relative to the original matrix as the value of grows from 1 to 5\n",
    "* Discuss your results\n",
    "* Compare your result with PCA\n",
    "\n",
    "### Visualising the dataset in a reduced number of dimensions\n",
    "\n",
    "As we have only two concept dimensions we can make scatter plots to inspect the persons and the movies in the new concept space"
   ]
  },
  {
   "cell_type": "code",
   "execution_count": 81,
   "id": "a4fefa85-f8cf-4d7b-9f20-84d6e404b877",
   "metadata": {
    "tags": []
   },
   "outputs": [
    {
     "name": "stdout",
     "output_type": "stream",
     "text": [
      "The MSE with 1 components is:  3.0486\n",
      "The MSE with 2 components is:  0.1884\n",
      "The MSE with 3 components is:  0.0928\n",
      "The MSE with 4 components is:  0.0242\n",
      "The MSE with 5 components is:  0.0000\n"
     ]
    }
   ],
   "source": [
    "for r in range(1, 6):\n",
    "    U = u[:,:r]\n",
    "    S = np.diag(s[:r]) #presented in matrix diagonal format\n",
    "    V = v[:r, :]\n",
    "    \n",
    "    MSE=((data - U @ S @ V)**2).mean()\n",
    "    print(\"The MSE with %d components is: %7.4f\" % (r, MSE))"
   ]
  },
  {
   "cell_type": "code",
   "execution_count": 89,
   "id": "05f5dd66-c5ab-476a-b70f-15644cbc96a6",
   "metadata": {
    "tags": []
   },
   "outputs": [
    {
     "data": {
      "image/png": "[encoded data removed]",
      "text/plain": [
       "<Figure size 640x480 with 1 Axes>"
      ]
     },
     "metadata": {},
     "output_type": "display_data"
    }
   ],
   "source": [
    "N,M=data.shape\n",
    "plt.scatter(U[:,0], U[:,1])\n",
    "for i, txt in enumerate(users):\n",
    "    plt.annotate(txt, (U[i,0], U[i,1]))\n",
    "plt.grid()\n",
    "plt.show()"
   ]
  },
  {
   "cell_type": "markdown",
   "id": "50c2c4db-6cc6-4f5e-a260-568eb3594561",
   "metadata": {},
   "source": [
    "### Projecting new users into the concept space\n",
    "\n",
    "We can project a new user into the concept space and understand wher it actually stands"
   ]
  },
  {
   "cell_type": "code",
   "execution_count": 90,
   "id": "0f1c31ae-8701-464b-8e8f-c78b5c793091",
   "metadata": {
    "tags": []
   },
   "outputs": [
    {
     "name": "stdout",
     "output_type": "stream",
     "text": [
      "Projection of Zack into Concept space: [-1.534  0.819]\n"
     ]
    }
   ],
   "source": [
    "Zack=np.array([0,3, 0, 0, 0])\n",
    "p=Zack @ V.T\n",
    "print(\"Projection of Zack into Concept space:\", p)\n"
   ]
  },
  {
   "cell_type": "markdown",
   "id": "69caa2b6-3690-424e-89f5-f840bfc2e2fa",
   "metadata": {},
   "source": [
    "We can have even some movie recommendations by analyzing the scores of each movie by multplying the projected element into the movies"
   ]
  },
  {
   "cell_type": "code",
   "execution_count": 91,
   "id": "ec9382e3-96a1-46f4-a311-56393f4d6ee8",
   "metadata": {
    "tags": []
   },
   "outputs": [
    {
     "name": "stdout",
     "output_type": "stream",
     "text": [
      "Projected predicted scores [ 1.035  1.008  0.964  0.031 -0.083]\n"
     ]
    }
   ],
   "source": [
    "\n",
    "#Recommended movies\n",
    "recs= p @ V\n",
    "print(\"Projected predicted scores\", recs)"
   ]
  },
  {
   "cell_type": "markdown",
   "id": "2c0faa48-8871-400d-82ee-6f6d88287840",
   "metadata": {},
   "source": [
    "So Zack will probably prefer one of first 3 movies\n",
    "\n",
    "### Plotting the movies into concept space\n",
    "\n",
    "We can use the V matrix to see how each movie relates to others according to its reviewrs preferences"
   ]
  },
  {
   "cell_type": "code",
   "execution_count": 92,
   "id": "749c36af-ec99-4aa9-bcfd-e2b7013ebc5c",
   "metadata": {
    "tags": []
   },
   "outputs": [
    {
     "data": {
      "image/png": "[encoded data removed]",
      "text/plain": [
       "<Figure size 640x480 with 1 Axes>"
      ]
     },
     "metadata": {},
     "output_type": "display_data"
    }
   ],
   "source": [
    "plt.scatter(V[0,:], V[1,:])\n",
    "for i, txt in enumerate(movies):\n",
    "    plt.annotate(txt, (V[0,i], V[1,i]))\n",
    "plt.grid()\n",
    "plt.show()"
   ]
  },
  {
   "cell_type": "markdown",
   "id": "19820a1b-6534-478b-961a-37827c73199d",
   "metadata": {},
   "source": [
    "### SVD applications - The Reviews dataset\n",
    "We will use  data set from Kaggle, related to [Amazon book reviews](https://www.kaggle.com/datasets/meetnagadia/amazon-kindle-book-review-for-sentiment-analysis) This datase has been transformed and extraced so that each product would have at most two reviews from productive reviewers"
   ]
  },
  {
   "cell_type": "code",
   "execution_count": 9,
   "id": "7ca5c7fa-5e76-4f32-bc31-c85ad214a43b",
   "metadata": {
    "tags": []
   },
   "outputs": [],
   "source": [
    "from scipy.sparse import dok_array, csr_array, csc_array, bsr_array, lil_array\n",
    "import numpy as np\n",
    "import matplotlib.pyplot as plt"
   ]
  },
  {
   "cell_type": "code",
   "execution_count": 10,
   "id": "866ebec6-f5c1-451f-b8e7-3b2cbcc191b4",
   "metadata": {
    "tags": []
   },
   "outputs": [
    {
     "name": "stdout",
     "output_type": "stream",
     "text": [
      "N_reviews: 1094\n",
      "N_Users: 378\n",
      "N_Prods: 549\n"
     ]
    }
   ],
   "source": [
    "lines=open(\"amzn_revs.txt\", \"rt\").readlines()\n",
    "prods={}\n",
    "users={}\n",
    "reviews={}\n",
    "c_prods, c_users= 0, 0\n",
    "\n",
    "for lin in lines:\n",
    "    prod, user, rev=lin.split()\n",
    "    if prod in prods: \n",
    "        pid=prods[prod]\n",
    "    else:\n",
    "        pid=c_prods\n",
    "        prods[prod]=c_prods\n",
    "        c_prods+=1\n",
    "    if user in users: \n",
    "        uid=users[user]\n",
    "    else:\n",
    "        uid=c_users\n",
    "        users[user]=c_users\n",
    "        c_users+=1\n",
    "    reviews[(uid, pid)]=int(rev)\n",
    "\n",
    "print(\"N_reviews:\", len(reviews))\n",
    "print(\"N_Users:\",   len(users))\n",
    "print(\"N_Prods:\",   len(prods))"
   ]
  },
  {
   "cell_type": "markdown",
   "id": "ba24e820-e7d6-457a-959f-f66155da1ac7",
   "metadata": {},
   "source": [
    "Let's make a matrix of `Users vs Products`"
   ]
  },
  {
   "cell_type": "code",
   "execution_count": 11,
   "id": "cdf82c82-5a12-4f54-9818-bd0783c989ce",
   "metadata": {
    "tags": []
   },
   "outputs": [
    {
     "data": {
      "text/plain": [
       "array([[3., 0., 0., 0., 0., 0., 0., 0., 0., 0.],\n",
       "       [0., 4., 0., 4., 0., 0., 0., 0., 0., 0.],\n",
       "       [0., 0., 4., 0., 0., 0., 0., 0., 0., 0.],\n",
       "       [0., 5., 0., 5., 0., 0., 5., 5., 5., 0.],\n",
       "       [0., 0., 0., 0., 5., 0., 0., 0., 0., 0.],\n",
       "       [0., 0., 0., 0., 0., 5., 0., 0., 0., 0.],\n",
       "       [0., 0., 0., 0., 0., 0., 4., 0., 0., 0.],\n",
       "       [0., 4., 0., 0., 0., 0., 0., 5., 4., 0.],\n",
       "       [0., 0., 0., 0., 4., 0., 0., 0., 0., 5.],\n",
       "       [0., 0., 0., 0., 0., 0., 0., 0., 0., 0.]])"
      ]
     },
     "execution_count": 11,
     "metadata": {},
     "output_type": "execute_result"
    }
   ],
   "source": [
    "N = len(users)\n",
    "M = len(prods)\n",
    "Data = np.zeros([N,M], dtype=float)\n",
    "for u, p in reviews: \n",
    "    Data[u,p]=reviews[(u,p)]\n",
    "    #print(u,p, reviews[(u,p)])\n",
    "\n",
    "#check first 10 rows and 10 products\n",
    "Data[:10, :10]"
   ]
  },
  {
   "cell_type": "markdown",
   "id": "37b1389c-e95e-4e60-9a35-88ed55d2de8c",
   "metadata": {},
   "source": [
    "We can make a SVD decomposition of the actual dataset as before"
   ]
  },
  {
   "cell_type": "code",
   "execution_count": 12,
   "id": "46961fc7-c741-43bc-85b4-7cf31ea6a98f",
   "metadata": {
    "tags": []
   },
   "outputs": [
    {
     "data": {
      "text/plain": [
       "((378, 378), (549, 549), (378,))"
      ]
     },
     "execution_count": 12,
     "metadata": {},
     "output_type": "execute_result"
    }
   ],
   "source": [
    "u,s,v =np.linalg.svd(Data)\n",
    "u.shape, v.shape, s.shape"
   ]
  },
  {
   "cell_type": "markdown",
   "id": "2acd13c8-8f78-4e77-ba1a-82d8b58a673f",
   "metadata": {},
   "source": [
    "And we can actually view the results sorted by the importance of the s matrix"
   ]
  },
  {
   "cell_type": "code",
   "execution_count": 13,
   "id": "04d932e1-c8e1-412d-9694-2ad47392e3ff",
   "metadata": {
    "tags": []
   },
   "outputs": [
    {
     "data": {
      "image/png": "[encoded data removed]",
      "text/plain": [
       "<Figure size 640x480 with 1 Axes>"
      ]
     },
     "metadata": {},
     "output_type": "display_data"
    }
   ],
   "source": [
    "plt.plot(s)\n",
    "plt.grid()\n",
    "plt.show()"
   ]
  },
  {
   "cell_type": "code",
   "execution_count": 14,
   "id": "d3883f09-1807-42ef-9935-3f402656af00",
   "metadata": {
    "tags": []
   },
   "outputs": [
    {
     "data": {
      "text/plain": [
       "array([2.76842557e-02, 1.33401372e-02, 1.14839354e-02, 9.76817301e-03,\n",
       "       9.40239953e-03, 9.11535176e-03, 8.92661659e-03, 8.66637654e-03,\n",
       "       8.32292711e-03, 8.12228035e-03, 7.76558448e-03, 7.63224086e-03,\n",
       "       7.41474674e-03, 7.38533621e-03, 7.27486651e-03, 7.18666765e-03,\n",
       "       7.14386427e-03, 7.02503120e-03, 6.91643189e-03, 6.88098343e-03,\n",
       "       6.78122519e-03, 6.43545136e-03, 6.29257005e-03, 6.14112863e-03,\n",
       "       6.04438765e-03, 6.00274429e-03, 5.89777007e-03, 5.65917982e-03,\n",
       "       5.59208053e-03, 5.52811667e-03, 5.49387412e-03, 5.47547127e-03,\n",
       "       5.40796059e-03, 5.39053996e-03, 5.37747897e-03, 5.33561969e-03,\n",
       "       5.32429254e-03, 5.26308098e-03, 5.25753685e-03, 5.17535333e-03,\n",
       "       5.11124594e-03, 5.04418587e-03, 4.98280596e-03, 4.93969075e-03,\n",
       "       4.92757267e-03, 4.87500853e-03, 4.85428304e-03, 4.81738605e-03,\n",
       "       4.79297126e-03, 4.77747287e-03, 4.77152632e-03, 4.71832685e-03,\n",
       "       4.66310385e-03, 4.62353394e-03, 4.62330280e-03, 4.57910880e-03,\n",
       "       4.53260620e-03, 4.52317301e-03, 4.49842684e-03, 4.48193244e-03,\n",
       "       4.42998646e-03, 4.42390348e-03, 4.41953709e-03, 4.41896788e-03,\n",
       "       4.34951334e-03, 4.33428988e-03, 4.31075464e-03, 4.25858193e-03,\n",
       "       4.18600924e-03, 4.14332160e-03, 4.14032596e-03, 4.13153175e-03,\n",
       "       4.09499264e-03, 4.02707221e-03, 4.02163617e-03, 3.99903423e-03,\n",
       "       3.97929624e-03, 3.97411446e-03, 3.93915899e-03, 3.93495966e-03,\n",
       "       3.93090895e-03, 3.87113596e-03, 3.83992324e-03, 3.79086098e-03,\n",
       "       3.74363217e-03, 3.73303051e-03, 3.72483134e-03, 3.71663652e-03,\n",
       "       3.70059201e-03, 3.64681794e-03, 3.62914327e-03, 3.61949944e-03,\n",
       "       3.59602349e-03, 3.58884740e-03, 3.57198595e-03, 3.56612058e-03,\n",
       "       3.56325753e-03, 3.56325753e-03, 3.56325753e-03, 3.53236078e-03,\n",
       "       3.52967917e-03, 3.51953492e-03, 3.49998089e-03, 3.45676860e-03,\n",
       "       3.43827469e-03, 3.43711193e-03, 3.41941647e-03, 3.39700356e-03,\n",
       "       3.37905771e-03, 3.35999344e-03, 3.33844079e-03, 3.32251305e-03,\n",
       "       3.27323154e-03, 3.24811847e-03, 3.20188821e-03, 3.18905126e-03,\n",
       "       3.15761276e-03, 3.14796773e-03, 3.14796773e-03, 3.14796773e-03,\n",
       "       3.14796773e-03, 3.12515042e-03, 3.12288949e-03, 3.10268968e-03,\n",
       "       3.07420872e-03, 3.06937613e-03, 3.02680862e-03, 3.01960101e-03,\n",
       "       3.00799096e-03, 3.00391749e-03, 2.98185856e-03, 2.96991965e-03,\n",
       "       2.94443551e-03, 2.93249211e-03, 2.92157104e-03, 2.90494698e-03,\n",
       "       2.89806801e-03, 2.87388655e-03, 2.86973706e-03, 2.84618659e-03,\n",
       "       2.78243666e-03, 2.78243666e-03, 2.78243666e-03, 2.78243666e-03,\n",
       "       2.78243666e-03, 2.78243666e-03, 2.78243666e-03, 2.78243666e-03,\n",
       "       2.78243666e-03, 2.78243666e-03, 2.78243666e-03, 2.78243666e-03,\n",
       "       2.78243666e-03, 2.78243666e-03, 2.78243666e-03, 2.77077042e-03,\n",
       "       2.72582533e-03, 2.70918657e-03, 2.69222894e-03, 2.63791835e-03,\n",
       "       2.63061786e-03, 2.60570350e-03, 2.59247623e-03, 2.58258146e-03,\n",
       "       2.56063440e-03, 2.54912733e-03, 2.53228197e-03, 2.53113666e-03,\n",
       "       2.50586268e-03, 2.49831122e-03, 2.48868701e-03, 2.44126701e-03,\n",
       "       2.42608352e-03, 2.39444014e-03, 2.36209048e-03, 2.36097580e-03,\n",
       "       2.36097580e-03, 2.35980165e-03, 2.35764794e-03, 2.31802845e-03,\n",
       "       2.30004366e-03, 2.29958089e-03, 2.24181950e-03, 2.23098755e-03,\n",
       "       2.22594933e-03, 2.22594933e-03, 2.22594933e-03, 2.22594933e-03,\n",
       "       2.22594933e-03, 2.22594933e-03, 2.22594933e-03, 2.22594933e-03,\n",
       "       2.22594933e-03, 2.22594933e-03, 2.22594933e-03, 2.22594933e-03,\n",
       "       2.22594933e-03, 2.22594933e-03, 2.22594933e-03, 2.21902423e-03,\n",
       "       2.21374070e-03, 2.19804963e-03, 2.17928385e-03, 2.16611126e-03,\n",
       "       2.14488189e-03, 2.12837448e-03, 2.12123451e-03, 2.12082499e-03,\n",
       "       2.08086621e-03, 2.07852741e-03, 2.06513615e-03, 2.03884129e-03,\n",
       "       2.03330350e-03, 2.01901704e-03, 2.01499333e-03, 1.98073455e-03,\n",
       "       1.95635706e-03, 1.91409095e-03, 1.90094087e-03, 1.88307372e-03,\n",
       "       1.82164844e-03, 1.80800834e-03, 1.78839970e-03, 1.77650182e-03,\n",
       "       1.76647120e-03, 1.76093976e-03, 1.75976746e-03, 1.74421145e-03,\n",
       "       1.73924813e-03, 1.73155472e-03, 1.72757096e-03, 1.70895086e-03,\n",
       "       1.69326458e-03, 1.66946200e-03, 1.66946200e-03, 1.66946200e-03,\n",
       "       1.66946200e-03, 1.66946200e-03, 1.66946200e-03, 1.66946200e-03,\n",
       "       1.66946200e-03, 1.66702689e-03, 1.65961043e-03, 1.65028349e-03,\n",
       "       1.63871545e-03, 1.62539356e-03, 1.60289539e-03, 1.59426017e-03,\n",
       "       1.57398387e-03, 1.55628702e-03, 1.53827706e-03, 1.53203756e-03,\n",
       "       1.51325754e-03, 1.50618215e-03, 1.50426391e-03, 1.42742748e-03,\n",
       "       1.41034721e-03, 1.40588218e-03, 1.39426423e-03, 1.37725223e-03,\n",
       "       1.37426669e-03, 1.34570840e-03, 1.31508094e-03, 1.30656458e-03,\n",
       "       1.29736964e-03, 1.28272337e-03, 1.27793939e-03, 1.24884475e-03,\n",
       "       1.24434350e-03, 1.24434350e-03, 1.23358838e-03, 1.20722507e-03,\n",
       "       1.19725382e-03, 1.19127190e-03, 1.16079821e-03, 1.13012722e-03,\n",
       "       1.11297466e-03, 1.11297466e-03, 1.11297466e-03, 1.11297466e-03,\n",
       "       1.11297466e-03, 1.11297466e-03, 1.11297466e-03, 1.11297466e-03,\n",
       "       1.11297466e-03, 1.11297466e-03, 1.09283169e-03, 1.07387513e-03,\n",
       "       1.05255696e-03, 1.04278832e-03, 1.01765386e-03, 1.00502678e-03,\n",
       "       9.91364860e-04, 9.57099258e-04, 9.18477249e-04, 9.00248397e-04,\n",
       "       8.90844768e-04, 8.82718209e-04, 8.63293450e-04, 8.52582894e-04,\n",
       "       8.47676392e-04, 8.26519639e-04, 7.98208011e-04, 7.83437189e-04,\n",
       "       7.62450759e-04, 7.61344423e-04, 7.37285933e-04, 7.11455316e-04,\n",
       "       6.75090841e-04, 6.58802584e-04, 6.37702053e-04, 6.19615916e-04,\n",
       "       5.86499749e-04, 5.75406691e-04, 5.56487332e-04, 5.56487332e-04,\n",
       "       5.56487332e-04, 5.56487332e-04, 5.56487332e-04, 5.56487332e-04,\n",
       "       5.56487332e-04, 5.56487332e-04, 5.56487332e-04, 5.41810743e-04,\n",
       "       5.35698257e-04, 4.93190406e-04, 4.71070076e-04, 3.87996525e-04,\n",
       "       3.81050054e-04, 3.77910511e-04, 3.61688700e-04, 3.31804391e-04,\n",
       "       3.04942358e-04, 1.02271571e-04, 4.58291871e-05, 3.52921450e-18,\n",
       "       2.69319781e-18, 2.60579368e-18, 2.27640619e-18, 2.26065754e-18,\n",
       "       2.23887725e-18, 2.21087347e-18, 2.13946984e-18, 2.04621217e-18,\n",
       "       2.04621217e-18, 2.04621217e-18, 2.04621217e-18, 2.04621217e-18,\n",
       "       2.04621217e-18, 2.04621217e-18, 2.04621217e-18, 2.04621217e-18,\n",
       "       2.04621217e-18, 2.04621217e-18, 2.04621217e-18, 2.04621217e-18,\n",
       "       2.04621217e-18, 2.04621217e-18, 2.04621217e-18, 2.04621217e-18,\n",
       "       2.04621217e-18, 2.04621217e-18, 2.04621217e-18, 2.04621217e-18,\n",
       "       2.04621217e-18, 1.90961617e-18, 1.83023039e-18, 1.62921157e-18,\n",
       "       1.54327045e-18, 1.53761534e-18, 1.27891938e-18, 1.26746342e-18,\n",
       "       1.15557707e-18, 1.13455549e-18, 1.07712693e-18, 8.87467019e-19,\n",
       "       8.26532323e-19, 4.51726668e-19])"
      ]
     },
     "execution_count": 14,
     "metadata": {},
     "output_type": "execute_result"
    }
   ],
   "source": [
    "(s/s.sum())"
   ]
  },
  {
   "cell_type": "markdown",
   "id": "e997a11f-6983-4e19-afe9-2cd11664a5e2",
   "metadata": {},
   "source": [
    "Actually a much more convenient way would be to use sparse matrices for the actual SVD computation. Scipy SVD function allows to specify beforehand the number of elements required. Even though they will be the largest elements, the sorting order may not be guarateed, and the order is reversed\n",
    "\n",
    "Here we will get just the first 50 components"
   ]
  },
  {
   "cell_type": "code",
   "execution_count": 97,
   "id": "11e58177-3b61-4e4c-874a-3e2741517abd",
   "metadata": {
    "tags": []
   },
   "outputs": [
    {
     "data": {
      "text/plain": [
       "((378, 50), (50,), (50, 549))"
      ]
     },
     "execution_count": 97,
     "metadata": {},
     "output_type": "execute_result"
    }
   ],
   "source": [
    "n_comps=50\n",
    "S_csr = csr_array(Data, dtype=float)\n",
    "from scipy.sparse.linalg import eigs, svds\n",
    "V,S,U  = svds(S_csr, k=n_comps)\n",
    "\n",
    "V.shape, S.shape, U.shape"
   ]
  },
  {
   "cell_type": "code",
   "execution_count": 98,
   "id": "a42a25aa-6cc1-40ce-8885-672b54018c0b",
   "metadata": {
    "tags": []
   },
   "outputs": [
    {
     "data": {
      "text/plain": [
       "array([ 8.585,  8.613,  8.657,  8.723,  8.76 ,  8.855,  8.877,  8.954,\n",
       "        9.064,  9.185,  9.3  ,  9.448,  9.458,  9.568,  9.588,  9.663,\n",
       "        9.687,  9.718,  9.839,  9.872,  9.934, 10.049, 10.169, 10.598,\n",
       "       10.787, 10.862, 11.036, 11.308, 11.564, 12.186, 12.365, 12.429,\n",
       "       12.624, 12.837, 12.914, 13.073, 13.271, 13.324, 13.715, 13.955,\n",
       "       14.596, 14.956, 15.573, 16.041, 16.38 , 16.896, 17.553, 20.636,\n",
       "       23.972, 49.748])"
      ]
     },
     "execution_count": 98,
     "metadata": {},
     "output_type": "execute_result"
    }
   ],
   "source": [
    "S"
   ]
  },
  {
   "cell_type": "code",
   "execution_count": 99,
   "id": "16f4471a-43a3-47e7-905a-9e396b256d7d",
   "metadata": {
    "tags": []
   },
   "outputs": [
    {
     "data": {
      "image/png": "[encoded data removed]",
      "text/plain": [
       "<Figure size 640x480 with 1 Axes>"
      ]
     },
     "metadata": {},
     "output_type": "display_data"
    }
   ],
   "source": [
    "plt.plot(S)\n",
    "plt.grid()\n",
    "plt.show()"
   ]
  },
  {
   "cell_type": "code",
   "execution_count": null,
   "id": "fd82ba1d-8749-4e92-982f-cce4f8063c67",
   "metadata": {},
   "outputs": [],
   "source": []
  }
 ],
 "metadata": {
  "kernelspec": {
   "display_name": "Python 3 (ipykernel)",
   "language": "python",
   "name": "python3"
  },
  "language_info": {
   "codemirror_mode": {
    "name": "ipython",
    "version": 3
   },
   "file_extension": ".py",
   "mimetype": "text/x-python",
   "name": "python",
   "nbconvert_exporter": "python",
   "pygments_lexer": "ipython3",
   "version": "3.9.7"
  }
 },
 "nbformat": 4,
 "nbformat_minor": 5
}
