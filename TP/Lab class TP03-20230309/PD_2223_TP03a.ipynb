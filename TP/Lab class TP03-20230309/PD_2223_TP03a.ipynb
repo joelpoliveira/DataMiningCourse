{
 "cells": [
  {
   "cell_type": "markdown",
   "id": "2ab791fe-2c28-47e4-98d7-565a2f7146b8",
   "metadata": {},
   "source": [
    "# Prospecção de Dados - Data Mining - DI/FCUL2022/2023\n",
    "\n",
    "## Lab class TP03a\n",
    "\n",
    "# Decision Trees and ID3\n",
    "\n",
    "*A Data Mining Tutorial by Andre Falcao (DI/FCUL 2021-2023)*\n"
   ]
  },
  {
   "cell_type": "markdown",
   "id": "3d6ec6aa-a016-42d3-8c26-13d086b4cb7b",
   "metadata": {
    "tags": []
   },
   "source": [
    "## A simple implementation of the ID3 algorithm for generating decision trees\n",
    "\n",
    "\n",
    "The basic algorithm will work recursively as follows\n",
    "1. For a given data set, identify which variable best subdivides the space through the criterion of minimum entropy\n",
    "2. Subdivide the space according to the values of the chosen variable creating several subspaces\n",
    "3. Until a stopping criterion is reached, for each of the subspaces created, return to 1.\n",
    "\n",
    "As stopping criteria in our implementation we will use the following:\n",
    "* if a node is pure (all values equal => entropy = 0)\n",
    "* No more variables to split\n",
    "\n",
    "The 2nd criterion may imply that the resulting node is not pure, and thus the value assigned to this leaf node will be that of the majority\n",
    "\n",
    "First we will discretize a sample dataset (here, the iris) for usage is classification"
   ]
  },
  {
   "cell_type": "code",
   "execution_count": 1,
   "id": "7791b0c8-c340-4421-a801-0d82db0dea47",
   "metadata": {
    "tags": []
   },
   "outputs": [],
   "source": [
    "from sklearn.datasets import load_iris\n",
    "from sklearn.model_selection import train_test_split\n",
    "import numpy as np\n",
    "\n",
    "data=load_iris()\n",
    "X=data.data\n",
    "y=data.target\n",
    "col_names=data.feature_names\n",
    "\n",
    "X_iris=np.empty(X.shape,dtype=\"object\")\n",
    "X_iris[:,:]=\"Medium\"\n",
    "for i,cname in enumerate(col_names):\n",
    "    q33, q67=np.quantile(X[:,i], (0.33, 0.67))\n",
    "    X_iris[X[:,i]<q33, i]=\"Small\"\n",
    "    X_iris[X[:,i]>q67, i]=\"Large\"\n",
    "\n",
    "X_train, X_test, y_train, y_test = train_test_split(X_iris, y, test_size=0.33, random_state=0)"
   ]
  },
  {
   "cell_type": "markdown",
   "id": "fa389d27-67f6-4991-9cd5-11545de1f095",
   "metadata": {},
   "source": [
    "To make a decision tree for classification we require a minimum of 3 functions\n",
    "1. A function that measures the impurity of each node - `entropy`\n",
    "2. A function that is able to select the feature that minimizes the entropy on each subdivision -  `select_var`\n",
    "3. A function that goes recursively through the dataset dividing and partitioning the data - `decision_tree`"
   ]
  },
  {
   "cell_type": "code",
   "execution_count": 5,
   "id": "ea199572-e2b8-4529-979b-9de819a55466",
   "metadata": {
    "tags": []
   },
   "outputs": [
    {
     "data": {
      "text/plain": [
       "(100, 4)"
      ]
     },
     "execution_count": 5,
     "metadata": {},
     "output_type": "execute_result"
    }
   ],
   "source": [
    "X_train.shape"
   ]
  },
  {
   "cell_type": "code",
   "execution_count": 2,
   "id": "d3bb2a55-08cc-4293-93e3-60ff364b0633",
   "metadata": {
    "tags": []
   },
   "outputs": [],
   "source": [
    "def entropy(y):\n",
    "    values, counts = np.unique(y,return_counts=True)\n",
    "    probs=counts/len(y)\n",
    "    #print(counts, probs)\n",
    "    return -np.sum(probs*np.log2(probs))\n",
    "\n",
    "def select_var(X, y):\n",
    "    N,M = X.shape\n",
    "    min_ent=1e34\n",
    "    best_var=-1\n",
    "    for v in range(M):\n",
    "        ent=0\n",
    "        for val in np.unique(X[:,v]):\n",
    "            srows = X[:,v] == val\n",
    "            ent+=np.sum(srows)/N*entropy(y[srows])\n",
    "        if ent<min_ent:\n",
    "            min_ent=ent\n",
    "            best_var=v\n",
    "    return best_var\n",
    "\n",
    "def decision_tree(X, y, col_names, the_path=[]):\n",
    "    sv=select_var(X, y)\n",
    "    N,M=X.shape\n",
    "    if M==1:\n",
    "        if len(np.unique(y))==1:\n",
    "            #pure node\n",
    "            the_path.append(str(y[0]))\n",
    "        else:\n",
    "            #this situation is when the node is not pure!\n",
    "            #here we will return the most common value\n",
    "            values, counts = np.unique(y,return_counts=True)\n",
    "            the_path.append(str(values[counts.argmax()]))\n",
    "    else:\n",
    "        X0=np.delete(X, sv, 1)\n",
    "        cnames=np.delete(col_names,sv)\n",
    "        for val in np.unique(X[:,sv]):\n",
    "            srows = X[:,sv]==val\n",
    "            X_new=X0[srows, :]\n",
    "            y_new=y[srows]\n",
    "            the_path.append([(col_names[sv], val)])\n",
    "            if len(np.unique(y_new))>1:\n",
    "                decision_tree(X_new, y_new, cnames, the_path[-1] )\n",
    "            else:\n",
    "                #pure node - recursive process ends here\n",
    "                the_path[-1].append(str(y_new[0]))\n",
    "    return the_path"
   ]
  },
  {
   "cell_type": "markdown",
   "id": "e7c3aca2-6f23-4455-9738-9e05fe28f762",
   "metadata": {},
   "source": [
    "#### Exercises\n",
    "1. Identify the recursive component in the `decision_tree` function\n",
    "2. discuss: what do you perceive as the most intensive process in the algorithm\n",
    "\n",
    "Let's run our data and check what the output is like:"
   ]
  },
  {
   "cell_type": "code",
   "execution_count": 3,
   "id": "c546d714-3e23-4441-acf8-e257237526e1",
   "metadata": {
    "tags": []
   },
   "outputs": [
    {
     "data": {
      "text/plain": [
       "[[('petal length (cm)', 'Large'),\n",
       "  [('sepal width (cm)', 'Large'), '2'],\n",
       "  [('sepal width (cm)', 'Medium'),\n",
       "   [('sepal length (cm)', 'Large'), '2'],\n",
       "   [('sepal length (cm)', 'Medium'), '2']],\n",
       "  [('sepal width (cm)', 'Small'), '2']],\n",
       " [('petal length (cm)', 'Medium'),\n",
       "  [('petal width (cm)', 'Large'),\n",
       "   [('sepal width (cm)', 'Medium'), '1'],\n",
       "   [('sepal width (cm)', 'Small'), '2']],\n",
       "  [('petal width (cm)', 'Medium'), '1']],\n",
       " [('petal length (cm)', 'Small'), '0']]"
      ]
     },
     "execution_count": 3,
     "metadata": {},
     "output_type": "execute_result"
    }
   ],
   "source": [
    "tree=decision_tree(X_train, y_train, col_names,[])\n",
    "tree"
   ]
  },
  {
   "cell_type": "markdown",
   "id": "428bb92e-3e97-4649-a5ad-01a430a5aeba",
   "metadata": {},
   "source": [
    "The output is a nested Python list in which the most likely classification result appears in the terminal branches (leaves).\n",
    "\n",
    "We can get a more sympathetic view of the list by a recursive exploratory process"
   ]
  },
  {
   "cell_type": "code",
   "execution_count": 4,
   "id": "3029598b-9591-461a-9c28-d5e19a72c463",
   "metadata": {
    "tags": []
   },
   "outputs": [
    {
     "name": "stdout",
     "output_type": "stream",
     "text": [
      " petal length (cm) = Large\n",
      "\t sepal width (cm) = Large --> 2\n",
      "\t sepal width (cm) = Medium\n",
      "\t\t sepal length (cm) = Large --> 2\n",
      "\t\t sepal length (cm) = Medium --> 2\n",
      "\t sepal width (cm) = Small --> 2\n",
      " petal length (cm) = Medium\n",
      "\t petal width (cm) = Large\n",
      "\t\t sepal width (cm) = Medium --> 1\n",
      "\t\t sepal width (cm) = Small --> 2\n",
      "\t petal width (cm) = Medium --> 1\n",
      " petal length (cm) = Small --> 0\n"
     ]
    }
   ],
   "source": [
    "def show_tree(tree, level=0):\n",
    "    for branch in tree:\n",
    "        if type(branch[1])==str and not isinstance(branch, tuple):\n",
    "            print(\"\\t\"*(level), \"%s = %s --> %s\" % (branch[0][0], branch[0][1], branch[1]))\n",
    "        elif type(branch[1])==list:\n",
    "            print(\"\\t\"*level,  \"%s = %s\" % (branch[0][0], branch[0][1]))\n",
    "            show_tree(branch, level+1)\n",
    "\n",
    "show_tree(tree)"
   ]
  },
  {
   "cell_type": "code",
   "execution_count": 5,
   "id": "939c8add-3202-4658-b555-6fbc1b2bcfb6",
   "metadata": {},
   "outputs": [],
   "source": [
    "#resolução dpo exercício 3\n",
    "#mostrar o tennis2\n"
   ]
  },
  {
   "cell_type": "code",
   "execution_count": 6,
   "id": "98bd80b1-e536-41fd-b534-9d806d3c7bf1",
   "metadata": {},
   "outputs": [],
   "source": [
    "#fazer a árvore e mostrar\n"
   ]
  },
  {
   "cell_type": "markdown",
   "id": "a1ff2472-3f02-4d66-b383-db114401cc08",
   "metadata": {},
   "source": [
    "## Make predictions\n",
    "\n",
    "The same tree navigation process can now be applied to new situations. However, since this structure is designed to be interpreted and represented rather than being computationally efficient, an intermediate step will be necessary in which each element is transformed into a dictionary and it is this dictionary that is then used to make the prediction."
   ]
  },
  {
   "cell_type": "code",
   "execution_count": 6,
   "id": "cc3039b6-f09c-44ae-ada4-7f2e0d3c0389",
   "metadata": {
    "tags": []
   },
   "outputs": [],
   "source": [
    "def make_prediction(D, tree):\n",
    "    for branch in tree:\n",
    "        if type(branch[1])==str and not isinstance(branch, tuple): \n",
    "            if D[branch[0][0]]== branch[0][1]: return branch[1]\n",
    "        elif type(branch[1])==list:\n",
    "            if D[branch[0][0]]== branch[0][1]: \n",
    "                return make_prediction(D, branch)\n",
    "            \n",
    "def predict(data, cnames, tree):\n",
    "    preds=[]\n",
    "    for elem in data:\n",
    "        D={col: elem[i] for i, col in enumerate(cnames)}\n",
    "        preds.append(make_prediction(D, tree))\n",
    "        \n",
    "    return preds\n",
    "                                               "
   ]
  },
  {
   "cell_type": "markdown",
   "id": "9a6b8385-ccff-49f6-8359-92b4e787d8da",
   "metadata": {},
   "source": [
    "Let's check the results for the first five elements of the testing set"
   ]
  },
  {
   "cell_type": "code",
   "execution_count": 7,
   "id": "c8dba2f5-4f6f-4307-9eda-a5f8d41177b8",
   "metadata": {
    "tags": []
   },
   "outputs": [
    {
     "name": "stdout",
     "output_type": "stream",
     "text": [
      "['Medium' 'Small' 'Large' 'Large'] --> 2\n",
      "['Medium' 'Small' 'Medium' 'Medium'] --> 1\n",
      "['Medium' 'Large' 'Small' 'Small'] --> 0\n",
      "['Large' 'Medium' 'Large' 'Large'] --> 2\n",
      "['Small' 'Large' 'Small' 'Small'] --> 0\n"
     ]
    }
   ],
   "source": [
    "preds=predict(X_test, col_names, tree)\n",
    "\n",
    "for i in range(5):\n",
    "    print(X_test[i,:], \"-->\", preds[i])"
   ]
  },
  {
   "cell_type": "markdown",
   "id": "339d4206-b8f7-48f4-8994-6588ba44df68",
   "metadata": {},
   "source": [
    "### Exercise \n",
    "\n",
    "1. verify the quality of this classifier with the functions and methods proposed in TP02"
   ]
  },
  {
   "cell_type": "code",
   "execution_count": 14,
   "id": "8b3dd93e-6fcc-44ab-824e-d688e349b889",
   "metadata": {
    "tags": []
   },
   "outputs": [],
   "source": [
    "from sklearn.metrics import matthews_corrcoef, confusion_matrix, ConfusionMatrixDisplay, accuracy_score\n",
    "preds = np.array(preds, dtype=int)"
   ]
  },
  {
   "cell_type": "code",
   "execution_count": 15,
   "id": "4220cc6b-5ea6-4e93-8c94-503c94a14b94",
   "metadata": {
    "tags": []
   },
   "outputs": [
    {
     "name": "stdout",
     "output_type": "stream",
     "text": [
      "MCC = 0.9396863691194209\n",
      "Accuracy = 0.96\n"
     ]
    },
    {
     "data": {
      "text/plain": [
       "<sklearn.metrics._plot.confusion_matrix.ConfusionMatrixDisplay at 0x283a8ff1190>"
      ]
     },
     "execution_count": 15,
     "metadata": {},
     "output_type": "execute_result"
    },
    {
     "data": {
      "image/png": "[encoded data removed]",
      "text/plain": [
       "<Figure size 640x480 with 2 Axes>"
      ]
     },
     "metadata": {},
     "output_type": "display_data"
    }
   ],
   "source": [
    "print(f\"MCC = {matthews_corrcoef(y_test, preds.astype(int))}\")\n",
    "print(f\"Accuracy = {accuracy_score(y_test, preds.astype(int))}\")\n",
    "\n",
    "ConfusionMatrixDisplay(\n",
    "    confusion_matrix(y_test, preds.astype(int))\n",
    ").plot()"
   ]
  },
  {
   "cell_type": "code",
   "execution_count": null,
   "id": "f0a7ea68-bb17-4efd-91ab-8a255727fc97",
   "metadata": {},
   "outputs": [],
   "source": []
  }
 ],
 "metadata": {
  "kernelspec": {
   "display_name": "Python 3 (ipykernel)",
   "language": "python",
   "name": "python3"
  },
  "language_info": {
   "codemirror_mode": {
    "name": "ipython",
    "version": 3
   },
   "file_extension": ".py",
   "mimetype": "text/x-python",
   "name": "python",
   "nbconvert_exporter": "python",
   "pygments_lexer": "ipython3",
   "version": "3.9.7"
  }
 },
 "nbformat": 4,
 "nbformat_minor": 5
}
